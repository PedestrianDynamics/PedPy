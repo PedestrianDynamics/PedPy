{
 "cells": [
  {
   "cell_type": "code",
   "execution_count": 4,
   "metadata": {
    "collapsed": true
   },
   "outputs": [
    {
     "name": "stdout",
     "output_type": "stream",
     "text": [
      "The line_profiler extension is already loaded. To reload it, use:\n",
      "  %reload_ext line_profiler\n"
     ]
    }
   ],
   "source": [
    "from pedpy import load_trajectory\n",
    "from pedpy import (\n",
    "    Geometry,\n",
    "    TrajectoryUnit,\n",
    "    get_invalid_trajectory,\n",
    "    is_trajectory_valid,\n",
    ")\n",
    "import pathlib\n",
    "import matplotlib.pyplot as plt\n",
    "import numpy as np\n",
    "import pandas as pd\n",
    "import shapely\n",
    "from shapely import LineString, Polygon\n",
    "\n",
    "import warnings\n",
    "\n",
    "warnings.filterwarnings(\"ignore\")\n",
    "\n",
    "%load_ext line_profiler\n",
    "plt.rcParams[\"text.usetex\"] = True"
   ]
  },
  {
   "cell_type": "code",
   "execution_count": 21,
   "outputs": [],
   "source": [
    "traj = load_trajectory(\n",
    "    trajectory_file=pathlib.Path(\n",
    "        \"issues/000_mira/verify-profiles/1B110_haus_Aa_mirrored.txt\"\n",
    "    ),\n",
    "    default_unit=TrajectoryUnit.METER,\n",
    "    # needs to be provided as it not defined in the file\n",
    "    # default_frame_rate=25., # can be ignored here as the frame rate is defined in the file\n",
    ")"
   ],
   "metadata": {
    "collapsed": false
   }
  },
  {
   "cell_type": "code",
   "execution_count": 22,
   "outputs": [],
   "source": [
    "traj.data = traj.data[(1500 < traj.data.frame) & (traj.data.frame < 1505)]"
   ],
   "metadata": {
    "collapsed": false
   }
  },
  {
   "cell_type": "code",
   "execution_count": 8,
   "outputs": [],
   "source": [
    "walkable_area = Polygon([(0.5, 3.5), (0.5, -3.5), (-19.5, -3.5), (-19.5, 3.5)])\n",
    "obstacle = Polygon([(-7.8, -1.5), (-11.3, -1.5), (-11.3, 1.5), (-7.8, 1.5)])\n",
    "geometry = Geometry(walkable_area=walkable_area, obstacles=[obstacle])"
   ],
   "metadata": {
    "collapsed": false
   }
  },
  {
   "cell_type": "code",
   "execution_count": 23,
   "outputs": [
    {
     "data": {
      "text/plain": "<Figure size 640x480 with 1 Axes>",
      "image/png": "[encoded data removed]"
     },
     "metadata": {},
     "output_type": "display_data"
    }
   ],
   "source": [
    "from pedpy import plot_measurement_setup\n",
    "\n",
    "plot_measurement_setup(\n",
    "    traj=traj,\n",
    "    geometry=geometry,\n",
    ").set_aspect(\"equal\")"
   ],
   "metadata": {
    "collapsed": false
   }
  },
  {
   "cell_type": "markdown",
   "source": [
    "# Current"
   ],
   "metadata": {
    "collapsed": false
   }
  },
  {
   "cell_type": "code",
   "execution_count": 7,
   "outputs": [],
   "source": [
    "from pedpy import compute_individual_voronoi_polygons"
   ],
   "metadata": {
    "collapsed": false
   }
  },
  {
   "cell_type": "code",
   "execution_count": 24,
   "outputs": [],
   "source": [
    "from pedpy.methods.method_utils import _clip_voronoi_polygons\n",
    "from scipy.spatial import Voronoi\n",
    "from typing import Tuple, Optional\n",
    "\n",
    "\n",
    "def compute_individual_voronoi_polygons_current(\n",
    "    *,\n",
    "    traj_data: pd.DataFrame,\n",
    "    geometry: Geometry,\n",
    "    cut_off: Optional[Tuple[float, int]] = None,\n",
    "    use_blind_points: bool = True,\n",
    ") -> pd.DataFrame:\n",
    "    \"\"\"Compute the individual voronoi cells for each person and frame.\n",
    "\n",
    "    Args:\n",
    "        traj_data (pd.DataFrame): trajectory data\n",
    "        geometry (Geometry): bounding area, where pedestrian are supposed to be\n",
    "        cut_off (Tuple[float, int]): radius of max extended voronoi cell (in\n",
    "                m), number of linear segments in the approximation of circular\n",
    "                arcs, needs to be divisible by 4!\n",
    "        use_blind_points (bool): adds extra 4 points outside the geometry to\n",
    "                also compute voronoi cells when less than 4 peds are in the\n",
    "                geometry (default: on!)\n",
    "\n",
    "    Returns:\n",
    "        DataFrame containing the columns: 'ID', 'frame' and 'individual\n",
    "        voronoi'.\n",
    "    \"\"\"\n",
    "    dfs = []\n",
    "\n",
    "    bounds = geometry.walkable_area.bounds\n",
    "    x_diff = abs(bounds[2] - bounds[0])\n",
    "    y_diff = abs(bounds[3] - bounds[1])\n",
    "    clipping_diameter = 2 * max(x_diff, y_diff)\n",
    "\n",
    "    blind_points = np.array(\n",
    "        [\n",
    "            [100 * (bounds[0] - x_diff), 100 * (bounds[1] - y_diff)],\n",
    "            [100 * (bounds[2] + x_diff), 100 * (bounds[1] - y_diff)],\n",
    "            [100 * (bounds[0] - x_diff), 100 * (bounds[3] + y_diff)],\n",
    "            [100 * (bounds[2] + x_diff), 100 * (bounds[3] + y_diff)],\n",
    "        ]\n",
    "    )\n",
    "\n",
    "    for frame, peds_in_frame in traj_data.groupby(traj_data.frame):\n",
    "        points = peds_in_frame[[\"X\", \"Y\"]].values\n",
    "        points = np.concatenate([points, blind_points])\n",
    "\n",
    "        # only skip analysis if less than 4 peds are in the frame and blind\n",
    "        # points are turned off\n",
    "        if not use_blind_points and len(points) - len(blind_points) < 4:\n",
    "            log.warning(\n",
    "                f\"Not enough pedestrians (N=\"\n",
    "                f\"{len(points) -len(blind_points)}) available to \"\n",
    "                f\"calculate Voronoi cells for frame = {frame}. \"\n",
    "                f\"Consider enable use of blind points.\"\n",
    "            )\n",
    "            continue\n",
    "\n",
    "        vor = Voronoi(points)\n",
    "        voronoi_polygons = _clip_voronoi_polygons(vor, clipping_diameter)\n",
    "\n",
    "        voronoi_polygons = voronoi_polygons[:-4]\n",
    "        voronoi_in_frame = peds_in_frame.loc[:, (\"ID\", \"frame\", \"points\")]\n",
    "\n",
    "        # Compute the intersecting area with the walkable area\n",
    "        voronoi_in_frame[\"individual voronoi\"] = shapely.intersection(\n",
    "            voronoi_polygons, geometry.walkable_area\n",
    "        )\n",
    "\n",
    "        # Only consider the parts of a multipolygon which contain the position\n",
    "        # of the pedestrian\n",
    "        voronoi_in_frame.loc[\n",
    "            shapely.get_type_id(voronoi_in_frame[\"individual voronoi\"]) != 3,\n",
    "            \"individual voronoi\",\n",
    "        ] = voronoi_in_frame.loc[\n",
    "            shapely.get_type_id(voronoi_in_frame[\"individual voronoi\"]) != 3, :\n",
    "        ].apply(\n",
    "            lambda x: shapely.get_parts(x[\"individual voronoi\"])[\n",
    "                shapely.within(\n",
    "                    x[\"points\"], shapely.get_parts(x[\"individual voronoi\"])\n",
    "                )\n",
    "            ][0],\n",
    "            axis=1,\n",
    "        )\n",
    "\n",
    "        if cut_off is not None:\n",
    "            num_edges = cut_off[1]\n",
    "            radius = cut_off[0]\n",
    "            quad_edges = int(num_edges / 4)\n",
    "            voronoi_in_frame[\"individual voronoi\"] = shapely.intersection(\n",
    "                voronoi_in_frame[\"individual voronoi\"],\n",
    "                shapely.buffer(\n",
    "                    peds_in_frame[\"points\"], radius, quad_segs=quad_edges\n",
    "                ),\n",
    "            )\n",
    "\n",
    "        dfs.append(voronoi_in_frame)\n",
    "\n",
    "    return pd.concat(dfs)[[\"ID\", \"frame\", \"individual voronoi\"]]"
   ],
   "metadata": {
    "collapsed": false
   }
  },
  {
   "cell_type": "code",
   "execution_count": 17,
   "outputs": [],
   "source": [
    "%lprun -f compute_individual_voronoi_polygons_current pedpy_voronoi_polygons = compute_individual_voronoi_polygons_current(traj_data=traj.data, geometry=geometry)"
   ],
   "metadata": {
    "collapsed": false
   }
  },
  {
   "cell_type": "markdown",
   "source": [
    "# polars"
   ],
   "metadata": {
    "collapsed": false
   }
  },
  {
   "cell_type": "code",
   "execution_count": 65,
   "outputs": [],
   "source": [
    "import geopolars as pl"
   ],
   "metadata": {
    "collapsed": false
   }
  },
  {
   "cell_type": "code",
   "execution_count": 66,
   "outputs": [
    {
     "ename": "AttributeError",
     "evalue": "module 'geopolars' has no attribute 'DataFrame'",
     "output_type": "error",
     "traceback": [
      "\u001B[0;31m---------------------------------------------------------------------------\u001B[0m",
      "\u001B[0;31mAttributeError\u001B[0m                            Traceback (most recent call last)",
      "Cell \u001B[0;32mIn [66], line 3\u001B[0m\n\u001B[1;32m      1\u001B[0m \u001B[38;5;28;01mdef\u001B[39;00m \u001B[38;5;21mcompute_individual_voronoi_polygons_polars\u001B[39m(\n\u001B[1;32m      2\u001B[0m     \u001B[38;5;241m*\u001B[39m,\n\u001B[0;32m----> 3\u001B[0m     traj_data: \u001B[43mpl\u001B[49m\u001B[38;5;241;43m.\u001B[39;49m\u001B[43mDataFrame\u001B[49m,\n\u001B[1;32m      4\u001B[0m     geometry: Geometry,\n\u001B[1;32m      5\u001B[0m     cut_off: Optional[Tuple[\u001B[38;5;28mfloat\u001B[39m, \u001B[38;5;28mint\u001B[39m]] \u001B[38;5;241m=\u001B[39m \u001B[38;5;28;01mNone\u001B[39;00m,\n\u001B[1;32m      6\u001B[0m     use_blind_points: \u001B[38;5;28mbool\u001B[39m \u001B[38;5;241m=\u001B[39m \u001B[38;5;28;01mTrue\u001B[39;00m,\n\u001B[1;32m      7\u001B[0m ) \u001B[38;5;241m-\u001B[39m\u001B[38;5;241m>\u001B[39m pd\u001B[38;5;241m.\u001B[39mDataFrame:\n\u001B[1;32m      8\u001B[0m     \u001B[38;5;124;03m\"\"\"Compute the individual voronoi cells for each person and frame.\u001B[39;00m\n\u001B[1;32m      9\u001B[0m \n\u001B[1;32m     10\u001B[0m \u001B[38;5;124;03m    Args:\u001B[39;00m\n\u001B[0;32m   (...)\u001B[0m\n\u001B[1;32m     22\u001B[0m \u001B[38;5;124;03m        voronoi'.\u001B[39;00m\n\u001B[1;32m     23\u001B[0m \u001B[38;5;124;03m    \"\"\"\u001B[39;00m\n\u001B[1;32m     24\u001B[0m     dfs \u001B[38;5;241m=\u001B[39m []\n",
      "\u001B[0;31mAttributeError\u001B[0m: module 'geopolars' has no attribute 'DataFrame'"
     ]
    }
   ],
   "source": [
    "def compute_individual_voronoi_polygons_polars(\n",
    "    *,\n",
    "    traj_data: pl.DataFrame,\n",
    "    geometry: Geometry,\n",
    "    cut_off: Optional[Tuple[float, int]] = None,\n",
    "    use_blind_points: bool = True,\n",
    ") -> pd.DataFrame:\n",
    "    \"\"\"Compute the individual voronoi cells for each person and frame.\n",
    "\n",
    "    Args:\n",
    "        traj_data (pd.DataFrame): trajectory data\n",
    "        geometry (Geometry): bounding area, where pedestrian are supposed to be\n",
    "        cut_off (Tuple[float, int]): radius of max extended voronoi cell (in\n",
    "                m), number of linear segments in the approximation of circular\n",
    "                arcs, needs to be divisible by 4!\n",
    "        use_blind_points (bool): adds extra 4 points outside the geometry to\n",
    "                also compute voronoi cells when less than 4 peds are in the\n",
    "                geometry (default: on!)\n",
    "\n",
    "    Returns:\n",
    "        DataFrame containing the columns: 'ID', 'frame' and 'individual\n",
    "        voronoi'.\n",
    "    \"\"\"\n",
    "    dfs = []\n",
    "\n",
    "    bounds = geometry.walkable_area.bounds\n",
    "    x_diff = abs(bounds[2] - bounds[0])\n",
    "    y_diff = abs(bounds[3] - bounds[1])\n",
    "    clipping_diameter = 2 * max(x_diff, y_diff)\n",
    "\n",
    "    blind_points = np.array(\n",
    "        [\n",
    "            [100 * (bounds[0] - x_diff), 100 * (bounds[1] - y_diff)],\n",
    "            [100 * (bounds[2] + x_diff), 100 * (bounds[1] - y_diff)],\n",
    "            [100 * (bounds[0] - x_diff), 100 * (bounds[3] + y_diff)],\n",
    "            [100 * (bounds[2] + x_diff), 100 * (bounds[3] + y_diff)],\n",
    "        ]\n",
    "    )\n",
    "\n",
    "    for frame, peds_in_frame in traj_data.groupby(\"frame\"):\n",
    "        points = peds_in_frame[[\"X\", \"Y\"]].to_numpy()\n",
    "        points = np.concatenate([points, blind_points])\n",
    "\n",
    "        # only skip analysis if less than 4 peds are in the frame and blind\n",
    "        # points are turned off\n",
    "        if not use_blind_points and len(points) - len(blind_points) < 4:\n",
    "            continue\n",
    "\n",
    "        vor = Voronoi(points)\n",
    "        voronoi_polygons = _clip_voronoi_polygons(vor, clipping_diameter)\n",
    "\n",
    "        voronoi_polygons = voronoi_polygons[:-4]\n",
    "        voronoi_in_frame = peds_in_frame.select([\"ID\", \"frame\"])\n",
    "\n",
    "        # Compute the intersecting area with the walkable area\n",
    "        # voronoi_in_frame[\"individual voronoi\"] = shapely.intersection(\n",
    "        #     voronoi_polygons, geometry.walkable_area\n",
    "        # )\n",
    "\n",
    "        voronoi_in_frame = voronoi_in_frame.with_columns(\n",
    "            [\n",
    "                pl.Series(\n",
    "                    shapely.intersection(\n",
    "                        voronoi_polygons, geometry.walkable_area\n",
    "                    )\n",
    "                )\n",
    "            ]\n",
    "        )\n",
    "\n",
    "        # Only consider the parts of a multipolygon which contain the position\n",
    "        # of the pedestrian\n",
    "        # voronoi_in_frame.loc[\n",
    "        #     shapely.get_type_id(voronoi_in_frame[\"individual voronoi\"]) != 3,\n",
    "        #     \"individual voronoi\",\n",
    "        # ] = voronoi_in_frame.loc[\n",
    "        #     shapely.get_type_id(voronoi_in_frame[\"individual voronoi\"]) != 3, :\n",
    "        # ].apply(\n",
    "        #     lambda x: shapely.get_parts(x[\"individual voronoi\"])[\n",
    "        #         shapely.within(\n",
    "        #             shapely.geometry.Point(x[\"X\"], x[\"Y\"]), shapely.get_parts(x[\"individual voronoi\"])\n",
    "        #         )\n",
    "        #     ][0],\n",
    "        #     axis=1,\n",
    "        # )\n",
    "        #\n",
    "        #\n",
    "        # if cut_off is not None:\n",
    "        #     num_edges = cut_off[1]\n",
    "        #     radius = cut_off[0]\n",
    "        #     quad_edges = int(num_edges / 4)\n",
    "        #     voronoi_in_frame[\"individual voronoi\"] = shapely.intersection(\n",
    "        #         voronoi_in_frame[\"individual voronoi\"],\n",
    "        #         shapely.buffer(\n",
    "        #             peds_in_frame[\"points\"], radius, quad_segs=quad_edges\n",
    "        #         ),\n",
    "        #     )\n",
    "\n",
    "        dfs.append(voronoi_in_frame)\n",
    "\n",
    "    return pl.concat(dfs)"
   ],
   "metadata": {
    "collapsed": false
   }
  },
  {
   "cell_type": "code",
   "execution_count": 64,
   "outputs": [
    {
     "name": "stderr",
     "output_type": "stream",
     "text": [
      "thread '<unnamed>' panicked at 'not implemented for dtype Object(\"object\")', /home/runner/work/polars/polars/polars/polars-core/src/series/ops/null.rs:65:17\n",
      "note: run with `RUST_BACKTRACE=1` environment variable to display a backtrace\n"
     ]
    },
    {
     "ename": "PanicException",
     "evalue": "not implemented for dtype Object(\"object\")",
     "output_type": "error",
     "traceback": [
      "\u001B[0;31m---------------------------------------------------------------------------\u001B[0m",
      "\u001B[0;31mPanicException\u001B[0m                            Traceback (most recent call last)",
      "Cell \u001B[0;32mIn [64], line 2\u001B[0m\n\u001B[1;32m      1\u001B[0m polars_data \u001B[38;5;241m=\u001B[39m pl\u001B[38;5;241m.\u001B[39mfrom_pandas(traj\u001B[38;5;241m.\u001B[39mdata[[\u001B[38;5;124m'\u001B[39m\u001B[38;5;124mID\u001B[39m\u001B[38;5;124m'\u001B[39m, \u001B[38;5;124m'\u001B[39m\u001B[38;5;124mframe\u001B[39m\u001B[38;5;124m'\u001B[39m, \u001B[38;5;124m'\u001B[39m\u001B[38;5;124mX\u001B[39m\u001B[38;5;124m'\u001B[39m, \u001B[38;5;124m'\u001B[39m\u001B[38;5;124mY\u001B[39m\u001B[38;5;124m'\u001B[39m]])\n\u001B[0;32m----> 2\u001B[0m polars_voronoi_polygons \u001B[38;5;241m=\u001B[39m \u001B[43mcompute_individual_voronoi_polygons_polars\u001B[49m\u001B[43m(\u001B[49m\u001B[43mtraj_data\u001B[49m\u001B[38;5;241;43m=\u001B[39;49m\u001B[43mpolars_data\u001B[49m\u001B[43m,\u001B[49m\u001B[43m \u001B[49m\u001B[43mgeometry\u001B[49m\u001B[38;5;241;43m=\u001B[39;49m\u001B[43mgeometry\u001B[49m\u001B[43m)\u001B[49m\n",
      "Cell \u001B[0;32mIn [63], line 93\u001B[0m, in \u001B[0;36mcompute_individual_voronoi_polygons_polars\u001B[0;34m(traj_data, geometry, cut_off, use_blind_points)\u001B[0m\n\u001B[1;32m     62\u001B[0m     \u001B[38;5;66;03m# Only consider the parts of a multipolygon which contain the position\u001B[39;00m\n\u001B[1;32m     63\u001B[0m     \u001B[38;5;66;03m# of the pedestrian\u001B[39;00m\n\u001B[1;32m     64\u001B[0m     \u001B[38;5;66;03m# voronoi_in_frame.loc[\u001B[39;00m\n\u001B[0;32m   (...)\u001B[0m\n\u001B[1;32m     87\u001B[0m     \u001B[38;5;66;03m#         ),\u001B[39;00m\n\u001B[1;32m     88\u001B[0m     \u001B[38;5;66;03m#     )\u001B[39;00m\n\u001B[1;32m     91\u001B[0m     dfs\u001B[38;5;241m.\u001B[39mappend(voronoi_in_frame)\n\u001B[0;32m---> 93\u001B[0m \u001B[38;5;28;01mreturn\u001B[39;00m \u001B[43mpl\u001B[49m\u001B[38;5;241;43m.\u001B[39;49m\u001B[43mconcat\u001B[49m\u001B[43m(\u001B[49m\u001B[43mdfs\u001B[49m\u001B[43m)\u001B[49m\n",
      "File \u001B[0;32m~/development/pedpy/venv-pedpy-310/lib/python3.10/site-packages/polars/utils/decorators.py:126\u001B[0m, in \u001B[0;36mdeprecate_nonkeyword_arguments.<locals>.decorate.<locals>.wrapper\u001B[0;34m(*args, **kwargs)\u001B[0m\n\u001B[1;32m    124\u001B[0m \u001B[38;5;28;01mif\u001B[39;00m \u001B[38;5;28mlen\u001B[39m(args) \u001B[38;5;241m>\u001B[39m num_allowed_args:\n\u001B[1;32m    125\u001B[0m     warnings\u001B[38;5;241m.\u001B[39mwarn(msg, \u001B[38;5;167;01mDeprecationWarning\u001B[39;00m, stacklevel\u001B[38;5;241m=\u001B[39m\u001B[38;5;241m2\u001B[39m)\n\u001B[0;32m--> 126\u001B[0m \u001B[38;5;28;01mreturn\u001B[39;00m \u001B[43mfunction\u001B[49m\u001B[43m(\u001B[49m\u001B[38;5;241;43m*\u001B[39;49m\u001B[43margs\u001B[49m\u001B[43m,\u001B[49m\u001B[43m \u001B[49m\u001B[38;5;241;43m*\u001B[39;49m\u001B[38;5;241;43m*\u001B[39;49m\u001B[43mkwargs\u001B[49m\u001B[43m)\u001B[49m\n",
      "File \u001B[0;32m~/development/pedpy/venv-pedpy-310/lib/python3.10/site-packages/polars/functions/eager.py:251\u001B[0m, in \u001B[0;36mconcat\u001B[0;34m(items, rechunk, how, parallel)\u001B[0m\n\u001B[1;32m    249\u001B[0m \u001B[38;5;28;01mif\u001B[39;00m \u001B[38;5;28misinstance\u001B[39m(first, pli\u001B[38;5;241m.\u001B[39mDataFrame):\n\u001B[1;32m    250\u001B[0m     \u001B[38;5;28;01mif\u001B[39;00m how \u001B[38;5;241m==\u001B[39m \u001B[38;5;124m\"\u001B[39m\u001B[38;5;124mvertical\u001B[39m\u001B[38;5;124m\"\u001B[39m:\n\u001B[0;32m--> 251\u001B[0m         out \u001B[38;5;241m=\u001B[39m pli\u001B[38;5;241m.\u001B[39mwrap_df(\u001B[43m_concat_df\u001B[49m\u001B[43m(\u001B[49m\u001B[43melems\u001B[49m\u001B[43m)\u001B[49m)\n\u001B[1;32m    252\u001B[0m     \u001B[38;5;28;01melif\u001B[39;00m how \u001B[38;5;241m==\u001B[39m \u001B[38;5;124m\"\u001B[39m\u001B[38;5;124mdiagonal\u001B[39m\u001B[38;5;124m\"\u001B[39m:\n\u001B[1;32m    253\u001B[0m         out \u001B[38;5;241m=\u001B[39m pli\u001B[38;5;241m.\u001B[39mwrap_df(_diag_concat_df(elems))\n",
      "\u001B[0;31mPanicException\u001B[0m: not implemented for dtype Object(\"object\")"
     ]
    }
   ],
   "source": [
    "polars_data = pl.from_pandas(traj.data[[\"ID\", \"frame\", \"X\", \"Y\"]])\n",
    "polars_voronoi_polygons = compute_individual_voronoi_polygons_polars(\n",
    "    traj_data=polars_data, geometry=geometry\n",
    ")"
   ],
   "metadata": {
    "collapsed": false
   }
  },
  {
   "cell_type": "code",
   "execution_count": 62,
   "outputs": [
    {
     "data": {
      "text/plain": "shape: (36, 2)\n┌─────┬───────┐\n│ ID  ┆ frame │\n│ --- ┆ ---   │\n│ i64 ┆ i64   │\n╞═════╪═══════╡\n│ 32  ┆ 1503  │\n│ 416 ┆ 1503  │\n│ 77  ┆ 1503  │\n│ 395 ┆ 1503  │\n│ …   ┆ …     │\n│ 251 ┆ 1504  │\n│ 161 ┆ 1504  │\n│ 337 ┆ 1504  │\n│ 407 ┆ 1504  │\n└─────┴───────┘",
      "text/html": "<div><style>\n.dataframe > thead > tr > th,\n.dataframe > tbody > tr > td {\n  text-align: right;\n}\n</style>\n<small>shape: (36, 2)</small><table border=\"1\" class=\"dataframe\"><thead><tr><th>ID</th><th>frame</th></tr><tr><td>i64</td><td>i64</td></tr></thead><tbody><tr><td>32</td><td>1503</td></tr><tr><td>416</td><td>1503</td></tr><tr><td>77</td><td>1503</td></tr><tr><td>395</td><td>1503</td></tr><tr><td>334</td><td>1503</td></tr><tr><td>251</td><td>1503</td></tr><tr><td>161</td><td>1503</td></tr><tr><td>337</td><td>1503</td></tr><tr><td>407</td><td>1503</td></tr><tr><td>32</td><td>1502</td></tr><tr><td>416</td><td>1502</td></tr><tr><td>77</td><td>1502</td></tr><tr><td>&hellip;</td><td>&hellip;</td></tr><tr><td>161</td><td>1501</td></tr><tr><td>337</td><td>1501</td></tr><tr><td>407</td><td>1501</td></tr><tr><td>32</td><td>1504</td></tr><tr><td>416</td><td>1504</td></tr><tr><td>77</td><td>1504</td></tr><tr><td>395</td><td>1504</td></tr><tr><td>334</td><td>1504</td></tr><tr><td>251</td><td>1504</td></tr><tr><td>161</td><td>1504</td></tr><tr><td>337</td><td>1504</td></tr><tr><td>407</td><td>1504</td></tr></tbody></table></div>"
     },
     "execution_count": 62,
     "metadata": {},
     "output_type": "execute_result"
    }
   ],
   "source": [
    "polars_voronoi_polygons"
   ],
   "metadata": {
    "collapsed": false
   }
  },
  {
   "cell_type": "code",
   "execution_count": null,
   "outputs": [],
   "source": [
    "%lprun -f compute_individual_voronoi_polygons_current pedpy_voronoi_polygons = compute_individual_voronoi_polygons_current(traj_data=traj.data, geometry=geometry)"
   ],
   "metadata": {
    "collapsed": false
   }
  }
 ],
 "metadata": {
  "kernelspec": {
   "display_name": "Python 3",
   "language": "python",
   "name": "python3"
  },
  "language_info": {
   "codemirror_mode": {
    "name": "ipython",
    "version": 2
   },
   "file_extension": ".py",
   "mimetype": "text/x-python",
   "name": "python",
   "nbconvert_exporter": "python",
   "pygments_lexer": "ipython2",
   "version": "2.7.6"
  }
 },
 "nbformat": 4,
 "nbformat_minor": 0
}
