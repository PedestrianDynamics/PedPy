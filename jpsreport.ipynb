{
 "cells": [
  {
   "cell_type": "markdown",
   "source": [
    "# Setup"
   ],
   "metadata": {
    "collapsed": false,
    "pycharm": {
     "name": "#%% md\n"
    }
   }
  },
  {
   "cell_type": "markdown",
   "source": [
    "## Parse trajectory"
   ],
   "metadata": {
    "collapsed": false,
    "pycharm": {
     "name": "#%% md\n"
    }
   }
  },
  {
   "cell_type": "code",
   "execution_count": null,
   "outputs": [],
   "source": [
    "import pathlib\n",
    "\n",
    "import matplotlib.colors\n",
    "\n",
    "from analyzer.io.trajectory_parser import parse_trajectory\n",
    "from analyzer.data.trajectory_data import TrajectoryUnit\n",
    "\n",
    "folder = pathlib.Path(\"demos/uni-directional\")\n",
    "trajectories = {}\n",
    "for file in folder.glob(\"uo*.txt\"):\n",
    "    trajectories[file.name] = parse_trajectory(trajectory_file=file, frame_rate=16.0, default_unit=TrajectoryUnit.CENTIMETER)"
   ],
   "metadata": {
    "collapsed": false,
    "pycharm": {
     "name": "#%%\n"
    }
   }
  },
  {
   "cell_type": "markdown",
   "source": [
    "## Define geometry"
   ],
   "metadata": {
    "collapsed": false,
    "pycharm": {
     "name": "#%% md\n"
    }
   }
  },
  {
   "cell_type": "markdown",
   "source": [
    "### Define geometry in code"
   ],
   "metadata": {
    "collapsed": false,
    "pycharm": {
     "name": "#%% md\n"
    }
   }
  },
  {
   "cell_type": "code",
   "execution_count": null,
   "outputs": [],
   "source": [
    "import pygeos\n",
    "from analyzer.data.geometry import Geometry\n",
    "\n",
    "geometry = Geometry(\n",
    "    pygeos.polygons(\n",
    "        [\n",
    "            (2.8, -6.5),\n",
    "            (2.8, -4),\n",
    "            (1.8, -4),\n",
    "            (1.8, 4),\n",
    "            (2.8, 4),\n",
    "            (2.8, 8),\n",
    "            (-1, 8),\n",
    "            (-1, 4),\n",
    "            (0, 4),\n",
    "            (0, -4),\n",
    "            (-1, -4),\n",
    "            (-1, -6.5)\n",
    "        ]\n",
    "    )\n",
    ")"
   ],
   "metadata": {
    "collapsed": false,
    "pycharm": {
     "name": "#%%\n"
    }
   }
  },
  {
   "cell_type": "markdown",
   "source": [
    "### Define geometry in file\n",
    "\n",
    "The same format as for JuPedSim geometries can be used as well directly from files.\n",
    "\n",
    "**Note:** Currently obstacles will not be parsed from the file!"
   ],
   "metadata": {
    "collapsed": false,
    "pycharm": {
     "name": "#%% md\n"
    }
   }
  },
  {
   "cell_type": "code",
   "execution_count": null,
   "outputs": [],
   "source": [
    "import pathlib\n",
    "from analyzer.data.geometry import Geometry\n",
    "from analyzer.io.geometry_parser import parse_geometry\n",
    "\n",
    "# geometry = parse_geometry(pathlib.Path(\"demos/crossing/geometry.xml\"))"
   ],
   "metadata": {
    "collapsed": false,
    "pycharm": {
     "name": "#%%\n"
    }
   }
  },
  {
   "cell_type": "markdown",
   "source": [
    "## Define measurement areas and lines"
   ],
   "metadata": {
    "collapsed": false,
    "pycharm": {
     "name": "#%% md\n"
    }
   }
  },
  {
   "cell_type": "code",
   "execution_count": null,
   "outputs": [],
   "source": [
    "import pygeos\n",
    "\n",
    "measurement_area = pygeos.polygons([(0, -2), (0, 0), (1.8, 0), (1.8, -2)])\n",
    "\n",
    "measurement_line = pygeos.linestrings([(0, 0), (1.8, 0)])"
   ],
   "metadata": {
    "collapsed": false,
    "pycharm": {
     "name": "#%%\n"
    }
   }
  },
  {
   "cell_type": "markdown",
   "source": [
    "## Plot trajectories, geometry, and measurement areas/lines"
   ],
   "metadata": {
    "collapsed": false,
    "pycharm": {
     "name": "#%% md\n"
    }
   }
  },
  {
   "cell_type": "code",
   "execution_count": null,
   "outputs": [],
   "source": [
    "import matplotlib.pyplot as plt\n",
    "\n",
    "for name, trajectory in trajectories.items():\n",
    "    fig = plt.figure(figsize=(15, 20))\n",
    "    ax1 = fig.add_subplot(111, aspect=\"equal\")\n",
    "    ax1.set_title(name)\n",
    "\n",
    "    # Plot geometry\n",
    "    ax1.plot(*pygeos.to_shapely(geometry.walkable_area).exterior.xy, color=\"k\")\n",
    "\n",
    "    ## Plot measurement area\n",
    "    ax1.plot(*pygeos.to_shapely(measurement_area).exterior.xy, color=\"g\")\n",
    "    ax1.fill(*pygeos.to_shapely(measurement_area).exterior.xy, color=\"g\", alpha=0.3)\n",
    "\n",
    "    ## Plot measurement lines\n",
    "    ax1.plot(*pygeos.to_shapely(measurement_line).xy, color=\"b\")\n",
    "\n",
    "    # Plot trajectories\n",
    "    for id, ped in trajectory.data.groupby(\"ID\"):\n",
    "        p = ax1.plot(ped[\"X\"], ped[\"Y\"], label=id, alpha=0.1, color=\"r\")\n",
    "        ax1.scatter(\n",
    "            ped[ped.frame == ped.frame.max()][\"X\"],\n",
    "            ped[ped.frame == ped.frame.max()][\"Y\"],\n",
    "            c=p[-1].get_color(),\n",
    "            marker=\"x\",\n",
    "        )\n",
    "    plt.show()"
   ],
   "metadata": {
    "collapsed": false,
    "pycharm": {
     "name": "#%%\n"
    }
   }
  },
  {
   "cell_type": "markdown",
   "source": [
    "# Method A"
   ],
   "metadata": {
    "collapsed": false,
    "pycharm": {
     "name": "#%% md\n"
    }
   }
  },
  {
   "cell_type": "markdown",
   "source": [
    "## Compute n-t and flow"
   ],
   "metadata": {
    "collapsed": false,
    "pycharm": {
     "name": "#%% md\n"
    }
   }
  },
  {
   "cell_type": "code",
   "execution_count": null,
   "outputs": [],
   "source": [
    "from analyzer.methods.flow_calculator import compute_n_t\n",
    "from analyzer.methods.flow_calculator import compute_flow\n",
    "\n",
    "from analyzer.methods.velocity_calculator import compute_individual_velocity\n",
    "\n",
    "nts = {}\n",
    "flows = {}\n",
    "\n",
    "for name, trajectory in trajectories.items():\n",
    "    individual_speed = compute_individual_velocity(trajectory.data, trajectory.frame_rate, 10)\n",
    "\n",
    "    nt, crossing = compute_n_t(trajectory.data, measurement_line, trajectory.frame_rate)\n",
    "\n",
    "    delta_t = int(10 * trajectory.frame_rate)\n",
    "    flow = compute_flow(nt, crossing, individual_speed, delta_t, trajectory.frame_rate)\n",
    "\n",
    "    flows[name] = flow\n",
    "    nts[name] = nt\n"
   ],
   "metadata": {
    "collapsed": false,
    "pycharm": {
     "name": "#%%\n"
    }
   }
  },
  {
   "cell_type": "markdown",
   "source": [
    "## Plot n-t diagram"
   ],
   "metadata": {
    "collapsed": false,
    "pycharm": {
     "name": "#%% md\n"
    }
   }
  },
  {
   "cell_type": "code",
   "execution_count": null,
   "outputs": [],
   "source": [
    "import matplotlib.pyplot as plt\n",
    "\n",
    "fig = plt.figure(figsize=(7, 7))\n",
    "ax1 = fig.add_subplot(111)\n",
    "\n",
    "for name, nt in nts.items():\n",
    "    ax1.plot(nt.index, nt[\"Cumulative pedestrians\"], label=name)\n",
    "\n",
    "ax1.legend()\n",
    "plt.show()"
   ],
   "metadata": {
    "collapsed": false,
    "pycharm": {
     "name": "#%%\n"
    }
   }
  },
  {
   "cell_type": "markdown",
   "source": [
    "## Plot fundamental diagram"
   ],
   "metadata": {
    "collapsed": false,
    "pycharm": {
     "name": "#%% md\n"
    }
   }
  },
  {
   "cell_type": "code",
   "execution_count": null,
   "outputs": [],
   "source": [
    "import matplotlib.pyplot as plt\n",
    "\n",
    "fig = plt.figure(figsize=(7, 7))\n",
    "ax1 = fig.add_subplot(111)\n",
    "\n",
    "for name, flow in flows.items():\n",
    "    ax1.scatter(flow[\"Flow rate(1/s)\"]/(flow[\"Mean velocity(m/s)\"]*pygeos.length(measurement_line)), flow[\"Mean velocity(m/s)\"], label=name)\n",
    "\n",
    "\n",
    "ax1.set_xlim(left=0, right=4)\n",
    "ax1.set_ylim(bottom=0, top=2.5)\n",
    "\n",
    "ax1.set_xlabel(\"rho / 1/m^2\")\n",
    "ax1.set_ylabel(\"v/ m/s\")\n",
    "ax1.grid()\n",
    "ax1.legend()\n",
    "plt.show()"
   ],
   "metadata": {
    "collapsed": false,
    "pycharm": {
     "name": "#%%\n"
    }
   }
  },
  {
   "cell_type": "markdown",
   "source": [
    "# Method B"
   ],
   "metadata": {
    "collapsed": false,
    "pycharm": {
     "name": "#%% md\n"
    }
   }
  },
  {
   "cell_type": "markdown",
   "source": [
    "## Compute individual velocity and density while passing the measurement area"
   ],
   "metadata": {
    "collapsed": false,
    "pycharm": {
     "name": "#%% md\n"
    }
   }
  },
  {
   "cell_type": "code",
   "execution_count": null,
   "outputs": [],
   "source": [
    "from analyzer.methods.velocity_calculator import compute_passing_speed\n",
    "from analyzer.methods.density_calculator import compute_passing_density, compute_classic_density\n",
    "from analyzer.methods.method_utils import compute_frame_range_in_area\n",
    "\n",
    "passing_densities = {}\n",
    "passing_speeds = {}\n",
    "\n",
    "for name, trajectory in trajectories.items():\n",
    "    frames_in_area, passing_area = compute_frame_range_in_area(trajectory.data, measurement_line, 2)\n",
    "\n",
    "    passing_speed = compute_passing_speed(frames_in_area, trajectory.frame_rate, 2.)\n",
    "\n",
    "    density_per_frame = compute_classic_density(trajectory.data, passing_area)\n",
    "    passing_density = compute_passing_density(density_per_frame, frames_in_area)\n",
    "\n",
    "    passing_speeds[name] = passing_speed\n",
    "    passing_densities[name] = passing_density"
   ],
   "metadata": {
    "collapsed": false,
    "pycharm": {
     "name": "#%%\n"
    }
   }
  },
  {
   "cell_type": "markdown",
   "source": [
    "## Plot fundamental diagram"
   ],
   "metadata": {
    "collapsed": false,
    "pycharm": {
     "name": "#%% md\n"
    }
   }
  },
  {
   "cell_type": "code",
   "execution_count": null,
   "outputs": [],
   "source": [
    "import matplotlib.pyplot as plt\n",
    "\n",
    "fig = plt.figure(figsize=(7, 7))\n",
    "ax1 = fig.add_subplot(111)\n",
    "\n",
    "for name in passing_speeds.keys():\n",
    "    ax1.scatter(passing_densities[name][\"density\"], passing_speeds[name][\"speed\"], label=name)\n",
    "ax1.set_xlim(left=0, right=4)\n",
    "ax1.set_ylim(bottom=0, top=2.5)\n",
    "\n",
    "ax1.set_xlabel(\"rho / 1/m^2\")\n",
    "ax1.set_ylabel(\"v/ m/s\")\n",
    "ax1.grid()\n",
    "ax1.legend()\n",
    "plt.show()"
   ],
   "metadata": {
    "collapsed": false,
    "pycharm": {
     "name": "#%%\n"
    }
   }
  },
  {
   "cell_type": "markdown",
   "source": [
    "# Method C"
   ],
   "metadata": {
    "collapsed": false,
    "pycharm": {
     "name": "#%% md\n"
    }
   }
  },
  {
   "cell_type": "markdown",
   "source": [
    "## Compute density and velocity"
   ],
   "metadata": {
    "collapsed": false,
    "pycharm": {
     "name": "#%% md\n"
    }
   }
  },
  {
   "cell_type": "code",
   "execution_count": null,
   "outputs": [],
   "source": [
    "from analyzer.methods.density_calculator import compute_classic_density\n",
    "from analyzer.methods.velocity_calculator import compute_mean_velocity_per_frame\n",
    "\n",
    "classic_densities = {}\n",
    "mean_area_speeds = {}\n",
    "\n",
    "for name, trajectory in trajectories.items():\n",
    "    mean_area_speed, individual_speed_area = compute_mean_velocity_per_frame(\n",
    "        trajectory.data, measurement_area, trajectory.frame_rate, 5\n",
    "    )\n",
    "\n",
    "    classic_density = compute_classic_density(trajectory.data, measurement_area)\n",
    "\n",
    "    classic_densities[name] = classic_density\n",
    "    mean_area_speeds[name] = mean_area_speed\n"
   ],
   "metadata": {
    "collapsed": false,
    "pycharm": {
     "name": "#%%\n"
    }
   }
  },
  {
   "cell_type": "markdown",
   "source": [
    "## Plot time series data"
   ],
   "metadata": {
    "collapsed": false,
    "pycharm": {
     "name": "#%% md\n"
    }
   }
  },
  {
   "cell_type": "code",
   "execution_count": null,
   "outputs": [],
   "source": [
    "fig, ax = plt.subplots(nrows=len(trajectories.values()), ncols=2, figsize=(20, 60))\n",
    "row = 0\n",
    "\n",
    "ax[row, 1].set_title(\"Velocity\", size='xx-large')\n",
    "ax[row, 0].set_title(\"Density\", size='xx-large')\n",
    "\n",
    "for name, trajectory in trajectories.items():\n",
    "    ax[row, 0].annotate(name, xy=(0.5, 1), xytext=(-ax[row, 0].yaxis.labelpad - 5, 0),\n",
    "                xycoords=ax[row, 0].yaxis.label, textcoords='offset points',\n",
    "                size='xx-large', ha='right', va='center', rotation=90)\n",
    "\n",
    "    ax[row, 0].plot(classic_densities[name].index, classic_densities[name][\"classic density\"], alpha=1)\n",
    "    ax[row, 0].set_xlim(left=0)\n",
    "    ax[row, 0].set_ylim(bottom=0, top=4)\n",
    "    ax[row, 0].set_xlabel(\"frame\")\n",
    "    ax[row, 0].set_ylabel(\"rho / 1/m^2\")\n",
    "    ax[row, 0].grid()\n",
    "\n",
    "    ax[row, 1].plot(mean_area_speeds[name].index, mean_area_speeds[name], alpha=1)\n",
    "    ax[row, 1].set_xlim(left=0,)\n",
    "    ax[row, 1].set_ylim(bottom=0, top=3)\n",
    "    ax[row, 1].set_xlabel(\"frame\")\n",
    "    ax[row, 1].set_ylabel(\"v / m/s\")\n",
    "    ax[row, 1].grid()\n",
    "\n",
    "    row += 1\n"
   ],
   "metadata": {
    "collapsed": false,
    "pycharm": {
     "name": "#%%\n"
    }
   }
  },
  {
   "cell_type": "markdown",
   "source": [
    "## Plot fundamental diagram"
   ],
   "metadata": {
    "collapsed": false,
    "pycharm": {
     "name": "#%% md\n"
    }
   }
  },
  {
   "cell_type": "code",
   "execution_count": null,
   "outputs": [],
   "source": [
    "import matplotlib.pyplot as plt\n",
    "\n",
    "fig = plt.figure(figsize=(7, 7))\n",
    "ax1 = fig.add_subplot(111)\n",
    "\n",
    "ax1.set_title(\"Fundamental Diagram\")\n",
    "\n",
    "for name in classic_densities.keys():\n",
    "    ax1.scatter(\n",
    "        classic_densities[name][\"classic density\"],\n",
    "        mean_area_speeds[name],\n",
    "        alpha=1,\n",
    "        marker=\"x\",\n",
    "        label = name,\n",
    "    )\n",
    "ax1.set_xlim(left=0, right=4)\n",
    "ax1.set_ylim(bottom=0, top=2.5)\n",
    "\n",
    "ax1.set_xlabel(\"rho / 1/m^2\")\n",
    "ax1.set_ylabel(\"v/ m/s\")\n",
    "ax1.grid()\n",
    "ax1.legend()"
   ],
   "metadata": {
    "collapsed": false,
    "pycharm": {
     "name": "#%%\n"
    }
   }
  },
  {
   "cell_type": "markdown",
   "source": [
    "# Method D"
   ],
   "metadata": {
    "collapsed": false,
    "pycharm": {
     "name": "#%% md\n"
    }
   }
  },
  {
   "cell_type": "markdown",
   "source": [
    "## Compute density and velocity"
   ],
   "metadata": {
    "collapsed": false,
    "pycharm": {
     "name": "#%% md\n"
    }
   }
  },
  {
   "cell_type": "markdown",
   "source": [
    "### Without cutoff radius"
   ],
   "metadata": {
    "collapsed": false,
    "pycharm": {
     "name": "#%% md\n"
    }
   }
  },
  {
   "cell_type": "code",
   "execution_count": null,
   "outputs": [],
   "source": [
    "from analyzer.methods.velocity_calculator import compute_voronoi_velocity\n",
    "from analyzer.methods.density_calculator import compute_voronoi_density\n",
    "\n",
    "voronoi_densities = {}\n",
    "voronoi_velocities = {}\n",
    "individual_velocities = {}\n",
    "individuals = {}\n",
    "\n",
    "for name, trajectory in trajectories.items():\n",
    "    voronoi_density, individual = compute_voronoi_density(trajectory.data, measurement_area, geometry)\n",
    "\n",
    "    voronoi_velocity, individual_velocity = compute_voronoi_velocity(\n",
    "        trajectory.data, individual, trajectory.frame_rate, 5, measurement_area\n",
    "    )\n",
    "\n",
    "    voronoi_densities[name] = voronoi_density\n",
    "    voronoi_velocities[name] = voronoi_velocity\n",
    "    individual_velocities[name] = individual_velocity\n",
    "    individuals[name] = individual"
   ],
   "metadata": {
    "collapsed": false,
    "pycharm": {
     "name": "#%%\n"
    }
   }
  },
  {
   "cell_type": "markdown",
   "source": [
    "### With cutoff radius"
   ],
   "metadata": {
    "collapsed": false,
    "pycharm": {
     "name": "#%% md\n"
    }
   }
  },
  {
   "cell_type": "code",
   "execution_count": null,
   "outputs": [],
   "source": [
    "from analyzer.methods.velocity_calculator import compute_voronoi_velocity\n",
    "from analyzer.methods.density_calculator import compute_voronoi_density\n",
    "\n",
    "voronoi_densities_cutoff = {}\n",
    "voronoi_velocities_cutoff = {}\n",
    "individual_velocities_cutoff = {}\n",
    "individual_cutoffs = {}\n",
    "for name, trajectory in trajectories.items():\n",
    "\n",
    "    voronoi_density_cutoff, individual_cutoff = compute_voronoi_density(\n",
    "        trajectory.data, measurement_area, geometry, 0.8, 12\n",
    "    )\n",
    "\n",
    "    voronoi_velocity_cutoff, individual_velocity_cutoff = compute_voronoi_velocity(\n",
    "        trajectory.data, individual_cutoff, trajectory.frame_rate, 5, measurement_area\n",
    "    )\n",
    "\n",
    "    voronoi_densities_cutoff[name] = voronoi_density_cutoff\n",
    "    voronoi_velocities_cutoff[name] = voronoi_velocity_cutoff\n",
    "    individual_velocities_cutoff[name] = individual_velocity_cutoff\n",
    "    individual_cutoffs[name] = individual_cutoff"
   ],
   "metadata": {
    "collapsed": false,
    "pycharm": {
     "name": "#%%\n"
    }
   }
  },
  {
   "cell_type": "markdown",
   "source": [
    "## Plot time-series data"
   ],
   "metadata": {
    "collapsed": false,
    "pycharm": {
     "name": "#%% md\n"
    }
   }
  },
  {
   "cell_type": "markdown",
   "source": [
    "## Plot fundamental diagram"
   ],
   "metadata": {
    "collapsed": false,
    "pycharm": {
     "name": "#%% md\n"
    }
   }
  },
  {
   "cell_type": "code",
   "execution_count": null,
   "outputs": [],
   "source": [
    "import matplotlib.pyplot as plt\n",
    "\n",
    "fig, (ax0, ax1) = plt.subplots(nrows=1, ncols=2, figsize=(20, 6))\n",
    "fig.suptitle(\"Fundamental diagram\")\n",
    "\n",
    "ax0.set_title(\"without cutoff\")\n",
    "for name in voronoi_densities.keys():\n",
    "    ax0.scatter(\n",
    "        voronoi_densities[name][\"voronoi density\"],\n",
    "        voronoi_velocities[name],\n",
    "        alpha=1,\n",
    "        marker=\"x\",\n",
    "        label = name,\n",
    "    )\n",
    "ax0.set_xlim(left=0, right=4)\n",
    "ax0.set_ylim(bottom=0, top=2.5)\n",
    "\n",
    "ax0.set_xlabel(\"rho / 1/m^2\")\n",
    "ax0.set_ylabel(\"v/ m/s\")\n",
    "ax0.grid()\n",
    "ax0.legend()\n",
    "\n",
    "ax1.set_title(\"with cutoff\")\n",
    "for name in voronoi_densities_cutoff.keys():\n",
    "    ax1.scatter(\n",
    "        voronoi_densities_cutoff[name][\"voronoi density\"],\n",
    "        voronoi_velocities_cutoff[name],\n",
    "        alpha=1,\n",
    "        marker=\"x\",\n",
    "        label = name,\n",
    "    )\n",
    "ax1.set_xlim(left=0, right=4)\n",
    "ax1.set_ylim(bottom=0, top=2.5)\n",
    "\n",
    "ax1.set_xlabel(\"rho / 1/m^2\")\n",
    "ax1.set_ylabel(\"v/ m/s\")\n",
    "ax1.grid()\n",
    "ax1.legend()\n",
    "plt.show()"
   ],
   "metadata": {
    "collapsed": false,
    "pycharm": {
     "name": "#%%\n"
    }
   }
  },
  {
   "cell_type": "markdown",
   "source": [
    "# Profiles"
   ],
   "metadata": {
    "collapsed": false,
    "pycharm": {
     "name": "#%% md\n"
    }
   }
  },
  {
   "cell_type": "markdown",
   "source": [
    "## Compute velocity and density profiles"
   ],
   "metadata": {
    "collapsed": false,
    "pycharm": {
     "name": "#%% md\n"
    }
   }
  },
  {
   "cell_type": "code",
   "execution_count": null,
   "outputs": [],
   "source": [
    "import pandas as pd\n",
    "\n",
    "from analyzer.methods.profile_calculator import compute_profiles\n",
    "from analyzer.methods.velocity_calculator import compute_voronoi_velocity\n",
    "from analyzer.methods.density_calculator import compute_voronoi_density\n",
    "\n",
    "trajectory = list(trajectories.values())[7]\n",
    "\n",
    "frames_data = trajectory.data[trajectory.data.frame.between(750, 1500)]\n",
    "\n",
    "voronoi_density_frames, individual_frames = compute_voronoi_density(\n",
    "    frames_data, measurement_area, geometry, 0.89, 12\n",
    ")\n",
    "voronoi_velocity_frames, individual_velocity_frames = compute_voronoi_velocity(\n",
    "    trajectory.data, individual_frames, trajectory.frame_rate, 5, measurement_area\n",
    ")\n",
    "\n",
    "density_profiles, velocity_profiles = compute_profiles(\n",
    "    pd.merge(individual_frames, individual_velocity_frames, on=[\"ID\", \"frame\"], how=\"left\"),\n",
    "    geometry.walkable_area,\n",
    "    0.25,\n",
    ")\n"
   ],
   "metadata": {
    "collapsed": false,
    "pycharm": {
     "name": "#%%\n"
    }
   }
  },
  {
   "cell_type": "markdown",
   "source": [
    "## Plot profiles"
   ],
   "metadata": {
    "collapsed": false,
    "pycharm": {
     "name": "#%% md\n"
    }
   }
  },
  {
   "cell_type": "code",
   "execution_count": null,
   "outputs": [],
   "source": [
    "import matplotlib.pyplot as plt\n",
    "import numpy as np\n",
    "\n",
    "bounds = pygeos.bounds(geometry.walkable_area)\n",
    "\n",
    "fig, (ax0, ax1) = plt.subplots(nrows=1, ncols=2, figsize=(10, 10))\n",
    "\n",
    "ax0.set_title(\"Density\")\n",
    "cm = ax0.imshow(\n",
    "    np.transpose(np.mean(density_profiles, axis=0)),\n",
    "    extent=[bounds[0], bounds[2], bounds[1], bounds[3]],\n",
    "    interpolation=\"None\",\n",
    "    cmap=\"RdBu_r\",\n",
    "    vmin=0,\n",
    "    vmax=5,\n",
    ")\n",
    "fig.colorbar(cm, ax=ax0, shrink=0.3)\n",
    "ax0.plot(*pygeos.to_shapely(geometry.walkable_area).exterior.xy, color=\"k\")\n",
    "\n",
    "ax1.set_title(\"Velocity\")\n",
    "cm = ax1.imshow(\n",
    "    np.transpose(np.mean(velocity_profiles, axis=0)),\n",
    "    extent=[bounds[0], bounds[2], bounds[1], bounds[3]],\n",
    "    interpolation=\"None\",\n",
    "    cmap=\"RdBu\",\n",
    "    vmin=0,\n",
    "    vmax=1.5,\n",
    ")\n",
    "fig.colorbar(cm, ax=ax1, shrink=0.3)\n",
    "\n",
    "ax1.plot(*pygeos.to_shapely(geometry.walkable_area).exterior.xy, color=\"k\")\n",
    "\n",
    "fig.tight_layout()"
   ],
   "metadata": {
    "collapsed": false,
    "pycharm": {
     "name": "#%%\n"
    }
   }
  },
  {
   "cell_type": "markdown",
   "source": [
    "# Plots"
   ],
   "metadata": {
    "collapsed": false,
    "pycharm": {
     "name": "#%% md\n"
    }
   }
  },
  {
   "cell_type": "markdown",
   "source": [
    "### Plot voronoi cells"
   ],
   "metadata": {
    "collapsed": false,
    "pycharm": {
     "name": "#%% md\n"
    }
   }
  },
  {
   "cell_type": "code",
   "execution_count": null,
   "outputs": [],
   "source": [
    "import matplotlib.pyplot as plt\n",
    "import matplotlib as mpl\n",
    "\n",
    "import pandas as pd\n",
    "from enum import Enum\n",
    "\n",
    "class ColorMode(Enum):\n",
    "    Velocity = 1\n",
    "    Density = 2\n",
    "\n",
    "# Choose trajectory file to plot\n",
    "name = list(trajectories.keys())[6]\n",
    "\n",
    "# Choose frame to plot\n",
    "frame = 700\n",
    "\n",
    "# Choose which color mode used to display the voronoi cells. Can be Velocity or Density\n",
    "color_mode = ColorMode.Velocity\n",
    "\n",
    "# Choose which voronoi data to plot\n",
    "use_cut_off_data = True\n",
    "\n",
    "# merge all relevant data into one data frame\n",
    "voronoi_data = individual_cutoffs[name] if use_cut_off_data else individuals[name]\n",
    "velocity_data = individual_velocities_cutoff[name][[\"ID\", \"frame\", \"speed\"]] if use_cut_off_data else individual_velocities[name][[\"ID\", \"frame\", \"speed\"]]\n",
    "all_data = pd.merge(trajectories[name].data, voronoi_data, on=[\"ID\", \"frame\"]).merge(velocity_data, on=[\"ID\", \"frame\"])\n",
    "# data = all_data\n",
    "data = all_data[all_data.frame == frame]\n",
    "\n",
    "# Start plotting\n",
    "fig = plt.figure(figsize=(15, 20))\n",
    "fig.suptitle(name)\n",
    "ax1 = fig.add_subplot(111, aspect=\"equal\")\n",
    "\n",
    "# Plot geometry\n",
    "ax1.plot(*pygeos.to_shapely(geometry.walkable_area).exterior.xy, color=\"k\")\n",
    "\n",
    "# Plot measurement area\n",
    "ax1.plot(*pygeos.to_shapely(measurement_area).exterior.xy, color=\"g\")\n",
    "\n",
    "# Create color mapping for velocity/density to color\n",
    "my_cmap = plt.get_cmap(\"RdBu\") if color_mode==ColorMode.Velocity else plt.get_cmap(\"RdBu_r\")\n",
    "norm = mpl.colors.Normalize(vmin=0, vmax=4 if color_mode==ColorMode.Velocity else 8)\n",
    "scalar_mappable = mpl.cm.ScalarMappable(norm=norm, cmap=my_cmap)\n",
    "\n",
    "# Plot voronoi cells\n",
    "for id, ped in data.groupby(\"ID\"):\n",
    "    poly = pygeos.to_shapely(ped[\"individual voronoi\"])[0]\n",
    "\n",
    "    color = \"gray\"\n",
    "    ax1.plot(*poly.exterior.xy, alpha=0.2, color=color)\n",
    "    ax1.fill(*poly.exterior.xy, fc=color, alpha=0.1)\n",
    "\n",
    "    sc = ax1.scatter(ped[\"X\"], ped[\"Y\"], c=color, alpha = 0.5)\n",
    "\n",
    "    if not pygeos.is_empty(ped[\"intersection voronoi\"].iat[0]):\n",
    "        poly = pygeos.to_shapely(ped[\"intersection voronoi\"])[0]\n",
    "        color = scalar_mappable.to_rgba(ped['speed']) if color_mode==ColorMode.Velocity else scalar_mappable.to_rgba(1/poly.area)\n",
    "        ax1.plot(*poly.exterior.xy, alpha=0.5, color=color)\n",
    "        ax1.fill(*poly.exterior.xy, fc=color, alpha=0.4)\n",
    "\n",
    "fig.colorbar(scalar_mappable, label=\"v / m/s\" if color_mode==ColorMode.Velocity else \"rho / 1/m^2\")\n",
    "plt.show()\n"
   ],
   "metadata": {
    "collapsed": false,
    "pycharm": {
     "name": "#%%\n"
    }
   }
  }
 ],
 "metadata": {
  "kernelspec": {
   "display_name": "Python 3",
   "language": "python",
   "name": "python3"
  },
  "language_info": {
   "codemirror_mode": {
    "name": "ipython",
    "version": 2
   },
   "file_extension": ".py",
   "mimetype": "text/x-python",
   "name": "python",
   "nbconvert_exporter": "python",
   "pygments_lexer": "ipython2",
   "version": "2.7.6"
  }
 },
 "nbformat": 4,
 "nbformat_minor": 0
}
