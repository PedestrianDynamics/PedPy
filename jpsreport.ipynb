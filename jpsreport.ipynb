{
 "cells": [
  {
   "cell_type": "markdown",
   "source": [
    "# Setup"
   ],
   "metadata": {
    "collapsed": false
   }
  },
  {
   "cell_type": "markdown",
   "source": [
    "## Load trajectories"
   ],
   "metadata": {
    "collapsed": false
   }
  },
  {
   "cell_type": "code",
   "execution_count": null,
   "outputs": [],
   "source": [
    "import pathlib\n",
    "from pedpy import load_trajectory, TrajectoryUnit\n",
    "\n",
    "folder = pathlib.Path(\"demos/uni-directional\")\n",
    "trajectories = {}\n",
    "for file in folder.glob(\"uo*.txt\"):\n",
    "    trajectories[file.name] = load_trajectory(\n",
    "        trajectory_file=file,\n",
    "        default_frame_rate=16.0,\n",
    "        default_unit=TrajectoryUnit.CENTIMETER,\n",
    "    )"
   ],
   "metadata": {
    "collapsed": false
   }
  },
  {
   "cell_type": "markdown",
   "source": [
    "## Define geometry"
   ],
   "metadata": {
    "collapsed": false
   }
  },
  {
   "cell_type": "code",
   "execution_count": null,
   "outputs": [],
   "source": [
    "from shapely import Polygon\n",
    "from pedpy import Geometry\n",
    "\n",
    "geometry = Geometry(\n",
    "    walkable_area=Polygon(\n",
    "        [\n",
    "            (2.8, -6.5),\n",
    "            (2.8, -4),\n",
    "            (1.8, -4),\n",
    "            (1.8, 4),\n",
    "            (2.8, 4),\n",
    "            (2.8, 8),\n",
    "            (-1, 8),\n",
    "            (-1, 4),\n",
    "            (0, 4),\n",
    "            (0, -4),\n",
    "            (-1, -4),\n",
    "            (-1, -6.5),\n",
    "        ]\n",
    "    )\n",
    ")"
   ],
   "metadata": {
    "collapsed": false
   }
  },
  {
   "cell_type": "markdown",
   "source": [
    "## Define measurement areas and lines"
   ],
   "metadata": {
    "collapsed": false
   }
  },
  {
   "cell_type": "code",
   "execution_count": null,
   "outputs": [],
   "source": [
    "from shapely import LineString\n",
    "\n",
    "measurement_area = Polygon([(0, -2), (0, 0), (1.8, 0), (1.8, -2)])\n",
    "measurement_line = LineString([(0, 0), (1.8, 0)])"
   ],
   "metadata": {
    "collapsed": false
   }
  },
  {
   "cell_type": "markdown",
   "source": [
    "## Plot trajectories, geometry, and measurement areas/lines"
   ],
   "metadata": {
    "collapsed": false
   }
  },
  {
   "cell_type": "code",
   "execution_count": null,
   "outputs": [],
   "source": [
    "import matplotlib.pyplot as plt\n",
    "\n",
    "fig, axs = plt.subplots(1, len(trajectories), figsize=(40, 40), sharey=True)\n",
    "\n",
    "for (name, trajectory), ax in zip(trajectories.items(), axs):\n",
    "    # ax = plt.subplot(111, aspect=\"equal\")\n",
    "    ax.set_title(name[:-4])\n",
    "\n",
    "    # Plot geometry\n",
    "    ax.plot(*geometry.walkable_area.exterior.xy, color=\"k\")\n",
    "\n",
    "    ## Plot measurement area\n",
    "    ax.plot(*measurement_area.exterior.xy, color=\"g\")\n",
    "    ax.fill(*measurement_area.exterior.xy, color=\"g\", alpha=0.1)\n",
    "\n",
    "    ## Plot measurement lines\n",
    "    ax.plot(*measurement_line.xy, color=\"b\")\n",
    "\n",
    "    # Plot trajectories\n",
    "    for _, ped in trajectory.data.groupby(\"ID\"):\n",
    "        p = ax.plot(ped[\"X\"], ped[\"Y\"], label=id, alpha=0.1, color=\"r\")\n",
    "        ax.scatter(\n",
    "            ped[ped.frame == ped.frame.max()][\"X\"],\n",
    "            ped[ped.frame == ped.frame.max()][\"Y\"],\n",
    "            c=p[-1].get_color(),\n",
    "            marker=\"x\",\n",
    "        )\n",
    "    ax.set_aspect(\"equal\")\n",
    "plt.show()"
   ],
   "metadata": {
    "collapsed": false
   }
  },
  {
   "cell_type": "markdown",
   "source": [
    "# Method A"
   ],
   "metadata": {
    "collapsed": false
   }
  },
  {
   "cell_type": "markdown",
   "source": [
    "## Compute n-t and flow"
   ],
   "metadata": {
    "collapsed": false
   }
  },
  {
   "cell_type": "code",
   "execution_count": null,
   "outputs": [],
   "source": [
    "from pedpy import compute_n_t, compute_flow, compute_individual_velocity\n",
    "\n",
    "nts = {}\n",
    "flows = {}\n",
    "\n",
    "for name, trajectory in trajectories.items():\n",
    "    individual_speed = compute_individual_velocity(\n",
    "        traj_data=trajectory.data,\n",
    "        frame_rate=trajectory.frame_rate,\n",
    "        frame_step=10,\n",
    "    )\n",
    "\n",
    "    nt, crossing = compute_n_t(\n",
    "        traj_data=trajectory.data,\n",
    "        measurement_line=measurement_line,\n",
    "        frame_rate=trajectory.frame_rate,\n",
    "    )\n",
    "\n",
    "    delta_t = int(10 * trajectory.frame_rate)\n",
    "    flow = compute_flow(\n",
    "        nt=nt,\n",
    "        crossing_frames=crossing,\n",
    "        individual_speed=individual_speed,\n",
    "        delta_t=delta_t,\n",
    "        frame_rate=trajectory.frame_rate,\n",
    "    )\n",
    "\n",
    "    flows[name] = flow\n",
    "    nts[name] = nt"
   ],
   "metadata": {
    "collapsed": false
   }
  },
  {
   "cell_type": "markdown",
   "source": [
    "## Plot n-t diagram"
   ],
   "metadata": {
    "collapsed": false
   }
  },
  {
   "cell_type": "code",
   "execution_count": null,
   "outputs": [],
   "source": [
    "import matplotlib.pyplot as plt\n",
    "\n",
    "fig = plt.figure(figsize=(7, 7))\n",
    "ax1 = fig.add_subplot(111)\n",
    "\n",
    "for name, nt in nts.items():\n",
    "    ax1.plot(nt.index, nt[\"Cumulative pedestrians\"], label=name)\n",
    "\n",
    "ax1.legend()\n",
    "plt.show()"
   ],
   "metadata": {
    "collapsed": false
   }
  },
  {
   "cell_type": "markdown",
   "source": [
    "## Plot fundamental diagram"
   ],
   "metadata": {
    "collapsed": false
   }
  },
  {
   "cell_type": "code",
   "execution_count": null,
   "outputs": [],
   "source": [
    "import matplotlib.pyplot as plt\n",
    "from matplotlib import image as mpimg\n",
    "\n",
    "fig, (ax0, ax1) = plt.subplots(nrows=1, ncols=2, figsize=(15, 6))\n",
    "\n",
    "for name, flow in flows.items():\n",
    "    ax0.scatter(\n",
    "        flow[\"Flow rate(1/s)\"]\n",
    "        / (flow[\"Mean velocity(m/s)\"] * measurement_line.length),\n",
    "        flow[\"Mean velocity(m/s)\"],\n",
    "        label=name,\n",
    "    )\n",
    "\n",
    "\n",
    "ax0.set_xlim(left=0, right=4)\n",
    "ax0.set_ylim(bottom=0, top=2.5)\n",
    "\n",
    "ax0.set_xlabel(\"rho / 1/m^2\")\n",
    "ax0.set_ylabel(\"v/ m/s\")\n",
    "ax0.grid()\n",
    "ax0.legend()\n",
    "\n",
    "img = mpimg.imread(\"demos/uni-directional/comparison/method_a_uo.png\")\n",
    "ax1.set_title(\"paper\")\n",
    "ax1.imshow(img)\n",
    "ax1.axis(\"off\")\n",
    "\n",
    "plt.show()"
   ],
   "metadata": {
    "collapsed": false
   }
  },
  {
   "cell_type": "markdown",
   "source": [
    "# Method B"
   ],
   "metadata": {
    "collapsed": false
   }
  },
  {
   "cell_type": "markdown",
   "source": [
    "## Compute individual velocity and density while passing the measurement area"
   ],
   "metadata": {
    "collapsed": false
   }
  },
  {
   "cell_type": "code",
   "execution_count": null,
   "outputs": [],
   "source": [
    "from pedpy import (\n",
    "    compute_passing_speed,\n",
    "    compute_passing_density,\n",
    "    compute_classic_density,\n",
    "    compute_frame_range_in_area,\n",
    ")\n",
    "\n",
    "passing_densities = {}\n",
    "passing_speeds = {}\n",
    "\n",
    "for name, trajectory in trajectories.items():\n",
    "    frames_in_area, passing_area = compute_frame_range_in_area(\n",
    "        traj_data=trajectory.data, measurement_line=measurement_line, width=2\n",
    "    )\n",
    "\n",
    "    passing_speed = compute_passing_speed(\n",
    "        frames_in_area=frames_in_area,\n",
    "        frame_rate=trajectory.frame_rate,\n",
    "        distance=2.0,\n",
    "    )\n",
    "\n",
    "    density_per_frame = compute_classic_density(\n",
    "        traj_data=trajectory.data, measurement_area=passing_area\n",
    "    )\n",
    "    passing_density = compute_passing_density(\n",
    "        density_per_frame=density_per_frame, frames=frames_in_area\n",
    "    )\n",
    "\n",
    "    passing_speeds[name] = passing_speed\n",
    "    passing_densities[name] = passing_density"
   ],
   "metadata": {
    "collapsed": false
   }
  },
  {
   "cell_type": "markdown",
   "source": [
    "## Plot fundamental diagram"
   ],
   "metadata": {
    "collapsed": false
   }
  },
  {
   "cell_type": "code",
   "execution_count": null,
   "outputs": [],
   "source": [
    "import matplotlib.pyplot as plt\n",
    "from matplotlib import image as mpimg\n",
    "\n",
    "fig, (ax0, ax1) = plt.subplots(nrows=1, ncols=2, figsize=(15, 6))\n",
    "\n",
    "for name in passing_speeds.keys():\n",
    "    ax0.scatter(\n",
    "        passing_densities[name][\"density\"],\n",
    "        passing_speeds[name][\"speed\"],\n",
    "        label=name,\n",
    "    )\n",
    "ax0.set_xlim(left=0, right=4)\n",
    "ax0.set_ylim(bottom=0, top=2.5)\n",
    "\n",
    "ax0.set_xlabel(\"rho / 1/m^2\")\n",
    "ax0.set_ylabel(\"v/ m/s\")\n",
    "ax0.grid()\n",
    "ax0.legend()\n",
    "\n",
    "img = mpimg.imread(\"demos/uni-directional/comparison/method_b_uo.png\")\n",
    "ax1.set_title(\"paper\")\n",
    "ax1.imshow(img)\n",
    "ax1.axis(\"off\")\n",
    "\n",
    "plt.show()"
   ],
   "metadata": {
    "collapsed": false
   }
  },
  {
   "cell_type": "markdown",
   "source": [
    "# Method C"
   ],
   "metadata": {
    "collapsed": false
   }
  },
  {
   "cell_type": "markdown",
   "source": [
    "## Compute density and velocity"
   ],
   "metadata": {
    "collapsed": false
   }
  },
  {
   "cell_type": "code",
   "execution_count": null,
   "outputs": [],
   "source": [
    "from pedpy import compute_classic_density, compute_mean_velocity_per_frame\n",
    "\n",
    "classic_densities = {}\n",
    "mean_area_speeds = {}\n",
    "\n",
    "for name, trajectory in trajectories.items():\n",
    "    mean_area_speed, individual_speed_area = compute_mean_velocity_per_frame(\n",
    "        traj_data=trajectory.data,\n",
    "        measurement_area=measurement_area,\n",
    "        frame_rate=trajectory.frame_rate,\n",
    "        frame_step=5,\n",
    "    )\n",
    "\n",
    "    classic_density = compute_classic_density(\n",
    "        traj_data=trajectory.data, measurement_area=measurement_area\n",
    "    )\n",
    "\n",
    "    classic_densities[name] = classic_density\n",
    "    mean_area_speeds[name] = mean_area_speed"
   ],
   "metadata": {
    "collapsed": false
   }
  },
  {
   "cell_type": "markdown",
   "source": [
    "## Plot time series data"
   ],
   "metadata": {
    "collapsed": false
   }
  },
  {
   "cell_type": "code",
   "execution_count": null,
   "outputs": [],
   "source": [
    "fig, ax = plt.subplots(\n",
    "    nrows=len(trajectories.values()), ncols=2, figsize=(20, 60)\n",
    ")\n",
    "row = 0\n",
    "\n",
    "ax[row, 1].set_title(\"Velocity\", size=\"xx-large\")\n",
    "ax[row, 0].set_title(\"Density\", size=\"xx-large\")\n",
    "\n",
    "for name, trajectory in trajectories.items():\n",
    "    ax[row, 0].annotate(\n",
    "        name,\n",
    "        xy=(0.5, 1),\n",
    "        xytext=(-ax[row, 0].yaxis.labelpad - 5, 0),\n",
    "        xycoords=ax[row, 0].yaxis.label,\n",
    "        textcoords=\"offset points\",\n",
    "        size=\"xx-large\",\n",
    "        ha=\"right\",\n",
    "        va=\"center\",\n",
    "        rotation=90,\n",
    "    )\n",
    "\n",
    "    ax[row, 0].plot(\n",
    "        classic_densities[name].index,\n",
    "        classic_densities[name][\"classic density\"],\n",
    "        alpha=1,\n",
    "    )\n",
    "    ax[row, 0].set_xlim(left=0)\n",
    "    ax[row, 0].set_ylim(bottom=0, top=4)\n",
    "    ax[row, 0].set_xlabel(\"frame\")\n",
    "    ax[row, 0].set_ylabel(\"rho / 1/m^2\")\n",
    "    ax[row, 0].grid()\n",
    "\n",
    "    ax[row, 1].plot(\n",
    "        mean_area_speeds[name].index, mean_area_speeds[name], alpha=1\n",
    "    )\n",
    "    ax[row, 1].set_xlim(\n",
    "        left=0,\n",
    "    )\n",
    "    ax[row, 1].set_ylim(bottom=0, top=3)\n",
    "    ax[row, 1].set_xlabel(\"frame\")\n",
    "    ax[row, 1].set_ylabel(\"v / m/s\")\n",
    "    ax[row, 1].grid()\n",
    "\n",
    "    row += 1"
   ],
   "metadata": {
    "collapsed": false
   }
  },
  {
   "cell_type": "markdown",
   "source": [
    "## Plot fundamental diagram"
   ],
   "metadata": {
    "collapsed": false
   }
  },
  {
   "cell_type": "code",
   "execution_count": null,
   "outputs": [],
   "source": [
    "import matplotlib.pyplot as plt\n",
    "from matplotlib import image as mpimg\n",
    "\n",
    "fig, (ax0, ax1) = plt.subplots(nrows=1, ncols=2, figsize=(20, 6))\n",
    "\n",
    "ax0.set_title(\"Fundamental Diagram\")\n",
    "\n",
    "for name in classic_densities.keys():\n",
    "    ax0.scatter(\n",
    "        classic_densities[name][\"classic density\"],\n",
    "        mean_area_speeds[name],\n",
    "        alpha=1,\n",
    "        marker=\"x\",\n",
    "        label=name,\n",
    "    )\n",
    "ax0.set_xlim(left=0, right=4)\n",
    "ax0.set_ylim(bottom=0, top=2.5)\n",
    "\n",
    "ax0.set_xlabel(\"rho / 1/m^2\")\n",
    "ax0.set_ylabel(\"v/ m/s\")\n",
    "ax0.grid()\n",
    "ax0.legend()\n",
    "\n",
    "img = mpimg.imread(\"demos/uni-directional/comparison/method_c_uo.png\")\n",
    "ax1.set_title(\"paper\")\n",
    "ax1.imshow(img)\n",
    "ax1.axis(\"off\")\n",
    "plt.show()"
   ],
   "metadata": {
    "collapsed": false
   }
  },
  {
   "cell_type": "markdown",
   "source": [
    "# Method D"
   ],
   "metadata": {
    "collapsed": false
   }
  },
  {
   "cell_type": "markdown",
   "source": [
    "## Compute density and velocity"
   ],
   "metadata": {
    "collapsed": false
   }
  },
  {
   "cell_type": "markdown",
   "source": [
    "### Without cutoff radius"
   ],
   "metadata": {
    "collapsed": false
   }
  },
  {
   "cell_type": "code",
   "execution_count": null,
   "outputs": [],
   "source": [
    "from pedpy import compute_voronoi_velocity, compute_voronoi_density\n",
    "\n",
    "voronoi_densities = {}\n",
    "voronoi_velocities = {}\n",
    "individual_velocities = {}\n",
    "individuals = {}\n",
    "\n",
    "for name, trajectory in trajectories.items():\n",
    "    voronoi_density, individual = compute_voronoi_density(\n",
    "        traj_data=trajectory.data,\n",
    "        measurement_area=measurement_area,\n",
    "        geometry=geometry,\n",
    "    )\n",
    "\n",
    "    voronoi_velocity, individual_velocity = compute_voronoi_velocity(\n",
    "        traj_data=trajectory.data,\n",
    "        individual_voronoi_intersection=individual,\n",
    "        frame_rate=trajectory.frame_rate,\n",
    "        frame_step=5,\n",
    "        measurement_area=measurement_area,\n",
    "    )\n",
    "\n",
    "    voronoi_densities[name] = voronoi_density\n",
    "    voronoi_velocities[name] = voronoi_velocity\n",
    "    individual_velocities[name] = individual_velocity\n",
    "    individuals[name] = individual"
   ],
   "metadata": {
    "collapsed": false
   }
  },
  {
   "cell_type": "markdown",
   "source": [
    "### With cutoff radius"
   ],
   "metadata": {
    "collapsed": false
   }
  },
  {
   "cell_type": "code",
   "execution_count": null,
   "outputs": [],
   "source": [
    "from pedpy import compute_voronoi_velocity, compute_voronoi_density\n",
    "\n",
    "voronoi_densities_cutoff = {}\n",
    "voronoi_velocities_cutoff = {}\n",
    "individual_velocities_cutoff = {}\n",
    "individual_cutoffs = {}\n",
    "for name, trajectory in trajectories.items():\n",
    "\n",
    "    voronoi_density_cutoff, individual_cutoff = compute_voronoi_density(\n",
    "        traj_data=trajectory.data,\n",
    "        measurement_area=measurement_area,\n",
    "        geometry=geometry,\n",
    "        cut_off=(0.8, 12),\n",
    "    )\n",
    "\n",
    "    (\n",
    "        voronoi_velocity_cutoff,\n",
    "        individual_velocity_cutoff,\n",
    "    ) = compute_voronoi_velocity(\n",
    "        traj_data=trajectory.data,\n",
    "        individual_voronoi_intersection=individual_cutoff,\n",
    "        frame_rate=trajectory.frame_rate,\n",
    "        frame_step=5,\n",
    "        measurement_area=measurement_area,\n",
    "    )\n",
    "\n",
    "    voronoi_densities_cutoff[name] = voronoi_density_cutoff\n",
    "    voronoi_velocities_cutoff[name] = voronoi_velocity_cutoff\n",
    "    individual_velocities_cutoff[name] = individual_velocity_cutoff\n",
    "    individual_cutoffs[name] = individual_cutoff"
   ],
   "metadata": {
    "collapsed": false
   }
  },
  {
   "cell_type": "markdown",
   "source": [
    "## Plot time-series data"
   ],
   "metadata": {
    "collapsed": false
   }
  },
  {
   "cell_type": "code",
   "execution_count": null,
   "outputs": [],
   "source": [
    "fig, ax = plt.subplots(\n",
    "    nrows=len(trajectories.values()), ncols=2, figsize=(20, 60)\n",
    ")\n",
    "row = 0\n",
    "\n",
    "ax[row, 1].set_title(\"Velocity\", size=\"xx-large\")\n",
    "ax[row, 0].set_title(\"Density\", size=\"xx-large\")\n",
    "\n",
    "for name, trajectory in trajectories.items():\n",
    "    ax[row, 0].annotate(\n",
    "        name,\n",
    "        xy=(0.5, 1),\n",
    "        xytext=(-ax[row, 0].yaxis.labelpad - 5, 0),\n",
    "        xycoords=ax[row, 0].yaxis.label,\n",
    "        textcoords=\"offset points\",\n",
    "        size=\"xx-large\",\n",
    "        ha=\"right\",\n",
    "        va=\"center\",\n",
    "        rotation=90,\n",
    "    )\n",
    "\n",
    "    ax[row, 0].plot(\n",
    "        voronoi_densities[name].index,\n",
    "        voronoi_densities[name][\"voronoi density\"],\n",
    "        alpha=1,\n",
    "        label=\"without cut-off\",\n",
    "    )\n",
    "    ax[row, 0].plot(\n",
    "        voronoi_densities_cutoff[name].index,\n",
    "        voronoi_densities_cutoff[name][\"voronoi density\"],\n",
    "        alpha=1,\n",
    "        label=\"with cut-off\",\n",
    "    )\n",
    "    ax[row, 0].set_xlim(left=0)\n",
    "    ax[row, 0].set_ylim(bottom=0, top=4)\n",
    "    ax[row, 0].set_xlabel(\"frame\")\n",
    "    ax[row, 0].set_ylabel(\"rho / 1/m^2\")\n",
    "    ax[row, 0].grid()\n",
    "    ax[row, 0].legend()\n",
    "\n",
    "    ax[row, 1].plot(\n",
    "        voronoi_velocities[name].index,\n",
    "        voronoi_velocities[name],\n",
    "        alpha=1,\n",
    "        label=\"without cut-off\",\n",
    "    )\n",
    "    ax[row, 1].plot(\n",
    "        voronoi_velocities_cutoff[name].index,\n",
    "        voronoi_velocities_cutoff[name],\n",
    "        alpha=1,\n",
    "        label=\"with cut-off\",\n",
    "    )\n",
    "    ax[row, 1].set_xlim(\n",
    "        left=0,\n",
    "    )\n",
    "    ax[row, 1].set_ylim(bottom=0, top=3)\n",
    "    ax[row, 1].set_xlabel(\"frame\")\n",
    "    ax[row, 1].set_ylabel(\"v / m/s\")\n",
    "    ax[row, 1].grid()\n",
    "    ax[row, 1].legend()\n",
    "    row += 1\n",
    "plt.show()"
   ],
   "metadata": {
    "collapsed": false
   }
  },
  {
   "cell_type": "markdown",
   "source": [
    "## Plot fundamental diagram"
   ],
   "metadata": {
    "collapsed": false
   }
  },
  {
   "cell_type": "code",
   "execution_count": null,
   "outputs": [],
   "source": [
    "from matplotlib import image as mpimg\n",
    "import matplotlib.pyplot as plt\n",
    "\n",
    "fig, (ax0, ax1, ax2) = plt.subplots(nrows=1, ncols=3, figsize=(20, 6))\n",
    "fig.suptitle(\"Fundamental diagram\")\n",
    "\n",
    "ax0.set_title(\"without cutoff\")\n",
    "for name in voronoi_densities.keys():\n",
    "    ax0.scatter(\n",
    "        voronoi_densities[name][\"voronoi density\"],\n",
    "        voronoi_velocities[name],\n",
    "        alpha=1,\n",
    "        marker=\"x\",\n",
    "        label=name,\n",
    "    )\n",
    "ax0.set_xlim(left=0, right=4)\n",
    "ax0.set_ylim(bottom=0, top=2.5)\n",
    "\n",
    "ax0.set_xlabel(\"rho / 1/m^2\")\n",
    "ax0.set_ylabel(\"v/ m/s\")\n",
    "ax0.grid()\n",
    "ax0.legend()\n",
    "\n",
    "ax1.set_title(\"with cutoff\")\n",
    "for name in voronoi_densities_cutoff.keys():\n",
    "    ax1.scatter(\n",
    "        voronoi_densities_cutoff[name][\"voronoi density\"],\n",
    "        voronoi_velocities_cutoff[name],\n",
    "        alpha=1,\n",
    "        marker=\"x\",\n",
    "        label=name,\n",
    "    )\n",
    "ax1.set_xlim(left=0, right=4)\n",
    "ax1.set_ylim(bottom=0, top=2.5)\n",
    "\n",
    "ax1.set_xlabel(\"rho / 1/m^2\")\n",
    "ax1.set_ylabel(\"v/ m/s\")\n",
    "ax1.grid()\n",
    "ax1.legend()\n",
    "\n",
    "img = mpimg.imread(\"demos/uni-directional/comparison/method_d_uo.png\")\n",
    "ax2.set_title(\"paper\")\n",
    "ax2.imshow(img)\n",
    "ax2.axis(\"off\")\n",
    "plt.show()"
   ],
   "metadata": {
    "collapsed": false
   }
  },
  {
   "cell_type": "markdown",
   "source": [
    "# Profiles"
   ],
   "metadata": {
    "collapsed": false
   }
  },
  {
   "cell_type": "markdown",
   "source": [
    "## Compute velocity and density profiles"
   ],
   "metadata": {
    "collapsed": false
   }
  },
  {
   "cell_type": "code",
   "execution_count": null,
   "outputs": [],
   "source": [
    "import pandas as pd\n",
    "\n",
    "from pedpy import (\n",
    "    compute_profiles,\n",
    "    VelocityMethod,\n",
    "    compute_voronoi_velocity,\n",
    "    compute_voronoi_density,\n",
    ")\n",
    "\n",
    "trajectory = list(trajectories.values())[7]\n",
    "\n",
    "frames_data = trajectory.data[trajectory.data.frame.between(750, 1500)]\n",
    "\n",
    "voronoi_density_frames, individual_frames = compute_voronoi_density(\n",
    "    traj_data=frames_data,\n",
    "    measurement_area=measurement_area,\n",
    "    geometry=geometry,\n",
    "    cut_off=(0.89, 12),\n",
    ")\n",
    "voronoi_velocity_frames, individual_velocity_frames = compute_voronoi_velocity(\n",
    "    traj_data=trajectory.data,\n",
    "    individual_voronoi_intersection=individual_frames,\n",
    "    frame_rate=trajectory.frame_rate,\n",
    "    frame_step=5,\n",
    "    measurement_area=measurement_area,\n",
    ")\n",
    "\n",
    "density_profiles, velocity_profiles = compute_profiles(\n",
    "    individual_voronoi_velocity_data=pd.merge(\n",
    "        individual_frames,\n",
    "        individual_velocity_frames,\n",
    "        on=[\"ID\", \"frame\"],\n",
    "        how=\"left\",\n",
    "    ),\n",
    "    walkable_area=geometry.walkable_area,\n",
    "    grid_size=0.25,\n",
    "    velocity_method=VelocityMethod.VORONOI,\n",
    ")"
   ],
   "metadata": {
    "collapsed": false
   }
  },
  {
   "cell_type": "markdown",
   "source": [
    "## Plot profiles"
   ],
   "metadata": {
    "collapsed": false
   }
  },
  {
   "cell_type": "code",
   "execution_count": null,
   "outputs": [],
   "source": [
    "import matplotlib.pyplot as plt\n",
    "import numpy as np\n",
    "\n",
    "bounds = geometry.walkable_area.bounds\n",
    "\n",
    "fig, (ax0, ax1) = plt.subplots(nrows=1, ncols=2, figsize=(10, 10))\n",
    "\n",
    "ax0.set_title(\"Density\")\n",
    "cm = ax0.imshow(\n",
    "    np.mean(density_profiles, axis=0),\n",
    "    extent=[bounds[0], bounds[2], bounds[1], bounds[3]],\n",
    "    interpolation=\"None\",\n",
    "    cmap=\"jet\",\n",
    "    vmin=0,\n",
    "    vmax=5,\n",
    ")\n",
    "fig.colorbar(cm, ax=ax0, shrink=0.3)\n",
    "ax0.plot(*geometry.walkable_area.exterior.xy, color=\"w\")\n",
    "\n",
    "ax1.set_title(\"Velocity\")\n",
    "cm = ax1.imshow(\n",
    "    np.mean(velocity_profiles, axis=0),\n",
    "    extent=[bounds[0], bounds[2], bounds[1], bounds[3]],\n",
    "    interpolation=\"None\",\n",
    "    cmap=\"jet\",\n",
    "    vmin=0,\n",
    "    vmax=1.5,\n",
    ")\n",
    "fig.colorbar(cm, ax=ax1, shrink=0.3)\n",
    "\n",
    "ax1.plot(*geometry.walkable_area.exterior.xy, color=\"w\")\n",
    "\n",
    "fig.tight_layout()"
   ],
   "metadata": {
    "collapsed": false
   }
  },
  {
   "cell_type": "markdown",
   "source": [
    "# Plots"
   ],
   "metadata": {
    "collapsed": false
   }
  },
  {
   "cell_type": "markdown",
   "source": [
    "### Plot Voronoi cells"
   ],
   "metadata": {
    "collapsed": false
   }
  },
  {
   "cell_type": "code",
   "execution_count": null,
   "outputs": [],
   "source": [
    "import shapely\n",
    "import matplotlib.pyplot as plt\n",
    "import matplotlib as mpl\n",
    "\n",
    "import pandas as pd\n",
    "from enum import Enum\n",
    "\n",
    "\n",
    "class ColorMode(Enum):\n",
    "    Velocity = 1\n",
    "    Density = 2\n",
    "\n",
    "\n",
    "# Choose trajectory file to plot\n",
    "name = list(trajectories.keys())[6]\n",
    "\n",
    "# Choose frame to plot\n",
    "frame = 700\n",
    "\n",
    "# Choose which color mode used to display the voronoi cells. Can be Velocity or Density\n",
    "color_mode = ColorMode.Velocity\n",
    "\n",
    "# Choose which voronoi data to plot\n",
    "use_cut_off_data = True\n",
    "\n",
    "# merge all relevant data into one data frame\n",
    "voronoi_data = (\n",
    "    individual_cutoffs[name] if use_cut_off_data else individuals[name]\n",
    ")\n",
    "velocity_data = (\n",
    "    individual_velocities_cutoff[name][[\"ID\", \"frame\", \"speed\"]]\n",
    "    if use_cut_off_data\n",
    "    else individual_velocities[name][[\"ID\", \"frame\", \"speed\"]]\n",
    ")\n",
    "all_data = pd.merge(\n",
    "    trajectories[name].data, voronoi_data, on=[\"ID\", \"frame\"]\n",
    ").merge(velocity_data, on=[\"ID\", \"frame\"])\n",
    "# data = all_data\n",
    "data = all_data[all_data.frame == frame]\n",
    "\n",
    "# Start plotting\n",
    "fig = plt.figure(figsize=(15, 20))\n",
    "fig.suptitle(name)\n",
    "ax1 = fig.add_subplot(111, aspect=\"equal\")\n",
    "\n",
    "# Plot geometry\n",
    "ax1.plot(*geometry.walkable_area.exterior.xy, color=\"k\")\n",
    "\n",
    "# Plot measurement area\n",
    "ax1.plot(*measurement_area.exterior.xy, color=\"g\")\n",
    "\n",
    "# Create color mapping for velocity/density to color\n",
    "my_cmap = plt.get_cmap(\"jet\")\n",
    "norm = mpl.colors.Normalize(\n",
    "    vmin=0, vmax=4 if color_mode == ColorMode.Velocity else 8\n",
    ")\n",
    "scalar_mappable = mpl.cm.ScalarMappable(norm=norm, cmap=my_cmap)\n",
    "\n",
    "# Plot voronoi cells\n",
    "for id, ped in data.groupby(\"ID\"):\n",
    "    poly = ped[\"individual voronoi\"].values[0]\n",
    "    color = \"gray\"\n",
    "    ax1.plot(*poly.exterior.xy, alpha=0.2, color=color)\n",
    "    ax1.fill(*poly.exterior.xy, fc=color, alpha=0.1)\n",
    "\n",
    "    sc = ax1.scatter(ped[\"X\"], ped[\"Y\"], c=color, alpha=0.5)\n",
    "\n",
    "    if not shapely.is_empty(ped[\"intersection voronoi\"].iat[0]):\n",
    "        poly = ped[\"intersection voronoi\"].values[0]\n",
    "        color = (\n",
    "            scalar_mappable.to_rgba(ped[\"speed\"])\n",
    "            if color_mode == ColorMode.Velocity\n",
    "            else scalar_mappable.to_rgba(1 / poly.area)\n",
    "        )\n",
    "        ax1.plot(*poly.exterior.xy, alpha=0.5, color=color)\n",
    "        ax1.fill(*poly.exterior.xy, fc=color, alpha=0.4)\n",
    "\n",
    "fig.colorbar(\n",
    "    scalar_mappable,\n",
    "    label=\"v / m/s\" if color_mode == ColorMode.Velocity else \"rho / 1/m^2\",\n",
    "    ax=plt.gca(),\n",
    "    shrink=0.4,\n",
    "    location=\"right\",\n",
    ")\n",
    "plt.show()"
   ],
   "metadata": {
    "collapsed": false
   }
  }
 ],
 "metadata": {
  "kernelspec": {
   "display_name": "Python 3",
   "language": "python",
   "name": "python3"
  },
  "language_info": {
   "codemirror_mode": {
    "name": "ipython",
    "version": 2
   },
   "file_extension": ".py",
   "mimetype": "text/x-python",
   "name": "python",
   "nbconvert_exporter": "python",
   "pygments_lexer": "ipython2",
   "version": "2.7.6"
  }
 },
 "nbformat": 4,
 "nbformat_minor": 0
}
