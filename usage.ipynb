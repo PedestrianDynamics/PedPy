{
 "cells": [
  {
   "cell_type": "code",
   "execution_count": 4,
   "metadata": {
    "collapsed": true,
    "pycharm": {
     "name": "#%%\n"
    }
   },
   "outputs": [],
   "source": [
    "from report.io.trajectory_parser import parse_trajectory\n",
    "from report.data.geometry import Geometry\n",
    "\n",
    "import pygeos\n",
    "import matplotlib.pyplot as plt\n",
    "from descartes import PolygonPatch\n",
    "import numpy as np"
   ]
  },
  {
   "cell_type": "markdown",
   "source": [
    "# Setup geometry & measurement area"
   ],
   "metadata": {
    "collapsed": false,
    "pycharm": {
     "name": "#%% md\n"
    }
   }
  },
  {
   "cell_type": "code",
   "execution_count": 5,
   "outputs": [],
   "source": [
    "geometry = pygeos.polygons([(-9, 0), (-9, 5), (9, 5), (9, 0), (-9, 0)])\n",
    "geometry_pita = Geometry(geometry)\n",
    "\n",
    "ma = pygeos.polygons([(-1.5, 0), (-1.5, 5), (1.5, 5), (1.5, 0), (-1.5, 0)])\n",
    "\n",
    "direction = np.array([-1, 0])\n",
    "\n",
    "traj = parse_trajectory(\"demos/uni-directional/traj_UNI_CORR_500_01.txt\")\n",
    "# traj = parse_trajectory(\"fd_review/uni/traj_UNI_CORR_500_09.txt\")"
   ],
   "metadata": {
    "collapsed": false,
    "pycharm": {
     "name": "#%%\n"
    }
   }
  },
  {
   "cell_type": "markdown",
   "source": [
    "# Density"
   ],
   "metadata": {
    "collapsed": false,
    "pycharm": {
     "name": "#%% md\n"
    }
   }
  },
  {
   "cell_type": "markdown",
   "source": [
    "## Classic density"
   ],
   "metadata": {
    "collapsed": false,
    "pycharm": {
     "name": "#%% md\n"
    }
   }
  },
  {
   "cell_type": "code",
   "execution_count": null,
   "outputs": [],
   "source": [
    "from report.methods.density_calculator import compute_classic_density\n",
    "\n",
    "classic_density = compute_classic_density(traj.data, ma)\n",
    "classic_density"
   ],
   "metadata": {
    "collapsed": false,
    "pycharm": {
     "name": "#%%\n"
    }
   }
  },
  {
   "cell_type": "code",
   "execution_count": null,
   "outputs": [],
   "source": [
    "classic_density.reset_index().plot.line(x=\"frame\", y=\"classic density\")"
   ],
   "metadata": {
    "collapsed": false,
    "pycharm": {
     "name": "#%%\n"
    }
   }
  },
  {
   "cell_type": "markdown",
   "source": [
    "## Voronoi density"
   ],
   "metadata": {
    "collapsed": false,
    "pycharm": {
     "name": "#%% md\n"
    }
   }
  },
  {
   "cell_type": "code",
   "execution_count": null,
   "outputs": [],
   "source": [
    "from report.methods.density_calculator import compute_voronoi_density\n",
    "\n",
    "density_voronoi, individual = compute_voronoi_density(traj.data, ma, geometry_pita)"
   ],
   "metadata": {
    "collapsed": false,
    "pycharm": {
     "name": "#%%\n"
    }
   }
  },
  {
   "cell_type": "code",
   "execution_count": null,
   "outputs": [],
   "source": [
    "density_voronoi"
   ],
   "metadata": {
    "collapsed": false,
    "pycharm": {
     "name": "#%%\n"
    }
   }
  },
  {
   "cell_type": "code",
   "execution_count": null,
   "outputs": [],
   "source": [
    "individual"
   ],
   "metadata": {
    "collapsed": false,
    "pycharm": {
     "name": "#%%\n"
    }
   }
  },
  {
   "cell_type": "code",
   "execution_count": null,
   "outputs": [],
   "source": [
    "density_voronoi.reset_index().plot.line(x=\"frame\", y=\"voronoi density\")"
   ],
   "metadata": {
    "collapsed": false,
    "pycharm": {
     "name": "#%%\n"
    }
   }
  },
  {
   "cell_type": "markdown",
   "source": [
    "## Comparision"
   ],
   "metadata": {
    "collapsed": false,
    "pycharm": {
     "name": "#%% md\n"
    }
   }
  },
  {
   "cell_type": "code",
   "execution_count": null,
   "outputs": [],
   "source": [
    "fig = plt.figure(figsize=(10, 6))\n",
    "plt.plot(\n",
    "    classic_density.reset_index().frame,\n",
    "    classic_density[\"classic density\"].values,\n",
    "    label=\"classic\",\n",
    "    lw=3,\n",
    ")\n",
    "plt.plot(\n",
    "    density_voronoi.reset_index().frame, density_voronoi[\"voronoi density\"], label=\"voronoi\", lw=3\n",
    ")\n",
    "plt.xlabel(\"frame\")\n",
    "plt.ylabel(\"rho / 1/m^2\")\n",
    "plt.legend()\n",
    "plt.grid()\n",
    "plt.show()"
   ],
   "metadata": {
    "collapsed": false,
    "pycharm": {
     "name": "#%%\n"
    }
   }
  },
  {
   "cell_type": "markdown",
   "source": [
    "## Plot voronoi cells"
   ],
   "metadata": {
    "collapsed": false,
    "pycharm": {
     "name": "#%% md\n"
    }
   }
  },
  {
   "cell_type": "code",
   "execution_count": null,
   "outputs": [],
   "source": [
    "import pandas as pd\n",
    "\n",
    "frame_start = 1200\n",
    "\n",
    "for frame in range(frame_start, frame_start + 100, 20):\n",
    "    df_frame = individual[individual.frame == frame]\n",
    "    df_frame = pd.merge(traj.data, df_frame, on=[\"ID\", \"frame\"])\n",
    "\n",
    "    fig = plt.figure(figsize=(15, 20))\n",
    "    ax1 = fig.add_subplot(111, aspect=\"equal\")\n",
    "\n",
    "    ax1.plot(*pygeos.to_shapely(geometry).exterior.xy, color=\"k\")\n",
    "    ax1.plot(*pygeos.to_shapely(ma).exterior.xy, color=\"k\")\n",
    "\n",
    "    for _, row in df_frame.iterrows():\n",
    "        p = ax1.plot(*pygeos.to_shapely(row[6]).exterior.xy)\n",
    "        ax1.scatter(row[2], row[3])\n",
    "        ax1.add_patch(\n",
    "            PolygonPatch(\n",
    "                pygeos.to_shapely(row[6]), alpha=0.1, zorder=2, fc=p[-1].get_color(), ec=\"none\"\n",
    "            )\n",
    "        )\n",
    "    ax1.set_xlabel(\"x\")\n",
    "    ax1.set_ylabel(\"y\")\n",
    "    plt.show()"
   ],
   "metadata": {
    "collapsed": false,
    "pycharm": {
     "name": "#%%\n"
    }
   }
  },
  {
   "cell_type": "markdown",
   "source": [
    "# Velocity"
   ],
   "metadata": {
    "collapsed": false,
    "pycharm": {
     "name": "#%% md\n"
    }
   }
  },
  {
   "cell_type": "code",
   "execution_count": null,
   "outputs": [],
   "source": [
    "from report.methods.velocity_calculator import compute_individual_velocity\n",
    "\n",
    "individual_speed = compute_individual_velocity(traj.data, traj.frame_rate, 5)\n",
    "individual_speed"
   ],
   "metadata": {
    "collapsed": false,
    "pycharm": {
     "name": "#%%\n"
    }
   }
  },
  {
   "cell_type": "code",
   "execution_count": null,
   "outputs": [],
   "source": [
    "individual_speed.reset_index().plot.scatter(x=\"frame\", y=\"speed\")"
   ],
   "metadata": {
    "collapsed": false,
    "pycharm": {
     "name": "#%%\n"
    }
   }
  },
  {
   "cell_type": "code",
   "execution_count": null,
   "outputs": [],
   "source": [
    "individual_speed_direction = compute_individual_velocity(traj.data, traj.frame_rate, 5, direction)\n",
    "individual_speed_direction"
   ],
   "metadata": {
    "collapsed": false,
    "pycharm": {
     "name": "#%%\n"
    }
   }
  },
  {
   "cell_type": "code",
   "execution_count": null,
   "outputs": [],
   "source": [
    "individual_speed.reset_index().plot.scatter(x=\"frame\", y=\"speed\")"
   ],
   "metadata": {
    "collapsed": false,
    "pycharm": {
     "name": "#%%\n"
    }
   }
  },
  {
   "cell_type": "markdown",
   "source": [
    "## Mean speed (all)"
   ],
   "metadata": {
    "collapsed": false,
    "pycharm": {
     "name": "#%% md\n"
    }
   }
  },
  {
   "cell_type": "code",
   "execution_count": null,
   "outputs": [],
   "source": [
    "from report.methods.velocity_calculator import compute_mean_velocity_per_frame\n",
    "\n",
    "mean_speed, individual_speed = compute_mean_velocity_per_frame(traj.data, traj.frame_rate, 5)\n",
    "mean_speed"
   ],
   "metadata": {
    "collapsed": false,
    "pycharm": {
     "name": "#%%\n"
    }
   }
  },
  {
   "cell_type": "code",
   "execution_count": null,
   "outputs": [],
   "source": [
    "mean_speed.reset_index().plot.scatter(x=\"frame\", y=\"speed\")"
   ],
   "metadata": {
    "collapsed": false,
    "pycharm": {
     "name": "#%%\n"
    }
   }
  },
  {
   "cell_type": "code",
   "execution_count": null,
   "outputs": [],
   "source": [
    "mean_speed_direction, individual_speed_direction = compute_mean_velocity_per_frame(\n",
    "    traj.data, traj.frame_rate, 5, direction\n",
    ")\n",
    "mean_speed_direction"
   ],
   "metadata": {
    "collapsed": false,
    "pycharm": {
     "name": "#%%\n"
    }
   }
  },
  {
   "cell_type": "markdown",
   "source": [
    "## Mean speed (in measurement area)"
   ],
   "metadata": {
    "collapsed": false,
    "pycharm": {
     "name": "#%% md\n"
    }
   }
  },
  {
   "cell_type": "code",
   "execution_count": null,
   "outputs": [],
   "source": [
    "from report.methods.method_utils import get_peds_in_area\n",
    "from report.methods.velocity_calculator import compute_mean_velocity_per_frame\n",
    "\n",
    "peds_in_area = get_peds_in_area(traj.data, ma)\n",
    "mean_speed_area, individual_speed_area = compute_mean_velocity_per_frame(\n",
    "    peds_in_area, traj.frame_rate, 5\n",
    ")"
   ],
   "metadata": {
    "collapsed": false,
    "pycharm": {
     "name": "#%%\n"
    }
   }
  },
  {
   "cell_type": "code",
   "execution_count": null,
   "outputs": [],
   "source": [
    "mean_speed_area.reset_index().plot.scatter(x=\"frame\", y=\"speed\")"
   ],
   "metadata": {
    "collapsed": false,
    "pycharm": {
     "name": "#%%\n"
    }
   }
  },
  {
   "cell_type": "code",
   "execution_count": null,
   "outputs": [],
   "source": [
    "mean_speed_area_direction, individual_speed_area_direction = compute_mean_velocity_per_frame(\n",
    "    peds_in_area, traj.frame_rate, 5, direction\n",
    ")"
   ],
   "metadata": {
    "collapsed": false,
    "pycharm": {
     "name": "#%%\n"
    }
   }
  },
  {
   "cell_type": "code",
   "execution_count": null,
   "outputs": [],
   "source": [
    "mean_speed_area_direction.reset_index().plot.scatter(x=\"frame\", y=\"speed\")"
   ],
   "metadata": {
    "collapsed": false,
    "pycharm": {
     "name": "#%%\n"
    }
   }
  },
  {
   "cell_type": "markdown",
   "source": [
    "## Voronoi speed"
   ],
   "metadata": {
    "collapsed": false,
    "pycharm": {
     "name": "#%% md\n"
    }
   }
  },
  {
   "cell_type": "code",
   "execution_count": null,
   "outputs": [],
   "source": [
    "from report.methods.density_calculator import (\n",
    "    _compute_individual_voronoi_polygons,\n",
    "    _compute_intersecting_polygons,\n",
    ")\n",
    "from report.methods.velocity_calculator import compute_individual_velocity, compute_voronoi_velocity"
   ],
   "metadata": {
    "collapsed": false,
    "pycharm": {
     "name": "#%%\n"
    }
   }
  },
  {
   "cell_type": "code",
   "execution_count": null,
   "outputs": [],
   "source": [
    "individual_voronoi = _compute_individual_voronoi_polygons(traj.data, geometry_pita)\n",
    "intersecting_voronoi = _compute_intersecting_polygons(individual_voronoi, ma)"
   ],
   "metadata": {
    "collapsed": false,
    "pycharm": {
     "name": "#%%\n"
    }
   }
  },
  {
   "cell_type": "code",
   "execution_count": null,
   "outputs": [],
   "source": [
    "voronoi_velocity = compute_voronoi_velocity(traj.data, intersecting_voronoi, traj.frame_rate, 5, ma)\n",
    "voronoi_velocity"
   ],
   "metadata": {
    "collapsed": false,
    "pycharm": {
     "name": "#%%\n"
    }
   }
  },
  {
   "cell_type": "code",
   "execution_count": null,
   "outputs": [],
   "source": [
    "voronoi_velocity.reset_index().plot.scatter(x=\"frame\", y=\"voronoi speed\")"
   ],
   "metadata": {
    "collapsed": false,
    "pycharm": {
     "name": "#%%\n"
    }
   }
  },
  {
   "cell_type": "code",
   "execution_count": null,
   "outputs": [],
   "source": [
    "voronoi_velocity_direction = compute_voronoi_velocity(\n",
    "    traj.data, intersecting_voronoi, traj.frame_rate, 5, ma, direction\n",
    ")\n",
    "voronoi_velocity_direction"
   ],
   "metadata": {
    "collapsed": false,
    "pycharm": {
     "name": "#%%\n"
    }
   }
  },
  {
   "cell_type": "markdown",
   "source": [
    "## Comparison mean velocity vs voronoi velocity"
   ],
   "metadata": {
    "collapsed": false,
    "pycharm": {
     "name": "#%% md\n"
    }
   }
  },
  {
   "cell_type": "code",
   "execution_count": null,
   "outputs": [],
   "source": [
    "fig = plt.figure(figsize=(8, 6))\n",
    "plt.scatter(voronoi_velocity.reset_index().frame, voronoi_velocity, label=\"voronoi\")\n",
    "plt.scatter(\n",
    "    voronoi_velocity_direction.reset_index().frame,\n",
    "    voronoi_velocity_direction,\n",
    "    label=\"voronoi direction\",\n",
    ")\n",
    "plt.scatter(mean_speed_area.reset_index().frame, mean_speed_area, label=\"classic\")\n",
    "plt.scatter(\n",
    "    mean_speed_area_direction.reset_index().frame,\n",
    "    mean_speed_area_direction,\n",
    "    label=\"classic direction\",\n",
    ")\n",
    "plt.xlabel(\"frame\")\n",
    "plt.ylabel(\"v / m/s\")\n",
    "plt.legend()\n",
    "plt.grid()\n",
    "plt.show()"
   ],
   "metadata": {
    "collapsed": false,
    "pycharm": {
     "name": "#%%\n"
    }
   }
  },
  {
   "cell_type": "markdown",
   "source": [
    "# CCM"
   ],
   "metadata": {
    "collapsed": false,
    "pycharm": {
     "name": "#%% md\n"
    }
   }
  },
  {
   "cell_type": "code",
   "execution_count": 6,
   "outputs": [],
   "source": [
    "from report.methods.method_CCM import _run_method_ccm\n",
    "from report.data.configuration import ConfigurationMethodCCM, ConfigurationVelocity"
   ],
   "metadata": {
    "collapsed": false,
    "pycharm": {
     "name": "#%%\n"
    }
   }
  },
  {
   "cell_type": "code",
   "execution_count": 7,
   "outputs": [],
   "source": [
    "config_ccm = ConfigurationMethodCCM(0.05, 0)\n",
    "config_velocity = ConfigurationVelocity(10, np.array([1, 0]), False)\n",
    "line = pygeos.linestrings([[0, 0], [0, 5]])"
   ],
   "metadata": {
    "collapsed": false,
    "pycharm": {
     "name": "#%%\n"
    }
   }
  },
  {
   "cell_type": "code",
   "execution_count": 8,
   "outputs": [
    {
     "name": "stderr",
     "output_type": "stream",
     "text": [
      "/home/tobias/development/jupedsim/venv-jpsreport-python/lib/python3.8/site-packages/pandas/core/arraylike.py:364: RuntimeWarning: invalid value encountered in intersection\n",
      "  result = getattr(ufunc, method)(*inputs, **kwargs)\n"
     ]
    }
   ],
   "source": [
    "# %%timeit\n",
    "mean, individual = _run_method_ccm(config_ccm, traj, line, geometry_pita, config_velocity)"
   ],
   "metadata": {
    "collapsed": false,
    "pycharm": {
     "name": "#%%\n"
    }
   }
  },
  {
   "cell_type": "code",
   "execution_count": 92,
   "outputs": [
    {
     "data": {
      "text/plain": "<AxesSubplot:xlabel='frame'>"
     },
     "execution_count": 92,
     "metadata": {},
     "output_type": "execute_result"
    },
    {
     "data": {
      "text/plain": "<Figure size 432x288 with 1 Axes>",
      "image/png": "[encoded data removed]"
     },
     "metadata": {
      "needs_background": "light"
     },
     "output_type": "display_data"
    }
   ],
   "source": [
    "mean.plot()"
   ],
   "metadata": {
    "collapsed": false,
    "pycharm": {
     "name": "#%%\n"
    }
   }
  },
  {
   "cell_type": "code",
   "execution_count": 14,
   "outputs": [
    {
     "name": "stderr",
     "output_type": "stream",
     "text": [
      "/home/tobias/development/jupedsim/venv-jpsreport-python/lib/python3.8/site-packages/pandas/core/arraylike.py:364: RuntimeWarning: invalid value encountered in intersection\n",
      "  result = getattr(ufunc, method)(*inputs, **kwargs)\n"
     ]
    }
   ],
   "source": [
    "from report.data.configuration import ConfigurationMethodCCM\n",
    "from report.methods.method_CCM import ResultMethodCCM\n",
    "\n",
    "result = _run_method_ccm(config_ccm, traj, line, geometry_pita, config_velocity)"
   ],
   "metadata": {
    "collapsed": false,
    "pycharm": {
     "name": "#%%\n"
    }
   }
  },
  {
   "cell_type": "code",
   "execution_count": 16,
   "outputs": [],
   "source": [
    "ccm = ResultMethodCCM(result[0], result[1])"
   ],
   "metadata": {
    "collapsed": false,
    "pycharm": {
     "name": "#%%\n"
    }
   }
  },
  {
   "cell_type": "code",
   "execution_count": 17,
   "outputs": [
    {
     "data": {
      "text/plain": "        ID  frame                                 individual voronoi  \\\n0        1     98             POLYGON ((-9 5, 9 5, 9 0, -9 0, -9 5))   \n1        1     99             POLYGON ((-9 5, 9 5, 9 0, -9 0, -9 5))   \n2        1    100             POLYGON ((-9 5, 9 5, 9 0, -9 0, -9 5))   \n3        1    101             POLYGON ((-9 5, 9 5, 9 0, -9 0, -9 5))   \n4        1    102             POLYGON ((-9 5, 9 5, 9 0, -9 0, -9 5))   \n...    ...    ...                                                ...   \n25531  136   1985  POLYGON ((-9 1.978, -9 4.065, -1.7 2.652, -9 1...   \n25532  137   1985  POLYGON ((-1.7 2.652, -9 4.065, -9 5, 9 5, 9 2...   \n25533  138   1985  POLYGON ((9 2.936, 9 0, -9 0, -9 1.978, -1.7 2...   \n25534  137   1986  POLYGON ((-9 2.456, -9 5, 9 5, 9 2.957, -9 2.4...   \n25535  138   1986  POLYGON ((9 2.957, 9 0, -9 0, -9 2.456, 9 2.957))   \n\n                                    intersection voronoi    speed   density  \n0      POLYGON ((0 5, 0.05 5, 0.05 0, 0 0, -0.05 0, -... -1.55625  0.005556  \n1      POLYGON ((0 5, 0.05 5, 0.05 0, 0 0, -0.05 0, -... -1.53400  0.005556  \n2      POLYGON ((0 5, 0.05 5, 0.05 0, 0 0, -0.05 0, -... -1.51875  0.005556  \n3      POLYGON ((0 5, 0.05 5, 0.05 0, 0 0, -0.05 0, -... -1.50825  0.005556  \n4      POLYGON ((0 5, 0.05 5, 0.05 0, 0 0, -0.05 0, -... -1.53275  0.005556  \n...                                                  ...      ...       ...  \n25531                                      POLYGON EMPTY -1.81600  0.000000  \n25532  POLYGON ((0 5, 0.05 5, 0.05 2.698, -0.05 2.696... -1.49000  0.006471  \n25533  POLYGON ((0 0, -0.05 0, -0.05 2.696, 0.05 2.69... -1.75225  0.005763  \n25534  POLYGON ((0 5, 0.05 5, 0.05 2.708, -0.05 2.705... -1.53550  0.005556  \n25535  POLYGON ((0 0, -0.05 0, -0.05 2.705, 0.05 2.70... -1.75900  0.005556  \n\n[25536 rows x 6 columns]",
      "text/html": "<div>\n<style scoped>\n    .dataframe tbody tr th:only-of-type {\n        vertical-align: middle;\n    }\n\n    .dataframe tbody tr th {\n        vertical-align: top;\n    }\n\n    .dataframe thead th {\n        text-align: right;\n    }\n</style>\n<table border=\"1\" class=\"dataframe\">\n  <thead>\n    <tr style=\"text-align: right;\">\n      <th></th>\n      <th>ID</th>\n      <th>frame</th>\n      <th>individual voronoi</th>\n      <th>intersection voronoi</th>\n      <th>speed</th>\n      <th>density</th>\n    </tr>\n  </thead>\n  <tbody>\n    <tr>\n      <th>0</th>\n      <td>1</td>\n      <td>98</td>\n      <td>POLYGON ((-9 5, 9 5, 9 0, -9 0, -9 5))</td>\n      <td>POLYGON ((0 5, 0.05 5, 0.05 0, 0 0, -0.05 0, -...</td>\n      <td>-1.55625</td>\n      <td>0.005556</td>\n    </tr>\n    <tr>\n      <th>1</th>\n      <td>1</td>\n      <td>99</td>\n      <td>POLYGON ((-9 5, 9 5, 9 0, -9 0, -9 5))</td>\n      <td>POLYGON ((0 5, 0.05 5, 0.05 0, 0 0, -0.05 0, -...</td>\n      <td>-1.53400</td>\n      <td>0.005556</td>\n    </tr>\n    <tr>\n      <th>2</th>\n      <td>1</td>\n      <td>100</td>\n      <td>POLYGON ((-9 5, 9 5, 9 0, -9 0, -9 5))</td>\n      <td>POLYGON ((0 5, 0.05 5, 0.05 0, 0 0, -0.05 0, -...</td>\n      <td>-1.51875</td>\n      <td>0.005556</td>\n    </tr>\n    <tr>\n      <th>3</th>\n      <td>1</td>\n      <td>101</td>\n      <td>POLYGON ((-9 5, 9 5, 9 0, -9 0, -9 5))</td>\n      <td>POLYGON ((0 5, 0.05 5, 0.05 0, 0 0, -0.05 0, -...</td>\n      <td>-1.50825</td>\n      <td>0.005556</td>\n    </tr>\n    <tr>\n      <th>4</th>\n      <td>1</td>\n      <td>102</td>\n      <td>POLYGON ((-9 5, 9 5, 9 0, -9 0, -9 5))</td>\n      <td>POLYGON ((0 5, 0.05 5, 0.05 0, 0 0, -0.05 0, -...</td>\n      <td>-1.53275</td>\n      <td>0.005556</td>\n    </tr>\n    <tr>\n      <th>...</th>\n      <td>...</td>\n      <td>...</td>\n      <td>...</td>\n      <td>...</td>\n      <td>...</td>\n      <td>...</td>\n    </tr>\n    <tr>\n      <th>25531</th>\n      <td>136</td>\n      <td>1985</td>\n      <td>POLYGON ((-9 1.978, -9 4.065, -1.7 2.652, -9 1...</td>\n      <td>POLYGON EMPTY</td>\n      <td>-1.81600</td>\n      <td>0.000000</td>\n    </tr>\n    <tr>\n      <th>25532</th>\n      <td>137</td>\n      <td>1985</td>\n      <td>POLYGON ((-1.7 2.652, -9 4.065, -9 5, 9 5, 9 2...</td>\n      <td>POLYGON ((0 5, 0.05 5, 0.05 2.698, -0.05 2.696...</td>\n      <td>-1.49000</td>\n      <td>0.006471</td>\n    </tr>\n    <tr>\n      <th>25533</th>\n      <td>138</td>\n      <td>1985</td>\n      <td>POLYGON ((9 2.936, 9 0, -9 0, -9 1.978, -1.7 2...</td>\n      <td>POLYGON ((0 0, -0.05 0, -0.05 2.696, 0.05 2.69...</td>\n      <td>-1.75225</td>\n      <td>0.005763</td>\n    </tr>\n    <tr>\n      <th>25534</th>\n      <td>137</td>\n      <td>1986</td>\n      <td>POLYGON ((-9 2.456, -9 5, 9 5, 9 2.957, -9 2.4...</td>\n      <td>POLYGON ((0 5, 0.05 5, 0.05 2.708, -0.05 2.705...</td>\n      <td>-1.53550</td>\n      <td>0.005556</td>\n    </tr>\n    <tr>\n      <th>25535</th>\n      <td>138</td>\n      <td>1986</td>\n      <td>POLYGON ((9 2.957, 9 0, -9 0, -9 2.456, 9 2.957))</td>\n      <td>POLYGON ((0 0, -0.05 0, -0.05 2.705, 0.05 2.70...</td>\n      <td>-1.75900</td>\n      <td>0.005556</td>\n    </tr>\n  </tbody>\n</table>\n<p>25536 rows × 6 columns</p>\n</div>"
     },
     "execution_count": 17,
     "metadata": {},
     "output_type": "execute_result"
    }
   ],
   "source": [
    "ccm.df_individual"
   ],
   "metadata": {
    "collapsed": false,
    "pycharm": {
     "name": "#%%\n"
    }
   }
  }
 ],
 "metadata": {
  "kernelspec": {
   "display_name": "Python 3",
   "language": "python",
   "name": "python3"
  },
  "language_info": {
   "codemirror_mode": {
    "name": "ipython",
    "version": 2
   },
   "file_extension": ".py",
   "mimetype": "text/x-python",
   "name": "python",
   "nbconvert_exporter": "python",
   "pygments_lexer": "ipython2",
   "version": "2.7.6"
  }
 },
 "nbformat": 4,
 "nbformat_minor": 0
}