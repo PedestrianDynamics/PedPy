{
 "cells": [
  {
   "cell_type": "code",
   "execution_count": null,
   "outputs": [],
   "source": [
    "from analyzer import load_trajectory\n",
    "from analyzer import (\n",
    "    Geometry,\n",
    "    TrajectoryUnit,\n",
    "    get_invalid_trajectory,\n",
    "    is_trajectory_valid,\n",
    ")\n",
    "import pathlib\n",
    "import matplotlib.pyplot as plt\n",
    "import numpy as np\n",
    "import pandas as pd\n",
    "import shapely\n",
    "from shapely import LineString, Polygon"
   ],
   "metadata": {
    "collapsed": false
   }
  },
  {
   "cell_type": "markdown",
   "source": [
    "# Setup geometry & measurement area"
   ],
   "metadata": {
    "collapsed": false
   }
  },
  {
   "cell_type": "markdown",
   "source": [
    "## Prepare geometry"
   ],
   "metadata": {
    "collapsed": false
   }
  },
  {
   "cell_type": "code",
   "execution_count": null,
   "outputs": [],
   "source": [
    "geometry = Polygon([(-10, -2), (-10, 7), (10, 7), (10, -2), (-10, -2)])\n",
    "\n",
    "geometry_pita = Geometry(geometry)\n",
    "geometry_pita.add_obstacle(\n",
    "    Polygon([(-9, -2), (-9, 0), (9, 0), (9, -2), (-9, -2)])\n",
    ")\n",
    "geometry_pita.add_obstacle(Polygon([(-9, 5), (-9, 7), (9, 7), (9, 5), (-9, 5)]))"
   ],
   "metadata": {
    "collapsed": false
   }
  },
  {
   "cell_type": "markdown",
   "source": [
    "## Prepare measurement details"
   ],
   "metadata": {
    "collapsed": false
   }
  },
  {
   "cell_type": "code",
   "execution_count": null,
   "outputs": [],
   "source": [
    "ma = Polygon([(-1.5, 0), (-1.5, 5), (1.5, 5), (1.5, 0), (-1.5, 0)])\n",
    "ml = LineString([(0, 0), (0, 5)])\n",
    "passing_offset = 1.0\n",
    "\n",
    "direction = np.array([-1, 0])"
   ],
   "metadata": {
    "collapsed": false
   }
  },
  {
   "cell_type": "markdown",
   "source": [
    "## Load trajectories"
   ],
   "metadata": {
    "collapsed": false
   }
  },
  {
   "cell_type": "code",
   "execution_count": null,
   "outputs": [],
   "source": [
    "traj = load_trajectory(\n",
    "    trajectory_file=pathlib.Path(\n",
    "        \"demos/uni-directional/traj_UNI_CORR_500_01.txt\"\n",
    "    ),\n",
    "    default_unit=TrajectoryUnit.METER,\n",
    ")"
   ],
   "metadata": {
    "collapsed": false
   }
  },
  {
   "cell_type": "markdown",
   "source": [
    "## Validate that trajectory is completely inside the walkable area."
   ],
   "metadata": {
    "collapsed": false
   }
  },
  {
   "cell_type": "code",
   "execution_count": null,
   "outputs": [],
   "source": [
    "print(f\"Trajectory is valid: {is_trajectory_valid(traj, geometry_pita)}\")\n",
    "get_invalid_trajectory(traj, geometry_pita)"
   ],
   "metadata": {
    "collapsed": false
   }
  },
  {
   "cell_type": "markdown",
   "source": [
    "### Plot setup"
   ],
   "metadata": {
    "collapsed": false
   }
  },
  {
   "cell_type": "code",
   "execution_count": null,
   "outputs": [],
   "source": [
    "fig = plt.figure(figsize=(15, 20))\n",
    "ax1 = fig.add_subplot(111, aspect=\"equal\")\n",
    "\n",
    "# Plot geometry\n",
    "ax1.plot(*geometry_pita.walkable_area.exterior.xy, color=\"k\")\n",
    "\n",
    "## Plot measurement area\n",
    "ax1.plot(*ma.exterior.xy, color=\"g\")\n",
    "ax1.fill(*ma.exterior.xy, color=\"g\", alpha=0.1)\n",
    "\n",
    "## Plot measurement lines\n",
    "ax1.plot(*ml.xy, color=\"b\")\n",
    "ax1.plot(\n",
    "    *shapely.offset_curve(ml, passing_offset).xy,\n",
    "    color=\"orange\",\n",
    ")\n",
    "\n",
    "# Plot trajectories\n",
    "for id, ped in traj.data.groupby(\"ID\"):\n",
    "    p = ax1.plot(ped[\"X\"], ped[\"Y\"], label=id, alpha=0.1, color=\"r\")\n",
    "    ax1.scatter(\n",
    "        ped[ped.frame == ped.frame.max()][\"X\"],\n",
    "        ped[ped.frame == ped.frame.max()][\"Y\"],\n",
    "        c=p[-1].get_color(),\n",
    "        marker=\"x\",\n",
    "    )\n",
    "plt.show()"
   ],
   "metadata": {
    "collapsed": false
   }
  },
  {
   "cell_type": "markdown",
   "source": [
    "# Density"
   ],
   "metadata": {
    "collapsed": false
   }
  },
  {
   "cell_type": "markdown",
   "source": [
    "## Classic density"
   ],
   "metadata": {
    "collapsed": false
   }
  },
  {
   "cell_type": "code",
   "execution_count": null,
   "outputs": [],
   "source": [
    "from analyzer import compute_classic_density\n",
    "\n",
    "classic_density = compute_classic_density(traj.data, ma)\n",
    "classic_density"
   ],
   "metadata": {
    "collapsed": false
   }
  },
  {
   "cell_type": "code",
   "execution_count": null,
   "outputs": [],
   "source": [
    "classic_density.reset_index().plot.line(x=\"frame\", y=\"classic density\")"
   ],
   "metadata": {
    "collapsed": false
   }
  },
  {
   "cell_type": "markdown",
   "source": [
    "## Voronoi density"
   ],
   "metadata": {
    "collapsed": false
   }
  },
  {
   "cell_type": "code",
   "execution_count": null,
   "outputs": [],
   "source": [
    "from analyzer import compute_voronoi_density\n",
    "\n",
    "density_voronoi, individual = compute_voronoi_density(\n",
    "    traj.data, ma, geometry_pita\n",
    ")"
   ],
   "metadata": {
    "collapsed": false
   }
  },
  {
   "cell_type": "code",
   "execution_count": null,
   "outputs": [],
   "source": [
    "density_voronoi"
   ],
   "metadata": {
    "collapsed": false
   }
  },
  {
   "cell_type": "code",
   "execution_count": null,
   "outputs": [],
   "source": [
    "individual"
   ],
   "metadata": {
    "collapsed": false
   }
  },
  {
   "cell_type": "code",
   "execution_count": null,
   "outputs": [],
   "source": [
    "density_voronoi.reset_index().plot.line(x=\"frame\", y=\"voronoi density\")"
   ],
   "metadata": {
    "collapsed": false
   }
  },
  {
   "cell_type": "code",
   "execution_count": null,
   "outputs": [],
   "source": [
    "density_voronoi_cutoff, individual_cutoff = compute_voronoi_density(\n",
    "    traj.data, ma, geometry_pita, (1.0, 12)\n",
    ")"
   ],
   "metadata": {
    "collapsed": false
   }
  },
  {
   "cell_type": "code",
   "execution_count": null,
   "outputs": [],
   "source": [
    "density_voronoi_cutoff.reset_index().plot.line(x=\"frame\", y=\"voronoi density\")"
   ],
   "metadata": {
    "collapsed": false
   }
  },
  {
   "cell_type": "markdown",
   "source": [
    "## Comparision"
   ],
   "metadata": {
    "collapsed": false
   }
  },
  {
   "cell_type": "code",
   "execution_count": null,
   "outputs": [],
   "source": [
    "fig = plt.figure(figsize=(10, 6))\n",
    "plt.plot(\n",
    "    classic_density.reset_index().frame,\n",
    "    classic_density[\"classic density\"].values,\n",
    "    label=\"classic\",\n",
    "    lw=3,\n",
    ")\n",
    "plt.plot(\n",
    "    density_voronoi.reset_index().frame,\n",
    "    density_voronoi[\"voronoi density\"],\n",
    "    label=\"voronoi\",\n",
    "    lw=3,\n",
    ")\n",
    "plt.plot(\n",
    "    density_voronoi_cutoff.reset_index().frame,\n",
    "    density_voronoi_cutoff[\"voronoi density\"],\n",
    "    label=\"voronoi cutoff\",\n",
    "    lw=3,\n",
    ")\n",
    "plt.xlabel(\"frame\")\n",
    "plt.ylabel(\"rho / 1/m^2\")\n",
    "plt.legend()\n",
    "plt.grid()\n",
    "plt.show()"
   ],
   "metadata": {
    "collapsed": false
   }
  },
  {
   "cell_type": "markdown",
   "source": [
    "## Plot voronoi cells"
   ],
   "metadata": {
    "collapsed": false
   }
  },
  {
   "cell_type": "code",
   "execution_count": null,
   "outputs": [],
   "source": [
    "frame_start = 1200\n",
    "\n",
    "for frame in range(frame_start, frame_start + 100, 20):\n",
    "    fig = plt.figure(figsize=(15, 20))\n",
    "    ax1 = fig.add_subplot(121, aspect=\"equal\")\n",
    "\n",
    "    geo_shapely = geometry_pita.walkable_area\n",
    "    ax1.plot(*geo_shapely.exterior.xy, color=\"k\")\n",
    "    for hole in geo_shapely.interiors:\n",
    "        ax1.plot(*hole.xy, color=\"k\")\n",
    "\n",
    "    ax1.plot(*ma.exterior.xy, color=\"k\")\n",
    "\n",
    "    df_frame = individual[individual.frame == frame]\n",
    "    df_frame = pd.merge(traj.data, df_frame, on=[\"ID\", \"frame\"])\n",
    "    for _, row in df_frame.iterrows():\n",
    "        p = ax1.plot(*row[6].exterior.xy)\n",
    "        ax1.scatter(row[2], row[3])\n",
    "        ax1.plot(*row[6].exterior.xy, color=p[-1].get_color())\n",
    "        ax1.fill(\n",
    "            *row[6].exterior.xy,\n",
    "            color=p[-1].get_color(),\n",
    "            alpha=0.1,\n",
    "        )\n",
    "    ax1.set_xlabel(\"x\")\n",
    "    ax1.set_ylabel(\"y\")\n",
    "\n",
    "    ax2 = fig.add_subplot(122, aspect=\"equal\")\n",
    "\n",
    "    ax2.plot(*geo_shapely.exterior.xy, color=\"k\")\n",
    "    for hole in geo_shapely.interiors:\n",
    "        ax2.plot(*hole.xy, color=\"k\")\n",
    "    ax2.plot(*ma.exterior.xy, color=\"k\")\n",
    "\n",
    "    df_frame_cutoff = individual_cutoff[individual_cutoff.frame == frame]\n",
    "    df_frame_cutoff = pd.merge(traj.data, df_frame_cutoff, on=[\"ID\", \"frame\"])\n",
    "    for _, row in df_frame_cutoff.iterrows():\n",
    "        p = ax2.plot(*row[6].exterior.xy)\n",
    "        ax2.scatter(row[2], row[3])\n",
    "\n",
    "        ax2.plot(*row[6].exterior.xy, color=p[-1].get_color())\n",
    "        ax2.fill(\n",
    "            *row[6].exterior.xy,\n",
    "            color=p[-1].get_color(),\n",
    "            alpha=0.1,\n",
    "        )\n",
    "\n",
    "    ax2.set_xlabel(\"x\")\n",
    "    ax2.set_ylabel(\"y\")\n",
    "    fig.tight_layout()\n",
    "    plt.show()"
   ],
   "metadata": {
    "collapsed": false
   }
  },
  {
   "cell_type": "markdown",
   "source": [
    "## Passing density (individual)"
   ],
   "metadata": {
    "collapsed": false
   }
  },
  {
   "cell_type": "code",
   "execution_count": null,
   "outputs": [],
   "source": [
    "from analyzer import compute_passing_density\n",
    "from analyzer import compute_frame_range_in_area\n",
    "\n",
    "frames_in_area, _ = compute_frame_range_in_area(traj.data, ml, passing_offset)\n",
    "passing_density = compute_passing_density(classic_density, frames_in_area)\n",
    "passing_density"
   ],
   "metadata": {
    "collapsed": false
   }
  },
  {
   "cell_type": "markdown",
   "source": [
    "# Velocity"
   ],
   "metadata": {
    "collapsed": false
   }
  },
  {
   "cell_type": "code",
   "execution_count": null,
   "outputs": [],
   "source": [
    "from analyzer import compute_individual_velocity\n",
    "\n",
    "individual_speed = compute_individual_velocity(traj.data, traj.frame_rate, 5)\n",
    "individual_speed"
   ],
   "metadata": {
    "collapsed": false
   }
  },
  {
   "cell_type": "code",
   "execution_count": null,
   "outputs": [],
   "source": [
    "individual_speed.reset_index().plot.scatter(x=\"frame\", y=\"speed\")"
   ],
   "metadata": {
    "collapsed": false
   }
  },
  {
   "cell_type": "code",
   "execution_count": null,
   "outputs": [],
   "source": [
    "individual_speed_direction = compute_individual_velocity(\n",
    "    traj.data, traj.frame_rate, 5, direction\n",
    ")\n",
    "individual_speed_direction"
   ],
   "metadata": {
    "collapsed": false
   }
  },
  {
   "cell_type": "code",
   "execution_count": null,
   "outputs": [],
   "source": [
    "individual_speed.reset_index().plot.scatter(x=\"frame\", y=\"speed\")"
   ],
   "metadata": {
    "collapsed": false
   }
  },
  {
   "cell_type": "markdown",
   "source": [
    "## Mean speed (all)"
   ],
   "metadata": {
    "collapsed": false
   }
  },
  {
   "cell_type": "code",
   "execution_count": null,
   "outputs": [],
   "source": [
    "from analyzer import compute_mean_velocity_per_frame\n",
    "\n",
    "mean_speed, individual_speed = compute_mean_velocity_per_frame(\n",
    "    traj.data, ma, traj.frame_rate, 10\n",
    ")\n",
    "mean_speed"
   ],
   "metadata": {
    "collapsed": false
   }
  },
  {
   "cell_type": "code",
   "execution_count": null,
   "outputs": [],
   "source": [
    "mean_speed.reset_index().plot.scatter(x=\"frame\", y=\"speed\")"
   ],
   "metadata": {
    "collapsed": false
   }
  },
  {
   "cell_type": "code",
   "execution_count": null,
   "outputs": [],
   "source": [
    "(\n",
    "    mean_speed_direction,\n",
    "    individual_speed_direction,\n",
    ") = compute_mean_velocity_per_frame(\n",
    "    traj.data, ma, traj.frame_rate, 5, direction\n",
    ")\n",
    "mean_speed_direction"
   ],
   "metadata": {
    "collapsed": false
   }
  },
  {
   "cell_type": "markdown",
   "source": [
    "## Mean speed (in measurement area)"
   ],
   "metadata": {
    "collapsed": false
   }
  },
  {
   "cell_type": "code",
   "execution_count": null,
   "outputs": [],
   "source": [
    "from analyzer import get_peds_in_area\n",
    "from analyzer import compute_mean_velocity_per_frame\n",
    "\n",
    "peds_in_area = get_peds_in_area(traj.data, ma)\n",
    "mean_speed_area, individual_speed_area = compute_mean_velocity_per_frame(\n",
    "    peds_in_area, ma, traj.frame_rate, 5\n",
    ")"
   ],
   "metadata": {
    "collapsed": false
   }
  },
  {
   "cell_type": "code",
   "execution_count": null,
   "outputs": [],
   "source": [
    "mean_speed_area.reset_index().plot.scatter(x=\"frame\", y=\"speed\")"
   ],
   "metadata": {
    "collapsed": false
   }
  },
  {
   "cell_type": "code",
   "execution_count": null,
   "outputs": [],
   "source": [
    "(\n",
    "    mean_speed_area_direction,\n",
    "    individual_speed_area_direction,\n",
    ") = compute_mean_velocity_per_frame(\n",
    "    peds_in_area, ma, traj.frame_rate, 5, direction\n",
    ")"
   ],
   "metadata": {
    "collapsed": false
   }
  },
  {
   "cell_type": "code",
   "execution_count": null,
   "outputs": [],
   "source": [
    "individual_speed_area_direction"
   ],
   "metadata": {
    "collapsed": false
   }
  },
  {
   "cell_type": "code",
   "execution_count": null,
   "outputs": [],
   "source": [
    "mean_speed_area_direction.reset_index().plot.scatter(x=\"frame\", y=\"speed\")"
   ],
   "metadata": {
    "collapsed": false
   }
  },
  {
   "cell_type": "markdown",
   "source": [
    "## Voronoi speed"
   ],
   "metadata": {
    "collapsed": false
   }
  },
  {
   "cell_type": "code",
   "execution_count": null,
   "outputs": [],
   "source": [
    "from analyzer.methods.density_calculator import (\n",
    "    _compute_individual_voronoi_polygons,\n",
    "    _compute_intersecting_polygons,\n",
    ")\n",
    "from analyzer import (\n",
    "    compute_individual_velocity,\n",
    "    compute_voronoi_velocity,\n",
    ")"
   ],
   "metadata": {
    "collapsed": false
   }
  },
  {
   "cell_type": "code",
   "execution_count": null,
   "outputs": [],
   "source": [
    "individual_voronoi = _compute_individual_voronoi_polygons(\n",
    "    traj.data, geometry_pita\n",
    ")\n",
    "intersecting_voronoi = _compute_intersecting_polygons(individual_voronoi, ma)"
   ],
   "metadata": {
    "collapsed": false
   }
  },
  {
   "cell_type": "code",
   "execution_count": null,
   "outputs": [],
   "source": [
    "voronoi_velocity, individual_velocity = compute_voronoi_velocity(\n",
    "    traj.data, intersecting_voronoi, traj.frame_rate, 5, ma\n",
    ")\n",
    "voronoi_velocity"
   ],
   "metadata": {
    "collapsed": false
   }
  },
  {
   "cell_type": "code",
   "execution_count": null,
   "outputs": [],
   "source": [
    "voronoi_velocity.reset_index().plot.scatter(x=\"frame\", y=\"voronoi speed\")"
   ],
   "metadata": {
    "collapsed": false
   }
  },
  {
   "cell_type": "code",
   "execution_count": null,
   "outputs": [],
   "source": [
    "(\n",
    "    voronoi_velocity_direction,\n",
    "    individual_velocity_direction,\n",
    ") = compute_voronoi_velocity(\n",
    "    traj.data, intersecting_voronoi, traj.frame_rate, 5, ma, direction\n",
    ")\n",
    "voronoi_velocity_direction"
   ],
   "metadata": {
    "collapsed": false
   }
  },
  {
   "cell_type": "markdown",
   "source": [
    "## Comparison mean velocity vs voronoi velocity"
   ],
   "metadata": {
    "collapsed": false
   }
  },
  {
   "cell_type": "code",
   "execution_count": null,
   "outputs": [],
   "source": [
    "fig = plt.figure(figsize=(8, 6))\n",
    "plt.scatter(\n",
    "    voronoi_velocity.reset_index().frame, voronoi_velocity, label=\"voronoi\"\n",
    ")\n",
    "plt.scatter(\n",
    "    voronoi_velocity_direction.reset_index().frame,\n",
    "    voronoi_velocity_direction,\n",
    "    label=\"voronoi direction\",\n",
    ")\n",
    "plt.scatter(\n",
    "    mean_speed_area.reset_index().frame, mean_speed_area, label=\"classic\"\n",
    ")\n",
    "plt.scatter(\n",
    "    mean_speed_area_direction.reset_index().frame,\n",
    "    mean_speed_area_direction,\n",
    "    label=\"classic direction\",\n",
    ")\n",
    "plt.xlabel(\"frame\")\n",
    "plt.ylabel(\"v / m/s\")\n",
    "plt.legend()\n",
    "plt.grid()\n",
    "plt.show()"
   ],
   "metadata": {
    "collapsed": false
   }
  },
  {
   "cell_type": "markdown",
   "source": [
    "## Passing speed (individual)"
   ],
   "metadata": {
    "collapsed": false
   }
  },
  {
   "cell_type": "code",
   "execution_count": null,
   "outputs": [],
   "source": [
    "from analyzer import compute_passing_speed\n",
    "from analyzer import compute_frame_range_in_area\n",
    "\n",
    "frames_in_area, _ = compute_frame_range_in_area(traj.data, ml, passing_offset)\n",
    "passing_speed = compute_passing_speed(\n",
    "    frames_in_area, traj.frame_rate, passing_offset\n",
    ")\n",
    "passing_speed"
   ],
   "metadata": {
    "collapsed": false
   }
  },
  {
   "cell_type": "markdown",
   "source": [
    "# Flow"
   ],
   "metadata": {
    "collapsed": false
   }
  },
  {
   "cell_type": "markdown",
   "source": [
    "## N-t diagram"
   ],
   "metadata": {
    "collapsed": false
   }
  },
  {
   "cell_type": "code",
   "execution_count": null,
   "outputs": [],
   "source": [
    "from analyzer import compute_n_t\n",
    "\n",
    "nt, crossing = compute_n_t(traj.data, ml, traj.frame_rate)"
   ],
   "metadata": {
    "collapsed": false
   }
  },
  {
   "cell_type": "code",
   "execution_count": null,
   "outputs": [],
   "source": [
    "nt.plot(x=\"Time [s]\")"
   ],
   "metadata": {
    "collapsed": false
   }
  },
  {
   "cell_type": "markdown",
   "source": [
    "## Flow"
   ],
   "metadata": {
    "collapsed": false
   }
  },
  {
   "cell_type": "code",
   "execution_count": null,
   "outputs": [],
   "source": [
    "from analyzer import compute_flow\n",
    "\n",
    "delta_t = 100\n",
    "flow = compute_flow(nt, crossing, individual_speed, delta_t, traj.frame_rate)\n",
    "flow"
   ],
   "metadata": {
    "collapsed": false
   }
  },
  {
   "cell_type": "markdown",
   "source": [
    "# Profiles"
   ],
   "metadata": {
    "collapsed": false
   }
  },
  {
   "cell_type": "code",
   "execution_count": null,
   "outputs": [],
   "source": [
    "from analyzer import compute_profiles\n",
    "from analyzer import compute_voronoi_density\n",
    "from analyzer import compute_voronoi_velocity"
   ],
   "metadata": {
    "collapsed": false
   }
  },
  {
   "cell_type": "code",
   "execution_count": null,
   "outputs": [],
   "source": [
    "frames_data = traj.data[traj.data.frame.isin(range(900, 1000))]\n",
    "\n",
    "voronoi_density_frames, individual_frames = compute_voronoi_density(\n",
    "    frames_data, ma, geometry_pita, (0.8, 12)\n",
    ")\n",
    "voronoi_velocity_frames, individual_velocity_frames = compute_voronoi_velocity(\n",
    "    traj.data, individual_frames, traj.frame_rate, 5, ma\n",
    ")"
   ],
   "metadata": {
    "collapsed": false
   }
  },
  {
   "cell_type": "code",
   "execution_count": null,
   "outputs": [],
   "source": [
    "density_profiles, velocity_profiles = compute_profiles(\n",
    "    pd.merge(\n",
    "        individual_frames,\n",
    "        individual_velocity_frames,\n",
    "        on=[\"ID\", \"frame\"],\n",
    "        how=\"left\",\n",
    "    ),\n",
    "    geometry_pita.walkable_area,\n",
    "    0.2,\n",
    ")"
   ],
   "metadata": {
    "collapsed": false
   }
  },
  {
   "cell_type": "code",
   "execution_count": null,
   "outputs": [],
   "source": [
    "import matplotlib.pyplot as plt\n",
    "import numpy as np\n",
    "\n",
    "bounds = geometry_pita.walkable_area.bounds\n",
    "\n",
    "fig, (ax0, ax1) = plt.subplots(nrows=1, ncols=2, figsize=(10, 10))\n",
    "\n",
    "ax0.set_title(\"Density\")\n",
    "cm = ax0.imshow(\n",
    "    np.mean(density_profiles, axis=0),\n",
    "    extent=[bounds[0], bounds[2], bounds[1], bounds[3]],\n",
    "    interpolation=\"None\",\n",
    "    cmap=\"jet\",\n",
    "    vmin=0,\n",
    "    vmax=0.5,\n",
    ")\n",
    "fig.colorbar(cm, ax=ax0, shrink=0.3)\n",
    "ax0.plot(*geometry_pita.walkable_area.exterior.xy, color=\"k\")\n",
    "\n",
    "\n",
    "ax1.set_title(\"Velocity\")\n",
    "cm = ax1.imshow(\n",
    "    np.mean(velocity_profiles, axis=0),\n",
    "    extent=[bounds[0], bounds[2], bounds[1], bounds[3]],\n",
    "    cmap=\"jet_r\",\n",
    "    vmin=0,\n",
    "    vmax=1.5,\n",
    ")\n",
    "fig.colorbar(cm, ax=ax1, shrink=0.3)\n",
    "\n",
    "ax1.plot(*geometry_pita.walkable_area.exterior.xy, color=\"k\")\n",
    "\n",
    "fig.tight_layout()"
   ],
   "metadata": {
    "collapsed": false
   }
  }
 ],
 "metadata": {
  "kernelspec": {
   "display_name": "Python 3",
   "language": "python",
   "name": "python3"
  },
  "language_info": {
   "codemirror_mode": {
    "name": "ipython",
    "version": 2
   },
   "file_extension": ".py",
   "mimetype": "text/x-python",
   "name": "python",
   "nbconvert_exporter": "python",
   "pygments_lexer": "ipython2",
   "version": "2.7.6"
  }
 },
 "nbformat": 4,
 "nbformat_minor": 0
}
