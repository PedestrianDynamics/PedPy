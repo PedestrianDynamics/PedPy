{
 "cells": [
  {
   "cell_type": "code",
   "execution_count": 2,
   "outputs": [],
   "source": [
    "from analyzer import load_trajectory\n",
    "from analyzer import Geometry, TrajectoryUnit\n",
    "import pathlib\n",
    "import pygeos\n",
    "import matplotlib.pyplot as plt\n",
    "import numpy as np\n",
    "import pandas as pd\n",
    "import shapely\n",
    "from shapely import LineString, Polygon"
   ],
   "metadata": {
    "collapsed": false
   }
  },
  {
   "cell_type": "markdown",
   "source": [
    "# Setup geometry & measurement area"
   ],
   "metadata": {
    "collapsed": false
   }
  },
  {
   "cell_type": "code",
   "execution_count": 7,
   "outputs": [
    {
     "data": {
      "text/plain": "<POLYGON ((-9 7, -9 5, 9 5, 9 7, 10 7, 10 -2, 9 -2, 9 0, -9 0, -9 -2, -10 -2...>",
      "image/svg+xml": "<svg xmlns=\"http://www.w3.org/2000/svg\" xmlns:xlink=\"http://www.w3.org/1999/xlink\" width=\"100.0\" height=\"100.0\" viewBox=\"-10.8 -2.8 21.6 10.6\" preserveAspectRatio=\"xMinYMin meet\"><g transform=\"matrix(1,0,0,-1,0,5.0)\"><path fill-rule=\"evenodd\" fill=\"#66cc99\" stroke=\"#555555\" stroke-width=\"0.43200000000000005\" opacity=\"0.6\" d=\"M -9.0,7.0 L -9.0,5.0 L 9.0,5.0 L 9.0,7.0 L 10.0,7.0 L 10.0,-2.0 L 9.0,-2.0 L 9.0,0.0 L -9.0,0.0 L -9.0,-2.0 L -10.0,-2.0 L -10.0,7.0 L -9.0,7.0 z\" /></g></svg>"
     },
     "execution_count": 7,
     "metadata": {},
     "output_type": "execute_result"
    }
   ],
   "source": [
    "geometry = Polygon([(-10, -2), (-10, 7), (10, 7), (10, -2), (-10, -2)])\n",
    "\n",
    "geometry_pita = Geometry(geometry)\n",
    "geometry_pita.add_obstacle(\n",
    "    Polygon([(-9, -2), (-9, 0), (9, 0), (9, -2), (-9, -2)])\n",
    ")\n",
    "geometry_pita.add_obstacle(Polygon([(-9, 5), (-9, 7), (9, 7), (9, 5), (-9, 5)]))"
   ],
   "metadata": {
    "collapsed": false
   }
  },
  {
   "cell_type": "code",
   "execution_count": null,
   "outputs": [],
   "source": [
    "geometry = Polygon([(-10, -2), (-10, 7), (10, 7), (10, -2), (-10, -2)])\n",
    "\n",
    "geometry_pita = Geometry(geometry)\n",
    "geometry_pita.add_obstacle(\n",
    "    pygeos.polygons([(-9, -2), (-9, 0), (9, 0), (9, -2), (-9, -2)])\n",
    ")\n",
    "geometry_pita.add_obstacle(\n",
    "    pygeos.polygons([(-9, 5), (-9, 7), (9, 7), (9, 5), (-9, 5)])\n",
    ")\n",
    "\n",
    "geometry_shapely = shapely.from_wkt(pygeos.to_wkt(geometry_pita.walkable_area))\n",
    "\n",
    "ma = pygeos.polygons([(-1.5, 0), (-1.5, 5), (1.5, 5), (1.5, 0), (-1.5, 0)])\n",
    "ml = pygeos.linestrings([(0, 0), (0, 5)])\n",
    "passing_offset = 1.0\n",
    "\n",
    "direction = np.array([-1, 0])\n",
    "\n",
    "traj = load_trajectory(\n",
    "    trajectory_file=pathlib.Path(\n",
    "        \"demos/uni-directional/traj_UNI_CORR_500_01.txt\"\n",
    "    ),\n",
    "    default_unit=TrajectoryUnit.METER,\n",
    ")"
   ],
   "metadata": {
    "collapsed": false,
    "pycharm": {
     "is_executing": true
    }
   }
  },
  {
   "cell_type": "markdown",
   "source": [
    "Validate that trajectory is completely inside the walkable area."
   ],
   "metadata": {
    "collapsed": false
   }
  },
  {
   "cell_type": "code",
   "execution_count": 4,
   "outputs": [
    {
     "name": "stdout",
     "output_type": "stream",
     "text": [
      "Trajectory is valid: True\n"
     ]
    },
    {
     "data": {
      "text/plain": "Empty DataFrame\nColumns: [ID, frame, X, Y, Z, points]\nIndex: []",
      "text/html": "<div>\n<style scoped>\n    .dataframe tbody tr th:only-of-type {\n        vertical-align: middle;\n    }\n\n    .dataframe tbody tr th {\n        vertical-align: top;\n    }\n\n    .dataframe thead th {\n        text-align: right;\n    }\n</style>\n<table border=\"1\" class=\"dataframe\">\n  <thead>\n    <tr style=\"text-align: right;\">\n      <th></th>\n      <th>ID</th>\n      <th>frame</th>\n      <th>X</th>\n      <th>Y</th>\n      <th>Z</th>\n      <th>points</th>\n    </tr>\n  </thead>\n  <tbody>\n  </tbody>\n</table>\n</div>"
     },
     "execution_count": 4,
     "metadata": {},
     "output_type": "execute_result"
    }
   ],
   "source": [
    "from analyzer import is_trajectory_valid, get_invalid_trajectory\n",
    "\n",
    "print(f\"Trajectory is valid: {is_trajectory_valid(traj, geometry_pita)}\")\n",
    "get_invalid_trajectory(traj, geometry_pita)"
   ],
   "metadata": {
    "collapsed": false
   }
  },
  {
   "cell_type": "markdown",
   "source": [
    "# Benchmarking"
   ],
   "metadata": {
    "collapsed": false
   }
  },
  {
   "cell_type": "code",
   "execution_count": 23,
   "outputs": [
    {
     "data": {
      "text/plain": "<POLYGON ((-10 -2, -10 7, 10 7, 10 -2, -10 -2))>",
      "image/svg+xml": "<svg xmlns=\"http://www.w3.org/2000/svg\" xmlns:xlink=\"http://www.w3.org/1999/xlink\" width=\"100.0\" height=\"100.0\" viewBox=\"-10.8 -2.8 21.6 10.6\" preserveAspectRatio=\"xMinYMin meet\"><g transform=\"matrix(1,0,0,-1,0,5.0)\"><path fill-rule=\"evenodd\" fill=\"#66cc99\" stroke=\"#555555\" stroke-width=\"0.43200000000000005\" opacity=\"0.6\" d=\"M -10.0,-2.0 L -10.0,7.0 L 10.0,7.0 L 10.0,-2.0 L -10.0,-2.0 z\" /></g></svg>"
     },
     "execution_count": 23,
     "metadata": {},
     "output_type": "execute_result"
    }
   ],
   "source": [
    "from shapely import Polygon\n",
    "\n",
    "Polygon(pygeos.get_coordinates(geometry))"
   ],
   "metadata": {
    "collapsed": false
   }
  },
  {
   "cell_type": "markdown",
   "source": [
    "## pygeos"
   ],
   "metadata": {
    "collapsed": false
   }
  },
  {
   "cell_type": "code",
   "execution_count": 6,
   "outputs": [
    {
     "name": "stdout",
     "output_type": "stream",
     "text": [
      "130 ms ± 7.22 ms per loop (mean ± std. dev. of 7 runs, 10 loops each)\n"
     ]
    }
   ],
   "source": [
    "%%timeit\n",
    "traj.data[pygeos.within(traj.data.points, geometry_pita.walkable_area)]"
   ],
   "metadata": {
    "collapsed": false
   }
  },
  {
   "cell_type": "markdown",
   "source": [
    "## shapely"
   ],
   "metadata": {
    "collapsed": false
   }
  },
  {
   "cell_type": "code",
   "execution_count": 7,
   "outputs": [],
   "source": [
    "traj_shapely = traj.data.copy(deep=True)"
   ],
   "metadata": {
    "collapsed": false
   }
  },
  {
   "cell_type": "code",
   "execution_count": 13,
   "outputs": [],
   "source": [
    "traj_shapely[\"points\"] = shapely.points(traj_shapely[\"X\"], traj_shapely[\"Y\"])"
   ],
   "metadata": {
    "collapsed": false
   }
  },
  {
   "cell_type": "code",
   "execution_count": 20,
   "outputs": [
    {
     "data": {
      "text/plain": "<POLYGON ((-9 7, -9 5, 9 5, 9 7, 10 7, 10 -2, 9 -2, 9 0, -9 0, -9 -2, -10 -2...>",
      "image/svg+xml": "<svg xmlns=\"http://www.w3.org/2000/svg\" xmlns:xlink=\"http://www.w3.org/1999/xlink\" width=\"100.0\" height=\"100.0\" viewBox=\"-10.8 -2.8 21.6 10.6\" preserveAspectRatio=\"xMinYMin meet\"><g transform=\"matrix(1,0,0,-1,0,5.0)\"><path fill-rule=\"evenodd\" fill=\"#66cc99\" stroke=\"#555555\" stroke-width=\"0.43200000000000005\" opacity=\"0.6\" d=\"M -9.0,7.0 L -9.0,5.0 L 9.0,5.0 L 9.0,7.0 L 10.0,7.0 L 10.0,-2.0 L 9.0,-2.0 L 9.0,0.0 L -9.0,0.0 L -9.0,-2.0 L -10.0,-2.0 L -10.0,7.0 L -9.0,7.0 z\" /></g></svg>"
     },
     "execution_count": 20,
     "metadata": {},
     "output_type": "execute_result"
    }
   ],
   "source": [
    "geometry_shapely = shapely.from_wkt(pygeos.to_wkt(geometry_pita.walkable_area))\n",
    "geometry_shapely"
   ],
   "metadata": {
    "collapsed": false
   }
  },
  {
   "cell_type": "code",
   "execution_count": 21,
   "outputs": [
    {
     "name": "stdout",
     "output_type": "stream",
     "text": [
      "119 ms ± 213 µs per loop (mean ± std. dev. of 7 runs, 10 loops each)\n"
     ]
    }
   ],
   "source": [
    "%%timeit\n",
    "traj_shapely[shapely.within(traj_shapely.points, geometry_shapely)]"
   ],
   "metadata": {
    "collapsed": false
   }
  },
  {
   "cell_type": "code",
   "execution_count": null,
   "outputs": [],
   "source": [],
   "metadata": {
    "collapsed": false
   }
  },
  {
   "cell_type": "markdown",
   "source": [
    "### Plot setup"
   ],
   "metadata": {
    "collapsed": false
   }
  },
  {
   "cell_type": "code",
   "execution_count": null,
   "outputs": [],
   "source": [],
   "metadata": {
    "collapsed": false
   }
  },
  {
   "cell_type": "code",
   "execution_count": null,
   "outputs": [],
   "source": [
    "fig = plt.figure(figsize=(15, 20))\n",
    "ax1 = fig.add_subplot(111, aspect=\"equal\")\n",
    "\n",
    "# Plot geometry\n",
    "ax1.plot(*pygeos.to_shapely(geometry_pita.walkable_area).exterior.xy, color=\"k\")\n",
    "\n",
    "## Plot measurement area\n",
    "ax1.plot(*pygeos.to_shapely(ma).exterior.xy, color=\"g\")\n",
    "ax1.fill(*pygeos.to_shapely(ma).exterior.xy, color=\"g\", alpha=0.1)\n",
    "\n",
    "## Plot measurement lines\n",
    "ax1.plot(*pygeos.to_shapely(ml).xy, color=\"b\")\n",
    "ax1.plot(\n",
    "    *pygeos.to_shapely(pygeos.offset_curve(ml, passing_offset)).xy,\n",
    "    color=\"orange\",\n",
    ")\n",
    "\n",
    "# Plot trajectories\n",
    "for id, ped in traj.data.groupby(\"ID\"):\n",
    "    p = ax1.plot(ped[\"X\"], ped[\"Y\"], label=id, alpha=0.1, color=\"r\")\n",
    "    ax1.scatter(\n",
    "        ped[ped.frame == ped.frame.max()][\"X\"],\n",
    "        ped[ped.frame == ped.frame.max()][\"Y\"],\n",
    "        c=p[-1].get_color(),\n",
    "        marker=\"x\",\n",
    "    )\n",
    "plt.show()"
   ],
   "metadata": {
    "collapsed": false
   }
  },
  {
   "cell_type": "markdown",
   "source": [
    "# Density"
   ],
   "metadata": {
    "collapsed": false
   }
  },
  {
   "cell_type": "markdown",
   "source": [
    "## Classic density"
   ],
   "metadata": {
    "collapsed": false
   }
  },
  {
   "cell_type": "code",
   "execution_count": null,
   "outputs": [],
   "source": [
    "from analyzer import compute_classic_density\n",
    "\n",
    "classic_density = compute_classic_density(traj.data, ma)\n",
    "classic_density"
   ],
   "metadata": {
    "collapsed": false
   }
  },
  {
   "cell_type": "code",
   "execution_count": null,
   "outputs": [],
   "source": [
    "classic_density.reset_index().plot.line(x=\"frame\", y=\"classic density\")"
   ],
   "metadata": {
    "collapsed": false
   }
  },
  {
   "cell_type": "markdown",
   "source": [
    "## Voronoi density"
   ],
   "metadata": {
    "collapsed": false
   }
  },
  {
   "cell_type": "code",
   "execution_count": null,
   "outputs": [],
   "source": [
    "from analyzer import compute_voronoi_density\n",
    "\n",
    "density_voronoi, individual = compute_voronoi_density(\n",
    "    traj.data, ma, geometry_pita\n",
    ")"
   ],
   "metadata": {
    "collapsed": false
   }
  },
  {
   "cell_type": "code",
   "execution_count": null,
   "outputs": [],
   "source": [
    "density_voronoi"
   ],
   "metadata": {
    "collapsed": false
   }
  },
  {
   "cell_type": "code",
   "execution_count": null,
   "outputs": [],
   "source": [
    "individual"
   ],
   "metadata": {
    "collapsed": false
   }
  },
  {
   "cell_type": "code",
   "execution_count": null,
   "outputs": [],
   "source": [
    "density_voronoi.reset_index().plot.line(x=\"frame\", y=\"voronoi density\")"
   ],
   "metadata": {
    "collapsed": false
   }
  },
  {
   "cell_type": "code",
   "execution_count": null,
   "outputs": [],
   "source": [
    "density_voronoi_cutoff, individual_cutoff = compute_voronoi_density(\n",
    "    traj.data, ma, geometry_pita, (1.0, 12)\n",
    ")"
   ],
   "metadata": {
    "collapsed": false
   }
  },
  {
   "cell_type": "code",
   "execution_count": null,
   "outputs": [],
   "source": [
    "density_voronoi_cutoff.reset_index().plot.line(x=\"frame\", y=\"voronoi density\")"
   ],
   "metadata": {
    "collapsed": false
   }
  },
  {
   "cell_type": "markdown",
   "source": [
    "## Comparision"
   ],
   "metadata": {
    "collapsed": false
   }
  },
  {
   "cell_type": "code",
   "execution_count": null,
   "outputs": [],
   "source": [
    "fig = plt.figure(figsize=(10, 6))\n",
    "plt.plot(\n",
    "    classic_density.reset_index().frame,\n",
    "    classic_density[\"classic density\"].values,\n",
    "    label=\"classic\",\n",
    "    lw=3,\n",
    ")\n",
    "plt.plot(\n",
    "    density_voronoi.reset_index().frame,\n",
    "    density_voronoi[\"voronoi density\"],\n",
    "    label=\"voronoi\",\n",
    "    lw=3,\n",
    ")\n",
    "plt.plot(\n",
    "    density_voronoi_cutoff.reset_index().frame,\n",
    "    density_voronoi_cutoff[\"voronoi density\"],\n",
    "    label=\"voronoi cutoff\",\n",
    "    lw=3,\n",
    ")\n",
    "plt.xlabel(\"frame\")\n",
    "plt.ylabel(\"rho / 1/m^2\")\n",
    "plt.legend()\n",
    "plt.grid()\n",
    "plt.show()"
   ],
   "metadata": {
    "collapsed": false
   }
  },
  {
   "cell_type": "markdown",
   "source": [
    "## Plot voronoi cells"
   ],
   "metadata": {
    "collapsed": false
   }
  },
  {
   "cell_type": "code",
   "execution_count": null,
   "outputs": [],
   "source": [
    "frame_start = 1200\n",
    "\n",
    "for frame in range(frame_start, frame_start + 100, 20):\n",
    "    fig = plt.figure(figsize=(15, 20))\n",
    "    ax1 = fig.add_subplot(121, aspect=\"equal\")\n",
    "\n",
    "    geo_shapely = pygeos.to_shapely(geometry_pita.walkable_area)\n",
    "    ax1.plot(*geo_shapely.exterior.xy, color=\"k\")\n",
    "    for hole in geo_shapely.interiors:\n",
    "        print(hole)\n",
    "        ax1.plot(*hole.xy, color=\"k\")\n",
    "\n",
    "    ax1.plot(*pygeos.to_shapely(ma).exterior.xy, color=\"k\")\n",
    "\n",
    "    df_frame = individual[individual.frame == frame]\n",
    "    df_frame = pd.merge(traj.data, df_frame, on=[\"ID\", \"frame\"])\n",
    "    for _, row in df_frame.iterrows():\n",
    "        p = ax1.plot(*pygeos.to_shapely(row[6]).exterior.xy)\n",
    "        ax1.scatter(row[2], row[3])\n",
    "\n",
    "        ax1.plot(\n",
    "            *pygeos.to_shapely(row[6]).exterior.xy, color=p[-1].get_color()\n",
    "        )\n",
    "        ax1.fill(\n",
    "            *pygeos.to_shapely(row[6]).exterior.xy,\n",
    "            color=p[-1].get_color(),\n",
    "            alpha=0.1,\n",
    "        )\n",
    "    ax1.set_xlabel(\"x\")\n",
    "    ax1.set_ylabel(\"y\")\n",
    "\n",
    "    ax2 = fig.add_subplot(122, aspect=\"equal\")\n",
    "\n",
    "    ax2.plot(*geo_shapely.exterior.xy, color=\"k\")\n",
    "    for hole in geo_shapely.interiors:\n",
    "        ax2.plot(*hole.xy, color=\"k\")\n",
    "    ax2.plot(*pygeos.to_shapely(ma).exterior.xy, color=\"k\")\n",
    "\n",
    "    df_frame_cutoff = individual_cutoff[individual_cutoff.frame == frame]\n",
    "    df_frame_cutoff = pd.merge(traj.data, df_frame_cutoff, on=[\"ID\", \"frame\"])\n",
    "    for _, row in df_frame_cutoff.iterrows():\n",
    "        p = ax2.plot(*pygeos.to_shapely(row[6]).exterior.xy)\n",
    "        ax2.scatter(row[2], row[3])\n",
    "\n",
    "        ax2.plot(\n",
    "            *pygeos.to_shapely(row[6]).exterior.xy, color=p[-1].get_color()\n",
    "        )\n",
    "        ax2.fill(\n",
    "            *pygeos.to_shapely(row[6]).exterior.xy,\n",
    "            color=p[-1].get_color(),\n",
    "            alpha=0.1,\n",
    "        )\n",
    "\n",
    "    ax2.set_xlabel(\"x\")\n",
    "    ax2.set_ylabel(\"y\")\n",
    "    fig.tight_layout()\n",
    "    plt.show()"
   ],
   "metadata": {
    "collapsed": false
   }
  },
  {
   "cell_type": "markdown",
   "source": [
    "## Passing density (individual)"
   ],
   "metadata": {
    "collapsed": false
   }
  },
  {
   "cell_type": "code",
   "execution_count": null,
   "outputs": [],
   "source": [
    "from analyzer import compute_passing_density\n",
    "from analyzer import compute_frame_range_in_area\n",
    "\n",
    "frames_in_area, _ = compute_frame_range_in_area(traj.data, ml, passing_offset)\n",
    "passing_density = compute_passing_density(classic_density, frames_in_area)\n",
    "passing_density"
   ],
   "metadata": {
    "collapsed": false
   }
  },
  {
   "cell_type": "markdown",
   "source": [
    "# Velocity"
   ],
   "metadata": {
    "collapsed": false
   }
  },
  {
   "cell_type": "code",
   "execution_count": null,
   "outputs": [],
   "source": [
    "from analyzer import compute_individual_velocity\n",
    "\n",
    "individual_speed = compute_individual_velocity(traj.data, traj.frame_rate, 5)\n",
    "individual_speed"
   ],
   "metadata": {
    "collapsed": false
   }
  },
  {
   "cell_type": "code",
   "execution_count": null,
   "outputs": [],
   "source": [
    "individual_speed.reset_index().plot.scatter(x=\"frame\", y=\"speed\")"
   ],
   "metadata": {
    "collapsed": false
   }
  },
  {
   "cell_type": "code",
   "execution_count": null,
   "outputs": [],
   "source": [
    "individual_speed_direction = compute_individual_velocity(\n",
    "    traj.data, traj.frame_rate, 5, direction\n",
    ")\n",
    "individual_speed_direction"
   ],
   "metadata": {
    "collapsed": false
   }
  },
  {
   "cell_type": "code",
   "execution_count": null,
   "outputs": [],
   "source": [
    "individual_speed.reset_index().plot.scatter(x=\"frame\", y=\"speed\")"
   ],
   "metadata": {
    "collapsed": false
   }
  },
  {
   "cell_type": "markdown",
   "source": [
    "## Mean speed (all)"
   ],
   "metadata": {
    "collapsed": false
   }
  },
  {
   "cell_type": "code",
   "execution_count": null,
   "outputs": [],
   "source": [
    "from analyzer import compute_mean_velocity_per_frame\n",
    "\n",
    "mean_speed, individual_speed = compute_mean_velocity_per_frame(\n",
    "    traj.data, ma, traj.frame_rate, 10\n",
    ")\n",
    "mean_speed"
   ],
   "metadata": {
    "collapsed": false
   }
  },
  {
   "cell_type": "code",
   "execution_count": null,
   "outputs": [],
   "source": [
    "mean_speed.reset_index().plot.scatter(x=\"frame\", y=\"speed\")"
   ],
   "metadata": {
    "collapsed": false
   }
  },
  {
   "cell_type": "code",
   "execution_count": null,
   "outputs": [],
   "source": [
    "(\n",
    "    mean_speed_direction,\n",
    "    individual_speed_direction,\n",
    ") = compute_mean_velocity_per_frame(\n",
    "    traj.data, ma, traj.frame_rate, 5, direction\n",
    ")\n",
    "mean_speed_direction"
   ],
   "metadata": {
    "collapsed": false
   }
  },
  {
   "cell_type": "markdown",
   "source": [
    "## Mean speed (in measurement area)"
   ],
   "metadata": {
    "collapsed": false
   }
  },
  {
   "cell_type": "code",
   "execution_count": null,
   "outputs": [],
   "source": [
    "from analyzer import get_peds_in_area\n",
    "from analyzer import compute_mean_velocity_per_frame\n",
    "\n",
    "peds_in_area = get_peds_in_area(traj.data, ma)\n",
    "mean_speed_area, individual_speed_area = compute_mean_velocity_per_frame(\n",
    "    peds_in_area, ma, traj.frame_rate, 5\n",
    ")"
   ],
   "metadata": {
    "collapsed": false
   }
  },
  {
   "cell_type": "code",
   "execution_count": null,
   "outputs": [],
   "source": [
    "mean_speed_area.reset_index().plot.scatter(x=\"frame\", y=\"speed\")"
   ],
   "metadata": {
    "collapsed": false
   }
  },
  {
   "cell_type": "code",
   "execution_count": null,
   "outputs": [],
   "source": [
    "(\n",
    "    mean_speed_area_direction,\n",
    "    individual_speed_area_direction,\n",
    ") = compute_mean_velocity_per_frame(\n",
    "    peds_in_area, ma, traj.frame_rate, 5, direction\n",
    ")"
   ],
   "metadata": {
    "collapsed": false
   }
  },
  {
   "cell_type": "code",
   "execution_count": null,
   "outputs": [],
   "source": [
    "individual_speed_area_direction"
   ],
   "metadata": {
    "collapsed": false
   }
  },
  {
   "cell_type": "code",
   "execution_count": null,
   "outputs": [],
   "source": [
    "mean_speed_area_direction.reset_index().plot.scatter(x=\"frame\", y=\"speed\")"
   ],
   "metadata": {
    "collapsed": false
   }
  },
  {
   "cell_type": "markdown",
   "source": [
    "## Voronoi speed"
   ],
   "metadata": {
    "collapsed": false
   }
  },
  {
   "cell_type": "code",
   "execution_count": null,
   "outputs": [],
   "source": [
    "from analyzer.methods.density_calculator import (\n",
    "    _compute_individual_voronoi_polygons,\n",
    "    _compute_intersecting_polygons,\n",
    ")\n",
    "from analyzer import (\n",
    "    compute_individual_velocity,\n",
    "    compute_voronoi_velocity,\n",
    ")"
   ],
   "metadata": {
    "collapsed": false
   }
  },
  {
   "cell_type": "code",
   "execution_count": null,
   "outputs": [],
   "source": [
    "individual_voronoi = _compute_individual_voronoi_polygons(\n",
    "    traj.data, geometry_pita\n",
    ")\n",
    "intersecting_voronoi = _compute_intersecting_polygons(individual_voronoi, ma)"
   ],
   "metadata": {
    "collapsed": false
   }
  },
  {
   "cell_type": "code",
   "execution_count": null,
   "outputs": [],
   "source": [
    "voronoi_velocity, individual_velocity = compute_voronoi_velocity(\n",
    "    traj.data, intersecting_voronoi, traj.frame_rate, 5, ma\n",
    ")\n",
    "voronoi_velocity"
   ],
   "metadata": {
    "collapsed": false
   }
  },
  {
   "cell_type": "code",
   "execution_count": null,
   "outputs": [],
   "source": [
    "voronoi_velocity.reset_index().plot.scatter(x=\"frame\", y=\"voronoi speed\")"
   ],
   "metadata": {
    "collapsed": false
   }
  },
  {
   "cell_type": "code",
   "execution_count": null,
   "outputs": [],
   "source": [
    "(\n",
    "    voronoi_velocity_direction,\n",
    "    individual_velocity_direction,\n",
    ") = compute_voronoi_velocity(\n",
    "    traj.data, intersecting_voronoi, traj.frame_rate, 5, ma, direction\n",
    ")\n",
    "voronoi_velocity_direction"
   ],
   "metadata": {
    "collapsed": false
   }
  },
  {
   "cell_type": "markdown",
   "source": [
    "## Comparison mean velocity vs voronoi velocity"
   ],
   "metadata": {
    "collapsed": false
   }
  },
  {
   "cell_type": "code",
   "execution_count": null,
   "outputs": [],
   "source": [
    "fig = plt.figure(figsize=(8, 6))\n",
    "plt.scatter(\n",
    "    voronoi_velocity.reset_index().frame, voronoi_velocity, label=\"voronoi\"\n",
    ")\n",
    "plt.scatter(\n",
    "    voronoi_velocity_direction.reset_index().frame,\n",
    "    voronoi_velocity_direction,\n",
    "    label=\"voronoi direction\",\n",
    ")\n",
    "plt.scatter(\n",
    "    mean_speed_area.reset_index().frame, mean_speed_area, label=\"classic\"\n",
    ")\n",
    "plt.scatter(\n",
    "    mean_speed_area_direction.reset_index().frame,\n",
    "    mean_speed_area_direction,\n",
    "    label=\"classic direction\",\n",
    ")\n",
    "plt.xlabel(\"frame\")\n",
    "plt.ylabel(\"v / m/s\")\n",
    "plt.legend()\n",
    "plt.grid()\n",
    "plt.show()"
   ],
   "metadata": {
    "collapsed": false
   }
  },
  {
   "cell_type": "markdown",
   "source": [
    "## Passing speed (individual)"
   ],
   "metadata": {
    "collapsed": false
   }
  },
  {
   "cell_type": "code",
   "execution_count": null,
   "outputs": [],
   "source": [
    "from analyzer import compute_passing_speed\n",
    "from analyzer import compute_frame_range_in_area\n",
    "\n",
    "frames_in_area, _ = compute_frame_range_in_area(traj.data, ml, passing_offset)\n",
    "passing_speed = compute_passing_speed(\n",
    "    frames_in_area, traj.frame_rate, passing_offset\n",
    ")\n",
    "passing_speed"
   ],
   "metadata": {
    "collapsed": false
   }
  },
  {
   "cell_type": "markdown",
   "source": [
    "# Flow"
   ],
   "metadata": {
    "collapsed": false
   }
  },
  {
   "cell_type": "markdown",
   "source": [
    "## N-t diagram"
   ],
   "metadata": {
    "collapsed": false
   }
  },
  {
   "cell_type": "code",
   "execution_count": null,
   "outputs": [],
   "source": [
    "from analyzer import compute_n_t\n",
    "\n",
    "nt, crossing = compute_n_t(traj.data, ml, traj.frame_rate)"
   ],
   "metadata": {
    "collapsed": false
   }
  },
  {
   "cell_type": "code",
   "execution_count": null,
   "outputs": [],
   "source": [
    "nt.plot(x=\"Time [s]\")"
   ],
   "metadata": {
    "collapsed": false
   }
  },
  {
   "cell_type": "markdown",
   "source": [
    "## Flow"
   ],
   "metadata": {
    "collapsed": false
   }
  },
  {
   "cell_type": "code",
   "execution_count": null,
   "outputs": [],
   "source": [
    "from analyzer import compute_flow\n",
    "\n",
    "delta_t = 100\n",
    "flow = compute_flow(nt, crossing, individual_speed, delta_t, traj.frame_rate)\n",
    "flow"
   ],
   "metadata": {
    "collapsed": false
   }
  },
  {
   "cell_type": "markdown",
   "source": [
    "# Profiles"
   ],
   "metadata": {
    "collapsed": false
   }
  },
  {
   "cell_type": "code",
   "execution_count": null,
   "outputs": [],
   "source": [
    "from analyzer import compute_profiles\n",
    "from analyzer import compute_voronoi_density\n",
    "from analyzer import compute_voronoi_velocity"
   ],
   "metadata": {
    "collapsed": false
   }
  },
  {
   "cell_type": "code",
   "execution_count": null,
   "outputs": [],
   "source": [
    "frames_data = traj.data[traj.data.frame.isin(range(900, 1000))]\n",
    "\n",
    "voronoi_density_frames, individual_frames = compute_voronoi_density(\n",
    "    frames_data, ma, geometry_pita, (0.8, 12)\n",
    ")\n",
    "voronoi_velocity_frames, individual_velocity_frames = compute_voronoi_velocity(\n",
    "    traj.data, individual_frames, traj.frame_rate, 5, ma\n",
    ")"
   ],
   "metadata": {
    "collapsed": false
   }
  },
  {
   "cell_type": "code",
   "execution_count": null,
   "outputs": [],
   "source": [
    "density_profiles, velocity_profiles = compute_profiles(\n",
    "    pd.merge(\n",
    "        individual_frames,\n",
    "        individual_velocity_frames,\n",
    "        on=[\"ID\", \"frame\"],\n",
    "        how=\"left\",\n",
    "    ),\n",
    "    geometry_pita.walkable_area,\n",
    "    0.2,\n",
    ")"
   ],
   "metadata": {
    "collapsed": false
   }
  },
  {
   "cell_type": "code",
   "execution_count": null,
   "outputs": [],
   "source": [
    "import matplotlib.pyplot as plt\n",
    "import numpy as np\n",
    "\n",
    "bounds = pygeos.bounds(geometry_pita.walkable_area)\n",
    "\n",
    "fig, (ax0, ax1) = plt.subplots(nrows=1, ncols=2, figsize=(10, 10))\n",
    "\n",
    "ax0.set_title(\"Density\")\n",
    "cm = ax0.imshow(\n",
    "    np.mean(density_profiles, axis=0),\n",
    "    extent=[bounds[0], bounds[2], bounds[1], bounds[3]],\n",
    "    interpolation=\"None\",\n",
    "    cmap=\"RdBu_r\",\n",
    "    vmin=0,\n",
    "    vmax=5,\n",
    ")\n",
    "fig.colorbar(cm, ax=ax0, shrink=0.3)\n",
    "ax0.plot(*pygeos.to_shapely(geometry_pita.walkable_area).exterior.xy, color=\"k\")\n",
    "\n",
    "\n",
    "ax1.set_title(\"Velocity\")\n",
    "cm = ax1.imshow(\n",
    "    np.mean(velocity_profiles, axis=0),\n",
    "    extent=[bounds[0], bounds[2], bounds[1], bounds[3]],\n",
    "    cmap=\"RdBu\",\n",
    "    vmin=0,\n",
    "    vmax=1.5,\n",
    ")\n",
    "fig.colorbar(cm, ax=ax1, shrink=0.3)\n",
    "\n",
    "ax1.plot(*pygeos.to_shapely(geometry_pita.walkable_area).exterior.xy, color=\"k\")\n",
    "\n",
    "fig.tight_layout()"
   ],
   "metadata": {
    "collapsed": false
   }
  }
 ],
 "metadata": {
  "kernelspec": {
   "display_name": "Python 3",
   "language": "python",
   "name": "python3"
  },
  "language_info": {
   "codemirror_mode": {
    "name": "ipython",
    "version": 2
   },
   "file_extension": ".py",
   "mimetype": "text/x-python",
   "name": "python",
   "nbconvert_exporter": "python",
   "pygments_lexer": "ipython2",
   "version": "2.7.6"
  }
 },
 "nbformat": 4,
 "nbformat_minor": 0
}
