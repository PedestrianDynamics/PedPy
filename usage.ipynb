{
 "cells": [
  {
   "cell_type": "code",
   "execution_count": 1,
   "outputs": [],
   "source": [
    "from analyzer.io.trajectory_parser import parse_trajectory\n",
    "from analyzer.data.geometry import Geometry\n",
    "\n",
    "import pygeos\n",
    "import matplotlib.pyplot as plt\n",
    "from descartes import PolygonPatch\n",
    "import numpy as np\n",
    "import pandas as pd"
   ],
   "metadata": {
    "collapsed": false,
    "pycharm": {
     "name": "#%%\n"
    }
   }
  },
  {
   "cell_type": "markdown",
   "source": [
    "# Setup geometry & measurement area"
   ],
   "metadata": {
    "collapsed": false,
    "pycharm": {
     "name": "#%% md\n"
    }
   }
  },
  {
   "cell_type": "code",
   "execution_count": 21,
   "outputs": [],
   "source": [
    "geometry = pygeos.polygons([(-10, -2), (-10, 7), (10, 7), (10, -2), (-10, -2)])\n",
    "\n",
    "geometry_pita = Geometry(geometry)\n",
    "geometry_pita.add_obstacle(pygeos.polygons([(-9, -2), (-9, 0), (9, 0), (9, -2), (-9, -2)]))\n",
    "geometry_pita.add_obstacle(pygeos.polygons([(-9, 5), (-9, 7), (9, 7), (9, 5), (-9, 5)]))\n",
    "\n",
    "ma = pygeos.polygons([(-1.5, 0), (-1.5, 5), (1.5, 5), (1.5, 0), (-1.5, 0)])\n",
    "ml = pygeos.linestrings([(0, 0), (0, 5)])\n",
    "\n",
    "direction = np.array([-1, 0])\n",
    "\n",
    "traj = parse_trajectory(\"demos/uni-directional/traj_UNI_CORR_500_01.txt\")"
   ],
   "metadata": {
    "collapsed": false,
    "pycharm": {
     "name": "#%%\n"
    }
   }
  },
  {
   "cell_type": "markdown",
   "source": [
    "# Density"
   ],
   "metadata": {
    "collapsed": false,
    "pycharm": {
     "name": "#%% md\n"
    }
   }
  },
  {
   "cell_type": "markdown",
   "source": [
    "## Classic density"
   ],
   "metadata": {
    "collapsed": false,
    "pycharm": {
     "name": "#%% md\n"
    }
   }
  },
  {
   "cell_type": "code",
   "execution_count": null,
   "outputs": [],
   "source": [
    "from analyzer.methods.density_calculator import compute_classic_density\n",
    "\n",
    "classic_density = compute_classic_density(traj.data, ma)\n",
    "classic_density"
   ],
   "metadata": {
    "collapsed": false,
    "pycharm": {
     "name": "#%%\n"
    }
   }
  },
  {
   "cell_type": "code",
   "execution_count": null,
   "outputs": [],
   "source": [
    "classic_density.reset_index().plot.line(x=\"frame\", y=\"classic density\")"
   ],
   "metadata": {
    "collapsed": false,
    "pycharm": {
     "name": "#%%\n"
    }
   }
  },
  {
   "cell_type": "markdown",
   "source": [
    "## Voronoi density"
   ],
   "metadata": {
    "collapsed": false,
    "pycharm": {
     "name": "#%% md\n"
    }
   }
  },
  {
   "cell_type": "code",
   "execution_count": null,
   "outputs": [],
   "source": [
    "from analyzer.methods.density_calculator import compute_voronoi_density\n",
    "\n",
    "density_voronoi, individual = compute_voronoi_density(traj.data, ma, geometry_pita)"
   ],
   "metadata": {
    "collapsed": false,
    "pycharm": {
     "name": "#%%\n"
    }
   }
  },
  {
   "cell_type": "code",
   "execution_count": null,
   "outputs": [],
   "source": [
    "density_voronoi"
   ],
   "metadata": {
    "collapsed": false,
    "pycharm": {
     "name": "#%%\n"
    }
   }
  },
  {
   "cell_type": "code",
   "execution_count": null,
   "outputs": [],
   "source": [
    "individual"
   ],
   "metadata": {
    "collapsed": false,
    "pycharm": {
     "name": "#%%\n"
    }
   }
  },
  {
   "cell_type": "code",
   "execution_count": null,
   "outputs": [],
   "source": [
    "density_voronoi.reset_index().plot.line(x=\"frame\", y=\"voronoi density\")"
   ],
   "metadata": {
    "collapsed": false,
    "pycharm": {
     "name": "#%%\n"
    }
   }
  },
  {
   "cell_type": "code",
   "execution_count": null,
   "outputs": [],
   "source": [
    "density_voronoi_cutoff, individual_cutoff = compute_voronoi_density(\n",
    "    traj.data, ma, geometry_pita, 1.0, 12\n",
    ")"
   ],
   "metadata": {
    "collapsed": false,
    "pycharm": {
     "name": "#%%\n"
    }
   }
  },
  {
   "cell_type": "code",
   "execution_count": null,
   "outputs": [],
   "source": [
    "density_voronoi_cutoff.reset_index().plot.line(x=\"frame\", y=\"voronoi density\")"
   ],
   "metadata": {
    "collapsed": false,
    "pycharm": {
     "name": "#%%\n"
    }
   }
  },
  {
   "cell_type": "markdown",
   "source": [
    "## Comparision"
   ],
   "metadata": {
    "collapsed": false,
    "pycharm": {
     "name": "#%% md\n"
    }
   }
  },
  {
   "cell_type": "code",
   "execution_count": null,
   "outputs": [],
   "source": [
    "fig = plt.figure(figsize=(10, 6))\n",
    "plt.plot(\n",
    "    classic_density.reset_index().frame,\n",
    "    classic_density[\"classic density\"].values,\n",
    "    label=\"classic\",\n",
    "    lw=3,\n",
    ")\n",
    "plt.plot(\n",
    "    density_voronoi.reset_index().frame, density_voronoi[\"voronoi density\"], label=\"voronoi\", lw=3\n",
    ")\n",
    "plt.plot(\n",
    "    density_voronoi_cutoff.reset_index().frame,\n",
    "    density_voronoi_cutoff[\"voronoi density\"],\n",
    "    label=\"voronoi cutoff\",\n",
    "    lw=3,\n",
    ")\n",
    "plt.xlabel(\"frame\")\n",
    "plt.ylabel(\"rho / 1/m^2\")\n",
    "plt.legend()\n",
    "plt.grid()\n",
    "plt.show()"
   ],
   "metadata": {
    "collapsed": false,
    "pycharm": {
     "name": "#%%\n"
    }
   }
  },
  {
   "cell_type": "markdown",
   "source": [
    "## Plot voronoi cells"
   ],
   "metadata": {
    "collapsed": false,
    "pycharm": {
     "name": "#%% md\n"
    }
   }
  },
  {
   "cell_type": "code",
   "execution_count": null,
   "outputs": [],
   "source": [
    "frame_start = 1200\n",
    "\n",
    "for frame in range(frame_start, frame_start + 100, 20):\n",
    "    fig = plt.figure(figsize=(15, 20))\n",
    "    ax1 = fig.add_subplot(121, aspect=\"equal\")\n",
    "\n",
    "    ax1.plot(*pygeos.to_shapely(geometry).exterior.xy, color=\"k\")\n",
    "    ax1.plot(*pygeos.to_shapely(ma).exterior.xy, color=\"k\")\n",
    "\n",
    "    df_frame = individual[individual.frame == frame]\n",
    "    df_frame = pd.merge(traj.data, df_frame, on=[\"ID\", \"frame\"])\n",
    "    for _, row in df_frame.iterrows():\n",
    "        p = ax1.plot(*pygeos.to_shapely(row[6]).exterior.xy)\n",
    "        ax1.scatter(row[2], row[3])\n",
    "        ax1.add_patch(\n",
    "            PolygonPatch(\n",
    "                pygeos.to_shapely(row[6]), alpha=0.1, zorder=2, fc=p[-1].get_color(), ec=\"none\"\n",
    "            )\n",
    "        )\n",
    "    ax1.set_xlabel(\"x\")\n",
    "    ax1.set_ylabel(\"y\")\n",
    "\n",
    "    ax2 = fig.add_subplot(122, aspect=\"equal\")\n",
    "\n",
    "    ax2.plot(*pygeos.to_shapely(geometry).exterior.xy, color=\"k\")\n",
    "    ax2.plot(*pygeos.to_shapely(ma).exterior.xy, color=\"k\")\n",
    "\n",
    "    df_frame_cutoff = individual_cutoff[individual_cutoff.frame == frame]\n",
    "    df_frame_cutoff = pd.merge(traj.data, df_frame_cutoff, on=[\"ID\", \"frame\"])\n",
    "    for _, row in df_frame_cutoff.iterrows():\n",
    "        p = ax2.plot(*pygeos.to_shapely(row[6]).exterior.xy)\n",
    "        ax2.scatter(row[2], row[3])\n",
    "        ax2.add_patch(\n",
    "            PolygonPatch(\n",
    "                pygeos.to_shapely(row[6]), alpha=0.1, zorder=2, fc=p[-1].get_color(), ec=\"none\"\n",
    "            )\n",
    "        )\n",
    "    ax2.set_xlabel(\"x\")\n",
    "    ax2.set_ylabel(\"y\")\n",
    "    fig.tight_layout()\n",
    "    plt.show()"
   ],
   "metadata": {
    "collapsed": false,
    "pycharm": {
     "name": "#%%\n"
    }
   }
  },
  {
   "cell_type": "markdown",
   "source": [
    "## Passing density (individual)"
   ],
   "metadata": {
    "collapsed": false,
    "pycharm": {
     "name": "#%% md\n"
    }
   }
  },
  {
   "cell_type": "code",
   "execution_count": null,
   "outputs": [],
   "source": [
    "from analyzer.methods.density_calculator import compute_passing_density\n",
    "from analyzer.methods.method_utils import compute_frame_range_in_area\n",
    "\n",
    "frames_in_area = compute_frame_range_in_area(traj.data, ma)\n",
    "passing_density = compute_passing_density(classic_density, frames_in_area)\n",
    "passing_density"
   ],
   "metadata": {
    "collapsed": false,
    "pycharm": {
     "name": "#%%\n"
    }
   }
  },
  {
   "cell_type": "markdown",
   "source": [
    "# Velocity"
   ],
   "metadata": {
    "collapsed": false,
    "pycharm": {
     "name": "#%% md\n"
    }
   }
  },
  {
   "cell_type": "code",
   "execution_count": 7,
   "outputs": [
    {
     "data": {
      "text/plain": "        ID  frame                 start                   end  start_frame  \\\n0        1     98   POINT (4.601 1.891)   POINT (4.271 1.949)         98.0   \n1        1     99   POINT (4.536 1.898)   POINT (4.214 1.954)         99.0   \n2        1    100    POINT (4.447 1.93)   POINT (4.156 1.954)        100.0   \n3        1    101   POINT (4.386 1.936)   POINT (4.099 1.955)        101.0   \n4        1    102   POINT (4.328 1.945)   POINT (4.032 1.965)        102.0   \n...    ...    ...                   ...                   ...          ...   \n25531  148    872  POINT (-4.896 1.455)  POINT (-5.163 1.484)        867.0   \n25532  148    873  POINT (-4.946 1.466)  POINT (-5.216 1.483)        868.0   \n25533  148    874  POINT (-4.999 1.476)   POINT (-5.268 1.48)        869.0   \n25534  148    875  POINT (-5.056 1.482)  POINT (-5.316 1.479)        870.0   \n25535  148    876  POINT (-5.109 1.485)  POINT (-5.361 1.479)        871.0   \n\n       end_frame  distance     speed  \n0          103.0  0.335516  1.677581  \n1          104.0  0.326538  1.632689  \n2          105.0  0.291498  1.457490  \n3          106.0  0.288426  1.442132  \n4          107.0  0.297187  1.485936  \n...          ...       ...       ...  \n25531      872.0  0.268283  1.341414  \n25532      873.0  0.270616  1.353079  \n25533      874.0  0.269621  1.348107  \n25534      875.0  0.260316  1.301581  \n25535      876.0  0.251979  1.259894  \n\n[25536 rows x 8 columns]",
      "text/html": "<div>\n<style scoped>\n    .dataframe tbody tr th:only-of-type {\n        vertical-align: middle;\n    }\n\n    .dataframe tbody tr th {\n        vertical-align: top;\n    }\n\n    .dataframe thead th {\n        text-align: right;\n    }\n</style>\n<table border=\"1\" class=\"dataframe\">\n  <thead>\n    <tr style=\"text-align: right;\">\n      <th></th>\n      <th>ID</th>\n      <th>frame</th>\n      <th>start</th>\n      <th>end</th>\n      <th>start_frame</th>\n      <th>end_frame</th>\n      <th>distance</th>\n      <th>speed</th>\n    </tr>\n  </thead>\n  <tbody>\n    <tr>\n      <th>0</th>\n      <td>1</td>\n      <td>98</td>\n      <td>POINT (4.601 1.891)</td>\n      <td>POINT (4.271 1.949)</td>\n      <td>98.0</td>\n      <td>103.0</td>\n      <td>0.335516</td>\n      <td>1.677581</td>\n    </tr>\n    <tr>\n      <th>1</th>\n      <td>1</td>\n      <td>99</td>\n      <td>POINT (4.536 1.898)</td>\n      <td>POINT (4.214 1.954)</td>\n      <td>99.0</td>\n      <td>104.0</td>\n      <td>0.326538</td>\n      <td>1.632689</td>\n    </tr>\n    <tr>\n      <th>2</th>\n      <td>1</td>\n      <td>100</td>\n      <td>POINT (4.447 1.93)</td>\n      <td>POINT (4.156 1.954)</td>\n      <td>100.0</td>\n      <td>105.0</td>\n      <td>0.291498</td>\n      <td>1.457490</td>\n    </tr>\n    <tr>\n      <th>3</th>\n      <td>1</td>\n      <td>101</td>\n      <td>POINT (4.386 1.936)</td>\n      <td>POINT (4.099 1.955)</td>\n      <td>101.0</td>\n      <td>106.0</td>\n      <td>0.288426</td>\n      <td>1.442132</td>\n    </tr>\n    <tr>\n      <th>4</th>\n      <td>1</td>\n      <td>102</td>\n      <td>POINT (4.328 1.945)</td>\n      <td>POINT (4.032 1.965)</td>\n      <td>102.0</td>\n      <td>107.0</td>\n      <td>0.297187</td>\n      <td>1.485936</td>\n    </tr>\n    <tr>\n      <th>...</th>\n      <td>...</td>\n      <td>...</td>\n      <td>...</td>\n      <td>...</td>\n      <td>...</td>\n      <td>...</td>\n      <td>...</td>\n      <td>...</td>\n    </tr>\n    <tr>\n      <th>25531</th>\n      <td>148</td>\n      <td>872</td>\n      <td>POINT (-4.896 1.455)</td>\n      <td>POINT (-5.163 1.484)</td>\n      <td>867.0</td>\n      <td>872.0</td>\n      <td>0.268283</td>\n      <td>1.341414</td>\n    </tr>\n    <tr>\n      <th>25532</th>\n      <td>148</td>\n      <td>873</td>\n      <td>POINT (-4.946 1.466)</td>\n      <td>POINT (-5.216 1.483)</td>\n      <td>868.0</td>\n      <td>873.0</td>\n      <td>0.270616</td>\n      <td>1.353079</td>\n    </tr>\n    <tr>\n      <th>25533</th>\n      <td>148</td>\n      <td>874</td>\n      <td>POINT (-4.999 1.476)</td>\n      <td>POINT (-5.268 1.48)</td>\n      <td>869.0</td>\n      <td>874.0</td>\n      <td>0.269621</td>\n      <td>1.348107</td>\n    </tr>\n    <tr>\n      <th>25534</th>\n      <td>148</td>\n      <td>875</td>\n      <td>POINT (-5.056 1.482)</td>\n      <td>POINT (-5.316 1.479)</td>\n      <td>870.0</td>\n      <td>875.0</td>\n      <td>0.260316</td>\n      <td>1.301581</td>\n    </tr>\n    <tr>\n      <th>25535</th>\n      <td>148</td>\n      <td>876</td>\n      <td>POINT (-5.109 1.485)</td>\n      <td>POINT (-5.361 1.479)</td>\n      <td>871.0</td>\n      <td>876.0</td>\n      <td>0.251979</td>\n      <td>1.259894</td>\n    </tr>\n  </tbody>\n</table>\n<p>25536 rows × 8 columns</p>\n</div>"
     },
     "execution_count": 7,
     "metadata": {},
     "output_type": "execute_result"
    }
   ],
   "source": [
    "from analyzer.methods.velocity_calculator import compute_individual_velocity\n",
    "\n",
    "individual_speed = compute_individual_velocity(traj.data, traj.frame_rate, 5)\n",
    "individual_speed"
   ],
   "metadata": {
    "collapsed": false,
    "pycharm": {
     "name": "#%%\n"
    }
   }
  },
  {
   "cell_type": "code",
   "execution_count": null,
   "outputs": [],
   "source": [
    "individual_speed.reset_index().plot.scatter(x=\"frame\", y=\"speed\")"
   ],
   "metadata": {
    "collapsed": false,
    "pycharm": {
     "name": "#%%\n"
    }
   }
  },
  {
   "cell_type": "code",
   "execution_count": null,
   "outputs": [],
   "source": [
    "individual_speed_direction = compute_individual_velocity(traj.data, traj.frame_rate, 5, direction)\n",
    "individual_speed_direction"
   ],
   "metadata": {
    "collapsed": false,
    "pycharm": {
     "name": "#%%\n"
    }
   }
  },
  {
   "cell_type": "code",
   "execution_count": null,
   "outputs": [],
   "source": [
    "individual_speed.reset_index().plot.scatter(x=\"frame\", y=\"speed\")"
   ],
   "metadata": {
    "collapsed": false,
    "pycharm": {
     "name": "#%%\n"
    }
   }
  },
  {
   "cell_type": "markdown",
   "source": [
    "## Mean speed (all)"
   ],
   "metadata": {
    "collapsed": false,
    "pycharm": {
     "name": "#%% md\n"
    }
   }
  },
  {
   "cell_type": "code",
   "execution_count": null,
   "outputs": [],
   "source": [
    "from analyzer.methods.velocity_calculator import compute_mean_velocity_per_frame\n",
    "\n",
    "mean_speed, individual_speed = compute_mean_velocity_per_frame(traj.data, traj.frame_rate, 10)\n",
    "mean_speed"
   ],
   "metadata": {
    "collapsed": false,
    "pycharm": {
     "name": "#%%\n"
    }
   }
  },
  {
   "cell_type": "code",
   "execution_count": null,
   "outputs": [],
   "source": [
    "mean_speed.reset_index().plot.scatter(x=\"frame\", y=\"speed\")"
   ],
   "metadata": {
    "collapsed": false,
    "pycharm": {
     "name": "#%%\n"
    }
   }
  },
  {
   "cell_type": "code",
   "execution_count": null,
   "outputs": [],
   "source": [
    "mean_speed_direction, individual_speed_direction = compute_mean_velocity_per_frame(\n",
    "    traj.data, traj.frame_rate, 5, direction\n",
    ")\n",
    "mean_speed_direction"
   ],
   "metadata": {
    "collapsed": false,
    "pycharm": {
     "name": "#%%\n"
    }
   }
  },
  {
   "cell_type": "markdown",
   "source": [
    "## Mean speed (in measurement area)"
   ],
   "metadata": {
    "collapsed": false,
    "pycharm": {
     "name": "#%% md\n"
    }
   }
  },
  {
   "cell_type": "code",
   "execution_count": null,
   "outputs": [],
   "source": [
    "from analyzer.methods.method_utils import get_peds_in_area\n",
    "from analyzer.methods.velocity_calculator import compute_mean_velocity_per_frame\n",
    "\n",
    "peds_in_area = get_peds_in_area(traj.data, ma)\n",
    "mean_speed_area, individual_speed_area = compute_mean_velocity_per_frame(\n",
    "    peds_in_area, traj.frame_rate, 5\n",
    ")"
   ],
   "metadata": {
    "collapsed": false,
    "pycharm": {
     "name": "#%%\n"
    }
   }
  },
  {
   "cell_type": "code",
   "execution_count": null,
   "outputs": [],
   "source": [
    "mean_speed_area.reset_index().plot.scatter(x=\"frame\", y=\"speed\")"
   ],
   "metadata": {
    "collapsed": false,
    "pycharm": {
     "name": "#%%\n"
    }
   }
  },
  {
   "cell_type": "code",
   "execution_count": null,
   "outputs": [],
   "source": [
    "mean_speed_area_direction, individual_speed_area_direction = compute_mean_velocity_per_frame(\n",
    "    peds_in_area, traj.frame_rate, 5, direction\n",
    ")"
   ],
   "metadata": {
    "collapsed": false,
    "pycharm": {
     "name": "#%%\n"
    }
   }
  },
  {
   "cell_type": "code",
   "execution_count": null,
   "outputs": [],
   "source": [
    "individual_speed_area_direction"
   ],
   "metadata": {
    "collapsed": false,
    "pycharm": {
     "name": "#%%\n"
    }
   }
  },
  {
   "cell_type": "code",
   "execution_count": null,
   "outputs": [],
   "source": [
    "mean_speed_area_direction.reset_index().plot.scatter(x=\"frame\", y=\"speed\")"
   ],
   "metadata": {
    "collapsed": false,
    "pycharm": {
     "name": "#%%\n"
    }
   }
  },
  {
   "cell_type": "markdown",
   "source": [
    "## Voronoi speed"
   ],
   "metadata": {
    "collapsed": false,
    "pycharm": {
     "name": "#%% md\n"
    }
   }
  },
  {
   "cell_type": "code",
   "execution_count": null,
   "outputs": [],
   "source": [
    "from analyzer.methods.density_calculator import (\n",
    "    _compute_individual_voronoi_polygons,\n",
    "    _compute_intersecting_polygons,\n",
    ")\n",
    "from analyzer.methods.velocity_calculator import (\n",
    "    compute_individual_velocity,\n",
    "    compute_voronoi_velocity,\n",
    ")"
   ],
   "metadata": {
    "collapsed": false,
    "pycharm": {
     "name": "#%%\n"
    }
   }
  },
  {
   "cell_type": "code",
   "execution_count": null,
   "outputs": [],
   "source": [
    "individual_voronoi = _compute_individual_voronoi_polygons(traj.data, geometry_pita)\n",
    "intersecting_voronoi = _compute_intersecting_polygons(individual_voronoi, ma)"
   ],
   "metadata": {
    "collapsed": false,
    "pycharm": {
     "name": "#%%\n"
    }
   }
  },
  {
   "cell_type": "code",
   "execution_count": null,
   "outputs": [],
   "source": [
    "voronoi_velocity, individual_velocity = compute_voronoi_velocity(\n",
    "    traj.data, intersecting_voronoi, traj.frame_rate, 5, ma\n",
    ")\n",
    "voronoi_velocity"
   ],
   "metadata": {
    "collapsed": false,
    "pycharm": {
     "name": "#%%\n"
    }
   }
  },
  {
   "cell_type": "code",
   "execution_count": null,
   "outputs": [],
   "source": [
    "voronoi_velocity.reset_index().plot.scatter(x=\"frame\", y=\"voronoi speed\")"
   ],
   "metadata": {
    "collapsed": false,
    "pycharm": {
     "name": "#%%\n"
    }
   }
  },
  {
   "cell_type": "code",
   "execution_count": null,
   "outputs": [],
   "source": [
    "voronoi_velocity_direction, individual_velocity_direction = compute_voronoi_velocity(\n",
    "    traj.data, intersecting_voronoi, traj.frame_rate, 5, ma, direction\n",
    ")\n",
    "voronoi_velocity_direction"
   ],
   "metadata": {
    "collapsed": false,
    "pycharm": {
     "name": "#%%\n"
    }
   }
  },
  {
   "cell_type": "markdown",
   "source": [
    "## Comparison mean velocity vs voronoi velocity"
   ],
   "metadata": {
    "collapsed": false,
    "pycharm": {
     "name": "#%% md\n"
    }
   }
  },
  {
   "cell_type": "code",
   "execution_count": null,
   "outputs": [],
   "source": [
    "fig = plt.figure(figsize=(8, 6))\n",
    "plt.scatter(voronoi_velocity.reset_index().frame, voronoi_velocity, label=\"voronoi\")\n",
    "plt.scatter(\n",
    "    voronoi_velocity_direction.reset_index().frame,\n",
    "    voronoi_velocity_direction,\n",
    "    label=\"voronoi direction\",\n",
    ")\n",
    "plt.scatter(mean_speed_area.reset_index().frame, mean_speed_area, label=\"classic\")\n",
    "plt.scatter(\n",
    "    mean_speed_area_direction.reset_index().frame,\n",
    "    mean_speed_area_direction,\n",
    "    label=\"classic direction\",\n",
    ")\n",
    "plt.xlabel(\"frame\")\n",
    "plt.ylabel(\"v / m/s\")\n",
    "plt.legend()\n",
    "plt.grid()\n",
    "plt.show()"
   ],
   "metadata": {
    "collapsed": false,
    "pycharm": {
     "name": "#%%\n"
    }
   }
  },
  {
   "cell_type": "markdown",
   "source": [
    "## Passing speed (individual)"
   ],
   "metadata": {
    "collapsed": false,
    "pycharm": {
     "name": "#%% md\n"
    }
   }
  },
  {
   "cell_type": "code",
   "execution_count": 25,
   "outputs": [
    {
     "name": "stderr",
     "output_type": "stream",
     "text": [
      "/home/tobias/development/jupedsim/venv-jpsreport-python/lib/python3.8/site-packages/pandas/core/arraylike.py:364: RuntimeWarning: invalid value encountered in within\n",
      "  result = getattr(ufunc, method)(*inputs, **kwargs)\n"
     ]
    },
    {
     "data": {
      "text/plain": "Empty DataFrame\nColumns: [ID, frame_start, frame_end, start, end]\nIndex: []",
      "text/html": "<div>\n<style scoped>\n    .dataframe tbody tr th:only-of-type {\n        vertical-align: middle;\n    }\n\n    .dataframe tbody tr th {\n        vertical-align: top;\n    }\n\n    .dataframe thead th {\n        text-align: right;\n    }\n</style>\n<table border=\"1\" class=\"dataframe\">\n  <thead>\n    <tr style=\"text-align: right;\">\n      <th></th>\n      <th>ID</th>\n      <th>frame_start</th>\n      <th>frame_end</th>\n      <th>start</th>\n      <th>end</th>\n    </tr>\n  </thead>\n  <tbody>\n  </tbody>\n</table>\n</div>"
     },
     "execution_count": 25,
     "metadata": {},
     "output_type": "execute_result"
    }
   ],
   "source": [
    "from analyzer.methods.velocity_calculator import compute_passing_speed\n",
    "from analyzer.methods.method_utils import compute_frame_range_in_area\n",
    "\n",
    "frames_in_area = compute_frame_range_in_area(traj.data, ml, -0.1)\n",
    "# passing_speed = compute_passing_speed(frames_in_area, traj.frame_rate)\n",
    "# passing_speed\n",
    "frames_in_area"
   ],
   "metadata": {
    "collapsed": false,
    "pycharm": {
     "name": "#%%\n"
    }
   }
  },
  {
   "cell_type": "markdown",
   "source": [
    "# Flow"
   ],
   "metadata": {
    "collapsed": false,
    "pycharm": {
     "name": "#%% md\n"
    }
   }
  },
  {
   "cell_type": "markdown",
   "source": [
    "## N-t diagram"
   ],
   "metadata": {
    "collapsed": false,
    "pycharm": {
     "name": "#%% md\n"
    }
   }
  },
  {
   "cell_type": "code",
   "execution_count": 17,
   "outputs": [],
   "source": [
    "from analyzer.methods.flow_calculator import compute_n_t\n",
    "\n",
    "nt, crossing = compute_n_t(traj.data, ml, traj.frame_rate)"
   ],
   "metadata": {
    "collapsed": false,
    "pycharm": {
     "name": "#%%\n"
    }
   }
  },
  {
   "cell_type": "code",
   "execution_count": 4,
   "outputs": [
    {
     "data": {
      "text/plain": "<AxesSubplot:xlabel='Time [s]'>"
     },
     "execution_count": 4,
     "metadata": {},
     "output_type": "execute_result"
    },
    {
     "data": {
      "text/plain": "<Figure size 432x288 with 1 Axes>",
      "image/png": "[encoded data removed]"
     },
     "metadata": {
      "needs_background": "light"
     },
     "output_type": "display_data"
    }
   ],
   "source": [
    "nt.plot(x=\"Time [s]\")"
   ],
   "metadata": {
    "collapsed": false,
    "pycharm": {
     "name": "#%%\n"
    }
   }
  },
  {
   "cell_type": "markdown",
   "source": [
    "## Flow"
   ],
   "metadata": {
    "collapsed": false,
    "pycharm": {
     "name": "#%% md\n"
    }
   }
  },
  {
   "cell_type": "code",
   "execution_count": 19,
   "outputs": [
    {
     "data": {
      "text/plain": "    Flow rate(1/s)  Mean velocity(m/s)\n0         4.000000            1.657200\n1         1.744186            1.632446\n2         2.212389            1.507955\n3         1.822917            1.513848\n4         1.941748            1.513635\n5         1.941748            1.458399\n6         2.577320            1.398669\n7         2.020202            1.447868\n8         2.364865            1.472313\n9         1.953125            1.411591\n10        2.393617            1.374881\n11        3.000000            1.565684\n12        1.691729            1.351785\n13        2.500000            1.470863\n14        1.973684            1.398802\n15        1.709402            1.355452\n16        1.282051            1.461578\n17        1.190476            1.832602",
      "text/html": "<div>\n<style scoped>\n    .dataframe tbody tr th:only-of-type {\n        vertical-align: middle;\n    }\n\n    .dataframe tbody tr th {\n        vertical-align: top;\n    }\n\n    .dataframe thead th {\n        text-align: right;\n    }\n</style>\n<table border=\"1\" class=\"dataframe\">\n  <thead>\n    <tr style=\"text-align: right;\">\n      <th></th>\n      <th>Flow rate(1/s)</th>\n      <th>Mean velocity(m/s)</th>\n    </tr>\n  </thead>\n  <tbody>\n    <tr>\n      <th>0</th>\n      <td>4.000000</td>\n      <td>1.657200</td>\n    </tr>\n    <tr>\n      <th>1</th>\n      <td>1.744186</td>\n      <td>1.632446</td>\n    </tr>\n    <tr>\n      <th>2</th>\n      <td>2.212389</td>\n      <td>1.507955</td>\n    </tr>\n    <tr>\n      <th>3</th>\n      <td>1.822917</td>\n      <td>1.513848</td>\n    </tr>\n    <tr>\n      <th>4</th>\n      <td>1.941748</td>\n      <td>1.513635</td>\n    </tr>\n    <tr>\n      <th>5</th>\n      <td>1.941748</td>\n      <td>1.458399</td>\n    </tr>\n    <tr>\n      <th>6</th>\n      <td>2.577320</td>\n      <td>1.398669</td>\n    </tr>\n    <tr>\n      <th>7</th>\n      <td>2.020202</td>\n      <td>1.447868</td>\n    </tr>\n    <tr>\n      <th>8</th>\n      <td>2.364865</td>\n      <td>1.472313</td>\n    </tr>\n    <tr>\n      <th>9</th>\n      <td>1.953125</td>\n      <td>1.411591</td>\n    </tr>\n    <tr>\n      <th>10</th>\n      <td>2.393617</td>\n      <td>1.374881</td>\n    </tr>\n    <tr>\n      <th>11</th>\n      <td>3.000000</td>\n      <td>1.565684</td>\n    </tr>\n    <tr>\n      <th>12</th>\n      <td>1.691729</td>\n      <td>1.351785</td>\n    </tr>\n    <tr>\n      <th>13</th>\n      <td>2.500000</td>\n      <td>1.470863</td>\n    </tr>\n    <tr>\n      <th>14</th>\n      <td>1.973684</td>\n      <td>1.398802</td>\n    </tr>\n    <tr>\n      <th>15</th>\n      <td>1.709402</td>\n      <td>1.355452</td>\n    </tr>\n    <tr>\n      <th>16</th>\n      <td>1.282051</td>\n      <td>1.461578</td>\n    </tr>\n    <tr>\n      <th>17</th>\n      <td>1.190476</td>\n      <td>1.832602</td>\n    </tr>\n  </tbody>\n</table>\n</div>"
     },
     "execution_count": 19,
     "metadata": {},
     "output_type": "execute_result"
    }
   ],
   "source": [
    "from analyzer.methods.flow_calculator import compute_flow\n",
    "\n",
    "delta_t = 100\n",
    "flow = compute_flow(nt, crossing, individual_speed, delta_t, traj.frame_rate)\n",
    "flow"
   ],
   "metadata": {
    "collapsed": false,
    "pycharm": {
     "name": "#%%\n"
    }
   }
  }
 ],
 "metadata": {
  "kernelspec": {
   "display_name": "Python 3",
   "language": "python",
   "name": "python3"
  },
  "language_info": {
   "codemirror_mode": {
    "name": "ipython",
    "version": 2
   },
   "file_extension": ".py",
   "mimetype": "text/x-python",
   "name": "python",
   "nbconvert_exporter": "python",
   "pygments_lexer": "ipython2",
   "version": "2.7.6"
  }
 },
 "nbformat": 4,
 "nbformat_minor": 0
}