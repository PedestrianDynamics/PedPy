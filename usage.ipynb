{
 "cells": [
  {
   "cell_type": "code",
   "execution_count": null,
   "outputs": [],
   "source": [
    "from pedpy import load_trajectory\n",
    "from pedpy import (\n",
    "    Geometry,\n",
    "    TrajectoryUnit,\n",
    "    get_invalid_trajectory,\n",
    "    is_trajectory_valid,\n",
    ")\n",
    "import pathlib\n",
    "import matplotlib.pyplot as plt\n",
    "import numpy as np\n",
    "import pandas as pd\n",
    "import shapely\n",
    "from shapely import LineString, Polygon\n",
    "\n",
    "import warnings\n",
    "\n",
    "warnings.filterwarnings(\"ignore\")"
   ],
   "metadata": {
    "collapsed": false
   }
  },
  {
   "cell_type": "markdown",
   "source": [
    "# Setup geometry & measurement area"
   ],
   "metadata": {
    "collapsed": false
   }
  },
  {
   "cell_type": "markdown",
   "source": [
    "## Prepare geometry"
   ],
   "metadata": {
    "collapsed": false
   }
  },
  {
   "cell_type": "markdown",
   "source": [
    "![](demos/uni-directional/geo.png)"
   ],
   "metadata": {
    "collapsed": false
   }
  },
  {
   "cell_type": "code",
   "execution_count": null,
   "outputs": [],
   "source": [
    "geometry_poly = Polygon([(-10, -3), (-10, 8), (10, 8), (10, -3)])\n",
    "\n",
    "geometry = Geometry(walkable_area=geometry_poly)\n",
    "geometry.add_obstacle(Polygon([(-9, -2), (-9, 0), (9, 0), (9, -2), (-9, -2)]))\n",
    "geometry.add_obstacle(Polygon([(-9, 5), (-9, 7), (9, 7), (9, 5), (-9, 5)]))"
   ],
   "metadata": {
    "collapsed": false
   }
  },
  {
   "cell_type": "code",
   "execution_count": null,
   "outputs": [],
   "source": [
    "from pedpy.plotting.plotting import plot_geometry\n",
    "\n",
    "plot_geometry(geometry=geometry, hole_color=\"lightgrey\").set_aspect(\"equal\")"
   ],
   "metadata": {
    "collapsed": false
   }
  },
  {
   "cell_type": "markdown",
   "source": [
    "**For demonstration purposes, wrongly place the obstacle s.th. some pedestrian walk through it!**"
   ],
   "metadata": {
    "collapsed": false
   }
  },
  {
   "cell_type": "code",
   "execution_count": null,
   "outputs": [],
   "source": [
    "geometry_faulty = Geometry(walkable_area=geometry_poly)\n",
    "geometry_faulty.add_obstacle(\n",
    "    Polygon([(-9, -2), (-9, 0.25), (9, 0.25), (9, -2), (-9, -2)])\n",
    ")\n",
    "geometry_faulty.add_obstacle(\n",
    "    Polygon([(-9, 5), (-9, 7), (9, 7), (9, 5), (-9, 5)])\n",
    ")"
   ],
   "metadata": {
    "collapsed": false
   }
  },
  {
   "cell_type": "markdown",
   "source": [
    "## Prepare measurement details"
   ],
   "metadata": {
    "collapsed": false
   }
  },
  {
   "cell_type": "code",
   "execution_count": null,
   "outputs": [],
   "source": [
    "ma = Polygon([(-1.5, 0), (-1.5, 5), (1.5, 5), (1.5, 0), (-1.5, 0)])\n",
    "ml = LineString([(0, 0), (0, 5)])\n",
    "passing_offset = 1.0\n",
    "\n",
    "direction = np.array([-1, 0])"
   ],
   "metadata": {
    "collapsed": false
   }
  },
  {
   "cell_type": "markdown",
   "source": [
    "## Load trajectories"
   ],
   "metadata": {
    "collapsed": false
   }
  },
  {
   "cell_type": "markdown",
   "source": [
    "`pedpy` can load trajectories from text files, when:\n",
    "- values are seperated by any whitespace, e.g., space, tab\n",
    "- file has at least 5 columns in the following order: \"ID\", \"frame\", \"X\", \"Y\", \"Z\"\n",
    "- file may contain comment lines with `#` at in the beginning\n",
    "\n",
    "For meaningful analysis (and loading of the trajectory file) you also need\n",
    "- unit of the trajectory (m or cm)\n",
    "- frame rate\n",
    "\n",
    "For recent experiments they are encoded in the header of the file, for older you may need to lead the documentation and provide the information in the loading process!\n",
    "\n",
    "**Examples:**\n",
    "With frame rate, but no unit\n",
    "```\n",
    "# description: UNI_CORR_500_01\n",
    "# framerate: 25.00\n",
    "#geometry: geometry.xml\n",
    "\n",
    "# PersID\tFrame\tX\tY\tZ\n",
    "1\t98\t4.6012\t1.8909\t1.7600\n",
    "1\t99\t4.5359\t1.8976\t1.7600\n",
    "1\t100\t4.4470\t1.9304\t1.7600\n",
    "...\n",
    "```\n",
    "\n",
    "No header at all:\n",
    "```\n",
    "1 27 164.834 780.844 168.937\n",
    "1 28 164.835 771.893 168.937\n",
    "1 29 163.736 762.665 168.937\n",
    "1 30 161.967 753.088 168.937\n",
    "...\n",
    "```"
   ],
   "metadata": {
    "collapsed": false
   }
  },
  {
   "cell_type": "code",
   "execution_count": null,
   "outputs": [],
   "source": [
    "traj = load_trajectory(\n",
    "    trajectory_file=pathlib.Path(\n",
    "        \"demos/uni-directional/traj_UNI_CORR_500_01.txt\"\n",
    "    ),\n",
    "    default_unit=TrajectoryUnit.METER,  # needs to be provided as it not defined in the file\n",
    "    # default_frame_rate=25., # can be ignored here as the frame rate is defined in the file\n",
    ")"
   ],
   "metadata": {
    "collapsed": false
   }
  },
  {
   "cell_type": "markdown",
   "source": [
    "## Plot setup"
   ],
   "metadata": {
    "collapsed": false
   }
  },
  {
   "cell_type": "code",
   "execution_count": null,
   "outputs": [],
   "source": [
    "from pedpy import plot_measurement_setup\n",
    "\n",
    "fig = plt.figure(figsize=(15, 20))\n",
    "ax1 = fig.add_subplot(111, aspect=\"equal\")\n",
    "# ax1 = plot_geometry(geometry=geometry_faulty, ax=ax1) # remove comment to show the borders of the faulty geometry\n",
    "\n",
    "ax1 = plot_measurement_setup(\n",
    "    traj=traj,\n",
    "    geometry=geometry,\n",
    "    measurement_areas=[ma],\n",
    "    measurement_lines=[ml, shapely.offset_curve(ml, passing_offset)],\n",
    "    traj_width=0.1,\n",
    "    traj_start_marker=\".\",\n",
    "    hole_color=\"lightgrey\",\n",
    "    ml_color=\"b\",\n",
    "    ma_color=\"g\",\n",
    "    ma_alpha=0.1,\n",
    "    ma_line_color=\"g\",\n",
    ")\n",
    "plt.show()"
   ],
   "metadata": {
    "collapsed": false
   }
  },
  {
   "cell_type": "markdown",
   "source": [
    "## Validate that trajectory is completely inside the walkable area."
   ],
   "metadata": {
    "collapsed": false
   }
  },
  {
   "cell_type": "code",
   "execution_count": null,
   "outputs": [],
   "source": [
    "print(\n",
    "    f\"Trajectory is valid: {is_trajectory_valid(traj=traj, geometry=geometry)}\"\n",
    ")\n",
    "get_invalid_trajectory(traj=traj, geometry=geometry)"
   ],
   "metadata": {
    "collapsed": false
   }
  },
  {
   "cell_type": "code",
   "execution_count": null,
   "outputs": [],
   "source": [
    "print(\n",
    "    f\"Trajectory is valid: {is_trajectory_valid(traj=traj, geometry=geometry_faulty)}\"\n",
    ")\n",
    "get_invalid_trajectory(traj=traj, geometry=geometry_faulty)"
   ],
   "metadata": {
    "collapsed": false
   }
  },
  {
   "cell_type": "markdown",
   "source": [
    "# Filter the trajectory data"
   ],
   "metadata": {
    "collapsed": false
   }
  },
  {
   "cell_type": "markdown",
   "source": [
    "## Filter by geometrical predicates"
   ],
   "metadata": {
    "collapsed": false
   }
  },
  {
   "cell_type": "markdown",
   "source": [
    "### Data inside Polygon"
   ],
   "metadata": {
    "collapsed": false
   }
  },
  {
   "cell_type": "code",
   "execution_count": null,
   "outputs": [],
   "source": [
    "data_inside_ma = traj.data[shapely.within(traj.data.points, ma)]\n",
    "data_inside_ma"
   ],
   "metadata": {
    "collapsed": false
   }
  },
  {
   "cell_type": "markdown",
   "source": [
    "### Data outside Polygon"
   ],
   "metadata": {
    "collapsed": false
   }
  },
  {
   "cell_type": "code",
   "execution_count": null,
   "outputs": [],
   "source": [
    "data_outside_ma = traj.data[~shapely.within(traj.data.points, ma)]\n",
    "data_outside_ma"
   ],
   "metadata": {
    "collapsed": false
   }
  },
  {
   "cell_type": "markdown",
   "source": [
    "### Data close to Polygon"
   ],
   "metadata": {
    "collapsed": false
   }
  },
  {
   "cell_type": "code",
   "execution_count": null,
   "outputs": [],
   "source": [
    "data_close_ma = traj.data[shapely.dwithin(traj.data.points, ma, 1)]\n",
    "data_close_ma"
   ],
   "metadata": {
    "collapsed": false
   }
  },
  {
   "cell_type": "markdown",
   "source": [
    "## Get all data points in a frame range"
   ],
   "metadata": {
    "collapsed": false
   }
  },
  {
   "cell_type": "code",
   "execution_count": null,
   "outputs": [],
   "source": [
    "data_frame_range = traj.data[\n",
    "    traj.data.frame.between(300, 400, inclusive=\"both\")\n",
    "]\n",
    "data_frame_range"
   ],
   "metadata": {
    "collapsed": false
   }
  },
  {
   "cell_type": "markdown",
   "source": [
    "# Density"
   ],
   "metadata": {
    "collapsed": false
   }
  },
  {
   "cell_type": "markdown",
   "source": [
    "## Classic density"
   ],
   "metadata": {
    "collapsed": false
   }
  },
  {
   "cell_type": "code",
   "execution_count": null,
   "outputs": [],
   "source": [
    "from pedpy import compute_classic_density\n",
    "\n",
    "classic_density = compute_classic_density(\n",
    "    traj_data=traj.data, measurement_area=ma\n",
    ")\n",
    "classic_density"
   ],
   "metadata": {
    "collapsed": false
   }
  },
  {
   "cell_type": "code",
   "execution_count": null,
   "outputs": [],
   "source": [
    "classic_density.reset_index().plot.line(x=\"frame\", y=\"classic density\")"
   ],
   "metadata": {
    "collapsed": false
   }
  },
  {
   "cell_type": "markdown",
   "source": [
    "## Voronoi density"
   ],
   "metadata": {
    "collapsed": false
   }
  },
  {
   "cell_type": "code",
   "execution_count": null,
   "outputs": [],
   "source": [
    "from pedpy import compute_voronoi_density\n",
    "\n",
    "density_voronoi, individual = compute_voronoi_density(\n",
    "    traj_data=traj.data, measurement_area=ma, geometry=geometry\n",
    ")"
   ],
   "metadata": {
    "collapsed": false
   }
  },
  {
   "cell_type": "code",
   "execution_count": null,
   "outputs": [],
   "source": [
    "density_voronoi"
   ],
   "metadata": {
    "collapsed": false
   }
  },
  {
   "cell_type": "code",
   "execution_count": null,
   "outputs": [],
   "source": [
    "individual"
   ],
   "metadata": {
    "collapsed": false
   }
  },
  {
   "cell_type": "code",
   "execution_count": null,
   "outputs": [],
   "source": [
    "density_voronoi.reset_index().plot.line(x=\"frame\", y=\"voronoi density\")"
   ],
   "metadata": {
    "collapsed": false
   }
  },
  {
   "cell_type": "markdown",
   "source": [
    "**Note:** second argument of `cut_off` needs to be divisable by 4!"
   ],
   "metadata": {
    "collapsed": false
   }
  },
  {
   "cell_type": "code",
   "execution_count": null,
   "outputs": [],
   "source": [
    "from pedpy import compute_voronoi_density\n",
    "\n",
    "density_voronoi_cutoff, individual_cutoff = compute_voronoi_density(\n",
    "    traj_data=traj.data,\n",
    "    measurement_area=ma,\n",
    "    geometry=geometry,\n",
    "    cut_off=(1.0, 12),\n",
    ")"
   ],
   "metadata": {
    "collapsed": false
   }
  },
  {
   "cell_type": "code",
   "execution_count": null,
   "outputs": [],
   "source": [
    "density_voronoi_cutoff.reset_index().plot.line(x=\"frame\", y=\"voronoi density\")"
   ],
   "metadata": {
    "collapsed": false
   }
  },
  {
   "cell_type": "markdown",
   "source": [
    "## Comparision"
   ],
   "metadata": {
    "collapsed": false
   }
  },
  {
   "cell_type": "code",
   "execution_count": null,
   "outputs": [],
   "source": [
    "fig = plt.figure(figsize=(10, 6))\n",
    "plt.plot(\n",
    "    classic_density.reset_index().frame,\n",
    "    classic_density[\"classic density\"].values,\n",
    "    label=\"classic\",\n",
    "    lw=3,\n",
    ")\n",
    "plt.plot(\n",
    "    density_voronoi.reset_index().frame,\n",
    "    density_voronoi[\"voronoi density\"],\n",
    "    label=\"voronoi\",\n",
    "    lw=3,\n",
    ")\n",
    "plt.plot(\n",
    "    density_voronoi_cutoff.reset_index().frame,\n",
    "    density_voronoi_cutoff[\"voronoi density\"],\n",
    "    label=\"voronoi cutoff\",\n",
    "    lw=3,\n",
    ")\n",
    "plt.xlabel(\"frame\")\n",
    "plt.ylabel(\"rho / 1/m^2\")\n",
    "plt.legend()\n",
    "plt.grid()\n",
    "plt.show()"
   ],
   "metadata": {
    "collapsed": false
   }
  },
  {
   "cell_type": "markdown",
   "source": [
    "## Plot voronoi cells"
   ],
   "metadata": {
    "collapsed": false
   }
  },
  {
   "cell_type": "code",
   "execution_count": null,
   "outputs": [],
   "source": [
    "from pedpy import plot_voronoi_cells\n",
    "\n",
    "frame_start = 1200\n",
    "\n",
    "for frame in range(frame_start, frame_start + 100, 20):\n",
    "    fig = plt.figure(f\"frame = {frame}\", figsize=(15, 20))\n",
    "    fig.suptitle(f\"frame = {frame}\", y=0.62, fontsize=20)\n",
    "    df_frame = individual[individual.frame == frame]\n",
    "    df_frame = pd.merge(traj.data, df_frame, on=[\"ID\", \"frame\"])\n",
    "\n",
    "    ax1 = fig.add_subplot(121, aspect=\"equal\")\n",
    "    ax1.set_title(\"w/o cutoff\")\n",
    "    ax1 = plot_voronoi_cells(\n",
    "        data=df_frame,\n",
    "        geometry=geometry,\n",
    "        color_mode=\"id\",\n",
    "        show_ped_positions=True,\n",
    "        ped_size=10,\n",
    "        ax=ax1,\n",
    "    )\n",
    "\n",
    "    df_frame_cutoff = individual_cutoff[individual_cutoff.frame == frame]\n",
    "    df_frame_cutoff = pd.merge(traj.data, df_frame_cutoff, on=[\"ID\", \"frame\"])\n",
    "\n",
    "    ax2 = fig.add_subplot(122, aspect=\"equal\")\n",
    "    ax2.set_title(\"w cutoff\")\n",
    "\n",
    "    ax2 = plot_voronoi_cells(\n",
    "        data=df_frame_cutoff,\n",
    "        geometry=geometry,\n",
    "        color_mode=\"id\",\n",
    "        show_ped_positions=True,\n",
    "        ped_size=10,\n",
    "        ax=ax2,\n",
    "    )\n",
    "\n",
    "    fig.tight_layout()\n",
    "    plt.show()"
   ],
   "metadata": {
    "collapsed": false
   }
  },
  {
   "cell_type": "markdown",
   "source": [
    "## Passing density (individual)"
   ],
   "metadata": {
    "collapsed": false
   }
  },
  {
   "cell_type": "code",
   "execution_count": null,
   "outputs": [],
   "source": [
    "from pedpy import compute_passing_density\n",
    "from pedpy import compute_frame_range_in_area\n",
    "\n",
    "frames_in_area, _ = compute_frame_range_in_area(\n",
    "    traj_data=traj.data, measurement_line=ml, width=passing_offset\n",
    ")\n",
    "passing_density = compute_passing_density(\n",
    "    density_per_frame=classic_density, frames=frames_in_area\n",
    ")\n",
    "passing_density"
   ],
   "metadata": {
    "collapsed": false
   }
  },
  {
   "cell_type": "markdown",
   "source": [
    "# Velocity"
   ],
   "metadata": {
    "collapsed": false
   }
  },
  {
   "cell_type": "markdown",
   "source": [
    "## Individual speed"
   ],
   "metadata": {
    "collapsed": false
   }
  },
  {
   "cell_type": "code",
   "execution_count": null,
   "outputs": [],
   "source": [
    "from pedpy import compute_individual_velocity\n",
    "\n",
    "individual_speed = compute_individual_velocity(\n",
    "    traj_data=traj.data,\n",
    "    frame_rate=traj.frame_rate,\n",
    "    frame_step=5,\n",
    "    x_y_components=True,\n",
    ")\n",
    "individual_speed"
   ],
   "metadata": {
    "collapsed": false
   }
  },
  {
   "cell_type": "code",
   "execution_count": null,
   "outputs": [],
   "source": [
    "individual_speed.plot.scatter(x=\"frame\", y=\"speed\")"
   ],
   "metadata": {
    "collapsed": false
   }
  },
  {
   "cell_type": "code",
   "execution_count": null,
   "outputs": [],
   "source": [
    "individual_speed_direction = compute_individual_velocity(\n",
    "    traj_data=traj.data,\n",
    "    frame_rate=traj.frame_rate,\n",
    "    frame_step=5,\n",
    "    movement_direction=direction,\n",
    "    x_y_components=True,\n",
    ")\n",
    "individual_speed_direction"
   ],
   "metadata": {
    "collapsed": false
   }
  },
  {
   "cell_type": "code",
   "execution_count": null,
   "outputs": [],
   "source": [
    "individual_speed_direction.plot.scatter(x=\"frame\", y=\"speed\")"
   ],
   "metadata": {
    "collapsed": false
   }
  },
  {
   "cell_type": "markdown",
   "source": [
    "## Mean speed (in measurement area)"
   ],
   "metadata": {
    "collapsed": false
   }
  },
  {
   "cell_type": "code",
   "execution_count": null,
   "outputs": [],
   "source": [
    "from pedpy import compute_mean_velocity_per_frame\n",
    "\n",
    "mean_speed, individual_speed = compute_mean_velocity_per_frame(\n",
    "    traj_data=traj.data,\n",
    "    measurement_area=ma,\n",
    "    frame_rate=traj.frame_rate,\n",
    "    frame_step=10,\n",
    ")\n",
    "mean_speed"
   ],
   "metadata": {
    "collapsed": false
   }
  },
  {
   "cell_type": "code",
   "execution_count": null,
   "outputs": [],
   "source": [
    "individual_speed"
   ],
   "metadata": {
    "collapsed": false
   }
  },
  {
   "cell_type": "code",
   "execution_count": null,
   "outputs": [],
   "source": [
    "mean_speed.reset_index().plot.scatter(x=\"frame\", y=\"speed\")"
   ],
   "metadata": {
    "collapsed": false
   }
  },
  {
   "cell_type": "code",
   "execution_count": null,
   "outputs": [],
   "source": [
    "(\n",
    "    mean_speed_direction,\n",
    "    individual_speed_direction,\n",
    ") = compute_mean_velocity_per_frame(\n",
    "    traj_data=traj.data,\n",
    "    measurement_area=ma,\n",
    "    frame_rate=traj.frame_rate,\n",
    "    frame_step=5,\n",
    "    movement_direction=direction,\n",
    ")\n",
    "mean_speed_direction"
   ],
   "metadata": {
    "collapsed": false
   }
  },
  {
   "cell_type": "markdown",
   "source": [
    "## Voronoi speed"
   ],
   "metadata": {
    "collapsed": false
   }
  },
  {
   "cell_type": "code",
   "execution_count": null,
   "outputs": [],
   "source": [
    "from pedpy import (\n",
    "    compute_individual_velocity,\n",
    "    compute_voronoi_velocity,\n",
    "    compute_individual_voronoi_polygons,\n",
    ")"
   ],
   "metadata": {
    "collapsed": false
   }
  },
  {
   "cell_type": "code",
   "execution_count": null,
   "outputs": [],
   "source": [
    "individual_voronoi = individual.copy(deep=True)"
   ],
   "metadata": {
    "collapsed": false
   }
  },
  {
   "cell_type": "code",
   "execution_count": null,
   "outputs": [],
   "source": [
    "voronoi_velocity, individual_velocity = compute_voronoi_velocity(\n",
    "    traj_data=traj.data,\n",
    "    individual_voronoi_intersection=individual_voronoi,\n",
    "    frame_rate=traj.frame_rate,\n",
    "    frame_step=5,\n",
    "    measurement_area=ma,\n",
    ")\n",
    "voronoi_velocity"
   ],
   "metadata": {
    "collapsed": false
   }
  },
  {
   "cell_type": "code",
   "execution_count": null,
   "outputs": [],
   "source": [
    "voronoi_velocity.reset_index().plot.line(x=\"frame\", y=\"voronoi speed\")"
   ],
   "metadata": {
    "collapsed": false
   }
  },
  {
   "cell_type": "code",
   "execution_count": null,
   "outputs": [],
   "source": [
    "(\n",
    "    voronoi_velocity_direction,\n",
    "    individual_velocity_direction,\n",
    ") = compute_voronoi_velocity(\n",
    "    traj_data=traj.data,\n",
    "    individual_voronoi_intersection=individual_voronoi,\n",
    "    frame_rate=traj.frame_rate,\n",
    "    frame_step=5,\n",
    "    measurement_area=ma,\n",
    "    movement_direction=direction,\n",
    ")\n",
    "voronoi_velocity_direction"
   ],
   "metadata": {
    "collapsed": false
   }
  },
  {
   "cell_type": "markdown",
   "source": [
    "## Comparison mean velocity vs voronoi velocity"
   ],
   "metadata": {
    "collapsed": false
   }
  },
  {
   "cell_type": "code",
   "execution_count": null,
   "outputs": [],
   "source": [
    "fig = plt.figure(figsize=(8, 6))\n",
    "plt.plot(\n",
    "    voronoi_velocity.reset_index().frame, voronoi_velocity, label=\"voronoi\"\n",
    ")\n",
    "plt.plot(\n",
    "    voronoi_velocity_direction.reset_index().frame,\n",
    "    voronoi_velocity_direction,\n",
    "    label=\"voronoi direction\",\n",
    ")\n",
    "plt.plot(mean_speed.reset_index().frame, mean_speed, label=\"classic\")\n",
    "plt.plot(\n",
    "    mean_speed_direction.reset_index().frame,\n",
    "    mean_speed_direction,\n",
    "    label=\"classic direction\",\n",
    ")\n",
    "plt.xlabel(\"frame\")\n",
    "plt.ylabel(\"v / m/s\")\n",
    "plt.legend()\n",
    "plt.grid()\n",
    "plt.show()"
   ],
   "metadata": {
    "collapsed": false
   }
  },
  {
   "cell_type": "markdown",
   "source": [
    "## Passing speed (individual)"
   ],
   "metadata": {
    "collapsed": false
   }
  },
  {
   "cell_type": "code",
   "execution_count": null,
   "outputs": [],
   "source": [
    "from pedpy import compute_passing_speed\n",
    "from pedpy import compute_frame_range_in_area\n",
    "\n",
    "frames_in_area, _ = compute_frame_range_in_area(\n",
    "    traj_data=traj.data, measurement_line=ml, width=passing_offset\n",
    ")\n",
    "passing_speed = compute_passing_speed(\n",
    "    frames_in_area=frames_in_area,\n",
    "    frame_rate=traj.frame_rate,\n",
    "    distance=passing_offset,\n",
    ")\n",
    "passing_speed"
   ],
   "metadata": {
    "collapsed": false
   }
  },
  {
   "cell_type": "markdown",
   "source": [
    "# Flow"
   ],
   "metadata": {
    "collapsed": false
   }
  },
  {
   "cell_type": "markdown",
   "source": [
    "## N-t diagram"
   ],
   "metadata": {
    "collapsed": false
   }
  },
  {
   "cell_type": "code",
   "execution_count": null,
   "outputs": [],
   "source": [
    "from pedpy import compute_n_t\n",
    "\n",
    "nt, crossing = compute_n_t(\n",
    "    traj_data=traj.data, measurement_line=ml, frame_rate=traj.frame_rate\n",
    ")"
   ],
   "metadata": {
    "collapsed": false
   }
  },
  {
   "cell_type": "code",
   "execution_count": null,
   "outputs": [],
   "source": [
    "nt.plot(x=\"Time [s]\")"
   ],
   "metadata": {
    "collapsed": false
   }
  },
  {
   "cell_type": "markdown",
   "source": [
    "## Flow"
   ],
   "metadata": {
    "collapsed": false
   }
  },
  {
   "cell_type": "code",
   "execution_count": null,
   "outputs": [],
   "source": [
    "from pedpy import compute_flow\n",
    "\n",
    "delta_t = 100\n",
    "flow = compute_flow(\n",
    "    nt=nt,\n",
    "    crossing_frames=crossing,\n",
    "    individual_speed=individual_speed,\n",
    "    delta_t=delta_t,\n",
    "    frame_rate=traj.frame_rate,\n",
    ")\n",
    "flow"
   ],
   "metadata": {
    "collapsed": false
   }
  },
  {
   "cell_type": "markdown",
   "source": [
    "# Profiles"
   ],
   "metadata": {
    "collapsed": false
   }
  },
  {
   "cell_type": "code",
   "execution_count": null,
   "outputs": [],
   "source": [
    "from pedpy import (\n",
    "    compute_profiles,\n",
    "    compute_voronoi_velocity,\n",
    "    compute_voronoi_density,\n",
    "    VelocityMethod,\n",
    ")"
   ],
   "metadata": {
    "collapsed": false
   }
  },
  {
   "cell_type": "code",
   "execution_count": null,
   "outputs": [],
   "source": [
    "min_frame_profiles = 900\n",
    "max_frame_profiles = 1000\n",
    "\n",
    "frames_data = traj.data[\n",
    "    traj.data.frame.isin(range(min_frame_profiles, max_frame_profiles))\n",
    "]\n",
    "\n",
    "individual_frames = compute_individual_voronoi_polygons(\n",
    "    traj_data=frames_data,\n",
    "    geometry=geometry,\n",
    "    cut_off=(0.8, 12),\n",
    ")\n",
    "\n",
    "individual_speed = compute_individual_velocity(\n",
    "    traj_data=frames_data,\n",
    "    frame_rate=traj.frame_rate,\n",
    "    frame_step=5,\n",
    ")"
   ],
   "metadata": {
    "collapsed": false
   }
  },
  {
   "cell_type": "code",
   "execution_count": null,
   "outputs": [],
   "source": [
    "density_profiles, velocity_profiles = compute_profiles(\n",
    "    individual_voronoi_velocity_data=pd.merge(\n",
    "        individual_frames, individual_speed, on=[\"ID\", \"frame\"]\n",
    "    ),\n",
    "    walkable_area=geometry.walkable_area,\n",
    "    grid_size=0.2,\n",
    "    velocity_method=VelocityMethod.VORONOI,\n",
    ")"
   ],
   "metadata": {
    "collapsed": false
   }
  },
  {
   "cell_type": "code",
   "execution_count": null,
   "outputs": [],
   "source": [
    "import matplotlib.pyplot as plt\n",
    "import numpy as np\n",
    "\n",
    "bounds = geometry.walkable_area.bounds\n",
    "\n",
    "fig, (ax0, ax1) = plt.subplots(nrows=1, ncols=2, figsize=(10, 10))\n",
    "\n",
    "ax0.set_title(\"Density\")\n",
    "cm = ax0.imshow(\n",
    "    np.mean(density_profiles, axis=0),\n",
    "    extent=[bounds[0], bounds[2], bounds[1], bounds[3]],\n",
    "    interpolation=\"None\",\n",
    "    cmap=\"jet\",\n",
    "    vmin=0,\n",
    "    vmax=0.5,\n",
    ")\n",
    "fig.colorbar(cm, ax=ax0, shrink=0.3)\n",
    "ax0.plot(*geometry.walkable_area.exterior.xy, color=\"w\")\n",
    "\n",
    "ax1.set_title(\"Velocity\")\n",
    "cm = ax1.imshow(\n",
    "    np.mean(velocity_profiles, axis=0),\n",
    "    extent=[bounds[0], bounds[2], bounds[1], bounds[3]],\n",
    "    cmap=\"jet_r\",\n",
    "    vmin=0,\n",
    "    vmax=1.5,\n",
    ")\n",
    "fig.colorbar(cm, ax=ax1, shrink=0.3)\n",
    "\n",
    "ax1.plot(*geometry.walkable_area.exterior.xy, color=\"w\")\n",
    "\n",
    "fig.tight_layout()"
   ],
   "metadata": {
    "collapsed": false
   }
  },
  {
   "cell_type": "markdown",
   "source": [
    "# What to do with the results?"
   ],
   "metadata": {
    "collapsed": false
   }
  },
  {
   "cell_type": "markdown",
   "source": [
    "## Combine multiple DataFrames\n"
   ],
   "metadata": {
    "collapsed": false
   }
  },
  {
   "cell_type": "code",
   "execution_count": null,
   "outputs": [],
   "source": [
    "traj.data"
   ],
   "metadata": {
    "collapsed": false
   }
  },
  {
   "cell_type": "code",
   "execution_count": null,
   "outputs": [],
   "source": [
    "individual"
   ],
   "metadata": {
    "collapsed": false
   }
  },
  {
   "cell_type": "code",
   "execution_count": null,
   "outputs": [],
   "source": [
    "data_with_voronoi_cells = traj.data.merge(individual, on=[\"ID\", \"frame\"])\n",
    "data_with_voronoi_cells"
   ],
   "metadata": {
    "collapsed": false
   }
  },
  {
   "cell_type": "code",
   "execution_count": null,
   "outputs": [],
   "source": [
    "data_with_voronoi_cells_speed = data_with_voronoi_cells.merge(\n",
    "    individual_speed[[\"ID\", \"frame\", \"speed\"]], on=[\"ID\", \"frame\"]\n",
    ")\n",
    "data_with_voronoi_cells_speed"
   ],
   "metadata": {
    "collapsed": false
   }
  },
  {
   "cell_type": "markdown",
   "source": [
    "## Save in files"
   ],
   "metadata": {
    "collapsed": false
   }
  },
  {
   "cell_type": "markdown",
   "source": [
    "### Create directories to store the results"
   ],
   "metadata": {
    "collapsed": false
   }
  },
  {
   "cell_type": "code",
   "execution_count": null,
   "outputs": [],
   "source": [
    "pathlib.Path(\"results_introduction/profiles/velocity\").mkdir(\n",
    "    parents=True, exist_ok=True\n",
    ")\n",
    "pathlib.Path(\"results_introduction/profiles/density\").mkdir(\n",
    "    parents=True, exist_ok=True\n",
    ")\n",
    "\n",
    "results_directory = pathlib.Path(\"results_introduction\")"
   ],
   "metadata": {
    "collapsed": false
   }
  },
  {
   "cell_type": "markdown",
   "source": [
    "### Save Pandas dataframe (result from everything but profiles) as csv"
   ],
   "metadata": {
    "collapsed": false
   }
  },
  {
   "cell_type": "code",
   "execution_count": null,
   "outputs": [],
   "source": [
    "import csv\n",
    "\n",
    "data_with_voronoi_cells_speed[\"individual density\"] = shapely.area(\n",
    "    data_with_voronoi_cells_speed[\"individual voronoi\"]\n",
    ")\n",
    "\n",
    "with open(\n",
    "    results_directory / \"individual_result.csv\", \"w\"\n",
    ") as individual_output_file:\n",
    "    individual_output_file.write(f\"#framerate:\t{traj.frame_rate}\\n\\n\")\n",
    "    data_with_voronoi_cells_speed[\n",
    "        [\n",
    "            \"ID\",\n",
    "            \"frame\",\n",
    "            \"X\",\n",
    "            \"Y\",\n",
    "            \"Z\",\n",
    "            \"individual density\",\n",
    "            \"speed\",\n",
    "            \"individual voronoi\",\n",
    "            \"intersection voronoi\",\n",
    "        ]\n",
    "    ].to_csv(\n",
    "        individual_output_file,\n",
    "        mode=\"a\",\n",
    "        header=True,\n",
    "        sep=\"\\t\",\n",
    "        index_label=False,\n",
    "        index=False,\n",
    "        quoting=csv.QUOTE_NONNUMERIC,\n",
    "    )"
   ],
   "metadata": {
    "collapsed": false
   }
  },
  {
   "cell_type": "markdown",
   "source": [
    "### Save numpy arrays (result from profiles) as txt"
   ],
   "metadata": {
    "collapsed": false
   }
  },
  {
   "cell_type": "code",
   "execution_count": null,
   "outputs": [],
   "source": [
    "results_directory_density = results_directory / \"profiles/density\"\n",
    "results_directory_velocity = results_directory / \"profiles/velocity\"\n",
    "\n",
    "for i in range(len(range(min_frame_profiles, min_frame_profiles + 10))):\n",
    "    frame = min_frame_profiles + i\n",
    "    np.savetxt(\n",
    "        results_directory_density / f\"density_frame_{frame:05d}.txt\",\n",
    "        density_profiles[i],\n",
    "    )\n",
    "    np.savetxt(\n",
    "        results_directory_velocity / f\"velocity_frame_{frame:05d}.txt\",\n",
    "        velocity_profiles[i],\n",
    "    )"
   ],
   "metadata": {
    "collapsed": false
   }
  },
  {
   "cell_type": "markdown",
   "source": [
    "# FOO!"
   ],
   "metadata": {
    "collapsed": false
   }
  },
  {
   "cell_type": "code",
   "execution_count": 104,
   "outputs": [],
   "source": [
    "from pandas._typing import npt\n",
    "from typing import Optional\n",
    "\n",
    "\n",
    "def compute_individual_speed(\n",
    "    movement_data: pd.DataFrame,\n",
    "    frame_rate: float,\n",
    "    movement_direction=None,\n",
    "    velocity_vector=False,\n",
    ") -> pd.DataFrame:\n",
    "    columns = [\"ID\", \"frame\", \"speed\"]\n",
    "    time_interval = (\n",
    "        movement_data[\"end_frame\"] - movement_data[\"start_frame\"]\n",
    "    ) / frame_rate\n",
    "\n",
    "    # Compute displacements in x and y direction\n",
    "    movement_data[[\"d_x\", \"d_y\"]] = shapely.get_coordinates(\n",
    "        movement_data[\"end\"]\n",
    "    ) - shapely.get_coordinates(movement_data[\"start\"])\n",
    "\n",
    "    movement_data[\"speed\"] = (\n",
    "        np.linalg.norm(movement_data[[\"d_x\", \"d_y\"]], axis=1) / time_interval\n",
    "    )\n",
    "\n",
    "    if movement_direction is not None:\n",
    "        # Projection of the displacement onto the movement direction\n",
    "        norm_movement_direction = np.dot(movement_direction, movement_direction)\n",
    "        movement_data[[\"d_x\", \"d_y\"]] = (\n",
    "            np.dot(movement_data[[\"d_x\", \"d_y\"]].values, movement_direction)[\n",
    "                :, None\n",
    "            ]\n",
    "            * movement_direction\n",
    "            * norm_movement_direction\n",
    "        )\n",
    "        movement_data[\"speed\"] = (\n",
    "            np.dot(movement_data[[\"d_x\", \"d_y\"]].values, movement_direction)\n",
    "            / np.linalg.norm(movement_direction)\n",
    "            / time_interval\n",
    "        )\n",
    "\n",
    "    if velocity_vector:\n",
    "        movement_data[\"v_x\"] = movement_data[\"d_x\"].values / time_interval\n",
    "        movement_data[\"v_y\"] = movement_data[\"d_y\"].values / time_interval\n",
    "        columns.append(\"v_x\")\n",
    "        columns.append(\"v\")\n",
    "\n",
    "    return movement_data[columns]"
   ],
   "metadata": {
    "collapsed": false
   }
  },
  {
   "cell_type": "code",
   "execution_count": 105,
   "outputs": [
    {
     "ename": "TypeError",
     "evalue": "loop of ufunc does not support argument 0 of type list which has no callable conjugate method",
     "output_type": "error",
     "traceback": [
      "\u001B[0;31m---------------------------------------------------------------------------\u001B[0m",
      "\u001B[0;31mAttributeError\u001B[0m                            Traceback (most recent call last)",
      "\u001B[0;31mAttributeError\u001B[0m: 'list' object has no attribute 'conjugate'",
      "\nThe above exception was the direct cause of the following exception:\n",
      "\u001B[0;31mTypeError\u001B[0m                                 Traceback (most recent call last)",
      "Cell \u001B[0;32mIn [105], line 5\u001B[0m\n\u001B[1;32m      3\u001B[0m df_movement \u001B[38;5;241m=\u001B[39m _compute_individual_movement(traj\u001B[38;5;241m.\u001B[39mdata, \u001B[38;5;241m5\u001B[39m)\n\u001B[1;32m      4\u001B[0m \u001B[38;5;66;03m# df_speed = compute_individual_speed(df_movement, traj.frame_rate, [1, 0], True)\u001B[39;00m\n\u001B[0;32m----> 5\u001B[0m df_speed \u001B[38;5;241m=\u001B[39m \u001B[43mcompute_individual_speed\u001B[49m\u001B[43m(\u001B[49m\u001B[43mdf_movement\u001B[49m\u001B[43m,\u001B[49m\u001B[43m \u001B[49m\u001B[43mtraj\u001B[49m\u001B[38;5;241;43m.\u001B[39;49m\u001B[43mframe_rate\u001B[49m\u001B[43m,\u001B[49m\u001B[43m \u001B[49m\u001B[38;5;28;43;01mNone\u001B[39;49;00m\u001B[43m,\u001B[49m\u001B[43m \u001B[49m\u001B[38;5;28;43;01mTrue\u001B[39;49;00m\u001B[43m)\u001B[49m[:\u001B[38;5;241m10\u001B[39m]\n\u001B[1;32m      6\u001B[0m df_speed\n",
      "Cell \u001B[0;32mIn [104], line 23\u001B[0m, in \u001B[0;36mcompute_individual_speed\u001B[0;34m(movement_data, frame_rate, movement_direction, velocity_vector)\u001B[0m\n\u001B[1;32m     12\u001B[0m time_interval \u001B[38;5;241m=\u001B[39m (\n\u001B[1;32m     13\u001B[0m     movement_data[\u001B[38;5;124m\"\u001B[39m\u001B[38;5;124mend_frame\u001B[39m\u001B[38;5;124m\"\u001B[39m] \u001B[38;5;241m-\u001B[39m movement_data[\u001B[38;5;124m\"\u001B[39m\u001B[38;5;124mstart_frame\u001B[39m\u001B[38;5;124m\"\u001B[39m]\n\u001B[1;32m     14\u001B[0m ) \u001B[38;5;241m/\u001B[39m frame_rate\n\u001B[1;32m     17\u001B[0m movement_data[\u001B[38;5;124m\"\u001B[39m\u001B[38;5;124mdisplacement\u001B[39m\u001B[38;5;124m\"\u001B[39m] \u001B[38;5;241m=\u001B[39m (shapely\u001B[38;5;241m.\u001B[39mget_coordinates(\n\u001B[1;32m     18\u001B[0m     movement_data[\u001B[38;5;124m\"\u001B[39m\u001B[38;5;124mend\u001B[39m\u001B[38;5;124m\"\u001B[39m]\n\u001B[1;32m     19\u001B[0m ) \u001B[38;5;241m-\u001B[39m shapely\u001B[38;5;241m.\u001B[39mget_coordinates(movement_data[\u001B[38;5;124m\"\u001B[39m\u001B[38;5;124mstart\u001B[39m\u001B[38;5;124m\"\u001B[39m]))\u001B[38;5;241m.\u001B[39mtolist()\n\u001B[1;32m     22\u001B[0m movement_data[\u001B[38;5;124m\"\u001B[39m\u001B[38;5;124mspeed\u001B[39m\u001B[38;5;124m\"\u001B[39m] \u001B[38;5;241m=\u001B[39m (\n\u001B[0;32m---> 23\u001B[0m     \u001B[43mnp\u001B[49m\u001B[38;5;241;43m.\u001B[39;49m\u001B[43mlinalg\u001B[49m\u001B[38;5;241;43m.\u001B[39;49m\u001B[43mnorm\u001B[49m\u001B[43m(\u001B[49m\u001B[43mmovement_data\u001B[49m\u001B[43m[\u001B[49m\u001B[38;5;124;43m\"\u001B[39;49m\u001B[38;5;124;43mdisplacement\u001B[39;49m\u001B[38;5;124;43m\"\u001B[39;49m\u001B[43m]\u001B[49m\u001B[43m,\u001B[49m\u001B[43m \u001B[49m\u001B[43maxis\u001B[49m\u001B[38;5;241;43m=\u001B[39;49m\u001B[38;5;241;43m1\u001B[39;49m\u001B[43m)\u001B[49m \u001B[38;5;241m/\u001B[39m time_interval\n\u001B[1;32m     24\u001B[0m )\n\u001B[1;32m     26\u001B[0m \u001B[38;5;28;01mif\u001B[39;00m movement_direction \u001B[38;5;129;01mis\u001B[39;00m \u001B[38;5;129;01mnot\u001B[39;00m \u001B[38;5;28;01mNone\u001B[39;00m:\n\u001B[1;32m     27\u001B[0m     norm_movement_direction \u001B[38;5;241m=\u001B[39m np\u001B[38;5;241m.\u001B[39mdot(movement_direction, movement_direction)\n",
      "File \u001B[0;32m<__array_function__ internals>:180\u001B[0m, in \u001B[0;36mnorm\u001B[0;34m(*args, **kwargs)\u001B[0m\n",
      "File \u001B[0;32m~/development/pedpy/venv-pedpy-310/lib/python3.10/site-packages/numpy/linalg/linalg.py:2546\u001B[0m, in \u001B[0;36mnorm\u001B[0;34m(x, ord, axis, keepdims)\u001B[0m\n\u001B[1;32m   2543\u001B[0m     \u001B[38;5;28;01mreturn\u001B[39;00m add\u001B[38;5;241m.\u001B[39mreduce(\u001B[38;5;28mabs\u001B[39m(x), axis\u001B[38;5;241m=\u001B[39maxis, keepdims\u001B[38;5;241m=\u001B[39mkeepdims)\n\u001B[1;32m   2544\u001B[0m \u001B[38;5;28;01melif\u001B[39;00m \u001B[38;5;28mord\u001B[39m \u001B[38;5;129;01mis\u001B[39;00m \u001B[38;5;28;01mNone\u001B[39;00m \u001B[38;5;129;01mor\u001B[39;00m \u001B[38;5;28mord\u001B[39m \u001B[38;5;241m==\u001B[39m \u001B[38;5;241m2\u001B[39m:\n\u001B[1;32m   2545\u001B[0m     \u001B[38;5;66;03m# special case for speedup\u001B[39;00m\n\u001B[0;32m-> 2546\u001B[0m     s \u001B[38;5;241m=\u001B[39m (\u001B[43mx\u001B[49m\u001B[38;5;241;43m.\u001B[39;49m\u001B[43mconj\u001B[49m\u001B[43m(\u001B[49m\u001B[43m)\u001B[49m \u001B[38;5;241m*\u001B[39m x)\u001B[38;5;241m.\u001B[39mreal\n\u001B[1;32m   2547\u001B[0m     \u001B[38;5;28;01mreturn\u001B[39;00m sqrt(add\u001B[38;5;241m.\u001B[39mreduce(s, axis\u001B[38;5;241m=\u001B[39maxis, keepdims\u001B[38;5;241m=\u001B[39mkeepdims))\n\u001B[1;32m   2548\u001B[0m \u001B[38;5;66;03m# None of the str-type keywords for ord ('fro', 'nuc')\u001B[39;00m\n\u001B[1;32m   2549\u001B[0m \u001B[38;5;66;03m# are valid for vectors\u001B[39;00m\n",
      "\u001B[0;31mTypeError\u001B[0m: loop of ufunc does not support argument 0 of type list which has no callable conjugate method"
     ]
    }
   ],
   "source": [
    "from pedpy.methods.velocity_calculator import _compute_individual_movement\n",
    "\n",
    "df_movement = _compute_individual_movement(traj.data, 5)\n",
    "# df_speed = compute_individual_speed(df_movement, traj.frame_rate, [1, 0], True)\n",
    "df_speed = compute_individual_speed(df_movement, traj.frame_rate, None, True)[:10]\n",
    "df_speed"
   ],
   "metadata": {
    "collapsed": false
   }
  },
  {
   "cell_type": "code",
   "execution_count": 138,
   "outputs": [
    {
     "data": {
      "text/plain": "        ID  frame                   start                     end  \\\n0        1     98   POINT (4.6012 1.8909)   POINT (4.2707 1.9487)   \n1        1     99   POINT (4.5359 1.8976)   POINT (4.2142 1.9536)   \n2        1    100    POINT (4.447 1.9304)   POINT (4.1565 1.9545)   \n3        1    101   POINT (4.3865 1.9364)   POINT (4.0987 1.9554)   \n4        1    102   POINT (4.3285 1.9452)    POINT (4.032 1.9654)   \n...    ...    ...                     ...                     ...   \n25531  148    872  POINT (-4.8964 1.4549)   POINT (-5.1631 1.484)   \n25532  148    873  POINT (-4.9461 1.4659)  POINT (-5.2162 1.4826)   \n25533  148    874  POINT (-4.9989 1.4762)  POINT (-5.2685 1.4796)   \n25534  148    875  POINT (-5.0561 1.4822)  POINT (-5.3164 1.4793)   \n25535  148    876   POINT (-5.1087 1.485)  POINT (-5.3606 1.4787)   \n\n       start_frame  end_frame                                  displacement  \\\n0             98.0      103.0   [-0.3305000000000007, 0.057800000000000074]   \n1             99.0      104.0    [-0.3216999999999999, 0.05600000000000005]   \n2            100.0      105.0   [-0.29049999999999976, 0.02410000000000001]   \n3            101.0      106.0  [-0.28779999999999983, 0.019000000000000128]   \n4            102.0      107.0               [-0.2965, 0.020199999999999996]   \n...            ...        ...                                           ...   \n25531        867.0      872.0  [-0.26670000000000016, 0.029099999999999904]   \n25532        868.0      873.0  [-0.27009999999999934, 0.016699999999999937]   \n25533        869.0      874.0  [-0.2696000000000005, 0.0034000000000000696]   \n25534        870.0      875.0             [-0.2603, -0.0028999999999999027]   \n25535        871.0      876.0              [-0.2519, -0.006300000000000194]   \n\n                                                  d  \n0       [-0.3305000000000007, 0.057800000000000074]  \n1        [-0.3216999999999999, 0.05600000000000005]  \n2       [-0.29049999999999976, 0.02410000000000001]  \n3      [-0.28779999999999983, 0.019000000000000128]  \n4                   [-0.2965, 0.020199999999999996]  \n...                                             ...  \n25531  [-0.26670000000000016, 0.029099999999999904]  \n25532  [-0.27009999999999934, 0.016699999999999937]  \n25533  [-0.2696000000000005, 0.0034000000000000696]  \n25534             [-0.2603, -0.0028999999999999027]  \n25535              [-0.2519, -0.006300000000000194]  \n\n[25536 rows x 8 columns]",
      "text/html": "<div>\n<style scoped>\n    .dataframe tbody tr th:only-of-type {\n        vertical-align: middle;\n    }\n\n    .dataframe tbody tr th {\n        vertical-align: top;\n    }\n\n    .dataframe thead th {\n        text-align: right;\n    }\n</style>\n<table border=\"1\" class=\"dataframe\">\n  <thead>\n    <tr style=\"text-align: right;\">\n      <th></th>\n      <th>ID</th>\n      <th>frame</th>\n      <th>start</th>\n      <th>end</th>\n      <th>start_frame</th>\n      <th>end_frame</th>\n      <th>displacement</th>\n      <th>d</th>\n    </tr>\n  </thead>\n  <tbody>\n    <tr>\n      <th>0</th>\n      <td>1</td>\n      <td>98</td>\n      <td>POINT (4.6012 1.8909)</td>\n      <td>POINT (4.2707 1.9487)</td>\n      <td>98.0</td>\n      <td>103.0</td>\n      <td>[-0.3305000000000007, 0.057800000000000074]</td>\n      <td>[-0.3305000000000007, 0.057800000000000074]</td>\n    </tr>\n    <tr>\n      <th>1</th>\n      <td>1</td>\n      <td>99</td>\n      <td>POINT (4.5359 1.8976)</td>\n      <td>POINT (4.2142 1.9536)</td>\n      <td>99.0</td>\n      <td>104.0</td>\n      <td>[-0.3216999999999999, 0.05600000000000005]</td>\n      <td>[-0.3216999999999999, 0.05600000000000005]</td>\n    </tr>\n    <tr>\n      <th>2</th>\n      <td>1</td>\n      <td>100</td>\n      <td>POINT (4.447 1.9304)</td>\n      <td>POINT (4.1565 1.9545)</td>\n      <td>100.0</td>\n      <td>105.0</td>\n      <td>[-0.29049999999999976, 0.02410000000000001]</td>\n      <td>[-0.29049999999999976, 0.02410000000000001]</td>\n    </tr>\n    <tr>\n      <th>3</th>\n      <td>1</td>\n      <td>101</td>\n      <td>POINT (4.3865 1.9364)</td>\n      <td>POINT (4.0987 1.9554)</td>\n      <td>101.0</td>\n      <td>106.0</td>\n      <td>[-0.28779999999999983, 0.019000000000000128]</td>\n      <td>[-0.28779999999999983, 0.019000000000000128]</td>\n    </tr>\n    <tr>\n      <th>4</th>\n      <td>1</td>\n      <td>102</td>\n      <td>POINT (4.3285 1.9452)</td>\n      <td>POINT (4.032 1.9654)</td>\n      <td>102.0</td>\n      <td>107.0</td>\n      <td>[-0.2965, 0.020199999999999996]</td>\n      <td>[-0.2965, 0.020199999999999996]</td>\n    </tr>\n    <tr>\n      <th>...</th>\n      <td>...</td>\n      <td>...</td>\n      <td>...</td>\n      <td>...</td>\n      <td>...</td>\n      <td>...</td>\n      <td>...</td>\n      <td>...</td>\n    </tr>\n    <tr>\n      <th>25531</th>\n      <td>148</td>\n      <td>872</td>\n      <td>POINT (-4.8964 1.4549)</td>\n      <td>POINT (-5.1631 1.484)</td>\n      <td>867.0</td>\n      <td>872.0</td>\n      <td>[-0.26670000000000016, 0.029099999999999904]</td>\n      <td>[-0.26670000000000016, 0.029099999999999904]</td>\n    </tr>\n    <tr>\n      <th>25532</th>\n      <td>148</td>\n      <td>873</td>\n      <td>POINT (-4.9461 1.4659)</td>\n      <td>POINT (-5.2162 1.4826)</td>\n      <td>868.0</td>\n      <td>873.0</td>\n      <td>[-0.27009999999999934, 0.016699999999999937]</td>\n      <td>[-0.27009999999999934, 0.016699999999999937]</td>\n    </tr>\n    <tr>\n      <th>25533</th>\n      <td>148</td>\n      <td>874</td>\n      <td>POINT (-4.9989 1.4762)</td>\n      <td>POINT (-5.2685 1.4796)</td>\n      <td>869.0</td>\n      <td>874.0</td>\n      <td>[-0.2696000000000005, 0.0034000000000000696]</td>\n      <td>[-0.2696000000000005, 0.0034000000000000696]</td>\n    </tr>\n    <tr>\n      <th>25534</th>\n      <td>148</td>\n      <td>875</td>\n      <td>POINT (-5.0561 1.4822)</td>\n      <td>POINT (-5.3164 1.4793)</td>\n      <td>870.0</td>\n      <td>875.0</td>\n      <td>[-0.2603, -0.0028999999999999027]</td>\n      <td>[-0.2603, -0.0028999999999999027]</td>\n    </tr>\n    <tr>\n      <th>25535</th>\n      <td>148</td>\n      <td>876</td>\n      <td>POINT (-5.1087 1.485)</td>\n      <td>POINT (-5.3606 1.4787)</td>\n      <td>871.0</td>\n      <td>876.0</td>\n      <td>[-0.2519, -0.006300000000000194]</td>\n      <td>[-0.2519, -0.006300000000000194]</td>\n    </tr>\n  </tbody>\n</table>\n<p>25536 rows × 8 columns</p>\n</div>"
     },
     "execution_count": 138,
     "metadata": {},
     "output_type": "execute_result"
    }
   ],
   "source": [
    "df_movement['d'] = (shapely.get_coordinates(\n",
    "    df_movement[\"end\"]\n",
    ") - shapely.get_coordinates(df_movement[\"start\"])).tolist()\n",
    "df_movement['d'] = df_movement['d'].apply(np.array)\n",
    "df_movement"
   ],
   "metadata": {
    "collapsed": false
   }
  },
  {
   "cell_type": "code",
   "execution_count": 140,
   "outputs": [
    {
     "data": {
      "text/plain": "numpy.ndarray"
     },
     "execution_count": 140,
     "metadata": {},
     "output_type": "execute_result"
    }
   ],
   "source": [
    "type(df_movement[\"d\"][0])\n"
   ],
   "metadata": {
    "collapsed": false
   }
  },
  {
   "cell_type": "code",
   "execution_count": null,
   "outputs": [],
   "source": [],
   "metadata": {
    "collapsed": false
   }
  },
  {
   "cell_type": "code",
   "execution_count": 119,
   "outputs": [
    {
     "data": {
      "text/plain": "0    <bound method DataFrame.to_numpy of        v_x...\n1    <bound method DataFrame.to_numpy of        v_x...\n2    <bound method DataFrame.to_numpy of        v_x...\n3    <bound method DataFrame.to_numpy of        v_x...\n4    <bound method DataFrame.to_numpy of        v_x...\n5    <bound method DataFrame.to_numpy of        v_x...\n6    <bound method DataFrame.to_numpy of        v_x...\n7    <bound method DataFrame.to_numpy of        v_x...\n8    <bound method DataFrame.to_numpy of        v_x...\n9    <bound method DataFrame.to_numpy of        v_x...\nName: v, dtype: object"
     },
     "execution_count": 119,
     "metadata": {},
     "output_type": "execute_result"
    }
   ],
   "source": [
    "df_speed['v'] = df_speed[['v_x', 'v_y']].to_numpy\n",
    "df_speed['v']"
   ],
   "metadata": {
    "collapsed": false
   }
  },
  {
   "cell_type": "code",
   "execution_count": 71,
   "outputs": [
    {
     "data": {
      "text/plain": "array([[-1.6525 , -1.6085 ],\n       [-1.4525 , -1.439  ],\n       [-1.4825 , -1.55625],\n       [-1.534  , -1.51875],\n       [-1.50825, -1.53275],\n       [ 0.289  ,  0.28   ],\n       [ 0.1205 ,  0.095  ],\n       [ 0.101  ,  0.153  ],\n       [ 0.117  ,  0.05675],\n       [-0.00175, -0.02925]])"
     },
     "execution_count": 71,
     "metadata": {},
     "output_type": "execute_result"
    }
   ],
   "source": [
    "np.concatenate((df_speed['v_x'].values, df_speed['v_y'].values)).reshape(10, 2)"
   ],
   "metadata": {
    "collapsed": false
   }
  }
 ],
 "metadata": {
  "kernelspec": {
   "display_name": "Python 3",
   "language": "python",
   "name": "python3"
  },
  "language_info": {
   "codemirror_mode": {
    "name": "ipython",
    "version": 2
   },
   "file_extension": ".py",
   "mimetype": "text/x-python",
   "name": "python",
   "nbconvert_exporter": "python",
   "pygments_lexer": "ipython2",
   "version": "2.7.6"
  }
 },
 "nbformat": 4,
 "nbformat_minor": 0
}
