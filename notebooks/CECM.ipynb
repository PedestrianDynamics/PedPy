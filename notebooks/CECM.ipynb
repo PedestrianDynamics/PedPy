{
 "cells": [
  {
   "cell_type": "markdown",
   "id": "810b95f1ad44b0cb",
   "metadata": {
    "collapsed": false
   },
   "source": [
    "# Fundamental Diagrams at Measurement Lines\n",
    "\n",
    "This notebook demonstrates the calculation of density, speed, and flow for pedestrian trajectories at a measurement line, based on the method described in Adrian et al., 2024: [Continuity Equation and Fundamental Diagram of Pedestrians](https://arxiv.org/abs/2409.11857).\n",
    "\n",
    "The calculations rely on a Voronoi decomposition of the available space, adapted to determine each pedestrian's contribution to the measurement line. Specifically, the proportion of the line intersected by a pedestrian's Voronoi cell defines their contribution. \n",
    "\n",
    "The speed at the measurement line ($v_l$) is calculated as:\n",
    "\n",
    "$$v_{l} = \\sum_i v_{i,n_{l}} \\cdot w_{i,l},$$\n",
    "\n",
    "where $v_{i,n_{l}}$ is the speed of pedestrian $i$ orthogonal to the measurement line, and $w_{i,l}$ is their proportional contribution to the line. Density and flow are computed using similar principles.\n",
    "\n",
    "This method measures flow perpendicular to a line, aligning with the classical physical definition. It is particularly effective for analyzing directional flows (e.g., uni- or bidirectional). However, for non-directional flows over wide areas, alternative measurement methods may be more appropriate."
   ]
  },
  {
   "cell_type": "markdown",
   "id": "68d6967958fa4e75",
   "metadata": {
    "collapsed": false
   },
   "source": [
    "## Analysis set-up"
   ]
  },
  {
   "cell_type": "markdown",
   "id": "1e1b8623b814c77e",
   "metadata": {
    "collapsed": false
   },
   "source": [
    "The first step is to load the trajectory data. This guide analyzes data from four corridor experiments: two with unidirectional flows and two with bidirectional flows. The measurement line is aligned orthogonally to the main movement direction in all experiments."
   ]
  },
  {
   "cell_type": "code",
   "execution_count": 1,
   "id": "b409c7be59f4a539",
   "metadata": {
    "ExecuteTime": {
     "end_time": "2023-12-07T12:49:20.139607132Z",
     "start_time": "2023-12-07T12:49:19.421768407Z"
    },
    "collapsed": false
   },
   "outputs": [],
   "source": [
    "from pedpy import TrajectoryUnit\n",
    "\n",
    "files = {\n",
    "    \"unidirectional 1\": (\n",
    "        \"demo-data/uni-directional/traj_UNI_CORR_500_08.txt\",\n",
    "        TrajectoryUnit.METER,\n",
    "    ),\n",
    "    \"unidirectional 2\": (\n",
    "        \"demo-data/uni-directional/traj_UNI_CORR_500_03.txt\",\n",
    "        TrajectoryUnit.METER,\n",
    "    ),\n",
    "    \"bidirectional 1\": (\n",
    "        \"demo-data/bi-directional/bi_corr_400_b_08.txt\",\n",
    "        TrajectoryUnit.CENTIMETER,\n",
    "    ),\n",
    "    \"bidirectional 2\": (\n",
    "        \"demo-data/bi-directional/bi_corr_400_b_03.txt\",\n",
    "        TrajectoryUnit.CENTIMETER,\n",
    "    ),\n",
    "}"
   ]
  },
  {
   "cell_type": "code",
   "execution_count": 2,
   "id": "4e634ac5faf4f63c",
   "metadata": {
    "ExecuteTime": {
     "end_time": "2023-12-07T12:49:21.367722990Z",
     "start_time": "2023-12-07T12:49:20.139261552Z"
    },
    "collapsed": false
   },
   "outputs": [],
   "source": [
    "import pathlib\n",
    "\n",
    "from pedpy import load_trajectory\n",
    "\n",
    "trajectories = {}\n",
    "for name, (path, unit) in files.items():\n",
    "    trajectories[name] = load_trajectory(\n",
    "        trajectory_file=pathlib.Path(path), default_unit=unit\n",
    "    )"
   ]
  },
  {
   "cell_type": "code",
   "execution_count": null,
   "id": "c34fde5f82e6d38d",
   "metadata": {
    "ExecuteTime": {
     "end_time": "2023-12-07T12:49:45.487203686Z",
     "start_time": "2023-12-07T12:49:21.369466673Z"
    },
    "collapsed": false,
    "tags": [
     "hide-input"
    ]
   },
   "outputs": [],
   "source": [
    "import matplotlib.pyplot as plt\n",
    "\n",
    "from pedpy import plot_measurement_setup\n",
    "\n",
    "fig, axs = plt.subplots(2, int(len(trajectories) / 2), figsize=(15, 8))\n",
    "\n",
    "for (name, trajectory), ax in zip(\n",
    "    trajectories.items(), axs.ravel(), strict=False\n",
    "):\n",
    "    ax.set_title(name)\n",
    "\n",
    "    plot_measurement_setup(\n",
    "        traj=trajectory,\n",
    "        axes=ax,\n",
    "        traj_width=0.2,\n",
    "        traj_end_marker=\"x\",\n",
    "    )\n",
    "    ax.set_aspect(\"equal\")\n",
    "\n",
    "fig.tight_layout()\n",
    "plt.show()"
   ]
  },
  {
   "cell_type": "markdown",
   "id": "f66c5639dc80402",
   "metadata": {
    "collapsed": false
   },
   "source": [
    "The plot above shows the trajectories of the experimental data analyzed in this Notebook, including both unidirectional and bidirectional experiments. Each red line represents a pedestrian's trajectory, with their ending positions marked by an \"x.\""
   ]
  },
  {
   "cell_type": "markdown",
   "id": "5c557acc670c20a2",
   "metadata": {
    "collapsed": false
   },
   "source": [
    "Next the {class}`walkable area <geometry.WalkableArea>` of the experiment is defined."
   ]
  },
  {
   "cell_type": "code",
   "execution_count": 4,
   "id": "63fd2c8325d908f0",
   "metadata": {
    "ExecuteTime": {
     "end_time": "2023-12-07T12:49:45.487408686Z",
     "start_time": "2023-12-07T12:49:45.486592467Z"
    },
    "collapsed": false,
    "tags": [
     "hide-input"
    ]
   },
   "outputs": [],
   "source": [
    "from pedpy import WalkableArea\n",
    "\n",
    "walkable_areas = {\n",
    "    \"unidirectional 1\": WalkableArea(\n",
    "        # complete area\n",
    "        [(-6.5, 6.5), (-6.5, -1.5), (6.5, -1.5), (6.5, 6.5)],\n",
    "        obstacles=[\n",
    "            # lower Wall:\n",
    "            [(-6.0, 0.0), (5.0, 0.0), (5.0, -1.0), (-6.0, -1.0)],\n",
    "            # upper Wall:\n",
    "            [(-6.0, 5.0), (5.0, 5.0), (5.0, 6.0), (-6.0, 6.0)],\n",
    "        ],\n",
    "    ),\n",
    "    \"unidirectional 2\": WalkableArea(\n",
    "        # complete area\n",
    "        [(-6.5, 6.5), (-6.5, -1.5), (6.5, -1.5), (6.5, 6.5)],\n",
    "        obstacles=[\n",
    "            # lower Wall:\n",
    "            [(-6.0, 0.0), (5.0, 0.0), (5.0, -1.0), (-6.0, -1.0)],\n",
    "            # upper Wall:\n",
    "            [(-6.0, 5.0), (5.0, 5.0), (5.0, 6.0), (-6.0, 6.0)],\n",
    "        ],\n",
    "    ),\n",
    "    \"bidirectional 1\": WalkableArea(\n",
    "        # complete area\n",
    "        [(-6.5, 6.5), (-6.5, -1.5), (5.5, -1.5), (5.5, 6.5)],\n",
    "        obstacles=[\n",
    "            # lower Wall:\n",
    "            [(-6.0, 0.0), (5.0, 0.0), (5.0, -1.0), (-6.0, -1.0)],\n",
    "            # upper Wall:\n",
    "            [(-6.0, 4.0), (5.0, 4.0), (5.0, 5.0), (-6.0, 5.0)],\n",
    "        ],\n",
    "    ),\n",
    "    \"bidirectional 2\": WalkableArea(\n",
    "        # complete area\n",
    "        [(-6.5, 6.5), (-6.5, -1.5), (5.5, -1.5), (5.5, 6.5)],\n",
    "        obstacles=[\n",
    "            # lower Wall:\n",
    "            [(-5.0, 0.0), (5.0, 0.0), (5.0, -1.0), (-5.0, -1.0)],\n",
    "            # upper Wall:\n",
    "            [(-5.0, 4.1), (5.0, 4.1), (5.0, 5.0), (-5.0, 5.0)],\n",
    "        ],\n",
    "    ),\n",
    "}"
   ]
  },
  {
   "cell_type": "markdown",
   "id": "1cb6f247b90fd8c7",
   "metadata": {
    "collapsed": false
   },
   "source": [
    "To obtain correct results, it is important that the measurement line is orthogonal to the main direction of movement."
   ]
  },
  {
   "cell_type": "code",
   "execution_count": 5,
   "id": "cdfa6971de96c0fa",
   "metadata": {
    "ExecuteTime": {
     "end_time": "2023-12-07T12:49:45.687126104Z",
     "start_time": "2023-12-07T12:49:45.486881530Z"
    },
    "collapsed": false
   },
   "outputs": [],
   "source": [
    "from pedpy import MeasurementLine\n",
    "\n",
    "measurement_lines = {\n",
    "    \"unidirectional 1\": MeasurementLine([(0.0, 0.0), (0.0, 5.0)]),\n",
    "    \"unidirectional 2\": MeasurementLine([(0.0, 0.0), (0.0, 5.0)]),\n",
    "    \"bidirectional 1\": MeasurementLine([(0.0, 0.0), (0.0, 4.0)]),\n",
    "    \"bidirectional 2\": MeasurementLine([(0.0, 0.0), (0.0, 4.0)]),\n",
    "}"
   ]
  },
  {
   "cell_type": "markdown",
   "id": "b9c645cf11cbc971",
   "metadata": {
    "collapsed": false
   },
   "source": [
    "The entire setup, including trajectories, geometry, and measurement lines looks like this:"
   ]
  },
  {
   "cell_type": "code",
   "execution_count": null,
   "id": "21e7ca55fcc96122",
   "metadata": {
    "ExecuteTime": {
     "end_time": "2023-12-07T12:50:07.640105746Z",
     "start_time": "2023-12-07T12:49:45.510162285Z"
    },
    "collapsed": false,
    "tags": [
     "hide-input"
    ]
   },
   "outputs": [],
   "source": [
    "import matplotlib.pyplot as plt\n",
    "\n",
    "from pedpy import plot_measurement_setup\n",
    "\n",
    "fig, axs = plt.subplots(2, int(len(trajectories) / 2), figsize=(15, 11))\n",
    "\n",
    "for (name, trajectory), ax in zip(\n",
    "    trajectories.items(), axs.ravel(), strict=False\n",
    "):\n",
    "    ax.set_title(name)\n",
    "\n",
    "    plot_measurement_setup(\n",
    "        traj=trajectory,\n",
    "        walkable_area=walkable_areas[name],\n",
    "        measurement_lines=[measurement_lines[name]],\n",
    "        axes=ax,\n",
    "        traj_width=0.2,\n",
    "        traj_end_marker=\"x\",\n",
    "        ma_color=\"g\",\n",
    "        ma_line_color=\"g\",\n",
    "        ma_alpha=0.2,\n",
    "        ml_color=\"b\",\n",
    "    )\n",
    "    ax.set_aspect(\"equal\")\n",
    "\n",
    "fig.tight_layout()\n",
    "plt.show()"
   ]
  },
  {
   "cell_type": "markdown",
   "id": "72e717ba2262fdaf",
   "metadata": {
    "collapsed": false
   },
   "source": [
    "## Calculate Voronoi polygons"
   ]
  },
  {
   "cell_type": "markdown",
   "id": "342a46db",
   "metadata": {},
   "source": [
    "The Voronoi decomposition is used to assign cells to each pedestrian and to calculate density, speed, and flow at a measurement line. To ensure accuracy, it is highly recommended to apply a cutoff when calculating Voronoi polygons. Without a cutoff, pedestrians at the edges of a group may influence disproportionately large areas, leading to inaccuracies.\n",
    "\n",
    "Please note that computing Voronoi polygons may take some time."
   ]
  },
  {
   "cell_type": "code",
   "execution_count": 7,
   "id": "14b8bfa90861ff36",
   "metadata": {
    "ExecuteTime": {
     "end_time": "2023-12-07T12:50:07.846671936Z",
     "start_time": "2023-12-07T12:50:07.672737866Z"
    },
    "collapsed": false
   },
   "outputs": [],
   "source": [
    "from pedpy.methods.method_utils import (\n",
    "    Cutoff,\n",
    "    compute_individual_voronoi_polygons,\n",
    ")\n",
    "\n",
    "individual_cutoffs = {}"
   ]
  },
  {
   "cell_type": "code",
   "execution_count": 8,
   "id": "b062f11e8a88ac96",
   "metadata": {
    "ExecuteTime": {
     "end_time": "2023-12-07T12:50:32.220752892Z",
     "start_time": "2023-12-07T12:50:07.673140070Z"
    },
    "collapsed": false
   },
   "outputs": [],
   "source": [
    "individual_cutoffs[\"unidirectional 1\"] = compute_individual_voronoi_polygons(\n",
    "    traj_data=trajectories[\"unidirectional 1\"],\n",
    "    walkable_area=walkable_areas[\"unidirectional 1\"],\n",
    "    cut_off=Cutoff(radius=0.8, quad_segments=3),\n",
    ")"
   ]
  },
  {
   "cell_type": "code",
   "execution_count": 9,
   "id": "ae68cbb7211aa3e",
   "metadata": {
    "ExecuteTime": {
     "end_time": "2023-12-07T12:50:55.697101808Z",
     "start_time": "2023-12-07T12:50:32.230577126Z"
    },
    "collapsed": false
   },
   "outputs": [],
   "source": [
    "individual_cutoffs[\"unidirectional 2\"] = compute_individual_voronoi_polygons(\n",
    "    traj_data=trajectories[\"unidirectional 2\"],\n",
    "    walkable_area=walkable_areas[\"unidirectional 2\"],\n",
    "    cut_off=Cutoff(radius=0.8, quad_segments=3),\n",
    ")"
   ]
  },
  {
   "cell_type": "code",
   "execution_count": 10,
   "id": "98d6e2a8b94dbdaa",
   "metadata": {
    "ExecuteTime": {
     "end_time": "2023-12-07T12:51:50.377228327Z",
     "start_time": "2023-12-07T12:50:55.696800260Z"
    },
    "collapsed": false
   },
   "outputs": [],
   "source": [
    "individual_cutoffs[\"bidirectional 1\"] = compute_individual_voronoi_polygons(\n",
    "    traj_data=trajectories[\"bidirectional 1\"],\n",
    "    walkable_area=walkable_areas[\"bidirectional 1\"],\n",
    "    cut_off=Cutoff(radius=0.8, quad_segments=3),\n",
    ")"
   ]
  },
  {
   "cell_type": "code",
   "execution_count": 11,
   "id": "c62d7865cbdcfd7",
   "metadata": {
    "ExecuteTime": {
     "end_time": "2023-12-07T12:52:05.547789524Z",
     "start_time": "2023-12-07T12:51:50.420568298Z"
    },
    "collapsed": false
   },
   "outputs": [],
   "source": [
    "individual_cutoffs[\"bidirectional 2\"] = compute_individual_voronoi_polygons(\n",
    "    traj_data=trajectories[\"bidirectional 2\"],\n",
    "    walkable_area=walkable_areas[\"bidirectional 2\"],\n",
    "    cut_off=Cutoff(radius=0.8, quad_segments=3),\n",
    ")"
   ]
  },
  {
   "cell_type": "markdown",
   "id": "534ad39d2a20e686",
   "metadata": {
    "collapsed": false
   },
   "source": [
    "## Determine the species"
   ]
  },
  {
   "cell_type": "markdown",
   "id": "1c781e9b0fb0641c",
   "metadata": {
    "collapsed": false
   },
   "source": [
    "A species represents a set of pedestrians that encouters the measurement line frome the same side. \n",
    "Since there are two possible main directions of movement in which the line can be approached orthogonally, pedestrians are divided into two species, referred to as Species 1 and Species 2.\n",
    "\n",
    "To determine which species a pedestrian belongs to, the direction of their velocity at the first frame $t_{i,l}$​, where their Voronoi cell intersects the line, is analyzed.\n",
    "\n",
    "A movement factor $m_i$​ is defined for each pedestrian $i$ as the sign of the orthogonal velocity component $n \\cdot v(t_{i,l})$ at $t_{i,l}$: \n",
    "\n",
    "$$ m_i = sign \\Big( n \\cdot v(t_{i,l}) \\Big).$$\n",
    "\n",
    "Here:\n",
    "\n",
    "- $n$ is the normal vector of the measurement line\n",
    "- $v(t_{i,l})$ is the velocity of pedestrian $i$ when they reach the line $l$.\n",
    "\n",
    "Pedestrians with $m_i=1$ have the same main movement direction and belong to Species 1.\n",
    "Pedestrian with $m_i=-1$ move in the opposite direction and belong to Species 2. \n",
    "\n",
    "```{eval-rst}\n",
    ".. figure:: images/species_determination.svg\n",
    "    :align: center\n",
    "```\n",
    "This figure shows the frame where the species determination is made.\n",
    "This decision is based on the first frame where a pedestrian's Voronoi cell intersects the measurement line. The direction of the current velocity at that moment determines the species assignment.\n",
    "\n",
    "It is important to note that the decision is independent of whether the pedestrian crosses the line afterward."
   ]
  },
  {
   "cell_type": "code",
   "execution_count": 12,
   "id": "11d4a3db303e4f81",
   "metadata": {
    "ExecuteTime": {
     "end_time": "2023-12-07T12:52:07.433332001Z",
     "start_time": "2023-12-07T12:52:05.560881851Z"
    },
    "collapsed": false
   },
   "outputs": [],
   "source": [
    "from pedpy.methods.speed_calculator import compute_species\n",
    "\n",
    "species = {}\n",
    "\n",
    "for name in trajectories:\n",
    "    species[name] = compute_species(\n",
    "        individual_voronoi_polygons=individual_cutoffs[name],\n",
    "        measurement_line=measurement_lines[name],\n",
    "        trajectory_data=trajectories[name],\n",
    "        frame_step=25,\n",
    "    )"
   ]
  },
  {
   "cell_type": "markdown",
   "id": "3083abfd38bbdb0d",
   "metadata": {
    "collapsed": false
   },
   "source": [
    "## Determine the individual speed"
   ]
  },
  {
   "cell_type": "markdown",
   "id": "b0d8d1880f7b14f3",
   "metadata": {
    "collapsed": false
   },
   "source": [
    "When calculating the individual velocity, make sure that the `compute velocity` option is used. \n",
    "\n",
    "Choosing the frame step is also important, as it determines how many frames before and after the current position are used for the calculation of the movement. \n",
    "\n",
    "If too many frames are selected, smaller movements may no longer be included in the overall image. \n",
    "\n",
    "\n",
    "When calculating the individual speed it might be necessary to specify the speed calculation for border cases. \n",
    "By default the Speed calculation is `BORDER_EXCLUDE` this excludes values at the edges of the trajectory data. \n",
    "If some values necessary for a later calculation are missing you will run into an error.      \n",
    "\n",
    "It is possible to cut a few frames from the trajectory data used to determine the Voronoi polygons. \n",
    "If there are more frames at the beginning and end of the data used for the individual speed calculation than in the Voronoi decomposition, it is possible to solve the problem while keeping the same speed calculation.\n",
    "\n",
    "You could also consider using a different speed calculation. \n",
    "The different calculation methods and further details how the individual speed is calculated are explained in the [user guide](user_guide).\n"
   ]
  },
  {
   "cell_type": "code",
   "execution_count": 13,
   "id": "d193ee905b059505",
   "metadata": {
    "ExecuteTime": {
     "end_time": "2023-12-07T12:52:08.113213164Z",
     "start_time": "2023-12-07T12:52:07.453047318Z"
    },
    "collapsed": false
   },
   "outputs": [],
   "source": [
    "from pedpy.methods.speed_calculator import (\n",
    "    SpeedCalculation,\n",
    "    compute_individual_speed,\n",
    ")\n",
    "\n",
    "calculation_methods = {\n",
    "    \"unidirectional 1\": SpeedCalculation.BORDER_SINGLE_SIDED,\n",
    "    \"unidirectional 2\": SpeedCalculation.BORDER_EXCLUDE,\n",
    "    \"bidirectional 1\": SpeedCalculation.BORDER_EXCLUDE,\n",
    "    \"bidirectional 2\": SpeedCalculation.BORDER_EXCLUDE,\n",
    "}\n",
    "\n",
    "individual_speeds = {}\n",
    "\n",
    "for name in trajectories:\n",
    "    individual_speeds[name] = compute_individual_speed(\n",
    "        traj_data=trajectories[name],\n",
    "        frame_step=1,\n",
    "        compute_velocity=True,\n",
    "        speed_calculation=calculation_methods[name],\n",
    "    )"
   ]
  },
  {
   "cell_type": "markdown",
   "id": "cbeefa430b7e8380",
   "metadata": {
    "collapsed": false
   },
   "source": [
    "## Compute line speed"
   ]
  },
  {
   "cell_type": "markdown",
   "id": "2c309a4fb4ac42ac",
   "metadata": {
    "collapsed": false
   },
   "source": [
    "To determine the total speed perpendicular to the measuring line in a specific frame, all pedestrians whose Voronoi polygon intersect with the measuring line are taken into account.\n",
    "\n",
    "```{eval-rst}\n",
    ".. figure:: images/voronoi_at_line.svg\n",
    "    :align: center\n",
    "```\n",
    "\n",
    "The speed of a single pedestrian results from the individual orthogonal speed multiplied by the share of the line. \n",
    "\n",
    "\n",
    "$$ v^{line}_i(t) = v_{i}(t) * n_{l} *  \\frac{w_i(t)}{w} $$\n",
    "\n",
    "Here $w_i(t)$ is the length of the part of the measurement line cut by the Voronoi cell, $w$ is the total length of the measurement line and $n_l$ is the vector normal to the line. \n",
    "\n",
    "```{eval-rst}\n",
    ".. figure:: images/line_intersection_voronoi.svg\n",
    "    :align: center\n",
    "```\n",
    "\n",
    "Due to the opposite main direction of movement of species 2, the sign of the velocities is also opposite. However, this leads to undesirable results when the contributions of the two species are added together, as the proportions of the species then cancel each other out. \n",
    "To correct the sign, the individual speeds are multiplied by the movement factor $m$ in the calculation.\n",
    "\n",
    "\n",
    "The speed $v$ of a species $S$ can be calculated by the sum of all pedestrians of the species. \n",
    "\n",
    "$$ v^S(t) = \\sum_{i} m * v^{line}_i(t)  \\text{ with } i \\epsilon S $$\n",
    "\n",
    "The total speed combines the values of both species.\n",
    "\n",
    "\n",
    "$$ v_{line}(t) = v^{\\mathrm{I}}(t) + v^{\\mathrm{II}}(t)$$ \n",
    "\n",
    "This approach was chosen to allow negative velocities within each species. These can occur when a person either stands still and wobbles their head or when they cross the line several times (i.e. in both directions). These cases should also be able to be measured with the method. "
   ]
  },
  {
   "cell_type": "code",
   "execution_count": 14,
   "id": "ad689b762756b88c",
   "metadata": {
    "ExecuteTime": {
     "end_time": "2023-12-07T12:52:23.690841580Z",
     "start_time": "2023-12-07T12:52:08.114355724Z"
    },
    "collapsed": false
   },
   "outputs": [],
   "source": [
    "from pedpy.methods.speed_calculator import compute_line_speed\n",
    "\n",
    "speeds = {}\n",
    "for name in trajectories:\n",
    "    speeds[name] = compute_line_speed(\n",
    "        individual_voronoi_polygons=individual_cutoffs[name],\n",
    "        measurement_line=measurement_lines[name],\n",
    "        individual_speed=individual_speeds[name],\n",
    "        species=species[name],\n",
    "    )"
   ]
  },
  {
   "cell_type": "code",
   "execution_count": null,
   "id": "b1dca3e27caec8ca",
   "metadata": {
    "ExecuteTime": {
     "end_time": "2023-12-07T12:52:24.244052606Z",
     "start_time": "2023-12-07T12:52:23.692544292Z"
    },
    "collapsed": false,
    "tags": [
     "hide-input"
    ]
   },
   "outputs": [],
   "source": [
    "import matplotlib.pylab as plt\n",
    "\n",
    "from pedpy.plotting.plotting import plot_speed_at_line\n",
    "\n",
    "fig, axs = plt.subplots(2, int(len(speeds) / 2), figsize=(15, 11))\n",
    "\n",
    "for (name, speed_on_line), ax in zip(speeds.items(), axs.ravel(), strict=False):\n",
    "    ax = plot_speed_at_line(\n",
    "        speed_at_line=speed_on_line,\n",
    "        axes=ax,\n",
    "        line_width=0.5,\n",
    "        title=\"speed on line for \" + name,\n",
    "    )\n",
    "\n",
    "fig.tight_layout()\n",
    "plt.show()"
   ]
  },
  {
   "cell_type": "markdown",
   "id": "725b5d43c345538f",
   "metadata": {
    "collapsed": false
   },
   "source": [
    "## Compute line density"
   ]
  },
  {
   "cell_type": "markdown",
   "id": "d47eafbb8c65a5a5",
   "metadata": {
    "collapsed": false
   },
   "source": [
    "The density on the line is computed from the densities of a pedestrian Voronoi cell proportional to their share on the line.\n",
    "The density of a species only considers the pedestrians representing the species.\n",
    "\n",
    "$$ \\rho^S(t) = \\sum_{i} \\frac{1}{A_i(t)} *  \\frac{w_i(t)}{w}  \\text{ with } i \\epsilon S $$\n",
    "\n",
    "$A_i(t)$ is the size of pedestrian $i$'s Voronoi cell.\n",
    "\n",
    "$\\frac{w_i(t)}{w}$ is again the fraction of the line that is intersected by the Voronoi cell of pedestrian i.\n",
    "\n",
    "The total density combines the values of Species 1 and 2.\n",
    "\n",
    "$$ \\rho_{line}(t) = \\rho^{\\mathrm{I}}(t) + \\rho^{\\mathrm{II}}(t)$$ "
   ]
  },
  {
   "cell_type": "code",
   "execution_count": 16,
   "id": "d43709f0019352d5",
   "metadata": {
    "ExecuteTime": {
     "end_time": "2023-12-07T12:52:33.665363549Z",
     "start_time": "2023-12-07T12:52:24.243697003Z"
    },
    "collapsed": false
   },
   "outputs": [],
   "source": [
    "from pedpy.methods.density_calculator import compute_line_density\n",
    "\n",
    "densities = {}\n",
    "for name in trajectories:\n",
    "    densities[name] = compute_line_density(\n",
    "        individual_voronoi_polygons=individual_cutoffs[name],\n",
    "        measurement_line=measurement_lines[name],\n",
    "        species=species[name],\n",
    "    )"
   ]
  },
  {
   "cell_type": "code",
   "execution_count": null,
   "id": "ef76858f11a1d61d",
   "metadata": {
    "ExecuteTime": {
     "end_time": "2023-12-07T12:52:34.267589838Z",
     "start_time": "2023-12-07T12:52:33.683294439Z"
    },
    "collapsed": false,
    "tags": [
     "hide-input"
    ]
   },
   "outputs": [],
   "source": [
    "import matplotlib.pylab as plt\n",
    "\n",
    "from pedpy.plotting.plotting import plot_density_at_line\n",
    "\n",
    "fig, axs = plt.subplots(2, int(len(densities) / 2), figsize=(15, 11))\n",
    "\n",
    "for (name, density_on_line), ax in zip(\n",
    "    densities.items(), axs.ravel(), strict=False\n",
    "):\n",
    "    ax = plot_density_at_line(\n",
    "        density_at_line=density_on_line,\n",
    "        axes=ax,\n",
    "        line_width=0.75,\n",
    "        title=\"density on line for \" + name,\n",
    "    )\n",
    "\n",
    "fig.tight_layout()\n",
    "plt.show()"
   ]
  },
  {
   "cell_type": "markdown",
   "id": "ee420aacf92d8730",
   "metadata": {
    "collapsed": false
   },
   "source": [
    "## Compute line flow"
   ]
  },
  {
   "cell_type": "markdown",
   "id": "6855374410cbaab6",
   "metadata": {
    "collapsed": false
   },
   "source": [
    "The calculation of the flow is derived from the flow equation $J = \\rho v w$.\n",
    "\n",
    "\n",
    "To compute the flow both the velocity orthogonal to the line and the density need to be considered.\n",
    "Each species again only regards the pedestrians representing that species.\n",
    "To remedy negative velocities orthogonal to the line of Species 2 the movement factor $m$ needs to be multiplied.\n",
    "\n",
    "$$ j^S(t) = \\sum_{i} m_i * v_i(t) * n_{l} * \\frac{1}{A_i(t)} *  \\frac{w_i(t)}{w}  \\text{ with } i \\epsilon S $$ \n",
    "\n",
    "To recap all the symbols of the equation: \n",
    "\n",
    "* $j$ is the flow\n",
    "* $S$ is the species for which the flow is calculated\n",
    "* $i$ is a pedestrian represented by $S$\n",
    "* $m$ is the movement factor calculated while determining the species\n",
    "* $v_i(t)$ is the velocity of pedestrian $i$\n",
    "* $n_{l}$ is the orthogonal vector of line $l$\n",
    "* $A_i(t)$ is the amount of space the Voronoi Cell of pedestrian $i$ takes up\n",
    "* $w_i(t)$ is the length of the line intersecting with the Voronoi Cell of pedestrian $i$\n",
    "* $w$ is the total length of the measurement line\n",
    "\n",
    "the total flow combines the values of both species\n",
    "\n",
    "$$ j_{line}(t) = j^{\\mathrm{I}}(t) + j^{\\mathrm{II}}(t) $$"
   ]
  },
  {
   "cell_type": "code",
   "execution_count": 18,
   "id": "30f2ed7401acf7bd",
   "metadata": {
    "ExecuteTime": {
     "end_time": "2023-12-07T12:52:52.363131712Z",
     "start_time": "2023-12-07T12:52:34.267211872Z"
    },
    "collapsed": false
   },
   "outputs": [],
   "source": [
    "from pedpy.methods.flow_calculator import compute_line_flow\n",
    "\n",
    "flows = {}\n",
    "for name in trajectories:\n",
    "    flows[name] = compute_line_flow(\n",
    "        individual_voronoi_polygons=individual_cutoffs[name],\n",
    "        measurement_line=measurement_lines[name],\n",
    "        species=species[name],\n",
    "        individual_speed=individual_speeds[name],\n",
    "    )"
   ]
  },
  {
   "cell_type": "code",
   "execution_count": null,
   "id": "6ee56e1d779bfbee",
   "metadata": {
    "ExecuteTime": {
     "end_time": "2023-12-07T12:52:52.925925361Z",
     "start_time": "2023-12-07T12:52:52.405137439Z"
    },
    "collapsed": false,
    "tags": [
     "hide-input"
    ]
   },
   "outputs": [],
   "source": [
    "import matplotlib.pylab as plt\n",
    "\n",
    "from pedpy.plotting.plotting import plot_flow_at_line\n",
    "\n",
    "fig, axs = plt.subplots(2, int(len(flows) / 2), figsize=(15, 11))\n",
    "\n",
    "for (name, flow_on_line), ax in zip(flows.items(), axs.ravel(), strict=False):\n",
    "    ax = plot_flow_at_line(\n",
    "        flow_at_line=flow_on_line,\n",
    "        axes=ax,\n",
    "        line_width=0.75,\n",
    "        title=\"flow on line for \" + name,\n",
    "    )\n",
    "\n",
    "fig.tight_layout()\n",
    "plt.show()"
   ]
  },
  {
   "cell_type": "markdown",
   "id": "5629753a72b0e90e",
   "metadata": {
    "collapsed": false
   },
   "source": [
    "## Excluding data from start and end phase"
   ]
  },
  {
   "cell_type": "markdown",
   "id": "93320a60c92173f7",
   "metadata": {
    "collapsed": false
   },
   "source": [
    "Upon closer examination of the trajectory data from the first unidirectional experiment, it becomes evident that not all the data collected are meaningful for analysis. This is due to the way the experiment was conducted. Toward the end of the experiment, participants were instructed to remain stationary. Consequently, although the data are technically usable, it may not contribute meaningfully to further analysis. When analyzing on your own it is recommended to exclude data that lack substantive relevance."
   ]
  },
  {
   "cell_type": "code",
   "execution_count": null,
   "id": "200c6492d971508",
   "metadata": {
    "ExecuteTime": {
     "end_time": "2023-12-07T12:52:57.340265614Z",
     "start_time": "2023-12-07T12:52:52.929355596Z"
    },
    "collapsed": false,
    "tags": [
     "hide-input"
    ]
   },
   "outputs": [],
   "source": [
    "fig, axs = plt.subplots(2, 2, figsize=(15, 11))\n",
    "\n",
    "name = \"unidirectional 1\"\n",
    "\n",
    "interval = [500, 2075]\n",
    "plot_measurement_setup(\n",
    "    axes=axs[0, 0],\n",
    "    traj=trajectories[name],\n",
    "    walkable_area=walkable_areas[name],\n",
    "    measurement_lines=[measurement_lines[name]],\n",
    ")\n",
    "plot_speed_at_line(\n",
    "    axes=axs[0, 1], speed_at_line=speeds[name], title=f\"line speed for {name}\"\n",
    ")\n",
    "axs[0, 1].plot([interval[0], interval[0]], [-0.1, 1.2], c=\"r\")\n",
    "axs[0, 1].plot([interval[1], interval[1]], [-0.1, 1.2], c=\"r\")\n",
    "plot_density_at_line(\n",
    "    axes=axs[1, 0],\n",
    "    density_at_line=densities[name],\n",
    "    title=f\"line density for {name}\",\n",
    ")\n",
    "axs[1, 0].plot([interval[0], interval[0]], [0, 4], c=\"r\")\n",
    "axs[1, 0].plot([interval[1], interval[1]], [0, 4], c=\"r\")\n",
    "plot_flow_at_line(\n",
    "    axes=axs[1, 1], flow_at_line=flows[name], title=f\"line flow for {name}\"\n",
    ")\n",
    "axs[1, 1].plot([interval[0], interval[0]], [0, 2.2], c=\"r\")\n",
    "axs[1, 1].plot([interval[1], interval[1]], [0, 2.2], c=\"r\")\n",
    "\n",
    "\n",
    "axs[0, 0].set_title(f\"trajectories of {name}\")\n",
    "plt.show()"
   ]
  },
  {
   "cell_type": "markdown",
   "id": "33d253b6870a5448",
   "metadata": {
    "collapsed": false
   },
   "source": [
    "In the plots above you can see the trajectories of the first unidirectional experiment as well as the line speed, line density and line flow for said experiment. In between the red lines the measured values will be used for analysis. The additional data outside the red lines is removed for further analysis."
   ]
  },
  {
   "cell_type": "markdown",
   "id": "1d74b62d1bd58369",
   "metadata": {
    "collapsed": false
   },
   "source": [
    "## Create a fundamental diagram"
   ]
  },
  {
   "cell_type": "markdown",
   "id": "dccc4f2b3e739b09",
   "metadata": {
    "collapsed": false
   },
   "source": [
    "After completing the calculations it is possible to create a fundamental diagram.\n",
    "Here we will use the precomputed data of 10 unidirectional and 10 bidirectional experiments all using the same experimental setup as previously. \n"
   ]
  },
  {
   "cell_type": "code",
   "execution_count": 21,
   "id": "69b67651cde74ecf",
   "metadata": {
    "ExecuteTime": {
     "end_time": "2023-12-07T12:52:57.347233403Z",
     "start_time": "2023-12-07T12:52:57.341865642Z"
    },
    "collapsed": false,
    "tags": [
     "hide-input"
    ]
   },
   "outputs": [],
   "source": [
    "style_options = {\n",
    "    \"traj_UNI_CORR_500_01\": {\"color\": \"red\", \"marker\": \"+\"},\n",
    "    \"traj_UNI_CORR_500_02\": {\"color\": \"green\", \"marker\": \"x\"},\n",
    "    \"traj_UNI_CORR_500_03\": {\"color\": \"blue\", \"marker\": \"x\"},\n",
    "    \"traj_UNI_CORR_500_04\": {\n",
    "        \"color\": \"white\",\n",
    "        \"marker\": \"s\",\n",
    "        \"edgecolors\": \"pink\",\n",
    "    },\n",
    "    \"traj_UNI_CORR_500_05\": {\"color\": \"cyan\", \"marker\": \"s\"},\n",
    "    \"traj_UNI_CORR_500_06\": {\"color\": \"grey\", \"marker\": \"^\"},\n",
    "    \"traj_UNI_CORR_500_07\": {\n",
    "        \"color\": \"white\",\n",
    "        \"marker\": \"^\",\n",
    "        \"edgecolors\": \"orange\",\n",
    "    },\n",
    "    \"traj_UNI_CORR_500_08\": {\"color\": \"black\", \"marker\": \"o\"},\n",
    "    \"traj_UNI_CORR_500_09\": {\n",
    "        \"color\": \"white\",\n",
    "        \"marker\": \"o\",\n",
    "        \"edgecolors\": \"purple\",\n",
    "    },\n",
    "    \"traj_UNI_CORR_500_10\": {\"color\": \"orange\", \"marker\": \"+\"},\n",
    "    \"bi_corr_400_b_01\": {\"color\": \"red\", \"marker\": \"+\"},\n",
    "    \"bi_corr_400_b_02\": {\"color\": \"green\", \"marker\": \"x\"},\n",
    "    \"bi_corr_400_b_03\": {\"color\": \"blue\", \"marker\": \"x\"},\n",
    "    \"bi_corr_400_b_04\": {\"color\": \"white\", \"marker\": \"s\", \"edgecolors\": \"pink\"},\n",
    "    \"bi_corr_400_b_05\": {\"color\": \"cyan\", \"marker\": \"s\"},\n",
    "    \"bi_corr_400_b_06\": {\"color\": \"grey\", \"marker\": \"^\"},\n",
    "    \"bi_corr_400_b_07\": {\n",
    "        \"color\": \"white\",\n",
    "        \"marker\": \"^\",\n",
    "        \"edgecolors\": \"orange\",\n",
    "    },\n",
    "    \"bi_corr_400_b_08\": {\"color\": \"black\", \"marker\": \"o\"},\n",
    "    \"bi_corr_400_b_09\": {\n",
    "        \"color\": \"white\",\n",
    "        \"marker\": \"o\",\n",
    "        \"edgecolors\": \"purple\",\n",
    "    },\n",
    "    \"bi_corr_400_b_10\": {\"color\": \"orange\", \"marker\": \"+\"},\n",
    "}"
   ]
  },
  {
   "cell_type": "code",
   "execution_count": 22,
   "id": "d9ee86f702cbba7c",
   "metadata": {
    "ExecuteTime": {
     "end_time": "2023-12-07T12:52:57.497200988Z",
     "start_time": "2023-12-07T12:52:57.344792705Z"
    },
    "collapsed": false
   },
   "outputs": [],
   "source": [
    "import pickle\n",
    "\n",
    "with open(\"demo-data/uni-directional/unidirectional_data.pkl\", \"rb\") as file:\n",
    "    loaded_dictionaries = pickle.load(file)\n",
    "\n",
    "line_densities_uni = loaded_dictionaries[\"line_densities_uni\"]\n",
    "line_speeds_uni = loaded_dictionaries[\"line_speeds_uni\"]\n",
    "\n",
    "with open(\"demo-data/bi-directional/bidirectional_data.pkl\", \"rb\") as file:\n",
    "    loaded_dictionaries = pickle.load(file)\n",
    "\n",
    "line_densities_bi = loaded_dictionaries[\"line_densities_bi\"]\n",
    "line_speeds_bi = loaded_dictionaries[\"line_speeds_bi\"]"
   ]
  },
  {
   "cell_type": "markdown",
   "id": "1bccfd82dbc3e522",
   "metadata": {
    "collapsed": false
   },
   "source": [
    "The fundamental diagram can now be created using the line speed and line density."
   ]
  },
  {
   "cell_type": "code",
   "execution_count": null,
   "id": "c6ebbe6edd6ce7c7",
   "metadata": {
    "ExecuteTime": {
     "end_time": "2023-12-07T12:52:58.135793090Z",
     "start_time": "2023-12-07T12:52:57.390148645Z"
    },
    "collapsed": false,
    "tags": [
     "hide-input"
    ]
   },
   "outputs": [],
   "source": [
    "from pedpy.column_identifier import DENSITY_COL, SPEED_COL\n",
    "\n",
    "f, (ax1, ax2) = plt.subplots(1, 2, figsize=(15, 6))\n",
    "\n",
    "for name in sorted(line_densities_uni.keys()):\n",
    "    ax1.scatter(\n",
    "        line_densities_uni[name][DENSITY_COL],\n",
    "        line_speeds_uni[name][SPEED_COL],\n",
    "        alpha=1,\n",
    "        label=name,\n",
    "        **style_options[name],\n",
    "    )\n",
    "\n",
    "for name in sorted(line_densities_bi.keys()):\n",
    "    ax2.scatter(\n",
    "        line_densities_bi[name][DENSITY_COL],\n",
    "        line_speeds_bi[name][SPEED_COL],\n",
    "        alpha=1,\n",
    "        label=name,\n",
    "        **style_options[name],\n",
    "    )\n",
    "\n",
    "ax1.set_xlabel(\"rho / 1/m^2\")\n",
    "ax2.set_xlabel(\"rho / 1/m^2\")\n",
    "ax1.set_ylabel(\"v/ m/s\")\n",
    "ax2.set_ylabel(\"v/ m/s\")\n",
    "ax1.grid(True)\n",
    "ax2.grid(True)\n",
    "ax1.set_title(\"Fundamental Diagram for unidirectional experiments\")\n",
    "ax2.set_title(\"Fundamental Diagram for bidirectional experiments\")\n",
    "ax1.legend()\n",
    "ax2.legend()\n",
    "plt.show()"
   ]
  },
  {
   "cell_type": "code",
   "execution_count": 23,
   "id": "66763eaa8acb71ae",
   "metadata": {
    "ExecuteTime": {
     "end_time": "2023-12-07T12:52:58.136679550Z",
     "start_time": "2023-12-07T12:52:58.135402811Z"
    },
    "collapsed": false
   },
   "outputs": [],
   "source": []
  }
 ],
 "metadata": {
  "kernelspec": {
   "display_name": "Python 3",
   "language": "python",
   "name": "python3"
  },
  "language_info": {
   "codemirror_mode": {
    "name": "ipython",
    "version": 2
   },
   "file_extension": ".py",
   "mimetype": "text/x-python",
   "name": "python",
   "nbconvert_exporter": "python",
   "pygments_lexer": "ipython2",
   "version": "2.7.6"
  }
 },
 "nbformat": 4,
 "nbformat_minor": 5
}
