{
 "cells": [
  {
   "cell_type": "code",
   "execution_count": null,
   "metadata": {
    "collapsed": false,
    "tags": [
     "remove-input"
    ]
   },
   "outputs": [],
   "source": [
    "import pathlib\n",
    "import matplotlib.pyplot as plt\n",
    "import numpy as np\n",
    "import pandas as pd\n",
    "import shapely\n",
    "import warnings\n",
    "\n",
    "warnings.filterwarnings(\"ignore\")"
   ]
  },
  {
   "cell_type": "code",
   "execution_count": null,
   "metadata": {
    "tags": [
     "remove-input"
    ]
   },
   "outputs": [],
   "source": [
    "pedpy_blue = (89 / 255, 178 / 255, 216 / 255)\n",
    "pedpy_orange = (220 / 255, 160 / 255, 73 / 255)\n",
    "pedpy_green = (108 / 255, 190 / 255, 167 / 255)\n",
    "pedpy_petrol = (98 / 255, 190 / 255, 190 / 255)\n",
    "pedpy_grey = (114 / 255, 125 / 255, 139 / 255)\n",
    "pedpy_red = (233 / 255, 117 / 255, 134 / 255)"
   ]
  },
  {
   "cell_type": "markdown",
   "metadata": {},
   "source": [
    "# User Guide\n",
    "\n",
    "This user guide will showcase the capabilities of *PedPy*. \n",
    "By following this guide you will learn how to set up your analysis and compute different metrics from the movement data.\n",
    "\n",
    "\n",
    "This is a bottleneck experiment conducted at the University of Wuppertal in 2018.\n",
    "You can see the basic setup of the experiment in the picture below:\n",
    "\n",
    "```{eval-rst}\n",
    ".. figure:: demo-data/bottleneck/040_c_56_h-.png\n",
    "    :width: 400px\n",
    "    :align: center\n",
    "```\n",
    "\n",
    "The data for this experiment is available {download}`here <demo-data/bottleneck/040_c_56_h-.txt>`, which belongs to this [experimental series](https://doi.org/10.34735/ped.2018.1) and is part of the publication [\\\"Crowds in front of bottlenecks at entrances from the perspective of physics and social psychology\\\"](https://doi.org/10.1098/rsif.2019.0871)."
   ]
  },
  {
   "cell_type": "markdown",
   "metadata": {
    "collapsed": false
   },
   "source": [
    "## Analysis set up\n",
    "\n",
    "The first step we will take, is to set up the analysis environment, this means define the areas where pedestrians can walk and put exisiting obstacles in it.\n",
    "Also, we will define which areas are of interest for the later analysis."
   ]
  },
  {
   "cell_type": "markdown",
   "metadata": {
    "collapsed": false
   },
   "source": [
    "### Walkable area\n",
    "\n",
    "In the beginning we will define the walkable area in which the pedestrian can move. \n",
    "For the used bottleneck experiment was conducted in the following set up:\n",
    "\n",
    "\n",
    "```{eval-rst}\n",
    ".. figure:: demo-data/bottleneck/experimental_setup.png\n",
    "    :width: 50 %\n",
    "    :align: center\n",
    "```\n",
    "\n",
    "The run handled in this user guide had a bottleneck width of 0.5m and w=5.6m.\n",
    "\n",
    "Below is the code for creating such a walkable area:"
   ]
  },
  {
   "cell_type": "code",
   "execution_count": null,
   "metadata": {
    "collapsed": false
   },
   "outputs": [],
   "source": [
    "from pedpy import WalkableArea\n",
    "\n",
    "walkable_area = WalkableArea(\n",
    "    # complete area\n",
    "    [\n",
    "        (3.5, -2),\n",
    "        (3.5, 8),\n",
    "        (-3.5, 8),\n",
    "        (-3.5, -2),\n",
    "    ],\n",
    "    obstacles=[\n",
    "        # left barrier\n",
    "        [\n",
    "            (-0.7, -1.1),\n",
    "            (-0.25, -1.1),\n",
    "            (-0.25, -0.15),\n",
    "            (-0.4, 0.0),\n",
    "            (-2.8, 0.0),\n",
    "            (-2.8, 6.7),\n",
    "            (-3.05, 6.7),\n",
    "            (-3.05, -0.3),\n",
    "            (-0.7, -0.3),\n",
    "            (-0.7, -1.0),\n",
    "        ],\n",
    "        # right barrier\n",
    "        [\n",
    "            (0.25, -1.1),\n",
    "            (0.7, -1.1),\n",
    "            (0.7, -0.3),\n",
    "            (3.05, -0.3),\n",
    "            (3.05, 6.7),\n",
    "            (2.8, 6.7),\n",
    "            (2.8, 0.0),\n",
    "            (0.4, 0.0),\n",
    "            (0.25, -0.15),\n",
    "            (0.25, -1.1),\n",
    "        ],\n",
    "    ],\n",
    ")"
   ]
  },
  {
   "cell_type": "code",
   "execution_count": null,
   "metadata": {
    "collapsed": false,
    "tags": [
     "hide-input"
    ]
   },
   "outputs": [],
   "source": [
    "from pedpy import plot_walkable_area\n",
    "\n",
    "plot_walkable_area(\n",
    "    walkable_area=walkable_area, hole_color=\"lightgrey\"\n",
    ").set_aspect(\"equal\")"
   ]
  },
  {
   "cell_type": "markdown",
   "metadata": {
    "collapsed": false
   },
   "source": [
    "### Prepare measurement details\n",
    "\n",
    "After we defined where the pedestrians can move, we now need to define in which regions we want to analyze in more details. \n",
    "This regions can either be a specific line, an area, or the whole walkable area.\n",
    "\n",
    "In case of this bottleneck the most interesting area is a little bit in front of the bottlenck (here 0.5m) and the line at the beginning of the bottleneck.\n",
    "The area is slightly in front of the bottleneck as here the highest density occur. \n",
    "In *PedPy* such areas are called **MeasurementAreas** and the lines **MeasurementLines**.\n",
    "Below you can see how to define these:"
   ]
  },
  {
   "cell_type": "code",
   "execution_count": null,
   "metadata": {
    "collapsed": false
   },
   "outputs": [],
   "source": [
    "from pedpy import MeasurementArea, MeasurementLine\n",
    "\n",
    "measurement_area = MeasurementArea(\n",
    "    [(-0.4, 0.5), (0.4, 0.5), (0.4, 1.3), (-0.4, 1.3)]\n",
    ")\n",
    "\n",
    "measurement_line = MeasurementLine([(0.4, 0), (-0.4, 0)])"
   ]
  },
  {
   "cell_type": "markdown",
   "metadata": {},
   "source": [
    "The corresponding measurement setup looks like:"
   ]
  },
  {
   "cell_type": "code",
   "execution_count": null,
   "metadata": {
    "tags": [
     "hide-input"
    ]
   },
   "outputs": [],
   "source": [
    "from pedpy import plot_measurement_setup\n",
    "\n",
    "ax = plot_measurement_setup(\n",
    "    walkable_area=walkable_area,\n",
    "    hole_color=\"lightgrey\",\n",
    "    measurement_lines=[measurement_line],\n",
    "    ml_color=\"r\",\n",
    "    ml_width=2,\n",
    "    measurement_areas=[measurement_area],\n",
    "    ma_color=\"r\",\n",
    "    ma_line_color=\"r\",\n",
    "    ma_line_width=1,\n",
    "    ma_alpha=0.2,\n",
    ").set_aspect(\"equal\")"
   ]
  },
  {
   "cell_type": "markdown",
   "metadata": {
    "collapsed": false
   },
   "source": [
    "### Importing pedestrian movement data\n",
    "\n",
    "The pedestrian movement data in *PedPy* is called trajectory data.\n",
    "\n",
    "*PedPy* works with {class}`trajectory data <pedpy.data.trajectory_data.TrajectoryData>` which can be created from an import function for specific data files alternatively from a {class}`pandas.DataFrame` with the following columns:\n",
    "\n",
    "- \"id\": unique numeric identifier for each person\n",
    "- \"frame\": index of video frame where the positions were extracted\n",
    "- \"x\", \"y\": position of the person (in meter) "
   ]
  },
  {
   "cell_type": "markdown",
   "metadata": {},
   "source": [
    "#### Loading from trajectory files\n",
    "\n",
    "!!!!!TODO merge this two lines\n",
    "*Pedpy* can load trajectories, if they are stored as the trajectory data provided in the [Jülich Data Archive](https://ped.fz-juelich.de/da/doku.php) directly.\n",
    "*Pedpy* can load trajectories directly from text files, when:\n",
    "\n",
    "- values are separated by any whitespace, e.g., space, tab\n",
    "- file has at least 4 columns in the following order: \"if\", \"frame\", \"x\", \"y\"\n",
    "- file may contain comment lines with `#` at in the beginning\n",
    "\n",
    "For meaningful analysis (and loading of the trajectory file) you also need\n",
    "- unit of the trajectory (m or cm)\n",
    "- frame rate\n",
    "\n",
    "For recent trajectory they are encoded in the header of the file, for older you may need to lead the documentation and provide the information in the loading process!\n",
    "\n",
    "**Examples:**\n",
    "With frame rate, but no unit\n",
    "```\n",
    "# description: UNI_CORR_500_01\n",
    "# framerate: 25.00\n",
    "#geometry: geometry.xml\n",
    "\n",
    "# PersID\tFrame\tX\tY\tZ\n",
    "1\t98\t4.6012\t1.8909\t1.7600\n",
    "1\t99\t4.5359\t1.8976\t1.7600\n",
    "1\t100\t4.4470\t1.9304\t1.7600\n",
    "...\n",
    "```\n",
    "\n",
    "No header at all:\n",
    "```\n",
    "1 27 164.834 780.844 168.937\n",
    "1 28 164.835 771.893 168.937\n",
    "1 29 163.736 762.665 168.937\n",
    "1 30 161.967 753.088 168.937\n",
    "...\n",
    "```\n",
    "\n",
    "If your data is structured in a different way please take a look at the next section.\n",
    "Since the data we want to analyze is from the data archive, we can directly load the trajectory data with *PedPy*:  "
   ]
  },
  {
   "cell_type": "code",
   "execution_count": null,
   "metadata": {
    "collapsed": false
   },
   "outputs": [],
   "source": [
    "from pedpy import load_trajectory, TrajectoryUnit\n",
    "\n",
    "traj = load_trajectory(\n",
    "    trajectory_file=pathlib.Path(\"demo-data/bottleneck/040_c_56_h-.txt\"),\n",
    "    default_unit=TrajectoryUnit.METER,  # needs to be provided as it not defined in the file\n",
    "    # default_frame_rate=25., # can be ignored here as the frame rate is defined in the file\n",
    ")"
   ]
  },
  {
   "cell_type": "markdown",
   "metadata": {},
   "source": [
    "The loaded trajectory data look like:"
   ]
  },
  {
   "cell_type": "code",
   "execution_count": null,
   "metadata": {
    "tags": [
     "hide-input"
    ]
   },
   "outputs": [],
   "source": [
    "from pedpy import plot_trajectories\n",
    "\n",
    "fig = plt.figure()\n",
    "ax = fig.add_subplot(111, aspect=\"equal\")\n",
    "plot_trajectories(traj=traj, traj_color=pedpy_blue)\n",
    "plt.show()"
   ]
  },
  {
   "cell_type": "markdown",
   "metadata": {},
   "source": [
    "#### Loading from Pandas DataFrame\n",
    "\n",
    "To construct the  {class}`trajectory data <pedpy.data.trajectory_data.TrajectoryData>` from a **DataFrame** you also need to provide the frame rate at which the data was recorded.\n",
    "If you have both the construction of the {class}`trajectory data <pedpy.data.trajectory_data.TrajectoryData>` can be done with:\n"
   ]
  },
  {
   "cell_type": "code",
   "execution_count": null,
   "metadata": {},
   "outputs": [],
   "source": [
    "from pedpy import TrajectoryData\n",
    "\n",
    "data = pd.DataFrame(\n",
    "    [[0, 1, 0, 0]],\n",
    "    columns=[\"id\", \"frame\", \"x\", \"y\"],\n",
    ")\n",
    "trajectory_data = TrajectoryData(data=data, frame_rate=25.0)"
   ]
  },
  {
   "cell_type": "markdown",
   "metadata": {
    "collapsed": false
   },
   "source": [
    "Alternatively, the data can be also loaded from any file format that is supported by **Pandas**.\n"
   ]
  },
  {
   "cell_type": "markdown",
   "metadata": {
    "collapsed": false
   },
   "source": [
    "### Plot setup\n",
    "\n",
    "For a better overview of our created measurement setup, see the plot below:"
   ]
  },
  {
   "cell_type": "code",
   "execution_count": null,
   "metadata": {
    "collapsed": false,
    "tags": [
     "hide-input"
    ]
   },
   "outputs": [],
   "source": [
    "from pedpy import plot_measurement_setup\n",
    "\n",
    "fig = plt.figure()\n",
    "ax = fig.add_subplot(111, aspect=\"equal\")\n",
    "\n",
    "plot_measurement_setup(\n",
    "    traj=traj,\n",
    "    walkable_area=walkable_area,\n",
    "    measurement_areas=[measurement_area],\n",
    "    measurement_lines=[\n",
    "        measurement_line,\n",
    "    ],\n",
    "    traj_color=pedpy_blue,\n",
    "    traj_alpha=0.7,\n",
    "    traj_width=0.4,\n",
    "    hole_color=\"lightgrey\",\n",
    "    ml_color=\"r\",\n",
    "    ml_width=1,\n",
    "    ma_color=\"r\",\n",
    "    ma_alpha=0.1,\n",
    "    ma_line_color=\"r\",\n",
    "    ma_line_width=1,\n",
    "    ax=ax,\n",
    ")\n",
    "plt.show()"
   ]
  },
  {
   "cell_type": "markdown",
   "metadata": {
    "collapsed": false
   },
   "source": [
    "### Validate that trajectory is completely inside the walkable area.\n",
    "\n",
    "An important step before starting the analysis is to verify that all trajectories lie within the constructed walkable area.\n",
    "Otherwise you might get errors.\n",
    "*PedPy* provides a function to **test your trajectories**, and offers also a function to get **all invalid trajectories**:"
   ]
  },
  {
   "cell_type": "code",
   "execution_count": null,
   "metadata": {
    "collapsed": false
   },
   "outputs": [],
   "source": [
    "from pedpy import is_trajectory_valid, get_invalid_trajectory\n",
    "\n",
    "print(\n",
    "    f\"Trajectory is valid: {is_trajectory_valid(traj_data=traj, walkable_area=walkable_area)}\"\n",
    ")\n",
    "get_invalid_trajectory(traj_data=traj, walkable_area=walkable_area)"
   ]
  },
  {
   "cell_type": "markdown",
   "metadata": {
    "collapsed": false
   },
   "source": [
    "**For demonstration purposes, wrongly place the obstacle s.th. some pedestrian walk through it!**\n",
    "\n",
    "We now create a faulty geometry, s.th. you can see how the result would like.\n",
    "Therefore, the right obstacle will be moved a bit towards the center of the bottlneck:"
   ]
  },
  {
   "cell_type": "code",
   "execution_count": null,
   "metadata": {
    "collapsed": false,
    "tags": [
     "hide-cell"
    ]
   },
   "outputs": [],
   "source": [
    "from pedpy import WalkableArea\n",
    "\n",
    "walkable_area_faulty = WalkableArea(\n",
    "    # complete area\n",
    "    [\n",
    "        (3.5, -2),\n",
    "        (3.5, 8),\n",
    "        (-3.5, 8),\n",
    "        (-3.5, -2),\n",
    "    ],\n",
    "    obstacles=[\n",
    "        # left barrier\n",
    "        [\n",
    "            (-0.7, -1.1),\n",
    "            (-0.25, -1.1),\n",
    "            (-0.25, -0.15),\n",
    "            (-0.4, 0.0),\n",
    "            (-2.8, 0.0),\n",
    "            (-2.8, 6.7),\n",
    "            (-3.05, 6.7),\n",
    "            (-3.05, -0.3),\n",
    "            (-0.7, -0.3),\n",
    "            (-0.7, -1.0),\n",
    "        ],\n",
    "        # right barrier is too close to the middle\n",
    "        [\n",
    "            (0.15, -1.1),\n",
    "            (0.6, -1.1),\n",
    "            (0.6, -0.3),\n",
    "            (3.05, -0.3),\n",
    "            (3.05, 6.7),\n",
    "            (2.8, 6.7),\n",
    "            (2.8, 0.0),\n",
    "            (0.3, 0.0),\n",
    "            (0.15, -0.15),\n",
    "            (0.15, -1.1),\n",
    "        ],\n",
    "    ],\n",
    ")"
   ]
  },
  {
   "cell_type": "code",
   "execution_count": null,
   "metadata": {
    "tags": [
     "hide-input"
    ]
   },
   "outputs": [],
   "source": [
    "from pedpy import plot_measurement_setup, plot_walkable_area\n",
    "\n",
    "fig = plt.figure()\n",
    "ax = fig.add_subplot(111, aspect=\"equal\")\n",
    "\n",
    "ax = plot_measurement_setup(\n",
    "    traj=traj,\n",
    "    walkable_area=walkable_area_faulty,\n",
    "    traj_color=pedpy_blue,\n",
    "    traj_alpha=0.5,\n",
    "    traj_width=1,\n",
    "    hole_color=\"lightgrey\",\n",
    "    ax=ax,\n",
    ")\n",
    "ax.set_xlim([-1, 1])\n",
    "ax.set_ylim([-1, 1])\n",
    "ax.set_xticks([-1, -0.5, 0, 0.5, 1])\n",
    "ax.set_yticks([-1, -0.5, 0, 0.5, 1])\n",
    "plt.show()"
   ]
  },
  {
   "cell_type": "markdown",
   "metadata": {},
   "source": [
    "If you get any invalid trajectories, you should check whether you constructed your walkable area correctly.\n",
    "In some cases you will get such errors when you have head trajectories, and the pedestrian lean over the obstacles.\n",
    "Then you need to prepare your data before you can start your analysis."
   ]
  },
  {
   "cell_type": "code",
   "execution_count": null,
   "metadata": {
    "collapsed": false
   },
   "outputs": [],
   "source": [
    "from pedpy import is_trajectory_valid, get_invalid_trajectory\n",
    "\n",
    "print(\n",
    "    f\"Trajectory is valid: {is_trajectory_valid(traj_data=traj, walkable_area=walkable_area_faulty)}\"\n",
    ")\n",
    "get_invalid_trajectory(traj_data=traj, walkable_area=walkable_area_faulty)"
   ]
  },
  {
   "cell_type": "markdown",
   "metadata": {},
   "source": [
    "## Analysis\n",
    "\n",
    "Now that we set up the analysis environment, we can start with the real analysis.\n",
    "*PedPy* provides different methods to obtain multiple metric from the trajectory data:\n",
    "\n",
    "- Density\n",
    "- Speed\n",
    "- Flow\n",
    "- Neighborhood\n",
    "- Distance/Time to entrance\n",
    "- Profiles"
   ]
  },
  {
   "cell_type": "markdown",
   "metadata": {
    "collapsed": false
   },
   "source": [
    "### Density\n",
    "\n",
    "Density is a fundamental metric in pedestrian dynamics.\n",
    "As it indicated how much space is accessible to each pedestrian within a specific area.\n",
    "High density can lead to reduced walking speeds, increased congestion, and even potential safety hazards."
   ]
  },
  {
   "cell_type": "markdown",
   "metadata": {
    "collapsed": false
   },
   "source": [
    "#### Classic density\n",
    "\n",
    "The classic approach to calculate the density is to count the number of pedestrians ($N$) inside a specific space ($M$) and divide it by the area of that space ($A(M)$).\n",
    "\n",
    "$$\n",
    "\\rho_{classic} = {N \\over A(M)}\n",
    "$$\n",
    "\n",
    "In *PedPy* this can be computed with:\n"
   ]
  },
  {
   "cell_type": "code",
   "execution_count": null,
   "metadata": {
    "collapsed": false
   },
   "outputs": [],
   "source": [
    "from pedpy import compute_classic_density\n",
    "\n",
    "classic_density = compute_classic_density(\n",
    "    traj_data=traj, measurement_area=measurement_area\n",
    ")"
   ]
  },
  {
   "cell_type": "markdown",
   "metadata": {},
   "source": [
    "The resulting time-series can be seen below:"
   ]
  },
  {
   "cell_type": "code",
   "execution_count": null,
   "metadata": {
    "collapsed": false,
    "tags": [
     "hide-input"
    ]
   },
   "outputs": [],
   "source": [
    "fig = plt.figure()\n",
    "plt.title(\"Classic density\")\n",
    "plt.plot(\n",
    "    classic_density.index,\n",
    "    classic_density.values,\n",
    "    lw=2,\n",
    "    linestyle=\"-\",\n",
    "    color=pedpy_blue,\n",
    ")\n",
    "plt.xlabel(\"frame\")\n",
    "plt.ylabel(\"rho / 1/m^2\")\n",
    "plt.grid()\n",
    "plt.show()"
   ]
  },
  {
   "cell_type": "markdown",
   "metadata": {
    "collapsed": false
   },
   "source": [
    "#### Voronoi density\n",
    "\n",
    "Another approach for calculating the density is to compute the **Voronoi tesselation** of the pedestrians positions at a given time, the resulting Voronoi polygons ($V$) directly relate to the individual's density.\n",
    "For a pedestrian $i$ the individual density is defined as:\n",
    "\n",
    "$$\n",
    "\\rho_i = {1 \\over A(V_i)}\n",
    "$$\n",
    "\n",
    "\n",
    "##### Compute individual Voronoi Polygons\n",
    "\n",
    "The first step for computing the Voronoi density, is to compute the individual's Voronoi polygon.\n",
    "As these polygons may become infinite for pedestrians at the edge of the crowd, these polygons are restricted by the **walkable area**.\n",
    "This cutting at the boundaries can lead to split Voronoi polygons. For each of the split polygons it is checked, in which the pedestrian is located. \n",
    "This polygon then is assigned.\n",
    "\n",
    ":::{important}\n",
    "As these Voronoi polygons work on the Euclidean distance, some unexpected artifacts may occur on non-convex walkable areas. Please keep that in mind! How that may look like, you can see in the plots later in this guide.\n",
    ":::\n",
    "\n",
    "###### Without cut-off\n",
    "\n",
    "The computation of the individual polygons can be done from the **trajectory data** and **walkable area** with:"
   ]
  },
  {
   "cell_type": "code",
   "execution_count": null,
   "metadata": {
    "collapsed": false
   },
   "outputs": [],
   "source": [
    "from pedpy import compute_individual_voronoi_polygons\n",
    "\n",
    "individual = compute_individual_voronoi_polygons(\n",
    "    traj_data=traj, walkable_area=walkable_area\n",
    ")"
   ]
  },
  {
   "cell_type": "markdown",
   "metadata": {
    "collapsed": false
   },
   "source": [
    "###### With cut-off\n",
    "\n",
    "When having a large **walkable area** or widely spread pedestrians the Voronoi polygons may become quite large.\n",
    "In *PedPy* it is possible the restrict the size of the computed Polygons.\n",
    "This can be done by defining a **cut off**, which is essentially an approximated circle which gives the maximum extension of a single Voronoi polygon.\n",
    "For the creation of the **cut off**, we need to define how accurate we want to approximate the circle, the differences can be seen below:\n",
    "\n",
    "```{eval-rst}\n",
    ".. figure:: images/voronoi_cutoff_differences.png\n",
    "    :align: center\n",
    "```\n",
    "\n",
    "Now, with that **cut off** the computation of the individual polygons becomes:"
   ]
  },
  {
   "cell_type": "code",
   "execution_count": null,
   "metadata": {
    "collapsed": false
   },
   "outputs": [],
   "source": [
    "from pedpy import compute_individual_voronoi_polygons, Cutoff\n",
    "\n",
    "individual_cutoff = compute_individual_voronoi_polygons(\n",
    "    traj_data=traj,\n",
    "    walkable_area=walkable_area,\n",
    "    cut_off=Cutoff(radius=1.0, quad_segments=3),\n",
    ")"
   ]
  },
  {
   "cell_type": "markdown",
   "metadata": {
    "collapsed": false
   },
   "source": [
    "###### Comparison\n",
    "\n",
    "To get an better impression what the differences between the Voronoi polygons with and without the **cut off** are, take a look at the plot below:"
   ]
  },
  {
   "cell_type": "code",
   "execution_count": null,
   "metadata": {
    "collapsed": false,
    "tags": [
     "hide-input"
    ]
   },
   "outputs": [],
   "source": [
    "from pedpy.column_identifier import ID_COL, FRAME_COL\n",
    "from pedpy import plot_voronoi_cells\n",
    "import matplotlib as mpl\n",
    "import matplotlib.pyplot as plt\n",
    "\n",
    "frame = 600\n",
    "\n",
    "fig = plt.figure(f\"frame = {frame}\")\n",
    "fig.suptitle(f\"frame = {frame}\")\n",
    "df_frame = individual[individual.frame == frame]\n",
    "df_frame = pd.merge(traj.data, df_frame, on=[ID_COL, FRAME_COL])\n",
    "\n",
    "ax1 = fig.add_subplot(121, aspect=\"equal\")\n",
    "ax1.set_title(\"w/o cutoff\")\n",
    "plot_voronoi_cells(\n",
    "    data=df_frame,\n",
    "    walkable_area=walkable_area,\n",
    "    color_mode=\"density\",\n",
    "    show_ped_positions=True,\n",
    "    ped_size=4,\n",
    "    ax=ax1,\n",
    "    show_colorbar=False,\n",
    "    hole_color=\"lightgrey\",\n",
    ")\n",
    "\n",
    "df_frame_cutoff = individual_cutoff[individual_cutoff.frame == frame]\n",
    "df_frame_cutoff = pd.merge(traj.data, df_frame_cutoff, on=[ID_COL, FRAME_COL])\n",
    "\n",
    "ax2 = fig.add_subplot(122, aspect=\"equal\")\n",
    "ax2.set_title(\"w cutoff\")\n",
    "\n",
    "plot_voronoi_cells(\n",
    "    data=df_frame_cutoff,\n",
    "    walkable_area=walkable_area,\n",
    "    color_mode=\"density\",\n",
    "    show_ped_positions=True,\n",
    "    ped_size=4,\n",
    "    ax=ax2,\n",
    "    show_colorbar=False,\n",
    "    hole_color=\"lightgrey\",\n",
    ")\n",
    "cbar_ax = fig.add_axes([0.1, -0.05, 0.88, 0.05])\n",
    "\n",
    "norm = mpl.colors.Normalize(vmin=0, vmax=10)\n",
    "sm = plt.cm.ScalarMappable(cmap=plt.get_cmap(\"jet\"), norm=norm)\n",
    "sm.set_array([])\n",
    "plt.colorbar(\n",
    "    sm,\n",
    "    cax=cbar_ax,\n",
    "    shrink=0.1,\n",
    "    label=\"$\\\\rho$ \\ 1/$m^2$\",\n",
    "    aspect=2,\n",
    "    orientation=\"horizontal\",\n",
    ")\n",
    "fig.tight_layout()\n",
    "plt.show()"
   ]
  },
  {
   "cell_type": "markdown",
   "metadata": {
    "collapsed": false
   },
   "source": [
    "##### Compute actual Voronoi density\n",
    "\n",
    "From these individual data we can now compute the Voronoi density in the known measurement area ($M$):\n",
    "\n",
    "$$\n",
    "    \\rho_{voronoi} = { TODO \\over A(M)} \n",
    "$$\n",
    "\n",
    "###### Without cut-off\n",
    "\n",
    "First, we compute the Voronoi density in the **measurement area** without a **cut-off**:"
   ]
  },
  {
   "cell_type": "code",
   "execution_count": null,
   "metadata": {
    "collapsed": false
   },
   "outputs": [],
   "source": [
    "from pedpy import compute_voronoi_density\n",
    "\n",
    "density_voronoi, intersecting = compute_voronoi_density(\n",
    "    individual_voronoi_data=individual, measurement_area=measurement_area\n",
    ")"
   ]
  },
  {
   "cell_type": "code",
   "execution_count": null,
   "metadata": {
    "collapsed": false,
    "tags": [
     "hide-input"
    ]
   },
   "outputs": [],
   "source": [
    "fig = plt.figure()\n",
    "plt.title(\"Voronoi density\")\n",
    "plt.plot(\n",
    "    density_voronoi.index,\n",
    "    density_voronoi.values,\n",
    "    lw=2,\n",
    "    linestyle=\"-\",\n",
    "    color=pedpy_orange,\n",
    ")\n",
    "plt.xlabel(\"frame\")\n",
    "plt.ylabel(\"rho / 1/m^2\")\n",
    "plt.grid()\n",
    "plt.show()"
   ]
  },
  {
   "cell_type": "markdown",
   "metadata": {
    "collapsed": false
   },
   "source": [
    "###### With cut-off\n",
    "\n",
    "Second, we compute it now from the individual **cut-off** Voronoi polygons:\n"
   ]
  },
  {
   "cell_type": "code",
   "execution_count": null,
   "metadata": {
    "collapsed": false
   },
   "outputs": [],
   "source": [
    "from pedpy import compute_voronoi_density\n",
    "\n",
    "density_voronoi_cutoff, intersecting_cutoff = compute_voronoi_density(\n",
    "    individual_voronoi_data=individual_cutoff, measurement_area=measurement_area\n",
    ")"
   ]
  },
  {
   "cell_type": "code",
   "execution_count": null,
   "metadata": {
    "collapsed": false,
    "tags": [
     "hide-input"
    ]
   },
   "outputs": [],
   "source": [
    "fig = plt.figure()\n",
    "plt.title(\"Voronoi density with cut-off\")\n",
    "plt.plot(\n",
    "    density_voronoi_cutoff.index,\n",
    "    density_voronoi_cutoff.values,\n",
    "    lw=2,\n",
    "    linestyle=\"-\",\n",
    "    color=pedpy_grey,\n",
    ")\n",
    "plt.xlabel(\"frame\")\n",
    "plt.ylabel(\"rho / 1/m^2\")\n",
    "plt.grid()\n",
    "plt.show()"
   ]
  },
  {
   "cell_type": "markdown",
   "metadata": {
    "collapsed": false
   },
   "source": [
    "#### Comparison\n",
    "\n",
    "Now we have obtained the mean density inside the measurement area with different methods.\n",
    "To compare the results take a look at the following plot:"
   ]
  },
  {
   "cell_type": "code",
   "execution_count": null,
   "metadata": {
    "collapsed": false,
    "tags": [
     "hide-input"
    ]
   },
   "outputs": [],
   "source": [
    "fig = plt.figure()\n",
    "plt.title(\"Comparison of different density methods\")\n",
    "plt.plot(\n",
    "    classic_density.reset_index().frame,\n",
    "    classic_density.values,\n",
    "    label=\"classic\",\n",
    "    color=pedpy_blue,\n",
    ")\n",
    "plt.plot(\n",
    "    density_voronoi.reset_index().frame,\n",
    "    density_voronoi,\n",
    "    label=\"voronoi\",\n",
    "    color=pedpy_orange,\n",
    ")\n",
    "plt.plot(\n",
    "    density_voronoi_cutoff.reset_index().frame,\n",
    "    density_voronoi_cutoff,\n",
    "    label=\"voronoi with cutoff\",\n",
    "    color=pedpy_grey,\n",
    ")\n",
    "plt.xlabel(\"frame\")\n",
    "plt.ylabel(\"$\\\\rho$ / 1/$m^2$\")\n",
    "plt.grid()\n",
    "plt.legend()\n",
    "plt.show()"
   ]
  },
  {
   "cell_type": "markdown",
   "metadata": {
    "collapsed": false
   },
   "source": [
    "#### Passing density (individual)\n",
    "\n",
    "Another option to compute the individual density, is the **passing density**. \n",
    "For the computation it needs a **measurement line** and the distance to a second \"virtual\" **measurement line** which form a \"virtual\" **measurement area** ($M$).\n",
    "\n",
    "In this our example, we want to measure from the entrance of the bottleneck (top line) 1m towards the exit of the bottleneck (bottom line).\n",
    "The set set up is shown below:"
   ]
  },
  {
   "cell_type": "code",
   "execution_count": null,
   "metadata": {
    "tags": [
     "remove-input"
    ]
   },
   "outputs": [],
   "source": [
    "from pedpy import compute_frame_range_in_area\n",
    "\n",
    "frames_in_area, used_area = compute_frame_range_in_area(\n",
    "    traj_data=traj, measurement_line=measurement_line, width=1.0\n",
    ")"
   ]
  },
  {
   "cell_type": "code",
   "execution_count": null,
   "metadata": {
    "collapsed": false,
    "tags": [
     "hide-input"
    ]
   },
   "outputs": [],
   "source": [
    "plt.figure()\n",
    "ax = plot_measurement_setup(\n",
    "    measurement_areas=[used_area],\n",
    "    measurement_lines=[\n",
    "        measurement_line,\n",
    "        MeasurementLine(shapely.offset_curve(measurement_line.line, 1.0)),\n",
    "    ],\n",
    "    ml_color=\"r\",\n",
    "    ml_width=2,\n",
    "    ma_color=\"r\",\n",
    "    ma_line_color=\"r\",\n",
    "    ma_line_width=0,\n",
    "    ma_alpha=0.2,\n",
    "    walkable_area=walkable_area,\n",
    "    hole_color=\"lightgrey\",\n",
    ")\n",
    "ax.set_aspect(\"equal\")\n",
    "plt.show()"
   ]
  },
  {
   "cell_type": "markdown",
   "metadata": {
    "collapsed": false
   },
   "source": [
    "For each pedestrian the frame range ($[t_{in}, t_{out}]$) in which they are inside this area is computed and counted how many pedestrian are inside the area for each frame ($N(t)$). \n",
    "The average number of pedestrians in that frame range, then is the passing density:\n",
    "\n",
    "$$\n",
    "    \\rho_{passing} = {1 \\over {t_{out}-t_{in}}} \\int^{t_{out}}_{t_{in}} {{N(t)} \\over A(M)} dt\n",
    "$$\n",
    "\n",
    ":::{important}\n",
    "It is only possible\n",
    ":::\n",
    "\n",
    "Here, we want to compute the passing density inside the bottleneck, this can be done with:\n"
   ]
  },
  {
   "cell_type": "code",
   "execution_count": null,
   "metadata": {
    "collapsed": false
   },
   "outputs": [],
   "source": [
    "from pedpy import compute_passing_density\n",
    "from pedpy import compute_frame_range_in_area\n",
    "\n",
    "frames_in_area, used_area = compute_frame_range_in_area(\n",
    "    traj_data=traj, measurement_line=measurement_line, width=1.0\n",
    ")\n",
    "passing_density = compute_passing_density(\n",
    "    density_per_frame=classic_density, frames=frames_in_area\n",
    ")"
   ]
  },
  {
   "cell_type": "markdown",
   "metadata": {},
   "source": [
    "This gives for each pedestrian one value for the density. \n",
    "The following plot shows how the individual density inside is distributed the bottleneck:"
   ]
  },
  {
   "cell_type": "code",
   "execution_count": null,
   "metadata": {
    "collapsed": false,
    "tags": [
     "hide-input"
    ]
   },
   "outputs": [],
   "source": [
    "plt.figure()\n",
    "plt.title(\"Individual density inside bottleneck\")\n",
    "violin_parts = plt.violinplot(\n",
    "    passing_density.density, showmeans=True, showextrema=True, showmedians=True\n",
    ")\n",
    "for pc in violin_parts[\"bodies\"]:\n",
    "    pc.set_facecolor(pedpy_blue)\n",
    "    pc.set_edgecolor(\"k\")\n",
    "plt.xlabel(\"\")\n",
    "plt.ylabel(\"$\\\\rho$ / 1/$m^2$\")\n",
    "plt.xticks([])\n",
    "plt.show()"
   ]
  },
  {
   "cell_type": "markdown",
   "metadata": {
    "collapsed": false
   },
   "source": [
    "### Speed\n",
    "\n",
    "A further important measure in pedestrian dynamics is the speed of the pedestrians.\n",
    "Low speeds can indicate congestions or other obstructions in the flow of the crowd."
   ]
  },
  {
   "cell_type": "markdown",
   "metadata": {
    "collapsed": false
   },
   "source": [
    "#### Individual speed\n",
    "\n",
    "For computing the individuals speed at a specific frame $v_i(t)$ a specific frame step ($n$) is needed.\n",
    "From the positions $n$ frames in the future and the past, the positions are taken: $X_{future}$, $X_{past}$.\n",
    "\n",
    "TODO $\\Delta t$\n",
    "\n",
    "The distance between these position then is used to compute the speed with:\n",
    "\n",
    "$$\n",
    "v_i(t) = {|{X_{future} - X_{past}|}\\over{\\Delta t}}\n",
    "$$\n",
    "\n",
    "```{eval-rst}\n",
    ".. image:: images/speed_both.svg\n",
    "    :align: center\n",
    "    :width: 80 %\n",
    "```\n",
    "\n",
    "When getting closer to the start, or end of the trajectory data, it is not possible to use the full range of the frame interval for computing the speed.\n",
    "For these cases *PedPy* offers three different methods to compute the speed:\n",
    "\n",
    "1. exclude these parts\n",
    "2. adaptively shrink the window in which the speed is computed\n",
    "3. switch to one-sided window\n",
    "\n",
    "##### Exclude border\n",
    "\n",
    "When not enough frames available to compute the speed at the borders, for these parts no speed can be computed and they are ignored.\n"
   ]
  },
  {
   "cell_type": "code",
   "execution_count": null,
   "outputs": [],
   "source": [
    "from pedpy import compute_individual_speed, SpeedCalculation\n",
    "\n",
    "frame_step = 25\n",
    "\n",
    "individual_speed_exclude = compute_individual_speed(\n",
    "    traj_data=traj,\n",
    "    frame_step=frame_step,\n",
    "    compute_velocity=True,\n",
    "    speed_calculation=SpeedCalculation.BORDER_EXCLUDE\n",
    ")"
   ],
   "metadata": {
    "collapsed": false
   }
  },
  {
   "cell_type": "code",
   "execution_count": null,
   "outputs": [],
   "source": [
    "ped_id = 25\n",
    "\n",
    "plt.figure()\n",
    "plt.title(f\"Speed time-series of an pedestrian {ped_id} (border excluded)\")\n",
    "single_individual_speed = individual_speed_exclude[individual_speed_exclude.id == ped_id]\n",
    "plt.plot(\n",
    "    single_individual_speed.frame,\n",
    "    single_individual_speed.speed,\n",
    "    color=pedpy_green,\n",
    ")\n",
    "\n",
    "plt.xlabel(\"frame\")\n",
    "plt.ylabel(\"v / m/s\")\n",
    "plt.show()"
   ],
   "metadata": {
    "collapsed": false
   }
  },
  {
   "cell_type": "markdown",
   "source": [
    "##### Adaptive border window\n",
    "\n",
    "When using the adaptive approach\n",
    "```{eval-rst}\n",
    ".. image:: images/speed_border_adaptive_future.svg\n",
    "    :width: 46 %\n",
    ".. image:: images/speed_border_adaptive_past.svg\n",
    "    :width: 46 %\n",
    "```"
   ],
   "metadata": {
    "collapsed": false
   }
  },
  {
   "cell_type": "code",
   "execution_count": null,
   "outputs": [],
   "source": [
    "from pedpy import compute_individual_speed, SpeedCalculation\n",
    "\n",
    "individual_speed_adaptive = compute_individual_speed(\n",
    "    traj_data=traj,\n",
    "    frame_step=frame_step,\n",
    "    compute_velocity=True,\n",
    "    speed_calculation=SpeedCalculation.BORDER_ADAPTIVE\n",
    ")"
   ],
   "metadata": {
    "collapsed": false
   }
  },
  {
   "cell_type": "code",
   "execution_count": null,
   "outputs": [],
   "source": [
    "plt.figure()\n",
    "plt.title(f\"Speed time-series of an pedestrian {ped_id} (adaptive)\")\n",
    "single_individual_speed = individual_speed_adaptive[individual_speed_adaptive.id == ped_id]\n",
    "plt.plot(\n",
    "    single_individual_speed.frame,\n",
    "    single_individual_speed.speed,\n",
    "    color=pedpy_red,\n",
    ")\n",
    "\n",
    "plt.xlabel(\"frame\")\n",
    "plt.ylabel(\"v / m/s\")\n",
    "plt.show()"
   ],
   "metadata": {
    "collapsed": false
   }
  },
  {
   "cell_type": "markdown",
   "source": [
    "##### Single sided border window\n",
    "\n",
    "In these cases, one of the end points to compute the movement becomes the current position $X_{current}$.\n",
    "When getting to close to the start of the trajectory, the movement is computed from $X_{current}$ to $X_{future}$.\n",
    "In the other case the movement is from $X_{past}$ to $X_{current}$.\n",
    "\n",
    "$$\n",
    "    v_i(t) = {|{X_{future} - X_{current}|}\\over{ \\frac{1}{2} \\Delta t}} \\text{, or } v_i(t) = {|{X_{current} - X_{past}|}\\over{ \\frac{1}{2} \\Delta t}}\n",
    "$$\n",
    "\n",
    "```{eval-rst}\n",
    ".. image:: images/speed_border_single_sided_future.svg\n",
    "    :width: 46 %\n",
    ".. image:: images/speed_border_single_sided_past.svg\n",
    "    :width: 46 %\n",
    "```\n",
    "\n",
    ":::{important}\n",
    "As at the edges of the trajectories the time interval gets halved, there may occur some jumps computed speeds.\n",
    ":::"
   ],
   "metadata": {
    "collapsed": false
   }
  },
  {
   "cell_type": "code",
   "execution_count": null,
   "outputs": [],
   "source": [
    "from pedpy import compute_individual_speed, SpeedCalculation\n",
    "\n",
    "individual_speed_single_sided = compute_individual_speed(\n",
    "    traj_data=traj,\n",
    "    frame_step=frame_step,\n",
    "    compute_velocity=True,\n",
    "    speed_calculation=SpeedCalculation.BORDER_SINGLE_SIDED\n",
    ")"
   ],
   "metadata": {
    "collapsed": false
   }
  },
  {
   "cell_type": "code",
   "execution_count": null,
   "outputs": [],
   "source": [
    "plt.figure()\n",
    "plt.title(f\"Speed time-series of an pedestrian {ped_id} (single sided)\")\n",
    "single_individual_speed = individual_speed_single_sided[individual_speed_single_sided.id == ped_id]\n",
    "plt.plot(\n",
    "    single_individual_speed.frame,\n",
    "    single_individual_speed.speed,\n",
    "    color=pedpy_grey,\n",
    ")\n",
    "\n",
    "plt.xlabel(\"frame\")\n",
    "plt.ylabel(\"v / m/s\")\n",
    "plt.show()"
   ],
   "metadata": {
    "collapsed": false
   }
  },
  {
   "cell_type": "markdown",
   "source": [
    "##### Comparison\n",
    "\n",
    "To demonstrate the differences in the computed speeds, take a look at the following plot:\n"
   ],
   "metadata": {
    "collapsed": false
   }
  },
  {
   "cell_type": "code",
   "execution_count": null,
   "outputs": [],
   "source": [
    "fig, ax = plt.subplots(1, 3, gridspec_kw={'width_ratios': [2, 1, 1]}, sharey=True, figsize=(12, 5))\n",
    "\n",
    "fig.suptitle(\"Comparison of the different speed calculations\")\n",
    "speed_exclude = individual_speed_exclude[individual_speed_exclude.id == ped_id]\n",
    "speed_adaptive = individual_speed_adaptive[individual_speed_adaptive.id == ped_id]\n",
    "speed_single_sided = individual_speed_single_sided[individual_speed_single_sided.id == ped_id]\n",
    "\n",
    "ax[0].plot(\n",
    "    speed_single_sided.frame,\n",
    "    speed_single_sided.speed,\n",
    "    color=pedpy_grey,\n",
    ")\n",
    "ax[0].plot(\n",
    "    speed_adaptive.frame,\n",
    "    speed_adaptive.speed,\n",
    "    color=pedpy_red,\n",
    ")\n",
    "ax[0].plot(\n",
    "    speed_exclude.frame,\n",
    "    speed_exclude.speed,\n",
    "    color=pedpy_green,\n",
    ")\n",
    "ax[0].set_xlabel('frame')\n",
    "ax[0].set_ylabel('v / m/s')\n",
    "\n",
    "ax[1].plot(\n",
    "    speed_single_sided.frame[speed_single_sided.frame < speed_single_sided.frame.min()+3*frame_step],\n",
    "    speed_single_sided.speed[speed_single_sided.frame < speed_single_sided.frame.min()+3*frame_step],\n",
    "    color=pedpy_grey,\n",
    ")\n",
    "ax[1].plot(\n",
    "    speed_adaptive.frame[speed_adaptive.frame < speed_single_sided.frame.min()+3*frame_step],\n",
    "    speed_adaptive.speed[speed_adaptive.frame < speed_single_sided.frame.min()+3*frame_step],\n",
    "    color=pedpy_red,\n",
    ")\n",
    "ax[1].plot(\n",
    "    speed_exclude.frame[speed_exclude.frame < speed_single_sided.frame.min()+3*frame_step],\n",
    "    speed_exclude.speed[speed_exclude.frame < speed_single_sided.frame.min()+3*frame_step],\n",
    "    color=pedpy_green,\n",
    ")\n",
    "ax[1].set_xlabel('frame')\n",
    "\n",
    "ax[2].plot(\n",
    "    speed_single_sided.frame[speed_single_sided.frame > speed_single_sided.frame.max()-3*frame_step],\n",
    "    speed_single_sided.speed[speed_single_sided.frame > speed_single_sided.frame.max()-3*frame_step],\n",
    "    color=pedpy_grey,\n",
    ")\n",
    "ax[2].plot(\n",
    "    speed_adaptive.frame[speed_adaptive.frame > speed_single_sided.frame.max()-3*frame_step],\n",
    "    speed_adaptive.speed[speed_adaptive.frame > speed_single_sided.frame.max()-3*frame_step],\n",
    "    color=pedpy_red,\n",
    ")\n",
    "ax[2].plot(\n",
    "    speed_exclude.frame[speed_exclude.frame > speed_single_sided.frame.max()-3*frame_step],\n",
    "    speed_exclude.speed[speed_exclude.frame > speed_single_sided.frame.max()-3*frame_step],\n",
    "    color=pedpy_green,\n",
    ")\n",
    "\n",
    "ax[2].set_xlabel('frame')\n",
    "\n",
    "plt.show()"
   ],
   "metadata": {
    "collapsed": false
   }
  },
  {
   "cell_type": "markdown",
   "metadata": {},
   "source": [
    "##### Individual speed in specific movement direction\n",
    "\n",
    "\n",
    "It is also possible to compute the individual speed in a specific direction...\n",
    "\n",
    ":::{important}\n",
    "When using a specific direction, the computed speed may become negative!\n",
    ":::\n",
    "\n",
    "```{eval-rst}\n",
    ".. image:: images/speed_movement_direction.svg\n",
    "    :width: 60 %\n",
    "```"
   ]
  },
  {
   "cell_type": "code",
   "execution_count": null,
   "metadata": {
    "collapsed": false
   },
   "outputs": [],
   "source": [
    "individual_speed_direction = compute_individual_speed(\n",
    "    traj_data=traj,\n",
    "    frame_step=5,\n",
    "    movement_direction=np.array([0, -1]),\n",
    "    compute_velocity=True,\n",
    "    speed_calculation=SpeedCalculation.BORDER_SINGLE_SIDED\n",
    ")"
   ]
  },
  {
   "cell_type": "code",
   "execution_count": null,
   "metadata": {
    "collapsed": false,
    "tags": [
     "hide-input"
    ]
   },
   "outputs": [],
   "source": [
    "colors = [pedpy_blue, pedpy_grey, pedpy_red, pedpy_green]\n",
    "ped_ids = [10, 30, 50, 70]\n",
    "\n",
    "fig = plt.figure()\n",
    "plt.title(\n",
    "    \"Velocity time-series of an excerpt of the pedestrians in a specific direction\"\n",
    ")\n",
    "for color, ped_id in zip(colors, ped_ids):\n",
    "    single_individual_speed = individual_speed_direction[\n",
    "        individual_speed_direction.id == ped_id\n",
    "    ]\n",
    "    plt.plot(\n",
    "        single_individual_speed.frame,\n",
    "        single_individual_speed.speed,\n",
    "        color=color,\n",
    "    )\n",
    "\n",
    "plt.xlabel(\"frame\")\n",
    "plt.ylabel(\"v / m/s\")\n",
    "plt.show()"
   ]
  },
  {
   "cell_type": "markdown",
   "metadata": {
    "collapsed": false
   },
   "source": [
    "#### Mean speed\n",
    "\n",
    "Now, that we have computed the individual's speed, we want to compute the mean speed in the already used measurement area $M$ closely in front of the bottleneck.\n",
    "The mean speed $v_{mean}$ is defined as\n",
    "$$\n",
    "    v_{mean}(t) = {{1} \\over {N}} \\sum_{i \\in P_M} v_i(t), \n",
    "$$\n",
    "where $P_M$ are all pedestrians inside the measurement area, and $N$ the number of pedestrians inside the measurement area ($|P_M|$).\n",
    "\n",
    "This can be as follows with *PedPy*:\n",
    " "
   ]
  },
  {
   "cell_type": "code",
   "execution_count": null,
   "metadata": {
    "collapsed": false
   },
   "outputs": [],
   "source": [
    "from pedpy import compute_mean_speed_per_frame\n",
    "\n",
    "mean_speed = compute_mean_speed_per_frame(\n",
    "    traj_data=traj,\n",
    "    measurement_area=measurement_area,\n",
    "    individual_speed=individual_speed_single_sided,\n",
    ")"
   ]
  },
  {
   "cell_type": "code",
   "execution_count": null,
   "metadata": {
    "collapsed": false,
    "tags": [
     "hide-input"
    ]
   },
   "outputs": [],
   "source": [
    "fig = plt.figure()\n",
    "plt.title(\"Mean speed in front of the bottleneck\")\n",
    "plt.plot(mean_speed.index, mean_speed, color=pedpy_blue)\n",
    "plt.xlabel(\"frame\")\n",
    "plt.ylabel(\"v / m/s\")\n",
    "plt.show()"
   ]
  },
  {
   "cell_type": "markdown",
   "metadata": {},
   "source": [
    "The same can be now computed, using the speed in a movement direction as basis:"
   ]
  },
  {
   "cell_type": "code",
   "execution_count": null,
   "metadata": {
    "collapsed": false
   },
   "outputs": [],
   "source": [
    "mean_speed_direction = compute_mean_speed_per_frame(\n",
    "    traj_data=traj,\n",
    "    measurement_area=measurement_area,\n",
    "    individual_speed=individual_speed_direction,\n",
    ")"
   ]
  },
  {
   "cell_type": "code",
   "execution_count": null,
   "metadata": {
    "collapsed": false,
    "tags": [
     "hide-input"
    ]
   },
   "outputs": [],
   "source": [
    "plt.figure()\n",
    "plt.title(\"Mean speed in specific direction in front of the bottleneck\")\n",
    "plt.plot(mean_speed_direction.index, mean_speed_direction, color=pedpy_red)\n",
    "plt.xlabel(\"frame\")\n",
    "plt.ylabel(\"v / m/s\")\n",
    "plt.show()"
   ]
  },
  {
   "cell_type": "markdown",
   "metadata": {
    "collapsed": false
   },
   "source": [
    "#### Voronoi speed\n",
    "\n",
    "A further approach to compute average speed $v_{voronoi}(t)$ in an area by weighting the individuals speed by the size of their corresponding Voronoi polygon $V_i$ inside the measurement area $M$.\n",
    "\n",
    "$$\n",
    "    v_{voronoi}(t) = TODO\n",
    "$$\n",
    "\n",
    "This can be done in *PedPy* with:"
   ]
  },
  {
   "cell_type": "code",
   "execution_count": null,
   "metadata": {
    "collapsed": false
   },
   "outputs": [],
   "source": [
    "from pedpy import compute_voronoi_speed\n",
    "\n",
    "voronoi_speed = compute_voronoi_speed(\n",
    "    traj_data=traj,\n",
    "    individual_voronoi_intersection=intersecting,\n",
    "    individual_speed=individual_speed_single_sided,\n",
    "    measurement_area=measurement_area,\n",
    ")"
   ]
  },
  {
   "cell_type": "code",
   "execution_count": null,
   "metadata": {
    "collapsed": false,
    "tags": [
     "hide-input"
    ]
   },
   "outputs": [],
   "source": [
    "plt.figure()\n",
    "plt.title(\"Voronoi speed in front of the bottleneck\")\n",
    "plt.plot(voronoi_speed.index, voronoi_speed, color=pedpy_orange)\n",
    "plt.xlabel(\"frame\")\n",
    "plt.ylabel(\"v / m/s\")\n",
    "plt.show()"
   ]
  },
  {
   "cell_type": "markdown",
   "metadata": {},
   "source": [
    "Analogously, this can be done with the speed in a specific direction with:"
   ]
  },
  {
   "cell_type": "code",
   "execution_count": null,
   "metadata": {
    "collapsed": false
   },
   "outputs": [],
   "source": [
    "voronoi_speed_direction = compute_voronoi_speed(\n",
    "    traj_data=traj,\n",
    "    individual_voronoi_intersection=intersecting,\n",
    "    individual_speed=individual_speed_direction,\n",
    "    measurement_area=measurement_area,\n",
    ")"
   ]
  },
  {
   "cell_type": "code",
   "execution_count": null,
   "metadata": {
    "collapsed": false,
    "tags": [
     "hide-input"
    ]
   },
   "outputs": [],
   "source": [
    "plt.figure()\n",
    "plt.title(\"Voronoi velocity in specific direction in front of the bottleneck\")\n",
    "plt.plot(\n",
    "    voronoi_speed_direction.index,\n",
    "    voronoi_speed_direction,\n",
    "    color=pedpy_grey,\n",
    ")\n",
    "plt.xlabel(\"frame\")\n",
    "plt.ylabel(\"v / m/s\")\n",
    "plt.show()"
   ]
  },
  {
   "cell_type": "markdown",
   "metadata": {
    "collapsed": false
   },
   "source": [
    "#### Comparison mean speed vs Voronoi speed\n",
    "\n",
    "We now computed the speed with different methods, this plot shows what the different results look like compared to each other:"
   ]
  },
  {
   "cell_type": "code",
   "execution_count": null,
   "metadata": {
    "tags": [
     "hide-input"
    ]
   },
   "outputs": [],
   "source": [
    "plt.figure(figsize=(8, 6))\n",
    "plt.title(\"Comparison of different velocity methods\")\n",
    "plt.plot(\n",
    "    voronoi_speed.reset_index().frame,\n",
    "    voronoi_speed,\n",
    "    label=\"Voronoi\",\n",
    "    color=pedpy_orange,\n",
    ")\n",
    "plt.plot(\n",
    "    voronoi_speed_direction.reset_index().frame,\n",
    "    voronoi_speed_direction,\n",
    "    label=\"Voronoi direction\",\n",
    "    color=pedpy_grey,\n",
    ")\n",
    "plt.plot(\n",
    "    mean_speed.reset_index().frame,\n",
    "    mean_speed,\n",
    "    label=\"classic\",\n",
    "    color=pedpy_blue,\n",
    ")\n",
    "plt.plot(\n",
    "    mean_speed_direction.reset_index().frame,\n",
    "    mean_speed_direction,\n",
    "    label=\"classic direction\",\n",
    "    color=pedpy_red,\n",
    ")\n",
    "plt.xlabel(\"frame\")\n",
    "plt.ylabel(\"v / m/s\")\n",
    "plt.legend()\n",
    "plt.grid()\n",
    "plt.show()"
   ]
  },
  {
   "cell_type": "markdown",
   "metadata": {
    "collapsed": false
   },
   "source": [
    "#### Passing speed (individual)\n",
    "\n",
    "With the same principles as described in  **link to section passing density**, the individual speeds $v^i_{passing}$ is defined as\n",
    "$$\n",
    "    v^i_{passing} = {{d}\\over{t_{out}-t_{in}},\n",
    "$$\n",
    "where $d$ is the distance between the two measurement lines.\n",
    "\n",
    "In *PedPy* this can be done with: "
   ]
  },
  {
   "cell_type": "code",
   "execution_count": null,
   "metadata": {
    "collapsed": false
   },
   "outputs": [],
   "source": [
    "from pedpy import compute_passing_speed\n",
    "from pedpy import compute_frame_range_in_area\n",
    "\n",
    "passing_offset = 1.0\n",
    "frames_in_area, _ = compute_frame_range_in_area(\n",
    "    traj_data=traj, measurement_line=measurement_line, width=passing_offset\n",
    ")\n",
    "passing_speed = compute_passing_speed(\n",
    "    frames_in_area=frames_in_area,\n",
    "    frame_rate=traj.frame_rate,\n",
    "    distance=passing_offset,\n",
    ")"
   ]
  },
  {
   "cell_type": "code",
   "execution_count": null,
   "metadata": {
    "collapsed": false,
    "tags": [
     "hide-input"
    ]
   },
   "outputs": [],
   "source": [
    "plt.figure()\n",
    "plt.title(\"Individual speed in bottleneck\")\n",
    "violin_parts = plt.violinplot(\n",
    "    passing_speed.speed, showmeans=True, showextrema=True, showmedians=True\n",
    ")\n",
    "for pc in violin_parts[\"bodies\"]:\n",
    "    pc.set_facecolor(pedpy_blue)\n",
    "    pc.set_edgecolor(\"k\")\n",
    "plt.xlabel(\"\")\n",
    "plt.ylabel(\"v / m/s\")\n",
    "plt.xticks([])\n",
    "plt.show()"
   ]
  },
  {
   "cell_type": "markdown",
   "metadata": {
    "collapsed": false
   },
   "source": [
    "### Flow\n",
    "\n",
    "Add some text"
   ]
  },
  {
   "cell_type": "markdown",
   "metadata": {
    "collapsed": false
   },
   "source": [
    "#### N-t diagram at bottleneck"
   ]
  },
  {
   "cell_type": "code",
   "execution_count": null,
   "metadata": {
    "collapsed": false
   },
   "outputs": [],
   "source": [
    "from pedpy import compute_n_t\n",
    "\n",
    "nt, crossing = compute_n_t(\n",
    "    traj_data=traj,\n",
    "    measurement_line=measurement_line,\n",
    ")"
   ]
  },
  {
   "cell_type": "code",
   "execution_count": null,
   "metadata": {
    "collapsed": false,
    "tags": [
     "hide-input"
    ]
   },
   "outputs": [],
   "source": [
    "from pedpy.column_identifier import TIME_COL, CUMULATED_COL\n",
    "\n",
    "plt.figure()\n",
    "plt.title(\"N-t at bottleneck\")\n",
    "plt.plot(nt[TIME_COL], nt[CUMULATED_COL], color=pedpy_blue)\n",
    "plt.xlabel(\"t / s\")\n",
    "plt.ylabel(\"Cumulative pedestrians\")\n",
    "plt.show()"
   ]
  },
  {
   "cell_type": "markdown",
   "metadata": {
    "collapsed": false
   },
   "source": [
    "#### Flow at bottleneck\n",
    "\n",
    "The flow at the bottleneck ...\n",
    "\n",
    "Frame intervals\n",
    "\n",
    "```{eval-rst}\n",
    ".. image:: images/flow.svg\n",
    "    :align: center\n",
    "    :width: 80 %\n",
    "```\n",
    "\n",
    "The flow then ...\n",
    "\n",
    "```{eval-rst}\n",
    ".. image:: images/flow_zoom.svg\n",
    "    :align: center\n",
    "    :width: 60 %\n",
    "```\n",
    "\n",
    "The flow:\n",
    "\n",
    "$$\n",
    "    J = {{N^{\\Delta t}} \\over {t^{\\Delta t}_N - t^{\\Delta t}_1}}\n",
    "$$\n",
    "\n",
    "At the same time also the mean speed\n",
    "\n",
    "$$\n",
    "    v_{crossing} = {1 \\over N^{\\Delta t} } \\sum^{N^{\\Delta t}}_{i=1} v_i(t)\n",
    "$$\n",
    "\n",
    "To compute the flow and mean speed when passing the line with *PedPy* use:"
   ]
  },
  {
   "cell_type": "code",
   "execution_count": null,
   "metadata": {
    "collapsed": false
   },
   "outputs": [],
   "source": [
    "from pedpy import compute_flow\n",
    "\n",
    "delta_frame = 100\n",
    "flow = compute_flow(\n",
    "    nt=nt,\n",
    "    crossing_frames=crossing,\n",
    "    individual_speed=individual_speed_single_sided,\n",
    "    delta_frame=delta_frame,\n",
    "    frame_rate=traj.frame_rate,\n",
    ")"
   ]
  },
  {
   "cell_type": "code",
   "execution_count": null,
   "metadata": {
    "collapsed": false,
    "tags": [
     "hide-input"
    ]
   },
   "outputs": [],
   "source": [
    "from pedpy.column_identifier import FLOW_COL, MEAN_SPEED_COL\n",
    "\n",
    "plt.figure()\n",
    "plt.title(\"Crossing velocities at the corresponding flow at bottleneck\")\n",
    "plt.scatter(flow[FLOW_COL], flow[MEAN_SPEED_COL], color=pedpy_blue)\n",
    "plt.xlabel(\"J / 1/s\")\n",
    "plt.ylabel(\"v / m/s\")\n",
    "plt.show()"
   ]
  },
  {
   "cell_type": "markdown",
   "metadata": {
    "collapsed": false
   },
   "source": [
    "### Neighborhood\n",
    "\n",
    "To analyze, which pedestrians are close to each other, it is possible to compute the neighbors of each pedestrian.\n",
    "We define two pedestrians as neighbors if their Voronoi polygons ($V_i$, $V_j$) touch at some point, in case of *PedPy* they are touching if their distance is below 1mm.\n",
    "As basis for the computation one can either use the uncut or cut Voronoi polygons.\n",
    "When using the uncut Voronoi polygons, pedestrian may be detected as neighbors even when their distance is quite large in low density situation.\n",
    "Therefor, it is recommended to use the cut Voronoi polygons, where the cut-off radius can be used to define a maximal distance between neighboring pedestrians.\n",
    "\n",
    "To compute the neighbors in *PedPy* use:"
   ]
  },
  {
   "cell_type": "code",
   "execution_count": null,
   "metadata": {
    "collapsed": false
   },
   "outputs": [],
   "source": [
    "from pedpy import compute_neighbors\n",
    "\n",
    "neighbors = compute_neighbors(individual_cutoff)"
   ]
  },
  {
   "cell_type": "code",
   "execution_count": null,
   "metadata": {
    "collapsed": false,
    "tags": [
     "hide-input"
    ]
   },
   "outputs": [],
   "source": [
    "from pedpy.column_identifier import POLYGON_COL\n",
    "\n",
    "frame = 350\n",
    "\n",
    "voronoi_neighbors = pd.merge(\n",
    "    individual_cutoff[individual_cutoff.frame == frame],\n",
    "    neighbors[neighbors.frame == frame],\n",
    "    on=[ID_COL, FRAME_COL],\n",
    ")\n",
    "used_neighbors = voronoi_neighbors[ID_COL].values[4:6]\n",
    "\n",
    "\n",
    "fig, axes = plt.subplots(nrows=1, ncols=len(used_neighbors))\n",
    "fig.suptitle(f\"Neighbors of a single pedestrian\")\n",
    "\n",
    "for base, ax in zip(used_neighbors, axes):\n",
    "    base_neighbors = voronoi_neighbors[voronoi_neighbors[ID_COL] == base][\n",
    "        \"neighbors\"\n",
    "    ].values[0]\n",
    "    ax.set_title(f\"id = {base}\")\n",
    "\n",
    "    plot_walkable_area(\n",
    "        ax=ax, walkable_area=walkable_area, hole_color=\"lightgrey\"\n",
    "    )\n",
    "\n",
    "    for _, row in voronoi_neighbors.iterrows():\n",
    "        poly = row[POLYGON_COL]\n",
    "        ped_id = row[ID_COL]\n",
    "\n",
    "        are_neighbors = ped_id in base_neighbors\n",
    "\n",
    "        color = pedpy_grey\n",
    "        alpha = 0.2\n",
    "        if ped_id == base:\n",
    "            color = pedpy_orange\n",
    "            alpha = 0.5\n",
    "\n",
    "        if are_neighbors:\n",
    "            color = pedpy_green\n",
    "            alpha = 0.5\n",
    "\n",
    "        ax.plot(*poly.exterior.xy, alpha=1, color=color)\n",
    "        ax.fill(*poly.exterior.xy, alpha=alpha, color=color)\n",
    "        ax.set_aspect(\"equal\")\n",
    "    fig.tight_layout()\n",
    "plt.show()"
   ]
  },
  {
   "cell_type": "markdown",
   "metadata": {},
   "source": [
    "### Distance to entrance/Time to entrance\n",
    "\n",
    "An indicator to detect congestions or jams in trajectory data are distance/time to crossing.\n",
    "It shows how much time until the crossing of the measurement line is left and how big the distance to that line is.\n",
    "\n",
    "In *PedPy* this can be done with:"
   ]
  },
  {
   "cell_type": "code",
   "execution_count": null,
   "metadata": {},
   "outputs": [],
   "source": [
    "from pedpy import compute_time_distance_line\n",
    "\n",
    "df_time_distance = compute_time_distance_line(\n",
    "    traj_data=traj, measurement_line=measurement_line\n",
    ")"
   ]
  },
  {
   "cell_type": "code",
   "execution_count": null,
   "metadata": {
    "tags": [
     "hide-input"
    ]
   },
   "outputs": [],
   "source": [
    "fig = plt.figure()\n",
    "ax = fig.add_subplot(111)\n",
    "ax.set_title(\"Distance to entrance/Time to entrance\")\n",
    "for ped_id, ped_data in df_time_distance.groupby(by=ID_COL):\n",
    "    plt.plot(\n",
    "        ped_data.distance,\n",
    "        ped_data.time / traj.frame_rate,\n",
    "        c=\"gray\",\n",
    "        alpha=0.7,\n",
    "        lw=0.25,\n",
    "    )\n",
    "    min_data = ped_data[ped_data.frame == ped_data.frame.min()]\n",
    "    plt.scatter(\n",
    "        min_data.distance,\n",
    "        min_data.time / traj.frame_rate,\n",
    "        c=\"gray\",\n",
    "        s=5,\n",
    "        marker=\"o\",\n",
    "    )\n",
    "\n",
    "ax.grid()\n",
    "ax.set_xlabel(\"distance to line / m\")\n",
    "ax.set_ylabel(\"time to line / s\")\n",
    "\n",
    "ax.set_xlim([0, None])\n",
    "ax.set_ylim([0, None])\n",
    "plt.show()"
   ]
  },
  {
   "cell_type": "markdown",
   "metadata": {
    "collapsed": false
   },
   "source": [
    "### Profiles\n",
    "\n",
    "For the computation of the profiles the given {class}`~geometry.WalkableArea` is divided into square grid cells.\n",
    "Each of these grid cells is then used as a {class}`~geometry.MeasurementArea`  to compute the Voronoi density as in {func}`~density_calculator.compute_voronoi_density`.\n",
    "\n",
    "```{eval-rst}\n",
    ".. image:: /images/profile_grid.svg\n",
    "    :width: 70 %\n",
    "    :align: center\n",
    "```\n",
    "\n",
    "The computation of the speed in each cell is either done with the Voronoi speed computation as in {func}`~speed_calculator.compute_voronoi_speed` when using {data}`~profile_calculator.SpeedMethod.VORONOI`. \n",
    "Or as in {func}`~speed_calculator.compute_mean_speed_per_frame` when using {data}`~profile_calculator.SpeedMethod.ARITHMETIC`.\n",
    "\n",
    "```{eval-rst}\n",
    ".. note::\n",
    "\n",
    "    As this is a quite compute heavy operation, it is suggested to reduce the trajectories to the important areas and limit the input data to the most relevant frame interval.\n",
    "```\n"
   ]
  },
  {
   "cell_type": "code",
   "execution_count": null,
   "metadata": {
    "collapsed": false
   },
   "outputs": [],
   "source": [
    "from pedpy import (\n",
    "    compute_profiles,\n",
    "    compute_individual_voronoi_polygons,\n",
    "    compute_individual_speed,\n",
    "    SpeedMethod,\n",
    "    SpeedCalculation,\n",
    ")\n",
    "\n",
    "individual_cutoff = compute_individual_voronoi_polygons(\n",
    "    traj_data=traj,\n",
    "    walkable_area=walkable_area,\n",
    "    cut_off=Cutoff(radius=0.8, quad_segments=3),\n",
    ")\n",
    "\n",
    "individual_speed = compute_individual_speed(\n",
    "    traj_data=traj,\n",
    "    frame_step=5,\n",
    "    speed_calculation=SpeedCalculation.BORDER_SINGLE_SIDED\n",
    ")"
   ]
  },
  {
   "cell_type": "code",
   "execution_count": null,
   "metadata": {
    "collapsed": false
   },
   "outputs": [],
   "source": [
    "min_frame_profiles = 250  # We use here just an excerpt of the\n",
    "max_frame_profiles = 400  # trajectory data to reduce compute time\n",
    "\n",
    "density_profiles, speed_profiles = compute_profiles(\n",
    "    individual_voronoi_speed_data=pd.merge(\n",
    "        individual_cutoff[\n",
    "            individual_cutoff.frame.between(\n",
    "                min_frame_profiles, max_frame_profiles\n",
    "            )\n",
    "        ],\n",
    "        individual_speed[\n",
    "            individual_speed.frame.between(\n",
    "                min_frame_profiles, max_frame_profiles\n",
    "            )\n",
    "        ],\n",
    "        on=[ID_COL, FRAME_COL],\n",
    "    ),\n",
    "    walkable_area=walkable_area.polygon,\n",
    "    grid_size=0.25,\n",
    "    speed_method=SpeedMethod.ARITHMETIC,\n",
    ")"
   ]
  },
  {
   "cell_type": "code",
   "execution_count": null,
   "metadata": {
    "collapsed": false,
    "tags": [
     "hide-input"
    ]
   },
   "outputs": [],
   "source": [
    "import matplotlib.pyplot as plt\n",
    "import numpy as np\n",
    "\n",
    "bounds = walkable_area.bounds\n",
    "\n",
    "fig, (ax0, ax1) = plt.subplots(nrows=1, ncols=2)\n",
    "\n",
    "ax0.set_title(\"Density\")\n",
    "cm = ax0.imshow(\n",
    "    np.mean(density_profiles, axis=0),\n",
    "    extent=[bounds[0], bounds[2], bounds[1], bounds[3]],\n",
    "    interpolation=\"None\",\n",
    "    cmap=\"jet\",\n",
    "    vmin=0,\n",
    "    vmax=10,\n",
    ")\n",
    "fig.colorbar(cm, ax=ax0, shrink=0.3, label=\"$\\\\rho$ / 1/$m^2$\")\n",
    "ax0.plot(*walkable_area.polygon.exterior.xy, color=\"w\")\n",
    "plot_walkable_area(walkable_area=walkable_area, ax=ax0, hole_color=\"w\")\n",
    "\n",
    "ax1.set_title(\"Speed\")\n",
    "cm = ax1.imshow(\n",
    "    np.mean(speed_profiles, axis=0),\n",
    "    extent=[bounds[0], bounds[2], bounds[1], bounds[3]],\n",
    "    cmap=\"jet\",\n",
    "    vmin=0,\n",
    "    vmax=2,\n",
    ")\n",
    "fig.colorbar(cm, ax=ax1, shrink=0.3, label=\"v / m/s\")\n",
    "plot_walkable_area(walkable_area=walkable_area, ax=ax1, hole_color=\"w\")\n",
    "\n",
    "\n",
    "fig.tight_layout()"
   ]
  },
  {
   "cell_type": "markdown",
   "metadata": {
    "collapsed": false
   },
   "source": [
    "## Preprocess the data\n",
    "\n",
    "Until now, we used complete trajectories, but sometimes not all the data is relevant for the analysis. \n",
    "If the data comes from larger simulation or experiments you may be only interested in data close to your region of interest or data in a specific time range.\n",
    "As *PedPy* builds up on **Pandas** as data container, the filtering methods from **Pandas** can also be used here.\n",
    "More information on filtering and merging with Pandas can be found here: **pandas filtering merging**"
   ]
  },
  {
   "cell_type": "markdown",
   "metadata": {},
   "source": [
    "### Geometric filtering\n",
    "\n",
    "First, we want to filter the data by geometrical principles, therefor we combine the capabilities of **Pandas** and **Shapely**. "
   ]
  },
  {
   "cell_type": "markdown",
   "metadata": {},
   "source": [
    "#### Data inside Polygon\n",
    "\n",
    "In the first case, we are only interested in trajectory data inside the known measurement area. "
   ]
  },
  {
   "cell_type": "code",
   "execution_count": null,
   "metadata": {
    "collapsed": false
   },
   "outputs": [],
   "source": [
    "import shapely\n",
    "\n",
    "bottleneck = shapely.Polygon([(0.25, 0), (0.25, -1), (-0.25, -1), (-0.25, 0)])\n",
    "leaving_area = shapely.Polygon([(-3, -1), (-3, -2), (3, -2), (3, -1)])"
   ]
  },
  {
   "cell_type": "code",
   "execution_count": null,
   "metadata": {},
   "outputs": [],
   "source": [
    "data_inside_ma = traj.data[shapely.within(traj.data.point, bottleneck)]"
   ]
  },
  {
   "cell_type": "code",
   "execution_count": null,
   "metadata": {
    "tags": [
     "hide-input"
    ]
   },
   "outputs": [],
   "source": [
    "from pedpy import plot_measurement_setup\n",
    "\n",
    "fig = plt.figure()\n",
    "ax = fig.add_subplot(111, aspect=\"equal\")\n",
    "\n",
    "plot_measurement_setup(\n",
    "    traj=TrajectoryData(data_inside_ma, frame_rate=traj.frame_rate),\n",
    "    walkable_area=walkable_area,\n",
    "    measurement_areas=[MeasurementArea(bottleneck)],\n",
    "    traj_color=pedpy_blue,\n",
    "    traj_alpha=0.7,\n",
    "    traj_width=0.4,\n",
    "    hole_color=\"lightgrey\",\n",
    "    ml_color=\"r\",\n",
    "    ml_width=1,\n",
    "    ma_color=\"r\",\n",
    "    ma_alpha=0.1,\n",
    "    ma_line_color=\"r\",\n",
    "    ma_line_width=1,\n",
    "    ax=ax,\n",
    ")\n",
    "ax.set_xlim([-0.75, 0.75])\n",
    "ax.set_ylim([-1.5, 0.5])\n",
    "plt.show()"
   ]
  },
  {
   "cell_type": "markdown",
   "metadata": {},
   "source": [
    "#### Data outside Polygon\n",
    "\n",
    "Secondly, we want to filter the data, such that the result contains only data which is outside a given area. \n",
    "In our case we want to remove all data behind the bottleneck, here called leaving area:"
   ]
  },
  {
   "cell_type": "code",
   "execution_count": null,
   "metadata": {},
   "outputs": [],
   "source": [
    "data_outside_leaving_area = traj.data[\n",
    "    ~shapely.within(traj.data.point, leaving_area)\n",
    "]"
   ]
  },
  {
   "cell_type": "code",
   "execution_count": null,
   "metadata": {
    "tags": [
     "hide-input"
    ]
   },
   "outputs": [],
   "source": [
    "from pedpy import plot_measurement_setup\n",
    "\n",
    "fig = plt.figure()\n",
    "ax = fig.add_subplot(111, aspect=\"equal\")\n",
    "\n",
    "ax = plot_measurement_setup(\n",
    "    traj=TrajectoryData(data_outside_leaving_area, frame_rate=traj.frame_rate),\n",
    "    walkable_area=walkable_area,\n",
    "    measurement_areas=[MeasurementArea(leaving_area)],\n",
    "    traj_color=pedpy_blue,\n",
    "    traj_alpha=0.7,\n",
    "    traj_width=0.4,\n",
    "    hole_color=\"lightgrey\",\n",
    "    ml_color=\"r\",\n",
    "    ml_width=1,\n",
    "    ma_color=\"r\",\n",
    "    ma_alpha=0.1,\n",
    "    ma_line_color=\"r\",\n",
    "    ma_line_width=1,\n",
    "    ax=ax,\n",
    ")\n",
    "plt.show()"
   ]
  },
  {
   "cell_type": "markdown",
   "metadata": {},
   "source": [
    "#### Data close to line\n",
    "\n",
    "It is not only possible to check whether a point is within a given polygon, it is also possible to check if the distance to a given geometrical object is below a given threshold.\n",
    "Here we want all the data that is within 1m of the measurement line at the entrance of the bottleneck: "
   ]
  },
  {
   "cell_type": "code",
   "execution_count": null,
   "metadata": {},
   "outputs": [],
   "source": [
    "data_close_ma = traj.data[\n",
    "    shapely.dwithin(traj.data.point, measurement_line.line, 1)\n",
    "]"
   ]
  },
  {
   "cell_type": "code",
   "execution_count": null,
   "metadata": {
    "tags": [
     "hide-input"
    ]
   },
   "outputs": [],
   "source": [
    "from pedpy import plot_measurement_setup\n",
    "\n",
    "fig = plt.figure()\n",
    "ax = fig.add_subplot(111, aspect=\"equal\")\n",
    "\n",
    "plot_measurement_setup(\n",
    "    traj=TrajectoryData(data_close_ma, frame_rate=traj.frame_rate),\n",
    "    walkable_area=walkable_area,\n",
    "    measurement_lines=[measurement_line],\n",
    "    traj_color=pedpy_blue,\n",
    "    traj_alpha=0.7,\n",
    "    traj_width=0.4,\n",
    "    hole_color=\"lightgrey\",\n",
    "    ml_color=\"r\",\n",
    "    ml_width=1,\n",
    "    ma_color=\"r\",\n",
    "    ma_alpha=0.1,\n",
    "    ma_line_color=\"r\",\n",
    "    ma_line_width=1,\n",
    "    ax=ax,\n",
    ")\n",
    "ax.set_xlim([-1.5, 1.5])\n",
    "ax.set_ylim([-2.5, 1.5])\n",
    "plt.show()"
   ]
  },
  {
   "cell_type": "markdown",
   "metadata": {},
   "source": [
    "### Time based filtering\n",
    "\n",
    "It is not only possible to filter the data by geometrical means, but also depending on time information.\n",
    "In experiments, you might only be interested in steady state data, this can be also be achieved by utilizing the **Pandas** filtering methods: "
   ]
  },
  {
   "cell_type": "code",
   "execution_count": null,
   "metadata": {},
   "outputs": [],
   "source": [
    "data_frame_range = traj.data[\n",
    "    traj.data.frame.between(300, 600, inclusive=\"both\")\n",
    "]"
   ]
  },
  {
   "cell_type": "code",
   "execution_count": null,
   "metadata": {
    "tags": [
     "hide-input"
    ]
   },
   "outputs": [],
   "source": [
    "from pedpy import plot_measurement_setup\n",
    "\n",
    "fig = plt.figure()\n",
    "ax = fig.add_subplot(111, aspect=\"equal\")\n",
    "\n",
    "plot_measurement_setup(\n",
    "    traj=TrajectoryData(data_frame_range, frame_rate=traj.frame_rate),\n",
    "    walkable_area=walkable_area,\n",
    "    traj_color=pedpy_blue,\n",
    "    traj_alpha=0.7,\n",
    "    traj_width=0.4,\n",
    "    hole_color=\"lightgrey\",\n",
    "    ax=ax,\n",
    ")\n",
    "plt.show()"
   ]
  },
  {
   "cell_type": "markdown",
   "metadata": {
    "collapsed": false
   },
   "source": [
    "### ID based filtering\n",
    "\n",
    "It is also possible to filter the data in a way that only specific pedestrians are contained:"
   ]
  },
  {
   "cell_type": "code",
   "execution_count": null,
   "metadata": {
    "collapsed": false
   },
   "outputs": [],
   "source": [
    "data_id = traj.data[traj.data.id == 20]"
   ]
  },
  {
   "cell_type": "code",
   "execution_count": null,
   "metadata": {
    "collapsed": false,
    "tags": [
     "hide-input"
    ]
   },
   "outputs": [],
   "source": [
    "from pedpy import plot_measurement_setup\n",
    "\n",
    "fig = plt.figure()\n",
    "ax = fig.add_subplot(111, aspect=\"equal\")\n",
    "\n",
    "plot_measurement_setup(\n",
    "    traj=TrajectoryData(data_id, frame_rate=traj.frame_rate),\n",
    "    walkable_area=walkable_area,\n",
    "    traj_color=pedpy_blue,\n",
    "    traj_alpha=0.7,\n",
    "    traj_width=0.4,\n",
    "    hole_color=\"lightgrey\",\n",
    "    ax=ax,\n",
    ")\n",
    "plt.show()"
   ]
  },
  {
   "cell_type": "markdown",
   "source": [
    "It is also possible to filter for multiple ids:"
   ],
   "metadata": {
    "collapsed": false
   }
  },
  {
   "cell_type": "code",
   "execution_count": null,
   "outputs": [],
   "source": [
    "ids = [10, 20, 30, 40]\n",
    "data_id = traj.data[traj.data.id.isin(ids)]"
   ],
   "metadata": {
    "collapsed": false
   }
  },
  {
   "cell_type": "code",
   "execution_count": null,
   "outputs": [],
   "source": [
    "from pedpy import plot_measurement_setup\n",
    "\n",
    "fig = plt.figure()\n",
    "ax = fig.add_subplot(111, aspect=\"equal\")\n",
    "\n",
    "plot_measurement_setup(\n",
    "    traj=TrajectoryData(data_id, frame_rate=traj.frame_rate),\n",
    "    walkable_area=walkable_area,\n",
    "    traj_color=pedpy_blue,\n",
    "    traj_alpha=0.7,\n",
    "    traj_width=0.4,\n",
    "    hole_color=\"lightgrey\",\n",
    "    ax=ax,\n",
    ")\n",
    "plt.show()"
   ],
   "metadata": {
    "collapsed": false
   }
  },
  {
   "cell_type": "markdown",
   "metadata": {
    "collapsed": false
   },
   "source": [
    "## What to do with the results?\n",
    "\n",
    "Now we have completed our analysis, what can be done to \n",
    "\n",
    "- combine for further analysis\n",
    "- save results"
   ]
  },
  {
   "cell_type": "markdown",
   "metadata": {
    "collapsed": false
   },
   "source": [
    "### Combine multiple DataFrames\n",
    "\n",
    "From the analysis we have one **DataFrame** containing the trajectory data:"
   ]
  },
  {
   "cell_type": "code",
   "execution_count": null,
   "metadata": {
    "collapsed": false
   },
   "outputs": [],
   "source": [
    "traj.data"
   ]
  },
  {
   "cell_type": "markdown",
   "source": [
    "and one containing the individual Voronoi data:"
   ],
   "metadata": {
    "collapsed": false
   }
  },
  {
   "cell_type": "code",
   "execution_count": null,
   "metadata": {
    "collapsed": false
   },
   "outputs": [],
   "source": [
    "individual"
   ]
  },
  {
   "cell_type": "markdown",
   "source": [
    "As both have the columns 'id' and 'frame' in common, these can be used to merge the dataframes.\n",
    "See **pandas.merge** for more information on how **DataFrame**s can be merged."
   ],
   "metadata": {
    "collapsed": false
   }
  },
  {
   "cell_type": "code",
   "execution_count": null,
   "metadata": {
    "collapsed": false
   },
   "outputs": [],
   "source": [
    "data_with_voronoi_cells = traj.data.merge(intersecting, on=[ID_COL, FRAME_COL])\n",
    "data_with_voronoi_cells"
   ]
  },
  {
   "cell_type": "code",
   "execution_count": null,
   "metadata": {
    "collapsed": false
   },
   "outputs": [],
   "source": [
    "from pedpy.column_identifier import SPEED_COL\n",
    "\n",
    "data_with_voronoi_cells_speed = data_with_voronoi_cells.merge(\n",
    "    individual_speed[[ID_COL, FRAME_COL, SPEED_COL]], on=[ID_COL, FRAME_COL]\n",
    ")\n",
    "data_with_voronoi_cells_speed"
   ]
  },
  {
   "cell_type": "markdown",
   "metadata": {
    "collapsed": false
   },
   "source": [
    "### Save in files\n",
    "\n",
    "For preserving the results on the disk, the results need to be saved on the disk.\n",
    "This can be done with the build-in functions from **Pandas**."
   ]
  },
  {
   "cell_type": "markdown",
   "metadata": {
    "collapsed": false
   },
   "source": [
    "#### Create directories to store the results\n",
    "\n",
    "First we create a directory, where we want to save the results.\n",
    "This step is optional!"
   ]
  },
  {
   "cell_type": "code",
   "execution_count": null,
   "metadata": {
    "collapsed": false
   },
   "outputs": [],
   "source": [
    "pathlib.Path(\"results_introduction/profiles/speed\").mkdir(\n",
    "    parents=True, exist_ok=True\n",
    ")\n",
    "pathlib.Path(\"results_introduction/profiles/density\").mkdir(\n",
    "    parents=True, exist_ok=True\n",
    ")\n",
    "\n",
    "results_directory = pathlib.Path(\"results_introduction\")"
   ]
  },
  {
   "cell_type": "markdown",
   "metadata": {
    "collapsed": false
   },
   "source": [
    "#### Save Pandas DataFrame (result from everything but profiles) as csv\n",
    "\n",
    "Now, a **DataFrame** can be saved as `csv` with:"
   ]
  },
  {
   "cell_type": "code",
   "execution_count": null,
   "metadata": {
    "collapsed": false
   },
   "outputs": [],
   "source": [
    "from pedpy.column_identifier import (\n",
    "    X_COL,\n",
    "    Y_COL,\n",
    "    INDIVIDUAL_DENSITY_COL,\n",
    "    INTERSECTION_COL,\n",
    ")\n",
    "import csv\n",
    "\n",
    "with open(\n",
    "    results_directory / \"individual_result.csv\", \"w\"\n",
    ") as individual_output_file:\n",
    "    individual_output_file.write(f\"#framerate:\t{traj.frame_rate}\\n\\n\")\n",
    "    data_with_voronoi_cells_speed[\n",
    "        [\n",
    "            ID_COL,\n",
    "            FRAME_COL,\n",
    "            X_COL,\n",
    "            Y_COL,\n",
    "            INDIVIDUAL_DENSITY_COL,\n",
    "            SPEED_COL,\n",
    "            POLYGON_COL,\n",
    "            INTERSECTION_COL,\n",
    "        ]\n",
    "    ].to_csv(\n",
    "        individual_output_file,\n",
    "        mode=\"a\",\n",
    "        header=True,\n",
    "        sep=\"\\t\",\n",
    "        index_label=False,\n",
    "        index=False,\n",
    "        quoting=csv.QUOTE_NONNUMERIC,\n",
    "    )"
   ]
  },
  {
   "cell_type": "markdown",
   "metadata": {
    "collapsed": false
   },
   "source": [
    "#### Save numpy arrays (result from profiles) as txt\n",
    "\n",
    "The profiles are returned as Numpy arrays, which also provide a build-in save function, which allows to save the arrays as txt format:"
   ]
  },
  {
   "cell_type": "code",
   "execution_count": null,
   "metadata": {
    "collapsed": false
   },
   "outputs": [],
   "source": [
    "results_directory_density = results_directory / \"profiles/density\"\n",
    "results_directory_speed = results_directory / \"profiles/speed\"\n",
    "\n",
    "for i in range(len(range(min_frame_profiles, min_frame_profiles + 10))):\n",
    "    frame = min_frame_profiles + i\n",
    "    np.savetxt(\n",
    "        results_directory_density / f\"density_frame_{frame:05d}.txt\",\n",
    "        density_profiles[i],\n",
    "    )\n",
    "    np.savetxt(\n",
    "        results_directory_speed / f\"speed_frame_{frame:05d}.txt\",\n",
    "        speed_profiles[i],\n",
    "    )"
   ]
  }
 ],
 "metadata": {
  "kernelspec": {
   "display_name": "Python 3",
   "language": "python",
   "name": "python3"
  },
  "language_info": {
   "codemirror_mode": {
    "name": "ipython",
    "version": 2
   },
   "file_extension": ".py",
   "mimetype": "text/x-python",
   "name": "python",
   "nbconvert_exporter": "python",
   "pygments_lexer": "ipython2",
   "version": "2.7.6"
  }
 },
 "nbformat": 4,
 "nbformat_minor": 0
}
