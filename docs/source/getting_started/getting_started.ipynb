{
 "cells": [
  {
   "cell_type": "code",
   "execution_count": null,
   "id": "ba3330b8828e94e2",
   "metadata": {
    "collapsed": false,
    "tags": [
     "remove_input"
    ]
   },
   "outputs": [],
   "source": [
    "import warnings\n",
    "\n",
    "warnings.filterwarnings(\"ignore\")"
   ]
  },
  {
   "cell_type": "markdown",
   "id": "3c42b4c37d091f62",
   "metadata": {
    "collapsed": false
   },
   "source": [
    "# Getting started\n",
    "\n",
    "Welcome in the getting started guide of *PedPy*, we want to guide you through first steps to set up an analysis of a pedestrian experiment.\n",
    "In this guide you will learn how to load the movement data, setup measurement areas, and finally compute the flow and the densities. \n",
    "\n",
    "First things first, to use *PedPy* install it via:\n",
    "\n",
    "```bash\n",
    "pip install pedpy\n",
    "```\n",
    "\n",
    "Now, you are ready to set up your first analysis with *PedPy*."
   ]
  },
  {
   "cell_type": "markdown",
   "id": "db2af75b7124c2d4",
   "metadata": {
    "collapsed": false
   },
   "source": [
    "## Let's analyze an experiment\n",
    "\n",
    "This is a bottleneck experiment conducted at the University of Wuppertal in 2018.\n",
    "You can see the basic setup of the experiment in the picture below:\n",
    "\n",
    "```{eval-rst}\n",
    ".. figure:: 040_c_56_h-_cropped.png\n",
    "    :width: 400px\n",
    "    :align: center\n",
    "```\n",
    "\n",
    "The data for this experiment is available [here](https://doi.org/10.34735/ped.2018.1) and is part of the publication [\"Crowds in front of bottlenecks at entrances from the perspective of physics and social psychology\"](https://doi.org/10.1098/rsif.2019.0871).\n",
    "For our analysis we are interested in the flow at the bottleneck and density a short distance in front of the bottleneck.\n"
   ]
  },
  {
   "cell_type": "markdown",
   "id": "db38a5ee6cadea99",
   "metadata": {
    "collapsed": false
   },
   "source": [
    "## Importing pedestrian movement data\n",
    "\n",
    "The pedestrian movement data in *PedPy* is called trajectory data.\n",
    "\n",
    "*PedPy* works with {class}`trajectory data <pedpy.data.trajectory_data.TrajectoryData>` which can be created from an import function for specific data files alternatively from a [Pandas DataFrame](https://pandas.pydata.org/docs/reference/api/pandas.DataFrame.html) with the following columns:\n",
    " \n",
    "- \"ID\": unique numeric identifier for each person\n",
    "- \"frame\": index of video frame where the positions were extracted\n",
    "- \"X\", \"Y\": position of the person (in meter) \n",
    "\n",
    "*PedPy* provides an import function to load trajectory data provided [here](https://ped.fz-juelich.de/da/doku.php).\n",
    "Since the data we want to analyze is from there, we can directly load the trajectory data with *PedPy*:  "
   ]
  },
  {
   "cell_type": "code",
   "execution_count": null,
   "id": "190bcba420e16730",
   "metadata": {
    "collapsed": false
   },
   "outputs": [],
   "source": [
    "from pedpy import load_trajectory\n",
    "import pathlib\n",
    "\n",
    "traj = load_trajectory(trajectory_file=pathlib.Path(\"040_c_56_h-.txt\"))\n",
    "traj"
   ]
  },
  {
   "cell_type": "markdown",
   "id": "e9d511b461ea8857",
   "metadata": {
    "collapsed": false
   },
   "source": [
    "The loaded trajectories look like:\n"
   ]
  },
  {
   "cell_type": "code",
   "execution_count": null,
   "id": "357f505246251d3f",
   "metadata": {
    "collapsed": false,
    "tags": [
     "hide-input"
    ]
   },
   "outputs": [],
   "source": [
    "from pedpy import plot_trajectories\n",
    "\n",
    "plot_trajectories(\n",
    "    traj=traj,\n",
    "    traj_color=\"lightblue\",\n",
    "    traj_alpha=0.5,\n",
    "    traj_width=1,\n",
    "    hole_color=\"lightgrey\",\n",
    ").set_aspect(\"equal\")"
   ]
  },
  {
   "cell_type": "markdown",
   "id": "183834c313a09d1e",
   "metadata": {
    "collapsed": false
   },
   "source": [
    "## Let's analyze the flow at the bottleneck\n",
    "\n",
    "For this analysis we need to define a line where we want to measure the flow (see {class}`~pedpy.data.geometry.MeasurementLine`).\n",
    "We place the line at the bottleneck as below:\n"
   ]
  },
  {
   "cell_type": "code",
   "execution_count": null,
   "id": "286bb79e857dfd0e",
   "metadata": {
    "collapsed": false
   },
   "outputs": [],
   "source": [
    "from pedpy import MeasurementLine\n",
    "\n",
    "measurement_line = MeasurementLine([(0.25, 0), (-0.25, 0)])"
   ]
  },
  {
   "cell_type": "code",
   "execution_count": null,
   "id": "1ee9b1629e1519ac",
   "metadata": {
    "collapsed": false,
    "tags": [
     "hide-input"
    ]
   },
   "outputs": [],
   "source": [
    "from pedpy import plot_measurement_setup\n",
    "\n",
    "ax = plot_measurement_setup(\n",
    "    traj=traj,\n",
    "    traj_color=\"lightblue\",\n",
    "    traj_alpha=0.5,\n",
    "    traj_width=1,\n",
    "    measurement_lines=[measurement_line],\n",
    "    ml_color=\"r\",\n",
    "    ml_width=2,\n",
    ").set_aspect(\"equal\")"
   ]
  },
  {
   "cell_type": "markdown",
   "id": "b1efc23698eb9d8b",
   "metadata": {
    "collapsed": false
   },
   "source": [
    "The flow calculation is done with {func}`~pedpy.methods.flow_calculator.compute_n_t`, with our trajectory data, the measurement line ,and the frame rate the data was recorded."
   ]
  },
  {
   "cell_type": "code",
   "execution_count": null,
   "id": "7a074682a177285e",
   "metadata": {
    "collapsed": false
   },
   "outputs": [],
   "source": [
    "from pedpy import compute_n_t\n",
    "\n",
    "nt, _ = compute_n_t(\n",
    "    traj_data=traj,\n",
    "    measurement_line=measurement_line,\n",
    ")\n",
    "nt.plot(x=\"Time [s]\");"
   ]
  },
  {
   "cell_type": "markdown",
   "id": "937b71b65ff7e2fc",
   "metadata": {
    "collapsed": false
   },
   "source": [
    "## Let's compute the density in front of the bottleneck"
   ]
  },
  {
   "cell_type": "markdown",
   "id": "890296a3d746f131",
   "metadata": {
    "collapsed": false
   },
   "source": [
    "Now we are computing the density in an area in front of the bottleneck.\n",
    "The density is usually not measured directly at the bottleneck, but a short distance in front as here the highest densities occur.\n",
    "\n",
    "For this we need to define a {class}`measurement area<pedpy.data.geometry.MeasurementArea>`, which has to be a convex polygon.\n",
    "Such a measurement area can be created with: "
   ]
  },
  {
   "cell_type": "code",
   "execution_count": null,
   "id": "f30bba05482d8220",
   "metadata": {
    "collapsed": false
   },
   "outputs": [],
   "source": [
    "from pedpy import MeasurementArea\n",
    "\n",
    "measurement_area = MeasurementArea(\n",
    "    [(-0.4, 0.5), (0.4, 0.5), (0.4, 1.3), (-0.4, 1.3)]\n",
    ")"
   ]
  },
  {
   "cell_type": "code",
   "execution_count": null,
   "id": "3fce599bbf16a0fe",
   "metadata": {
    "collapsed": false,
    "tags": [
     "hide-input"
    ]
   },
   "outputs": [],
   "source": [
    "from pedpy import plot_measurement_setup\n",
    "\n",
    "plot_measurement_setup(\n",
    "    traj=traj,\n",
    "    traj_color=\"lightblue\",\n",
    "    traj_alpha=0.5,\n",
    "    traj_width=1,\n",
    "    measurement_areas=[measurement_area],\n",
    "    ma_color=\"r\",\n",
    "    ma_line_color=\"r\",\n",
    "    ma_line_width=1,\n",
    "    ma_alpha=0.2,\n",
    ").set_aspect(\"equal\")"
   ]
  },
  {
   "cell_type": "markdown",
   "id": "f117050e0ee3aba4",
   "metadata": {
    "collapsed": false
   },
   "source": [
    "The density over time is now computed by {func}`~pedpy.methods.density_calculator.compute_classic_density`, which takes the trajectory data and measurement area as inputs:"
   ]
  },
  {
   "cell_type": "code",
   "execution_count": null,
   "id": "6207cdfc777596c2",
   "metadata": {
    "collapsed": false
   },
   "outputs": [],
   "source": [
    "from pedpy import compute_classic_density\n",
    "\n",
    "classic_density = compute_classic_density(\n",
    "    traj_data=traj, measurement_area=measurement_area\n",
    ")\n",
    "classic_density.reset_index().plot.line(x=\"frame\", y=\"classic density\");"
   ]
  },
  {
   "cell_type": "markdown",
   "id": "6d1cec7f9e5fa171",
   "metadata": {
    "collapsed": false
   },
   "source": [
    "## Now use the Voronoi method for computing the density\n",
    "\n",
    "For this we now need information about the area where pedestrian can move, this is called a {class}`walkable area<pedpy.data.geometry.WalkableArea>` in *PedPy* and is essentially a 2D polygon.\n",
    "We extract the walkable area from this diagram:"
   ]
  },
  {
   "cell_type": "markdown",
   "source": [
    "```{eval-rst}\n",
    ".. figure:: experimental_setup.png\n",
    "    :width: 400px\n",
    "    :align: center\n",
    "```"
   ],
   "metadata": {
    "collapsed": false
   },
   "id": "52ef18ddd620825b"
  },
  {
   "cell_type": "markdown",
   "source": [
    "The resulting polygon is described in the code below:\n"
   ],
   "metadata": {
    "collapsed": false
   },
   "id": "14c85eb9cab47e2e"
  },
  {
   "cell_type": "code",
   "execution_count": null,
   "id": "11430284e20ece1e",
   "metadata": {
    "collapsed": false
   },
   "outputs": [],
   "source": [
    "from pedpy import WalkableArea\n",
    "\n",
    "walkable_area = WalkableArea(\n",
    "    # complete area\n",
    "    [\n",
    "        (3.5, -2),\n",
    "        (3.5, 8),\n",
    "        (-3.5, 8),\n",
    "        (-3.5, -2),\n",
    "    ],\n",
    "    obstacles=[\n",
    "        # left barrier\n",
    "        [\n",
    "            (-2.8, 7.0),\n",
    "            (-2.8, 0.0),\n",
    "            (-0.25, 0.0),\n",
    "            (-0.25, -1.0),\n",
    "            (-0.45, -1.0),\n",
    "            (-0.45, -0.2),\n",
    "            (-3.0, -0.2),\n",
    "            (-3.0, 7.0),\n",
    "            (-2.8, 7.0),\n",
    "        ],\n",
    "        # right barrier\n",
    "        [\n",
    "            (0.25, -1.0),\n",
    "            (0.25, 0.0),\n",
    "            (2.8, 0.0),\n",
    "            (2.8, 7.0),\n",
    "            (3.0, 7.0),\n",
    "            (3.0, -0.2),\n",
    "            (0.45, -0.2),\n",
    "            (0.45, -1.0),\n",
    "            (0.25, -1.0),\n",
    "        ],\n",
    "    ],\n",
    ")"
   ]
  },
  {
   "cell_type": "markdown",
   "id": "625a59a79dbf43b",
   "metadata": {
    "collapsed": false
   },
   "source": [
    "The resulting walkable area will look like this, together with the trajectories and the measurement area:"
   ]
  },
  {
   "cell_type": "code",
   "execution_count": null,
   "id": "6da9033728abb49b",
   "metadata": {
    "collapsed": false,
    "tags": [
     "hide-input"
    ]
   },
   "outputs": [],
   "source": [
    "from pedpy import plot_measurement_setup\n",
    "\n",
    "plot_measurement_setup(\n",
    "    walkable_area=walkable_area,\n",
    "    hole_color=\"lightgrey\",\n",
    "    traj=traj,\n",
    "    traj_color=\"lightblue\",\n",
    "    traj_alpha=0.5,\n",
    "    traj_width=1,\n",
    "    measurement_areas=[measurement_area],\n",
    "    ma_color=\"r\",\n",
    "    ma_line_color=\"r\",\n",
    "    ma_line_width=1,\n",
    "    ma_alpha=0.2,\n",
    ").set_aspect(\"equal\")"
   ]
  },
  {
   "cell_type": "markdown",
   "id": "e22192d578e634dd",
   "metadata": {
    "collapsed": false
   },
   "source": [
    "This time we compute the individual density with {func}`~pedpy.methods.method_utils.compute_individual_voronoi_polygons` using the trajectory data and walkable area as inputs."
   ]
  },
  {
   "cell_type": "code",
   "execution_count": null,
   "id": "636dce3914447f15",
   "metadata": {
    "collapsed": false
   },
   "outputs": [],
   "source": [
    "from pedpy import compute_individual_voronoi_polygons\n",
    "\n",
    "individual = compute_individual_voronoi_polygons(\n",
    "    traj_data=traj, walkable_area=walkable_area\n",
    ")"
   ]
  },
  {
   "cell_type": "markdown",
   "id": "19c7672a",
   "metadata": {},
   "source": [
    "The computed Voronoi polygons at one frame look like:"
   ]
  },
  {
   "cell_type": "code",
   "execution_count": null,
   "id": "c3dcc9ef05bf9f31",
   "metadata": {
    "collapsed": false,
    "tags": [
     "hide-input"
    ]
   },
   "outputs": [],
   "source": [
    "from pedpy import plot_voronoi_cells\n",
    "\n",
    "data = individual.merge(traj.data, on=[\"ID\", \"frame\"])\n",
    "\n",
    "plot_voronoi_cells(\n",
    "    data=data[data.frame == 500],\n",
    "    walkable_area=walkable_area,\n",
    "    color_mode=\"density\",\n",
    "    vmin=0,\n",
    "    vmax=10,\n",
    "    show_ped_positions=True,\n",
    "    ped_size=5,\n",
    ").set_aspect(\"equal\")"
   ]
  },
  {
   "cell_type": "markdown",
   "id": "426241259e777a1",
   "metadata": {
    "collapsed": false
   },
   "source": [
    "Using this we can then can compute the mean Voronoi density in the previously defined measurement area with {func}`~pedpy.methods.density_calculator.compute_voronoi_density` which takes the individual Voronoi data and the measurement area as inputs:"
   ]
  },
  {
   "cell_type": "code",
   "execution_count": null,
   "id": "c0425bacfae348f1",
   "metadata": {
    "collapsed": false
   },
   "outputs": [],
   "source": [
    "from pedpy import compute_voronoi_density\n",
    "\n",
    "density_voronoi, intersecting = compute_voronoi_density(\n",
    "    individual_voronoi_data=individual, measurement_area=measurement_area\n",
    ")\n",
    "density_voronoi.reset_index().plot.line(x=\"frame\", y=\"voronoi density\");"
   ]
  },
  {
   "cell_type": "markdown",
   "id": "c4ebfc298659aa45",
   "metadata": {
    "collapsed": false
   },
   "source": [
    "Now you have set up a first analysis which computed the flow, classic density and Voronoi density in a bottleneck experiment.\n",
    "With this knowledge you can now start your own analysis.\n",
    "If you need further information take a look at our [user guide](../user_guide/usage), where you can get more insight what *PedPy* can do for you.\n",
    "\n",
    "We would love to hear some [feedback](https://github.com/PedestrianDynamics/PedPy/discussions) from you!"
   ]
  }
 ],
 "metadata": {
  "kernelspec": {
   "display_name": "Python 3",
   "language": "python",
   "name": "python3"
  },
  "language_info": {
   "codemirror_mode": {
    "name": "ipython",
    "version": 2
   },
   "file_extension": ".py",
   "mimetype": "text/x-python",
   "name": "python",
   "nbconvert_exporter": "python",
   "pygments_lexer": "ipython2",
   "version": "2.7.6"
  }
 },
 "nbformat": 4,
 "nbformat_minor": 5
}
